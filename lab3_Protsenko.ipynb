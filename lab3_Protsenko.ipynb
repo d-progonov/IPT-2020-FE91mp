{
 "cells": [
  {
   "cell_type": "code",
   "execution_count": 11,
   "metadata": {},
   "outputs": [],
   "source": [
    "import os\n",
    "\n",
    "import numpy as np\n",
    "import scipy as sp\n",
    "from scipy import misc, stats\n",
    "import pandas as pd\n",
    "from PIL import Image\n",
    "import matplotlib.pyplot as plt\n",
    "#import plotly.plotly as py\n",
    "import seaborn as sns\n",
    "from pandas import DataFrame, Series\n",
    "import warnings\n",
    "warnings.filterwarnings('ignore')\n",
    "\n",
    "\n",
    "%matplotlib inline"
   ]
  },
  {
   "cell_type": "code",
   "execution_count": 12,
   "metadata": {},
   "outputs": [],
   "source": [
    "MAIN_TAG = 'portrait'\n",
    "DIRNAME_TAGS = 'mirflickr25k/mirflickr/meta/tags'\n",
    "DIRNAME_IMAGES = 'mirflickr25k/mirflickr'\n",
    "\n",
    "COLOR = {'red': 0,\n",
    "         'green': 1,\n",
    "         'blue': 2}"
   ]
  },
  {
   "cell_type": "code",
   "execution_count": 13,
   "metadata": {},
   "outputs": [
    {
     "name": "stdout",
     "output_type": "stream",
     "text": [
      "> loaded im17851.jpg (500, 333, 3)\n",
      "> loaded im1560.jpg (334, 500, 3)\n",
      "> loaded im953.jpg (400, 500, 3)\n",
      "> loaded im16096.jpg (500, 441, 3)\n",
      "> loaded im16266.jpg (375, 500, 3)\n",
      "> loaded im2857.jpg (333, 500, 3)\n",
      "> loaded im17378.jpg (352, 500, 3)\n",
      "> loaded im2199.jpg (327, 500, 3)\n",
      "> loaded im11971.jpg (375, 500, 3)\n",
      "> loaded im18739.jpg (333, 500, 3)\n",
      "> loaded im7581.jpg (333, 500, 3)\n",
      "> loaded im24437.jpg (500, 375, 3)\n",
      "> loaded im16446.jpg (342, 500, 3)\n",
      "> loaded im19006.jpg (333, 500, 3)\n",
      "> loaded im18483.jpg (400, 500, 3)\n",
      "> loaded im16947.jpg (431, 500, 3)\n",
      "> loaded im13361.jpg (298, 500, 3)\n",
      "> loaded im24687.jpg (500, 446, 3)\n",
      "> loaded im15982.jpg (333, 500, 3)\n",
      "> loaded im11249.jpg (500, 375, 3)\n",
      "> loaded im513.jpg (500, 375, 3)\n",
      "> loaded im22071.jpg (300, 500, 3)\n",
      "> loaded im13325.jpg (331, 500, 3)\n",
      "> loaded im12692.jpg (343, 500, 3)\n",
      "> loaded im14732.jpg (333, 500, 3)\n",
      "> loaded im8268.jpg (375, 500, 3)\n",
      "> loaded im9509.jpg (500, 375, 3)\n",
      "> loaded im10303.jpg (500, 335, 3)\n",
      "> loaded im17946.jpg (343, 500, 3)\n",
      "> loaded im10290.jpg (500, 333, 3)\n",
      "> loaded im15828.jpg (333, 500, 3)\n",
      "> loaded im22523.jpg (371, 500, 3)\n",
      "> loaded im761.jpg (500, 375, 3)\n",
      "> loaded im10166.jpg (500, 301, 3)\n",
      "> loaded im14364.jpg (334, 500, 3)\n",
      "> loaded im790.jpg (479, 500, 3)\n",
      "> loaded im19338.jpg (500, 375, 3)\n",
      "> loaded im14245.jpg (500, 334, 3)\n",
      "> loaded im9158.jpg (375, 500, 3)\n",
      "> loaded im22089.jpg (333, 500, 3)\n",
      "> loaded im15273.jpg (375, 500, 3)\n",
      "> loaded im3821.jpg (500, 304, 3)\n",
      "> loaded im22848.jpg (306, 500, 3)\n",
      "> loaded im24789.jpg (500, 375, 3)\n",
      "> loaded im8452.jpg (500, 365, 3)\n",
      "> loaded im24125.jpg (500, 375, 3)\n",
      "> loaded im23998.jpg (500, 333, 3)\n",
      "> loaded im14230.jpg (500, 375, 3)\n",
      "> loaded im22453.jpg (333, 500, 3)\n",
      "> loaded im20277.jpg (346, 500, 3)\n",
      "> loaded im6362.jpg (500, 372, 3)\n",
      "> loaded im23921.jpg (334, 500, 3)\n",
      "> loaded im15235.jpg (333, 500, 3)\n",
      "> loaded im3566.jpg (281, 500, 3)\n",
      "> loaded im5307.jpg (500, 333, 3)\n",
      "> loaded im22085.jpg (500, 500, 3)\n",
      "> loaded im8789.jpg (500, 400, 3)\n",
      "> loaded im3711.jpg (293, 500, 3)\n",
      "> loaded im8688.jpg (333, 500, 3)\n",
      "> loaded im21313.jpg (377, 500, 3)\n",
      "> loaded im5773.jpg (350, 500, 3)\n",
      "> loaded im24243.jpg (335, 500, 3)\n",
      "> loaded im24441.jpg (375, 500, 3)\n",
      "> loaded im4321.jpg (500, 333, 3)\n",
      "> loaded im6845.jpg (500, 375, 3)\n",
      "> loaded im6714.jpg (319, 500, 3)\n",
      "> loaded im2077.jpg (333, 500, 3)\n",
      "> loaded im10838.jpg (375, 500, 3)\n",
      "> loaded im20370.jpg (248, 500, 3)\n",
      "> loaded im2152.jpg (500, 333, 3)\n",
      "> loaded im6734.jpg (500, 332, 3)\n",
      "> loaded im24008.jpg (375, 500, 3)\n",
      "> loaded im18913.jpg (375, 500, 3)\n",
      "> loaded im2511.jpg (375, 500, 3)\n",
      "> loaded im22357.jpg (375, 500, 3)\n",
      "> loaded im13675.jpg (375, 500, 3)\n",
      "> loaded im21783.jpg (499, 500, 3)\n",
      "> loaded im15185.jpg (375, 500, 3)\n",
      "> loaded im8485.jpg (500, 326, 3)\n",
      "> loaded im10874.jpg (369, 500, 3)\n",
      "> loaded im14414.jpg (334, 500, 3)\n",
      "> loaded im11544.jpg (334, 500, 3)\n",
      "> loaded im3232.jpg (500, 333, 3)\n",
      "> loaded im15830.jpg (334, 500, 3)\n",
      "> loaded im13831.jpg (333, 500, 3)\n",
      "> loaded im11634.jpg (334, 500, 3)\n",
      "> loaded im21127.jpg (332, 500, 3)\n",
      "> loaded im9789.jpg (375, 500, 3)\n",
      "> loaded im12257.jpg (375, 500, 3)\n",
      "> loaded im4822.jpg (368, 500, 3)\n",
      "> loaded im19865.jpg (393, 500, 3)\n",
      "> loaded im14731.jpg (375, 500, 3)\n",
      "> loaded im8707.jpg (375, 500, 3)\n",
      "> loaded im18387.jpg (500, 375, 3)\n",
      "> loaded im9045.jpg (375, 500, 3)\n",
      "> loaded im5989.jpg (332, 500, 3)\n",
      "> loaded im20556.jpg (334, 500, 3)\n",
      "> loaded im5296.jpg (333, 500, 3)\n",
      "> loaded im11527.jpg (500, 335, 3)\n",
      "> loaded im8098.jpg (333, 500, 3)\n",
      "> loaded im11335.jpg (333, 500, 3)\n",
      "> loaded im18348.jpg (400, 500, 3)\n",
      "> loaded im21885.jpg (500, 375, 3)\n",
      "> loaded im14927.jpg (375, 500, 3)\n",
      "> loaded im4795.jpg (281, 500, 3)\n",
      "> loaded im18087.jpg (500, 400, 3)\n",
      "> loaded im18072.jpg (333, 500, 3)\n",
      "> loaded im596.jpg (333, 500, 3)\n",
      "> loaded im20754.jpg (333, 500, 3)\n",
      "> loaded im5059.jpg (358, 500, 3)\n",
      "> loaded im20394.jpg (500, 500, 3)\n",
      "> loaded im16172.jpg (336, 500, 3)\n",
      "> loaded im14940.jpg (333, 500, 3)\n",
      "> loaded im10032.jpg (333, 500, 3)\n",
      "> loaded im8207.jpg (500, 375, 3)\n",
      "> loaded im18538.jpg (500, 357, 3)\n",
      "> loaded im23480.jpg (333, 500, 3)\n",
      "> loaded im13942.jpg (332, 500, 3)\n",
      "> loaded im24290.jpg (333, 500, 3)\n",
      "> loaded im18426.jpg (351, 500, 3)\n",
      "> loaded im15619.jpg (500, 458, 3)\n",
      "> loaded im13228.jpg (333, 500, 3)\n",
      "> loaded im13119.jpg (388, 500, 3)\n",
      "> loaded im7144.jpg (500, 399, 3)\n",
      "> loaded im15602.jpg (333, 500, 3)\n",
      "> loaded im598.jpg (333, 500, 3)\n",
      "> loaded im10345.jpg (500, 375, 3)\n",
      "> loaded im10461.jpg (375, 500, 3)\n",
      "> loaded im16317.jpg (500, 333, 3)\n",
      "> loaded im24416.jpg (500, 375, 3)\n",
      "> loaded im11837.jpg (500, 375, 3)\n",
      "> loaded im4257.jpg (375, 500, 3)\n",
      "> loaded im17013.jpg (375, 500, 3)\n",
      "> loaded im16877.jpg (500, 375, 3)\n",
      "> loaded im20809.jpg (375, 500, 3)\n",
      "> loaded im21943.jpg (326, 500, 3)\n",
      "> loaded im13404.jpg (500, 500, 3)\n",
      "> loaded im4249.jpg (375, 500, 3)\n",
      "> loaded im3412.jpg (240, 320, 3)\n",
      "> loaded im2520.jpg (500, 500, 3)\n",
      "> loaded im756.jpg (500, 500, 3)\n",
      "> loaded im7859.jpg (333, 500, 3)\n",
      "> loaded im12105.jpg (375, 500, 3)\n",
      "> loaded im13240.jpg (500, 344, 3)\n",
      "> loaded im18732.jpg (375, 500, 3)\n",
      "> loaded im20764.jpg (375, 500, 3)\n",
      "> loaded im3434.jpg (500, 500, 3)\n",
      "> loaded im19722.jpg (334, 500, 3)\n",
      "> loaded im10012.jpg (500, 375, 3)\n",
      "> loaded im1169.jpg (333, 500, 3)\n",
      "> loaded im9891.jpg (281, 500, 3)\n",
      "> loaded im9679.jpg (375, 500, 3)\n",
      "> loaded im2463.jpg (375, 500, 3)\n",
      "> loaded im10457.jpg (415, 500, 3)\n",
      "> loaded im22535.jpg (385, 500, 3)\n",
      "> loaded im22109.jpg (375, 500, 3)\n",
      "> loaded im21258.jpg (333, 500, 3)\n",
      "> loaded im19879.jpg (375, 500, 3)\n",
      "> loaded im23153.jpg (333, 500, 3)\n",
      "> loaded im1391.jpg (334, 500, 3)\n",
      "> loaded im4806.jpg (375, 500, 3)\n",
      "> loaded im22153.jpg (400, 500, 3)\n",
      "> loaded im19699.jpg (500, 333, 3)\n",
      "> loaded im12940.jpg (333, 500, 3)\n",
      "> loaded im21437.jpg (375, 500, 3)\n",
      "> loaded im13798.jpg (332, 500, 3)\n",
      "> loaded im12719.jpg (287, 500, 3)\n",
      "> loaded im13813.jpg (500, 375, 3)\n",
      "> loaded im1682.jpg (334, 500, 3)\n",
      "> loaded im9822.jpg (333, 500, 3)\n",
      "> loaded im15907.jpg (415, 500, 3)\n",
      "> loaded im7760.jpg (333, 500, 3)\n",
      "> loaded im6702.jpg (433, 500, 3)\n",
      "> loaded im22546.jpg (375, 500, 3)\n",
      "> loaded im22023.jpg (500, 500, 3)\n",
      "> loaded im20013.jpg (453, 340, 3)\n",
      "> loaded im23628.jpg (375, 500, 3)\n",
      "> loaded im20352.jpg (375, 500, 3)\n",
      "> loaded im13989.jpg (371, 500, 3)\n",
      "> loaded im639.jpg (500, 335, 3)\n",
      "> loaded im4382.jpg (375, 500, 3)\n",
      "> loaded im23927.jpg (500, 482, 3)\n",
      "> loaded im22973.jpg (500, 425, 3)\n",
      "> loaded im10179.jpg (334, 500, 3)\n",
      "> loaded im18695.jpg (500, 424, 3)\n",
      "> loaded im23129.jpg (375, 500, 3)\n",
      "> loaded im8827.jpg (500, 359, 3)\n",
      "> loaded im7146.jpg (500, 500, 3)\n",
      "> loaded im13623.jpg (377, 500, 3)\n",
      "> loaded im18207.jpg (333, 500, 3)\n",
      "> loaded im5922.jpg (334, 500, 3)\n",
      "> loaded im11708.jpg (375, 500, 3)\n",
      "> loaded im10678.jpg (342, 500, 3)\n",
      "> loaded im2832.jpg (343, 500, 3)\n",
      "> loaded im19153.jpg (339, 500, 3)\n",
      "> loaded im8174.jpg (500, 375, 3)\n",
      "> loaded im20673.jpg (500, 375, 3)\n",
      "> loaded im5218.jpg (338, 500, 3)\n",
      "> loaded im20607.jpg (500, 349, 3)\n",
      "> loaded im20361.jpg (375, 500, 3)\n",
      "> loaded im11124.jpg (375, 500, 3)\n",
      "> loaded im7347.jpg (263, 500, 3)\n",
      "> loaded im14128.jpg (375, 500, 3)\n",
      "> loaded im5648.jpg (333, 500, 3)\n",
      "> loaded im17193.jpg (334, 500, 3)\n",
      "> loaded im13375.jpg (500, 400, 3)\n",
      "> loaded im12261.jpg (333, 500, 3)\n",
      "> loaded im17359.jpg (334, 500, 3)\n",
      "> loaded im12962.jpg (333, 500, 3)\n",
      "> loaded im23312.jpg (500, 303, 3)\n",
      "> loaded im11105.jpg (333, 500, 3)\n",
      "> loaded im12920.jpg (375, 500, 3)\n",
      "> loaded im22468.jpg (375, 500, 3)\n",
      "> loaded im12906.jpg (500, 275, 3)\n",
      "> loaded im20014.jpg (335, 500, 3)\n",
      "> loaded im24315.jpg (499, 500, 3)\n",
      "> loaded im8303.jpg (345, 500, 3)\n",
      "> loaded im20418.jpg (375, 500, 3)\n",
      "> loaded im4601.jpg (500, 392, 3)\n",
      "> loaded im13459.jpg (375, 500, 3)\n",
      "> loaded im3125.jpg (333, 500, 3)\n",
      "> loaded im2695.jpg (375, 500, 3)\n",
      "> loaded im9720.jpg (375, 500, 3)\n",
      "> loaded im12310.jpg (333, 500, 3)\n",
      "> loaded im2447.jpg (413, 500, 3)\n",
      "> loaded im19637.jpg (500, 375, 3)\n",
      "> loaded im8894.jpg (500, 498, 3)\n",
      "> loaded im10438.jpg (375, 500, 3)\n",
      "> loaded im16147.jpg (500, 500, 3)\n",
      "> loaded im11519.jpg (333, 500, 3)\n",
      "> loaded im17605.jpg (375, 500, 3)\n",
      "> loaded im9276.jpg (323, 500, 3)\n",
      "> loaded im3949.jpg (375, 500, 3)\n",
      "> loaded im18798.jpg (333, 500, 3)\n",
      "> loaded im17382.jpg (347, 500, 3)\n",
      "> loaded im24221.jpg (359, 500, 3)\n",
      "> loaded im4861.jpg (331, 500, 3)\n",
      "> loaded im24429.jpg (333, 500, 3)\n",
      "> loaded im15010.jpg (500, 423, 3)\n",
      "> loaded im5207.jpg (333, 500, 3)\n",
      "> loaded im12797.jpg (333, 500, 3)\n"
     ]
    },
    {
     "name": "stdout",
     "output_type": "stream",
     "text": [
      "> loaded im1222.jpg (500, 332, 3)\n",
      "> loaded im23968.jpg (333, 500, 3)\n",
      "> loaded im11867.jpg (500, 500, 3)\n",
      "> loaded im13731.jpg (500, 375, 3)\n",
      "> loaded im12436.jpg (335, 500, 3)\n",
      "> loaded im16717.jpg (500, 369, 3)\n",
      "> loaded im20287.jpg (426, 500, 3)\n",
      "> loaded im10583.jpg (333, 500, 3)\n",
      "> loaded im12086.jpg (500, 336, 3)\n"
     ]
    }
   ],
   "source": [
    "from os import listdir\n",
    "from matplotlib import image\n",
    "import random\n",
    "# load all images in a directory\n",
    "np.random.RandomState(9)\n",
    "random_indexes = np.random.choice(range(25000), 250)\n",
    "loaded_images = list()\n",
    "image_names = list()\n",
    "for i in range(250):\n",
    "\t# load image\n",
    "\trandName = random_indexes[i]\n",
    "\timage_names.append(randName)\n",
    "\tfilename = 'im' + str(randName) + '.jpg'\n",
    "\timg_data = image.imread('mirflickr25k/mirflickr/' + filename)\n",
    "\t# store loaded image\n",
    "\tloaded_images.append(img_data)\n",
    "\tprint('> loaded %s %s' % (filename, img_data.shape))"
   ]
  },
  {
   "cell_type": "code",
   "execution_count": 14,
   "metadata": {},
   "outputs": [
    {
     "data": {
      "text/plain": [
       "250"
      ]
     },
     "execution_count": 14,
     "metadata": {},
     "output_type": "execute_result"
    }
   ],
   "source": [
    "len(image_names)"
   ]
  },
  {
   "cell_type": "code",
   "execution_count": 16,
   "metadata": {},
   "outputs": [],
   "source": [
    "import codecs\n",
    "\n",
    "Y = pd.Series()\n",
    "for name in image_names:\n",
    "    with codecs.open(os.path.join(DIRNAME_TAGS, 'tags%d.txt' % (name,)), \"r\", \"utf_8_sig\") as file:\n",
    "        set_tags = set(tag.strip() for tag in file.readlines())\n",
    "        #print('tags%d.txt' % (name,), '  ',set_tags)\n",
    "        Y.at[name] = int(MAIN_TAG in set_tags)\n",
    "Y = pd.DataFrame(Y, columns=['target'])"
   ]
  },
  {
   "cell_type": "code",
   "execution_count": 17,
   "metadata": {},
   "outputs": [
    {
     "data": {
      "text/plain": [
       "0    245\n",
       "1      5\n",
       "Name: target, dtype: int64"
      ]
     },
     "execution_count": 17,
     "metadata": {},
     "output_type": "execute_result"
    }
   ],
   "source": [
    "Y['target'].value_counts()"
   ]
  },
  {
   "cell_type": "code",
   "execution_count": 18,
   "metadata": {},
   "outputs": [
    {
     "data": {
      "text/html": [
       "<div>\n",
       "<style scoped>\n",
       "    .dataframe tbody tr th:only-of-type {\n",
       "        vertical-align: middle;\n",
       "    }\n",
       "\n",
       "    .dataframe tbody tr th {\n",
       "        vertical-align: top;\n",
       "    }\n",
       "\n",
       "    .dataframe thead th {\n",
       "        text-align: right;\n",
       "    }\n",
       "</style>\n",
       "<table border=\"1\" class=\"dataframe\">\n",
       "  <thead>\n",
       "    <tr style=\"text-align: right;\">\n",
       "      <th></th>\n",
       "      <th>target</th>\n",
       "    </tr>\n",
       "  </thead>\n",
       "  <tbody>\n",
       "    <tr>\n",
       "      <th>17851</th>\n",
       "      <td>0</td>\n",
       "    </tr>\n",
       "    <tr>\n",
       "      <th>1560</th>\n",
       "      <td>0</td>\n",
       "    </tr>\n",
       "    <tr>\n",
       "      <th>953</th>\n",
       "      <td>0</td>\n",
       "    </tr>\n",
       "    <tr>\n",
       "      <th>16096</th>\n",
       "      <td>0</td>\n",
       "    </tr>\n",
       "    <tr>\n",
       "      <th>16266</th>\n",
       "      <td>0</td>\n",
       "    </tr>\n",
       "  </tbody>\n",
       "</table>\n",
       "</div>"
      ],
      "text/plain": [
       "       target\n",
       "17851       0\n",
       "1560        0\n",
       "953         0\n",
       "16096       0\n",
       "16266       0"
      ]
     },
     "execution_count": 18,
     "metadata": {},
     "output_type": "execute_result"
    }
   ],
   "source": [
    "Y.head()"
   ]
  },
  {
   "cell_type": "markdown",
   "metadata": {},
   "source": [
    "## Static data"
   ]
  },
  {
   "cell_type": "code",
   "execution_count": 19,
   "metadata": {},
   "outputs": [],
   "source": [
    "data_static = DataFrame()\n",
    "num = 0\n",
    "d = []\n",
    "for image_name in image_names:\n",
    "    image = np.array(Image.open(os.path.join(DIRNAME_IMAGES, 'im%d.jpg' % (image_name))))\n",
    "    data = []\n",
    "    for name, num in COLOR.items():\n",
    "        a = image[:, :, num].ravel()\n",
    "        data.extend([np.mean(a), np.var(a), sp.stats.skew(a), sp.stats.kurtosis(a)])\n",
    "    d.append([image_name, *data])\n",
    "    \n",
    "\n",
    "data_static = pd.DataFrame.from_records(d)\n",
    "data_static = data_static.rename(columns={0: 'name'}).set_index('name')"
   ]
  },
  {
   "cell_type": "code",
   "execution_count": 20,
   "metadata": {},
   "outputs": [
    {
     "data": {
      "text/html": [
       "<div>\n",
       "<style scoped>\n",
       "    .dataframe tbody tr th:only-of-type {\n",
       "        vertical-align: middle;\n",
       "    }\n",
       "\n",
       "    .dataframe tbody tr th {\n",
       "        vertical-align: top;\n",
       "    }\n",
       "\n",
       "    .dataframe thead th {\n",
       "        text-align: right;\n",
       "    }\n",
       "</style>\n",
       "<table border=\"1\" class=\"dataframe\">\n",
       "  <thead>\n",
       "    <tr style=\"text-align: right;\">\n",
       "      <th></th>\n",
       "      <th>1</th>\n",
       "      <th>2</th>\n",
       "      <th>3</th>\n",
       "      <th>4</th>\n",
       "      <th>5</th>\n",
       "      <th>6</th>\n",
       "      <th>7</th>\n",
       "      <th>8</th>\n",
       "      <th>9</th>\n",
       "      <th>10</th>\n",
       "      <th>11</th>\n",
       "      <th>12</th>\n",
       "    </tr>\n",
       "    <tr>\n",
       "      <th>name</th>\n",
       "      <th></th>\n",
       "      <th></th>\n",
       "      <th></th>\n",
       "      <th></th>\n",
       "      <th></th>\n",
       "      <th></th>\n",
       "      <th></th>\n",
       "      <th></th>\n",
       "      <th></th>\n",
       "      <th></th>\n",
       "      <th></th>\n",
       "      <th></th>\n",
       "    </tr>\n",
       "  </thead>\n",
       "  <tbody>\n",
       "    <tr>\n",
       "      <th>17851</th>\n",
       "      <td>155.872859</td>\n",
       "      <td>8144.377042</td>\n",
       "      <td>-0.506881</td>\n",
       "      <td>-1.517458</td>\n",
       "      <td>155.442474</td>\n",
       "      <td>8178.212336</td>\n",
       "      <td>-0.501321</td>\n",
       "      <td>-1.524746</td>\n",
       "      <td>154.636420</td>\n",
       "      <td>8244.023113</td>\n",
       "      <td>-0.490292</td>\n",
       "      <td>-1.539020</td>\n",
       "    </tr>\n",
       "    <tr>\n",
       "      <th>1560</th>\n",
       "      <td>109.895952</td>\n",
       "      <td>2802.180360</td>\n",
       "      <td>0.331099</td>\n",
       "      <td>-0.035741</td>\n",
       "      <td>74.300371</td>\n",
       "      <td>2199.924065</td>\n",
       "      <td>0.986046</td>\n",
       "      <td>0.613098</td>\n",
       "      <td>41.075263</td>\n",
       "      <td>1570.512377</td>\n",
       "      <td>1.729156</td>\n",
       "      <td>2.381395</td>\n",
       "    </tr>\n",
       "    <tr>\n",
       "      <th>953</th>\n",
       "      <td>92.943685</td>\n",
       "      <td>4125.821584</td>\n",
       "      <td>0.533105</td>\n",
       "      <td>-0.561011</td>\n",
       "      <td>75.856745</td>\n",
       "      <td>3599.590003</td>\n",
       "      <td>0.621581</td>\n",
       "      <td>-0.462403</td>\n",
       "      <td>78.522475</td>\n",
       "      <td>3635.143155</td>\n",
       "      <td>0.608588</td>\n",
       "      <td>-0.532272</td>\n",
       "    </tr>\n",
       "    <tr>\n",
       "      <th>16096</th>\n",
       "      <td>109.820317</td>\n",
       "      <td>6426.460549</td>\n",
       "      <td>0.456630</td>\n",
       "      <td>-1.237777</td>\n",
       "      <td>96.406766</td>\n",
       "      <td>5115.084809</td>\n",
       "      <td>0.703603</td>\n",
       "      <td>-0.762189</td>\n",
       "      <td>98.590281</td>\n",
       "      <td>5658.242901</td>\n",
       "      <td>0.821757</td>\n",
       "      <td>-0.585429</td>\n",
       "    </tr>\n",
       "    <tr>\n",
       "      <th>16266</th>\n",
       "      <td>142.641515</td>\n",
       "      <td>5343.976235</td>\n",
       "      <td>-0.432756</td>\n",
       "      <td>-1.200493</td>\n",
       "      <td>126.054080</td>\n",
       "      <td>5364.088862</td>\n",
       "      <td>-0.259871</td>\n",
       "      <td>-1.263412</td>\n",
       "      <td>111.646075</td>\n",
       "      <td>3873.665942</td>\n",
       "      <td>-0.077387</td>\n",
       "      <td>-0.876574</td>\n",
       "    </tr>\n",
       "  </tbody>\n",
       "</table>\n",
       "</div>"
      ],
      "text/plain": [
       "               1            2         3         4           5            6   \\\n",
       "name                                                                          \n",
       "17851  155.872859  8144.377042 -0.506881 -1.517458  155.442474  8178.212336   \n",
       "1560   109.895952  2802.180360  0.331099 -0.035741   74.300371  2199.924065   \n",
       "953     92.943685  4125.821584  0.533105 -0.561011   75.856745  3599.590003   \n",
       "16096  109.820317  6426.460549  0.456630 -1.237777   96.406766  5115.084809   \n",
       "16266  142.641515  5343.976235 -0.432756 -1.200493  126.054080  5364.088862   \n",
       "\n",
       "             7         8           9            10        11        12  \n",
       "name                                                                    \n",
       "17851 -0.501321 -1.524746  154.636420  8244.023113 -0.490292 -1.539020  \n",
       "1560   0.986046  0.613098   41.075263  1570.512377  1.729156  2.381395  \n",
       "953    0.621581 -0.462403   78.522475  3635.143155  0.608588 -0.532272  \n",
       "16096  0.703603 -0.762189   98.590281  5658.242901  0.821757 -0.585429  \n",
       "16266 -0.259871 -1.263412  111.646075  3873.665942 -0.077387 -0.876574  "
      ]
     },
     "execution_count": 20,
     "metadata": {},
     "output_type": "execute_result"
    }
   ],
   "source": [
    "data_static.head()"
   ]
  },
  {
   "cell_type": "code",
   "execution_count": 21,
   "metadata": {
    "scrolled": true
   },
   "outputs": [
    {
     "data": {
      "text/plain": [
       "(250, 12)"
      ]
     },
     "execution_count": 21,
     "metadata": {},
     "output_type": "execute_result"
    }
   ],
   "source": [
    "data_static.shape"
   ]
  },
  {
   "cell_type": "markdown",
   "metadata": {},
   "source": [
    "# Learning"
   ]
  },
  {
   "cell_type": "code",
   "execution_count": 22,
   "metadata": {},
   "outputs": [],
   "source": [
    "import itertools\n",
    "\n",
    "from sklearn.linear_model import LinearRegression, LogisticRegression\n",
    "from sklearn.svm import SVC\n",
    "from sklearn.model_selection import KFold, cross_val_score, train_test_split\n",
    "from sklearn.metrics import accuracy_score, recall_score, confusion_matrix"
   ]
  },
  {
   "cell_type": "code",
   "execution_count": 23,
   "metadata": {},
   "outputs": [],
   "source": [
    "N = 12"
   ]
  },
  {
   "cell_type": "code",
   "execution_count": 24,
   "metadata": {},
   "outputs": [],
   "source": [
    "def plot_confusion_matrix(cm, classes,\n",
    "                          normalize=True,\n",
    "                          title='Confusion matrix',\n",
    "                          cmap=plt.cm.Blues):\n",
    "    \"\"\"\n",
    "    This function prints and plots the confusion matrix.\n",
    "    Normalization can be applied by setting `normalize=True`.\n",
    "    \"\"\"\n",
    "    plt.imshow(cm, interpolation='nearest', cmap=cmap)\n",
    "    plt.title(title)\n",
    "    plt.colorbar()\n",
    "    tick_marks = np.arange(len(classes))\n",
    "    plt.xticks(tick_marks, classes)\n",
    "    plt.yticks(tick_marks, classes)\n",
    "\n",
    "    if normalize:\n",
    "        cm = cm.astype('float') / cm.sum(axis=1)[:, np.newaxis]\n",
    "        print(\"Normalized confusion matrix\")\n",
    "    else:\n",
    "        print('Confusion matrix, without normalization')\n",
    "\n",
    "    print(cm)\n",
    "\n",
    "    thresh = cm.max() / 2.\n",
    "    for i, j in itertools.product(range(cm.shape[0]), range(cm.shape[1])):\n",
    "        plt.text(j, i, round(cm[i, j], 3),\n",
    "                 horizontalalignment=\"center\",\n",
    "                 color=\"white\" if cm[i, j] > thresh else \"black\")\n",
    "\n",
    "    plt.tight_layout()\n",
    "    plt.ylabel('True label')\n",
    "    plt.xlabel('Predicted label')\n",
    "\n",
    "font = {'size' : 15}\n",
    "\n",
    "plt.rc('font', **font)"
   ]
  },
  {
   "cell_type": "markdown",
   "metadata": {},
   "source": [
    "## Static"
   ]
  },
  {
   "cell_type": "code",
   "execution_count": 25,
   "metadata": {},
   "outputs": [],
   "source": [
    "X = data_static.copy()\n",
    "\n",
    "df = Y.join(X, how='inner')\n",
    "df = df.drop_duplicates()\n",
    "\n",
    "y = df['target']\n",
    "X = df.drop('target', axis=1)"
   ]
  },
  {
   "cell_type": "code",
   "execution_count": 27,
   "metadata": {},
   "outputs": [
    {
     "name": "stdout",
     "output_type": "stream",
     "text": [
      "Normalized confusion matrix\n",
      "[[0.92424242 0.07575758]\n",
      " [0.54545455 0.45454545]]\n"
     ]
    },
    {
     "data": {
      "image/png": "[encoded data removed]",
      "text/plain": [
       "<Figure size 288x216 with 2 Axes>"
      ]
     },
     "metadata": {
      "needs_background": "light"
     },
     "output_type": "display_data"
    },
    {
     "name": "stdout",
     "output_type": "stream",
     "text": [
      "Normalized confusion matrix\n",
      "[[0.08163265 0.91836735]\n",
      " [0.16666667 0.83333333]]\n"
     ]
    },
    {
     "data": {
      "image/png": "[encoded data removed]",
      "text/plain": [
       "<Figure size 288x216 with 2 Axes>"
      ]
     },
     "metadata": {
      "needs_background": "light"
     },
     "output_type": "display_data"
    },
    {
     "name": "stdout",
     "output_type": "stream",
     "text": [
      "Normalized confusion matrix\n",
      "[[1. 0.]\n",
      " [1. 0.]]\n"
     ]
    },
    {
     "data": {
      "image/png": "[encoded data removed]",
      "text/plain": [
       "<Figure size 288x216 with 2 Axes>"
      ]
     },
     "metadata": {
      "needs_background": "light"
     },
     "output_type": "display_data"
    }
   ],
   "source": [
    "for c in (LogisticRegression, LinearRegression, SVC):\n",
    "    cls = c()\n",
    "    cnf_matrix = []\n",
    "    for i in range(N):\n",
    "        X_train, X_test, y_train, y_test = train_test_split(X, y, test_size=0.5)\n",
    "        cls.fit(X_train, y_train)\n",
    "        y_predict = cls.predict(X_test)\n",
    "        cnf_matrix.append(confusion_matrix(y_test, y_predict.astype(bool).astype(int)))\n",
    "    cnf_matrix = np.mean(np.array(cnf_matrix), axis=0)\n",
    "    plt.figure(figsize=(4, 3))\n",
    "    plot_confusion_matrix(cnf_matrix, classes=['0', '1'],\n",
    "                          title=c.__name__)\n",
    "    plt.savefig(\"static_\" + c.__name__ + \".png\")\n",
    "    plt.show()\n"
   ]
  },
  {
   "cell_type": "markdown",
   "metadata": {},
   "source": [
    "## SPAM"
   ]
  },
  {
   "cell_type": "code",
   "execution_count": 28,
   "metadata": {},
   "outputs": [
    {
     "name": "stdout",
     "output_type": "stream",
     "text": [
      "Normalized confusion matrix\n",
      "[[0.92481203 0.07518797]\n",
      " [0.54545455 0.45454545]]\n"
     ]
    },
    {
     "data": {
      "image/png": "[encoded data removed]",
      "text/plain": [
       "<Figure size 288x216 with 2 Axes>"
      ]
     },
     "metadata": {
      "needs_background": "light"
     },
     "output_type": "display_data"
    },
    {
     "name": "stdout",
     "output_type": "stream",
     "text": [
      "[[123  10]\n",
      " [ 12  10]]\n",
      "Normalized confusion matrix\n",
      "[[9.99316940e-01 6.83060109e-04]\n",
      " [1.00000000e+00 0.00000000e+00]]\n"
     ]
    },
    {
     "data": {
      "image/png": "[encoded data removed]",
      "text/plain": [
       "<Figure size 288x216 with 2 Axes>"
      ]
     },
     "metadata": {
      "needs_background": "light"
     },
     "output_type": "display_data"
    },
    {
     "name": "stdout",
     "output_type": "stream",
     "text": [
      "[[1.21916667e+02 8.33333333e-02]\n",
      " [3.00000000e+00 0.00000000e+00]]\n",
      "Normalized confusion matrix\n",
      "[[9.99319265e-01 6.80735194e-04]\n",
      " [1.00000000e+00 0.00000000e+00]]\n"
     ]
    },
    {
     "data": {
      "image/png": "[encoded data removed]",
      "text/plain": [
       "<Figure size 288x216 with 2 Axes>"
      ]
     },
     "metadata": {
      "needs_background": "light"
     },
     "output_type": "display_data"
    },
    {
     "name": "stdout",
     "output_type": "stream",
     "text": [
      "[[1.22333333e+02 8.33333333e-02]\n",
      " [2.58333333e+00 0.00000000e+00]]\n"
     ]
    }
   ],
   "source": [
    "for c in (LogisticRegression, LinearRegression, SVC):\n",
    "    cls = LinearRegression(n_jobs=-1)\n",
    "    cnf_matrix = []\n",
    "    for i in range(N):\n",
    "        X_train, X_test, y_train, y_test = train_test_split(X, y, test_size=0.5)\n",
    "        cls.fit(X_train, y_train)\n",
    "        y_predict = cls.predict(X_test).astype(int)\n",
    "        #print(y_predict)\n",
    "   \n",
    "        cnf_matrix.append(confusion_matrix(y_test, y_predict.astype(bool).astype(int))) # .astype(int)\n",
    "    #print(confusion_matrix(y_test, y_predict.astype(int)))\n",
    "    cnf_matrix = np.mean(np.array(cnf_matrix), axis=0)\n",
    "    plt.figure(figsize=(4, 3))\n",
    "    plot_confusion_matrix(cnf_matrix, classes=['0', '1'],\n",
    "                              title=c.__name__)\n",
    "    plt.savefig(\"spam\" + c.__name__ + \".png\")\n",
    "    plt.show()\n",
    "    print(cnf_matrix)"
   ]
  },
  {
   "cell_type": "markdown",
   "metadata": {},
   "source": [
    "## CCPEV"
   ]
  },
  {
   "cell_type": "code",
   "execution_count": 29,
   "metadata": {},
   "outputs": [
    {
     "name": "stdout",
     "output_type": "stream",
     "text": [
      "Normalized confusion matrix\n",
      "[[0.99659864 0.00340136]\n",
      " [1.         0.        ]]\n"
     ]
    },
    {
     "data": {
      "image/png": "[encoded data removed]",
      "text/plain": [
       "<Figure size 288x216 with 2 Axes>"
      ]
     },
     "metadata": {
      "needs_background": "light"
     },
     "output_type": "display_data"
    },
    {
     "name": "stdout",
     "output_type": "stream",
     "text": [
      "Normalized confusion matrix\n",
      "[[0. 1.]\n",
      " [0. 1.]]\n"
     ]
    },
    {
     "data": {
      "image/png": "[encoded data removed]",
      "text/plain": [
       "<Figure size 288x216 with 2 Axes>"
      ]
     },
     "metadata": {
      "needs_background": "light"
     },
     "output_type": "display_data"
    },
    {
     "name": "stdout",
     "output_type": "stream",
     "text": [
      "Normalized confusion matrix\n",
      "[[1. 0.]\n",
      " [1. 0.]]\n"
     ]
    },
    {
     "data": {
      "image/png": "[encoded data removed]",
      "text/plain": [
       "<Figure size 288x216 with 2 Axes>"
      ]
     },
     "metadata": {
      "needs_background": "light"
     },
     "output_type": "display_data"
    }
   ],
   "source": [
    "for c in (LogisticRegression, LinearRegression, SVC):\n",
    "    cnf_matrix = []\n",
    "    for i in range(N):\n",
    "        X_train, X_test, y_train, y_test = train_test_split(X, y, test_size=0.5)\n",
    "        cls = c()\n",
    "        cls.fit(X_train, y_train)\n",
    "        y_predict = cls.predict(X_test)\n",
    "        cnf_matrix.append(confusion_matrix(y_test, y_predict.astype(bool).astype(int)))\n",
    "    #print(confusion_matrix(y_test, y_predict.astype(int)))\n",
    "    cnf_matrix = np.mean(np.array(cnf_matrix), axis=0)\n",
    "    plt.figure(figsize=(4, 3))\n",
    "    plot_confusion_matrix(cnf_matrix, classes=['0', '1'],\n",
    "                              title=c.__name__)\n",
    "    plt.savefig(\"ccpev_\" + c.__name__ + \".png\")\n",
    "    plt.show()\n",
    "    #print(cnf_matrix)"
   ]
  },
  {
   "cell_type": "code",
   "execution_count": null,
   "metadata": {},
   "outputs": [],
   "source": []
  }
 ],
 "metadata": {
  "kernelspec": {
   "display_name": "Python 3",
   "language": "python",
   "name": "python3"
  },
  "language_info": {
   "codemirror_mode": {
    "name": "ipython",
    "version": 3
   },
   "file_extension": ".py",
   "mimetype": "text/x-python",
   "name": "python",
   "nbconvert_exporter": "python",
   "pygments_lexer": "ipython3",
   "version": "3.7.6"
  }
 },
 "nbformat": 4,
 "nbformat_minor": 1
}
