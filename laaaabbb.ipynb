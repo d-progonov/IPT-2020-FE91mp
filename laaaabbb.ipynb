{
 "cells": [
  {
   "cell_type": "code",
   "execution_count": 1,
   "metadata": {},
   "outputs": [
    {
     "name": "stdout",
     "output_type": "stream",
     "text": [
      "> loaded im4402.jpg (248, 500, 3)\n",
      "> loaded im18651.jpg (333, 500, 3)\n",
      "> loaded im2067.jpg (500, 333, 3)\n",
      "> loaded im8358.jpg (333, 500, 3)\n",
      "> loaded im3863.jpg (333, 500, 3)\n",
      "> loaded im16234.jpg (500, 500, 3)\n",
      "> loaded im24935.jpg (500, 331, 3)\n",
      "> loaded im14728.jpg (333, 500, 3)\n",
      "> loaded im15474.jpg (375, 500, 3)\n",
      "> loaded im21351.jpg (500, 375, 3)\n",
      "> loaded im12439.jpg (367, 500, 3)\n",
      "> loaded im6879.jpg (500, 445, 3)\n",
      "> loaded im3075.jpg (333, 500, 3)\n",
      "> loaded im15986.jpg (338, 450, 3)\n",
      "> loaded im928.jpg (332, 500, 3)\n",
      "> loaded im12773.jpg (500, 493, 3)\n",
      "> loaded im14180.jpg (333, 500, 3)\n",
      "> loaded im19904.jpg (333, 500, 3)\n",
      "> loaded im24978.jpg (352, 500, 3)\n",
      "> loaded im69.jpg (377, 500, 3)\n",
      "> loaded im22801.jpg (500, 352, 3)\n",
      "> loaded im14594.jpg (334, 500, 3)\n",
      "> loaded im8727.jpg (375, 500, 3)\n",
      "> loaded im23643.jpg (363, 500, 3)\n",
      "> loaded im7496.jpg (333, 500, 3)\n",
      "> loaded im19370.jpg (310, 500, 3)\n",
      "> loaded im3349.jpg (375, 500, 3)\n",
      "> loaded im10401.jpg (375, 500, 3)\n",
      "> loaded im1002.jpg (326, 500, 3)\n",
      "> loaded im731.jpg (332, 500, 3)\n",
      "> loaded im833.jpg (375, 500, 3)\n",
      "> loaded im21284.jpg (500, 333, 3)\n",
      "> loaded im17741.jpg (375, 500, 3)\n",
      "> loaded im301.jpg (500, 500, 3)\n",
      "> loaded im12491.jpg (500, 500, 3)\n",
      "> loaded im22494.jpg (391, 500, 3)\n",
      "> loaded im7097.jpg (333, 500, 3)\n",
      "> loaded im13831.jpg (333, 500, 3)\n",
      "> loaded im23784.jpg (487, 500, 3)\n",
      "> loaded im951.jpg (500, 500, 3)\n",
      "> loaded im17289.jpg (375, 500, 3)\n",
      "> loaded im7264.jpg (333, 500, 3)\n",
      "> loaded im14348.jpg (500, 333, 3)\n",
      "> loaded im16246.jpg (333, 500, 3)\n",
      "> loaded im18116.jpg (334, 500, 3)\n",
      "> loaded im7637.jpg (333, 500, 3)\n",
      "> loaded im11327.jpg (334, 500, 3)\n",
      "> loaded im7565.jpg (332, 500, 3)\n",
      "> loaded im22178.jpg (368, 500, 3)\n",
      "> loaded im7169.jpg (278, 500, 3)\n",
      "> loaded im24934.jpg (442, 500, 3)\n",
      "> loaded im15060.jpg (380, 500, 3)\n",
      "> loaded im9495.jpg (319, 500, 3)\n",
      "> loaded im704.jpg (351, 500, 3)\n",
      "> loaded im13637.jpg (333, 500, 3)\n",
      "> loaded im18233.jpg (334, 500, 3)\n",
      "> loaded im21046.jpg (333, 500, 3)\n",
      "> loaded im3276.jpg (500, 333, 3)\n",
      "> loaded im6091.jpg (333, 500, 3)\n",
      "> loaded im20622.jpg (500, 333, 3)\n",
      "> loaded im23712.jpg (500, 500, 3)\n",
      "> loaded im9712.jpg (249, 500, 3)\n",
      "> loaded im3961.jpg (332, 500, 3)\n",
      "> loaded im24351.jpg (375, 500, 3)\n",
      "> loaded im10901.jpg (338, 500, 3)\n",
      "> loaded im23641.jpg (333, 500, 3)\n",
      "> loaded im23304.jpg (500, 375, 3)\n",
      "> loaded im16410.jpg (375, 500, 3)\n",
      "> loaded im16636.jpg (500, 375, 3)\n",
      "> loaded im21964.jpg (333, 500, 3)\n",
      "> loaded im6220.jpg (369, 500, 3)\n",
      "> loaded im9940.jpg (500, 333, 3)\n",
      "> loaded im9311.jpg (375, 500, 3)\n",
      "> loaded im19253.jpg (375, 500, 3)\n",
      "> loaded im16363.jpg (333, 500, 3)\n",
      "> loaded im16557.jpg (375, 500, 3)\n",
      "> loaded im12889.jpg (500, 458, 3)\n",
      "> loaded im19300.jpg (500, 500, 3)\n",
      "> loaded im1131.jpg (375, 500, 3)\n",
      "> loaded im15736.jpg (340, 500, 3)\n",
      "> loaded im7954.jpg (329, 500, 3)\n",
      "> loaded im24370.jpg (375, 500, 3)\n",
      "> loaded im13247.jpg (375, 500, 3)\n",
      "> loaded im13576.jpg (378, 500, 3)\n",
      "> loaded im21782.jpg (335, 500, 3)\n",
      "> loaded im5669.jpg (333, 500, 3)\n",
      "> loaded im12029.jpg (375, 500, 3)\n",
      "> loaded im17983.jpg (344, 500, 3)\n",
      "> loaded im23037.jpg (333, 500, 3)\n",
      "> loaded im22101.jpg (339, 500, 3)\n",
      "> loaded im24189.jpg (333, 500, 3)\n",
      "> loaded im12278.jpg (375, 500, 3)\n",
      "> loaded im2833.jpg (375, 500, 3)\n",
      "> loaded im14383.jpg (375, 500, 3)\n",
      "> loaded im21750.jpg (500, 333, 3)\n",
      "> loaded im16660.jpg (405, 500, 3)\n",
      "> loaded im3536.jpg (400, 500, 3)\n",
      "> loaded im5364.jpg (434, 500, 3)\n",
      "> loaded im17070.jpg (333, 500, 3)\n",
      "> loaded im12886.jpg (500, 469, 3)\n",
      "> loaded im12141.jpg (500, 500, 3)\n",
      "> loaded im16046.jpg (500, 334, 3)\n",
      "> loaded im24011.jpg (379, 500, 3)\n",
      "> loaded im969.jpg (375, 500, 3)\n",
      "> loaded im15378.jpg (375, 500, 3)\n",
      "> loaded im1424.jpg (375, 500, 3)\n",
      "> loaded im10109.jpg (332, 500, 3)\n",
      "> loaded im23048.jpg (375, 500, 3)\n",
      "> loaded im20146.jpg (333, 500, 3)\n",
      "> loaded im19437.jpg (500, 332, 3)\n",
      "> loaded im18945.jpg (500, 380, 3)\n",
      "> loaded im12897.jpg (375, 500, 3)\n",
      "> loaded im21206.jpg (333, 500, 3)\n",
      "> loaded im5582.jpg (375, 500, 3)\n",
      "> loaded im5524.jpg (332, 500, 3)\n",
      "> loaded im16457.jpg (344, 500, 3)\n",
      "> loaded im7436.jpg (375, 500, 3)\n",
      "> loaded im403.jpg (334, 500, 3)\n",
      "> loaded im6537.jpg (333, 500, 3)\n",
      "> loaded im17682.jpg (332, 500, 3)\n",
      "> loaded im17967.jpg (333, 500, 3)\n",
      "> loaded im7607.jpg (332, 500, 3)\n",
      "> loaded im13253.jpg (334, 500, 3)\n",
      "> loaded im16835.jpg (375, 500, 3)\n",
      "> loaded im11266.jpg (333, 500, 3)\n",
      "> loaded im18933.jpg (333, 500, 3)\n",
      "> loaded im11576.jpg (334, 500, 3)\n",
      "> loaded im15044.jpg (375, 500, 3)\n",
      "> loaded im8823.jpg (281, 500, 3)\n",
      "> loaded im21601.jpg (334, 500, 3)\n",
      "> loaded im17956.jpg (188, 500, 3)\n",
      "> loaded im19953.jpg (353, 500, 3)\n",
      "> loaded im23900.jpg (500, 333, 3)\n",
      "> loaded im187.jpg (335, 500, 3)\n",
      "> loaded im12572.jpg (333, 500, 3)\n",
      "> loaded im24264.jpg (375, 500, 3)\n",
      "> loaded im16793.jpg (333, 500, 3)\n",
      "> loaded im4235.jpg (500, 335, 3)\n",
      "> loaded im16996.jpg (375, 500, 3)\n",
      "> loaded im18394.jpg (500, 354, 3)\n",
      "> loaded im6733.jpg (500, 375, 3)\n",
      "> loaded im13962.jpg (375, 500, 3)\n",
      "> loaded im1839.jpg (375, 500, 3)\n",
      "> loaded im15764.jpg (333, 500, 3)\n",
      "> loaded im11951.jpg (333, 500, 3)\n",
      "> loaded im18677.jpg (500, 333, 3)\n",
      "> loaded im18166.jpg (374, 500, 3)\n",
      "> loaded im6548.jpg (500, 375, 3)\n",
      "> loaded im16538.jpg (500, 375, 3)\n",
      "> loaded im13546.jpg (333, 500, 3)\n",
      "> loaded im15890.jpg (471, 500, 3)\n",
      "> loaded im11691.jpg (500, 375, 3)\n",
      "> loaded im13579.jpg (333, 500, 3)\n",
      "> loaded im11340.jpg (332, 500, 3)\n",
      "> loaded im51.jpg (500, 375, 3)\n",
      "> loaded im17644.jpg (334, 500, 3)\n",
      "> loaded im17698.jpg (375, 500, 3)\n",
      "> loaded im20430.jpg (250, 500, 3)\n",
      "> loaded im20068.jpg (500, 400, 3)\n",
      "> loaded im10850.jpg (334, 500, 3)\n",
      "> loaded im15012.jpg (356, 500, 3)\n",
      "> loaded im19656.jpg (332, 500, 3)\n",
      "> loaded im916.jpg (409, 500, 3)\n",
      "> loaded im7523.jpg (375, 500, 3)\n",
      "> loaded im20819.jpg (500, 315, 3)\n",
      "> loaded im5806.jpg (334, 500, 3)\n",
      "> loaded im18047.jpg (500, 500, 3)\n",
      "> loaded im19151.jpg (500, 333, 3)\n",
      "> loaded im5923.jpg (375, 500, 3)\n",
      "> loaded im3001.jpg (334, 500, 3)\n",
      "> loaded im18056.jpg (500, 333, 3)\n",
      "> loaded im8365.jpg (152, 500, 3)\n",
      "> loaded im1063.jpg (375, 500, 3)\n",
      "> loaded im22056.jpg (375, 500, 3)\n",
      "> loaded im2308.jpg (500, 375, 3)\n",
      "> loaded im2727.jpg (500, 454, 3)\n",
      "> loaded im546.jpg (333, 500, 3)\n",
      "> loaded im14843.jpg (500, 375, 3)\n",
      "> loaded im477.jpg (500, 333, 3)\n",
      "> loaded im24711.jpg (333, 500, 3)\n",
      "> loaded im24759.jpg (333, 500, 3)\n",
      "> loaded im9214.jpg (335, 500, 3)\n",
      "> loaded im8177.jpg (333, 500, 3)\n",
      "> loaded im8802.jpg (375, 500, 3)\n",
      "> loaded im3587.jpg (333, 500, 3)\n",
      "> loaded im20473.jpg (333, 500, 3)\n",
      "> loaded im6049.jpg (500, 381, 3)\n",
      "> loaded im11286.jpg (500, 375, 3)\n",
      "> loaded im9512.jpg (375, 500, 3)\n",
      "> loaded im2277.jpg (333, 500, 3)\n",
      "> loaded im5487.jpg (333, 500, 3)\n",
      "> loaded im5230.jpg (333, 500, 3)\n",
      "> loaded im8362.jpg (500, 375, 3)\n",
      "> loaded im17281.jpg (302, 500, 3)\n",
      "> loaded im5509.jpg (500, 333, 3)\n",
      "> loaded im21517.jpg (358, 500, 3)\n",
      "> loaded im8942.jpg (349, 500, 3)\n",
      "> loaded im21240.jpg (375, 500, 3)\n",
      "> loaded im23317.jpg (500, 338, 3)\n",
      "> loaded im9649.jpg (375, 500, 3)\n",
      "> loaded im14899.jpg (375, 500, 3)\n",
      "> loaded im23023.jpg (375, 500, 3)\n",
      "> loaded im10551.jpg (334, 500, 3)\n",
      "> loaded im16269.jpg (500, 356, 3)\n",
      "> loaded im15524.jpg (500, 346, 3)\n",
      "> loaded im3741.jpg (333, 500, 3)\n",
      "> loaded im774.jpg (500, 332, 3)\n",
      "> loaded im10223.jpg (500, 330, 3)\n",
      "> loaded im12666.jpg (354, 500, 3)\n",
      "> loaded im11250.jpg (375, 500, 3)\n",
      "> loaded im13792.jpg (500, 333, 3)\n",
      "> loaded im6161.jpg (375, 500, 3)\n",
      "> loaded im8467.jpg (309, 500, 3)\n",
      "> loaded im3563.jpg (344, 500, 3)\n",
      "> loaded im8305.jpg (228, 500, 3)\n",
      "> loaded im23925.jpg (399, 500, 3)\n",
      "> loaded im16715.jpg (500, 333, 3)\n",
      "> loaded im6851.jpg (331, 500, 3)\n",
      "> loaded im19845.jpg (391, 500, 3)\n",
      "> loaded im14144.jpg (333, 500, 3)\n",
      "> loaded im682.jpg (375, 500, 3)\n",
      "> loaded im7385.jpg (434, 500, 3)\n",
      "> loaded im585.jpg (500, 375, 3)\n",
      "> loaded im13019.jpg (333, 500, 3)\n",
      "> loaded im4799.jpg (380, 500, 3)\n",
      "> loaded im1157.jpg (364, 500, 3)\n",
      "> loaded im23554.jpg (500, 393, 3)\n",
      "> loaded im5250.jpg (500, 495, 3)\n",
      "> loaded im14603.jpg (375, 500, 3)\n",
      "> loaded im23088.jpg (334, 500, 3)\n",
      "> loaded im16590.jpg (296, 500, 3)\n",
      "> loaded im22222.jpg (375, 500, 3)\n",
      "> loaded im13980.jpg (361, 500, 3)\n",
      "> loaded im17848.jpg (333, 500, 3)\n",
      "> loaded im7228.jpg (333, 500, 3)\n",
      "> loaded im20669.jpg (375, 500, 3)\n",
      "> loaded im22775.jpg (323, 500, 3)\n",
      "> loaded im16927.jpg (500, 333, 3)\n",
      "> loaded im14773.jpg (375, 500, 3)\n",
      "> loaded im7313.jpg (332, 500, 3)\n",
      "> loaded im17167.jpg (375, 500, 3)\n",
      "> loaded im21250.jpg (375, 500, 3)\n"
     ]
    },
    {
     "name": "stdout",
     "output_type": "stream",
     "text": [
      "> loaded im1005.jpg (500, 333, 3)\n",
      "> loaded im12940.jpg (333, 500, 3)\n",
      "> loaded im22115.jpg (500, 333, 3)\n",
      "> loaded im18869.jpg (500, 375, 3)\n",
      "> loaded im10526.jpg (500, 334, 3)\n",
      "> loaded im21621.jpg (333, 500, 3)\n",
      "> loaded im20674.jpg (375, 500, 3)\n",
      "> loaded im13968.jpg (500, 369, 3)\n"
     ]
    }
   ],
   "source": [
    "from os import listdir\n",
    "from matplotlib import image\n",
    "import random\n",
    "import numpy as np \n",
    "from dataclasses import dataclass\n",
    "\n",
    "# load images in a directory \n",
    "random.seed(1)\n",
    "random_indexes = random.sample(range(25000), 250)\n",
    "loaded_images = list()\n",
    "for i in range(250):\n",
    "\t# load image\n",
    "\tfilename = 'im' + str(random_indexes[i]) + '.jpg'\n",
    "\timg_data = image.imread('Q:/mirflickr25k/mirflickr/' + filename)\n",
    "\t# store loaded image\n",
    "\tloaded_images.append(img_data)\n",
    "\tprint('> loaded %s %s' % (filename, img_data.shape))"
   ]
  },
  {
   "cell_type": "code",
   "execution_count": 2,
   "metadata": {
    "scrolled": true
   },
   "outputs": [
    {
     "name": "stdout",
     "output_type": "stream",
     "text": [
      "> processed 10 images\n",
      "> processed 20 images\n",
      "> processed 30 images\n",
      "> processed 40 images\n",
      "> processed 50 images\n",
      "> processed 60 images\n",
      "> processed 70 images\n",
      "> processed 80 images\n",
      "> processed 90 images\n",
      "> processed 100 images\n",
      "> processed 110 images\n",
      "> processed 120 images\n",
      "> processed 130 images\n",
      "> processed 140 images\n",
      "> processed 150 images\n",
      "> processed 160 images\n",
      "> processed 170 images\n",
      "> processed 180 images\n",
      "> processed 190 images\n",
      "> processed 200 images\n",
      "> processed 210 images\n",
      "> processed 220 images\n",
      "> processed 230 images\n",
      "> processed 240 images\n",
      "> processed 250 images\n"
     ]
    }
   ],
   "source": [
    "values = np.zeros((3, 256))\n",
    "index = 0\n",
    "for image in loaded_images:\n",
    "\tfor i in range(image.shape[0]):\n",
    "\t\tfor j in range(image.shape[1]):\n",
    "\t\t\tvalues[0][image[i][j][0]] += 1\n",
    "\t\t\tvalues[1][image[i][j][1]] += 1\n",
    "\t\t\tvalues[2][image[i][j][2]] += 1\n",
    "\tindex += 1\n",
    "\tif (index % 10) == 0:\n",
    "\t\tprint('> processed %i images' % (index))"
   ]
  },
  {
   "cell_type": "code",
   "execution_count": 5,
   "metadata": {},
   "outputs": [
    {
     "name": "stdout",
     "output_type": "stream",
     "text": [
      "Red: Max - 255, Min - 0\n",
      "Green: Max - 255, Min - 0\n",
      "Blue: Max - 255, Min - 0\n"
     ]
    }
   ],
   "source": [
    "RED = 0\n",
    "GREEN = 1\n",
    "BLUE = 2\n",
    "#max and min finding 1 task\n",
    "print('Red: ', end='')\n",
    "for i in range(255, 0, -1):\n",
    "    if (values[RED][i] != 0):\n",
    "        print('Max - {}, '.format(i), end='')\n",
    "        break\n",
    "for i in range(0, 255):\n",
    "    if (values[RED][i] != 0):\n",
    "        print('Min - {}'.format(i))\n",
    "        break\n",
    "\n",
    "print('Green: ', end='')\n",
    "for i in range(255, 0, -1):\n",
    "    if (values[GREEN][i] != 0):\n",
    "        print('Max - {}, '.format(i), end='')\n",
    "        break\n",
    "for i in range(0, 255):\n",
    "    if (values[GREEN][i] != 0):\n",
    "        print('Min - {}'.format(i))\n",
    "        break\n",
    "\n",
    "print('Blue: ', end='')\n",
    "for i in range(255, 0, -1):\n",
    "    if (values[BLUE][i] != 0):\n",
    "        print('Max - {}, '.format(i), end='')\n",
    "        break\n",
    "for i in range(0, 255):\n",
    "    if (values[BLUE][i] != 0):\n",
    "        print('Min - {}'.format(i))\n",
    "        break"
   ]
  },
  {
   "cell_type": "code",
   "execution_count": 6,
   "metadata": {},
   "outputs": [
    {
     "name": "stdout",
     "output_type": "stream",
     "text": [
      "Red: Expected value - 113.95, Variance - 5852.65\n",
      "Green: Expected value - 107.31, Variance - 5392.78\n",
      "Blue: Expected value - 99.49, Variance - 5774.33\n"
     ]
    }
   ],
   "source": [
    "# Expected value & Variance\n",
    "#RED\n",
    "sum_val = sum(values[RED])\n",
    "M_red = 0\n",
    "for index in range(len(values[RED])):\n",
    "    p = (values[RED][index] / sum_val)\n",
    "    M_red += p * index\n",
    "D_red = 0\n",
    "for index in range(len(values[RED])):\n",
    "    p = (values[RED][index] / sum_val)\n",
    "    D_red += p * ((index - M_red) ** 2)\n",
    "print(\"Red: Expected value - {0:.2f}, Variance - {1:.2f}\"\\\n",
    ".format(M_red, D_red))\n",
    "\n",
    "#GREEN\n",
    "sum_val = sum(values[GREEN])\n",
    "M_green = 0\n",
    "for index in range(len(values[GREEN])):\n",
    "    p = (values[GREEN][index] / sum_val)\n",
    "    M_green += p * index\n",
    "D_green = 0\n",
    "for index in range(len(values[GREEN])):\n",
    "    p = (values[GREEN][index] / sum_val)\n",
    "    D_green += p * ((index - M_green) ** 2)\n",
    "print(\"Green: Expected value - {0:.2f}, Variance - {1:.2f}\"\\\n",
    ".format(M_green, D_green))\n",
    "    \n",
    "#BLUE\n",
    "sum_val = sum(values[BLUE])\n",
    "M_blue = 0\n",
    "for index in range(len(values[BLUE])):\n",
    "    p = (values[BLUE][index] / sum_val)\n",
    "    M_blue += p * index\n",
    "D_blue = 0\n",
    "for index in range(len(values[BLUE])):\n",
    "    p = (values[BLUE][index] / sum_val)\n",
    "    D_blue += p * ((index - M_blue) ** 2)\n",
    "print(\"Blue: Expected value - {0:.2f}, Variance - {1:.2f}\"\\\n",
    ".format(M_blue, D_blue))"
   ]
  },
  {
   "cell_type": "code",
   "execution_count": 5,
   "metadata": {
    "scrolled": false
   },
   "outputs": [
    {
     "name": "stdout",
     "output_type": "stream",
     "text": [
      "Red: Median - 110, IQR - 131\n",
      "Green: Median - 101, IQR - 121\n",
      "Blue: Median - 87, IQR - 126\n"
     ]
    }
   ],
   "source": [
    "#Median and interquartile range\n",
    "\n",
    "def medianFinder(array_values):\n",
    "    sum_val = sum(array_values)\n",
    "    summa = 0\n",
    "    for index in range(len(array_values)):\n",
    "        summa += array_values[index]\n",
    "        if (summa > (sum_val / 2)):\n",
    "            return index - 1\n",
    "        if (summa == (sum_val / 2)):\n",
    "            return (2 * index + 1) / 2\n",
    "\n",
    "def quartFinder(array_values, quart):\n",
    "    sum_val = sum(array_values)\n",
    "    summa = 0\n",
    "    for index in range(len(array_values)):\n",
    "        prev_sum = summa\n",
    "        p = array_values[index] /  sum_val\n",
    "        summa += p\n",
    "        if (summa > quart):\n",
    "            if (quart - prev_sum < summa - quart):\n",
    "                return index - 1\n",
    "            elif (quart - prev_sum > summa - quart):\n",
    "                return index\n",
    "            else:\n",
    "                return (2 * index - 1) / 2\n",
    "\n",
    "#RED\n",
    "print('Red: Median - {0}, IQR - {1}'.format(medianFinder(values[RED]),\\\n",
    "quartFinder(values[RED], 0.75) - quartFinder(values[RED], 0.25)))\n",
    "print('Green: Median - {0}, IQR - {1}'.format(medianFinder(values[GREEN]),\\\n",
    "quartFinder(values[GREEN], 0.75) - quartFinder(values[GREEN], 0.25)))\n",
    "print('Blue: Median - {0}, IQR - {1}'.format(medianFinder(values[BLUE]),\\\n",
    "quartFinder(values[BLUE], 0.75) - quartFinder(values[BLUE], 0.25)))"
   ]
  },
  {
   "cell_type": "code",
   "execution_count": 7,
   "metadata": {
    "scrolled": true
   },
   "outputs": [
    {
     "name": "stdout",
     "output_type": "stream",
     "text": [
      "Red: Asymmetry - 0.174, Excess - 1.853\n",
      "Green: Asymmetry - 0.275, Excess - 1.994\n",
      "Blue: Asymmetry - 0.425, Excess - 2.024\n"
     ]
    }
   ],
   "source": [
    "def E_operator(arr_values, M, power):\n",
    "    sum_val = sum(arr_values)\n",
    "    ans = 0\n",
    "    for index in range(len(arr_values)):\n",
    "        p = (arr_values[index] / sum_val)\n",
    "        ans += p * ((index - M) ** power)\n",
    "    return ans\n",
    "        \n",
    "#Asymmetry and excess\n",
    "Asym_red = E_operator(values[RED], M_red, 3) / (D_red ** (3 / 2))\n",
    "Asym_green = E_operator(values[GREEN], M_green, 3) / (D_green ** (3 / 2))\n",
    "Asym_blue = E_operator(values[BLUE], M_blue, 3) / (D_blue ** (3 / 2))\n",
    "\n",
    "Excess_red = E_operator(values[RED], M_red, 4) / (D_red ** 2)\n",
    "Excess_green = E_operator(values[GREEN], M_green, 4) / (D_green ** 2)\n",
    "Excess_blue = E_operator(values[BLUE], M_blue, 4) / (D_blue ** 2)\n",
    "print('Red: Asymmetry - {0:.3f}, Excess - {1:.3f}'\\\n",
    ".format(Asym_red, Excess_red))\n",
    "print('Green: Asymmetry - {0:.3f}, Excess - {1:.3f}'\\\n",
    ".format(Asym_green, Excess_green))\n",
    "print('Blue: Asymmetry - {0:.3f}, Excess - {1:.3f}'\\\n",
    ".format(Asym_blue, Excess_blue))"
   ]
  },
  {
   "cell_type": "code",
   "execution_count": 8,
   "metadata": {
    "scrolled": false
   },
   "outputs": [
    {
     "data": {
      "image/png": "[encoded data removed]",
      "text/plain": [
       "<Figure size 432x288 with 1 Axes>"
      ]
     },
     "metadata": {
      "needs_background": "light"
     },
     "output_type": "display_data"
    },
    {
     "data": {
      "image/png": "[encoded data removed]",
      "text/plain": [
       "<Figure size 432x288 with 1 Axes>"
      ]
     },
     "metadata": {
      "needs_background": "light"
     },
     "output_type": "display_data"
    },
    {
     "data": {
      "image/png": "[encoded data removed]",
      "text/plain": [
       "<Figure size 432x288 with 1 Axes>"
      ]
     },
     "metadata": {
      "needs_background": "light"
     },
     "output_type": "display_data"
    }
   ],
   "source": [
    "import matplotlib.pyplot as plt\n",
    "\n",
    "x = range(256)\n",
    "\n",
    "#RED\n",
    "plt.bar(x,values[RED],color='red')\n",
    "plt.xlabel('Brightness')\n",
    "plt.ylabel('Frequency')\n",
    "plt.ylim(top=1500000)\n",
    "plt.show()\n",
    "#GREEN\n",
    "plt.bar(x,values[GREEN],color='green')\n",
    "plt.xlabel('Brightness')\n",
    "plt.ylabel('Frequency')\n",
    "plt.ylim(top=1500000)\n",
    "plt.show()\n",
    "#BLUE\n",
    "plt.bar(x,values[BLUE],color='blue')\n",
    "plt.xlabel('Brightness')\n",
    "plt.ylabel('Frequency')\n",
    "plt.ylim(top=1500000)\n",
    "plt.show()"
   ]
  },
  {
   "cell_type": "raw",
   "metadata": {},
   "source": []
  },
  {
   "cell_type": "code",
   "execution_count": 9,
   "metadata": {
    "scrolled": false
   },
   "outputs": [
    {
     "data": {
      "image/png": "[encoded data removed]",
      "text/plain": [
       "<Figure size 432x288 with 1 Axes>"
      ]
     },
     "metadata": {
      "needs_background": "light"
     },
     "output_type": "display_data"
    }
   ],
   "source": [
    "import seaborn as sns\n",
    "test = values[RED]\n",
    "plt.hist(test,bins = 1000)\n",
    "plt.show()"
   ]
  },
  {
   "cell_type": "code",
   "execution_count": 10,
   "metadata": {},
   "outputs": [
    {
     "data": {
      "image/png": "[encoded data removed]",
      "text/plain": [
       "<Figure size 432x288 with 1 Axes>"
      ]
     },
     "metadata": {
      "needs_background": "light"
     },
     "output_type": "display_data"
    }
   ],
   "source": [
    "X,Y = sns.distplot(np.ravel(test)).get_lines()[0].get_data()"
   ]
  },
  {
   "cell_type": "code",
   "execution_count": 11,
   "metadata": {},
   "outputs": [
    {
     "data": {
      "image/png": "[encoded data removed]",
      "text/plain": [
       "<Figure size 432x288 with 1 Axes>"
      ]
     },
     "metadata": {
      "needs_background": "light"
     },
     "output_type": "display_data"
    }
   ],
   "source": [
    "from scipy import stats\n",
    "test = np.ravel(test)\n",
    "xt = plt.xticks()[0]  \n",
    "xmin, xmax = min(xt), max(xt)  \n",
    "lnspc = np.linspace(0, 255, len(X))\n",
    "\n",
    "m, s = stats.norm.fit((X,Y))#Standard, mean deviation  \n",
    "pdf_g = stats.norm.pdf(lnspc, m, s) #Theoretical values\n",
    "plt.plot(lnspc, pdf_g, label=\"Norm\",color = 'grey') \n",
    "plt.plot(X,Y,color = 'black',linewidth = 4)\n",
    "\n",
    "plt.plot(lnspc, pdf_g, label=\"Norm\") \n",
    "ag,bg,cg = stats.gamma.fit((X,Y))  \n",
    "pdf_gamma = stats.gamma.pdf(lnspc, ag, bg,cg)  \n",
    "plt.plot(lnspc, pdf_gamma, label=\"Gamma\",color = 'blue')\n",
    "\n",
    "\n",
    "ab,bb,cb,db = stats.beta.fit((X,Y))\n",
    "pdf_beta = stats.beta.pdf(lnspc, ab, bb,cb, db)  \n",
    "plt.plot(lnspc, pdf_beta, label=\"Beta\",color = 'red')\n",
    "\n",
    "plt.show()"
   ]
  },
  {
   "cell_type": "code",
   "execution_count": null,
   "metadata": {},
   "outputs": [],
   "source": []
  }
 ],
 "metadata": {
  "kernelspec": {
   "display_name": "Python 3",
   "language": "python",
   "name": "python3"
  },
  "language_info": {
   "codemirror_mode": {
    "name": "ipython",
    "version": 3
   },
   "file_extension": ".py",
   "mimetype": "text/x-python",
   "name": "python",
   "nbconvert_exporter": "python",
   "pygments_lexer": "ipython3",
   "version": "3.7.6"
  }
 },
 "nbformat": 4,
 "nbformat_minor": 4
}
