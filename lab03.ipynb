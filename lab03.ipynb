{
 "cells": [
  {
   "cell_type": "code",
   "execution_count": 1,
   "metadata": {},
   "outputs": [],
   "source": [
    "import os\n",
    "\n",
    "import numpy as np\n",
    "import scipy as sp\n",
    "from scipy import misc, stats\n",
    "import pandas as pd\n",
    "from PIL import Image\n",
    "import matplotlib.pyplot as plt\n",
    "#import plotly.plotly as py\n",
    "import seaborn as sns\n",
    "from pandas import DataFrame, Series\n",
    "import warnings\n",
    "warnings.filterwarnings('ignore')\n",
    "\n",
    "\n",
    "%matplotlib inline"
   ]
  },
  {
   "cell_type": "code",
   "execution_count": 2,
   "metadata": {},
   "outputs": [],
   "source": [
    "MAIN_TAG = 'art'\n",
    "DIRNAME_TAGS = 'C:/Users/Parzival/Desktop/mirflickr/tags'\n",
    "DIRNAME_IMAGES = 'C:/Users/Parzival/Desktop/mirflickr/'\n",
    "\n",
    "COLOR = {'red': 0,\n",
    "         'green': 1,\n",
    "         'blue': 2}"
   ]
  },
  {
   "cell_type": "code",
   "execution_count": 3,
   "metadata": {},
   "outputs": [
    {
     "name": "stdout",
     "output_type": "stream",
     "text": [
      "> loaded im7837.jpg (500, 344, 3)\n",
      "> loaded im14828.jpg (290, 500, 3)\n",
      "> loaded im20540.jpg (375, 500, 3)\n",
      "> loaded im3576.jpg (240, 320, 3)\n",
      "> loaded im9679.jpg (375, 500, 3)\n",
      "> loaded im501.jpg (336, 500, 3)\n",
      "> loaded im6637.jpg (333, 500, 3)\n",
      "> loaded im20050.jpg (500, 383, 3)\n",
      "> loaded im9637.jpg (500, 417, 3)\n",
      "> loaded im16731.jpg (375, 500, 3)\n",
      "> loaded im10235.jpg (338, 500, 3)\n",
      "> loaded im15847.jpg (375, 500, 3)\n",
      "> loaded im11636.jpg (168, 500, 3)\n",
      "> loaded im7512.jpg (357, 500, 3)\n",
      "> loaded im6311.jpg (500, 333, 3)\n",
      "> loaded im7252.jpg (316, 500, 3)\n",
      "> loaded im9237.jpg (333, 500, 3)\n",
      "> loaded im20179.jpg (333, 500, 3)\n",
      "> loaded im9143.jpg (333, 500, 3)\n",
      "> loaded im14094.jpg (332, 500, 3)\n",
      "> loaded im12530.jpg (335, 500, 3)\n",
      "> loaded im13272.jpg (500, 489, 3)\n",
      "> loaded im14346.jpg (500, 332, 3)\n",
      "> loaded im9646.jpg (357, 500, 3)\n",
      "> loaded im6141.jpg (500, 383, 3)\n",
      "> loaded im24056.jpg (375, 500, 3)\n",
      "> loaded im11583.jpg (375, 500, 3)\n",
      "> loaded im8744.jpg (375, 500, 3)\n",
      "> loaded im4855.jpg (500, 375, 3)\n",
      "> loaded im21978.jpg (500, 375, 3)\n",
      "> loaded im24650.jpg (355, 500, 3)\n",
      "> loaded im17358.jpg (500, 333, 3)\n",
      "> loaded im9912.jpg (500, 500, 3)\n",
      "> loaded im6331.jpg (336, 500, 3)\n",
      "> loaded im4814.jpg (500, 333, 3)\n",
      "> loaded im13952.jpg (375, 500, 3)\n",
      "> loaded im12.jpg (375, 500, 3)\n",
      "> loaded im3029.jpg (336, 500, 3)\n",
      "> loaded im17872.jpg (500, 385, 3)\n",
      "> loaded im5583.jpg (334, 500, 3)\n",
      "> loaded im19078.jpg (337, 500, 3)\n",
      "> loaded im1924.jpg (500, 375, 3)\n",
      "> loaded im10928.jpg (500, 375, 3)\n",
      "> loaded im9583.jpg (333, 500, 3)\n",
      "> loaded im501.jpg (336, 500, 3)\n",
      "> loaded im4328.jpg (375, 500, 3)\n",
      "> loaded im2727.jpg (500, 454, 3)\n",
      "> loaded im8445.jpg (375, 500, 3)\n",
      "> loaded im13506.jpg (500, 334, 3)\n",
      "> loaded im5902.jpg (358, 500, 3)\n",
      "> loaded im13630.jpg (375, 500, 3)\n",
      "> loaded im14929.jpg (375, 500, 3)\n",
      "> loaded im15327.jpg (333, 500, 3)\n",
      "> loaded im3389.jpg (500, 500, 3)\n",
      "> loaded im20037.jpg (333, 500, 3)\n",
      "> loaded im16329.jpg (395, 500, 3)\n",
      "> loaded im18985.jpg (375, 500, 3)\n",
      "> loaded im9979.jpg (333, 500, 3)\n",
      "> loaded im5807.jpg (375, 500, 3)\n",
      "> loaded im245.jpg (351, 500, 3)\n",
      "> loaded im11720.jpg (333, 500, 3)\n",
      "> loaded im21104.jpg (333, 500, 3)\n",
      "> loaded im2303.jpg (500, 375, 3)\n",
      "> loaded im8381.jpg (375, 500, 3)\n",
      "> loaded im14818.jpg (333, 500, 3)\n",
      "> loaded im7307.jpg (344, 500, 3)\n",
      "> loaded im14456.jpg (500, 375, 3)\n",
      "> loaded im23862.jpg (500, 375, 3)\n",
      "> loaded im15137.jpg (287, 500, 3)\n",
      "> loaded im14805.jpg (500, 500, 3)\n",
      "> loaded im22928.jpg (333, 500, 3)\n",
      "> loaded im10239.jpg (332, 500, 3)\n",
      "> loaded im1318.jpg (500, 335, 3)\n",
      "> loaded im5392.jpg (500, 330, 3)\n",
      "> loaded im6691.jpg (375, 500, 3)\n",
      "> loaded im19702.jpg (333, 500, 3)\n",
      "> loaded im18236.jpg (500, 375, 3)\n",
      "> loaded im685.jpg (500, 375, 3)\n",
      "> loaded im5070.jpg (375, 500, 3)\n",
      "> loaded im3407.jpg (333, 500, 3)\n",
      "> loaded im5170.jpg (342, 500, 3)\n",
      "> loaded im3815.jpg (281, 500, 3)\n",
      "> loaded im1274.jpg (335, 500, 3)\n",
      "> loaded im18086.jpg (493, 500, 3)\n",
      "> loaded im11680.jpg (333, 500, 3)\n",
      "> loaded im21149.jpg (500, 400, 3)\n",
      "> loaded im23049.jpg (375, 500, 3)\n",
      "> loaded im16112.jpg (375, 500, 3)\n",
      "> loaded im9617.jpg (500, 375, 3)\n",
      "> loaded im20481.jpg (281, 500, 3)\n",
      "> loaded im20015.jpg (375, 500, 3)\n",
      "> loaded im17651.jpg (339, 500, 3)\n",
      "> loaded im5236.jpg (375, 500, 3)\n",
      "> loaded im22912.jpg (500, 332, 3)\n",
      "> loaded im22139.jpg (375, 500, 3)\n",
      "> loaded im10391.jpg (347, 500, 3)\n",
      "> loaded im4293.jpg (419, 500, 3)\n",
      "> loaded im15238.jpg (333, 500, 3)\n",
      "> loaded im10726.jpg (375, 500, 3)\n",
      "> loaded im6767.jpg (375, 500, 3)\n",
      "> loaded im7749.jpg (333, 500, 3)\n",
      "> loaded im20099.jpg (333, 500, 3)\n",
      "> loaded im19366.jpg (333, 500, 3)\n",
      "> loaded im11894.jpg (375, 500, 3)\n",
      "> loaded im23409.jpg (333, 500, 3)\n",
      "> loaded im20668.jpg (500, 375, 3)\n",
      "> loaded im17044.jpg (344, 500, 3)\n",
      "> loaded im19414.jpg (341, 500, 3)\n",
      "> loaded im6473.jpg (375, 500, 3)\n",
      "> loaded im3478.jpg (500, 333, 3)\n",
      "> loaded im1694.jpg (335, 500, 3)\n",
      "> loaded im3653.jpg (500, 335, 3)\n",
      "> loaded im4.jpg (366, 500, 3)\n",
      "> loaded im4903.jpg (375, 500, 3)\n",
      "> loaded im1403.jpg (500, 338, 3)\n",
      "> loaded im13047.jpg (333, 500, 3)\n",
      "> loaded im19304.jpg (500, 333, 3)\n",
      "> loaded im15548.jpg (375, 500, 3)\n",
      "> loaded im23844.jpg (500, 333, 3)\n",
      "> loaded im10934.jpg (328, 500, 3)\n",
      "> loaded im12240.jpg (375, 500, 3)\n",
      "> loaded im20463.jpg (334, 500, 3)\n",
      "> loaded im1870.jpg (500, 375, 3)\n",
      "> loaded im24511.jpg (498, 500, 3)\n",
      "> loaded im112.jpg (500, 500, 3)\n",
      "> loaded im5048.jpg (375, 500, 3)\n",
      "> loaded im22997.jpg (500, 333, 3)\n",
      "> loaded im9666.jpg (500, 344, 3)\n",
      "> loaded im7850.jpg (500, 375, 3)\n",
      "> loaded im18959.jpg (500, 375, 3)\n",
      "> loaded im8585.jpg (399, 500, 3)\n",
      "> loaded im23437.jpg (333, 500, 3)\n",
      "> loaded im13557.jpg (500, 347, 3)\n",
      "> loaded im16833.jpg (500, 332, 3)\n",
      "> loaded im23492.jpg (500, 334, 3)\n",
      "> loaded im18782.jpg (332, 500, 3)\n",
      "> loaded im17234.jpg (126, 500, 3)\n",
      "> loaded im2313.jpg (500, 500, 3)\n",
      "> loaded im23180.jpg (264, 500, 3)\n",
      "> loaded im3250.jpg (341, 500, 3)\n",
      "> loaded im11360.jpg (375, 500, 3)\n",
      "> loaded im18694.jpg (333, 500, 3)\n",
      "> loaded im9214.jpg (335, 500, 3)\n",
      "> loaded im11951.jpg (333, 500, 3)\n",
      "> loaded im6358.jpg (500, 375, 3)\n",
      "> loaded im10306.jpg (299, 500, 3)\n",
      "> loaded im15985.jpg (400, 300, 3)\n",
      "> loaded im14683.jpg (324, 500, 3)\n",
      "> loaded im11427.jpg (333, 500, 3)\n",
      "> loaded im24352.jpg (500, 331, 3)\n",
      "> loaded im2151.jpg (375, 500, 3)\n",
      "> loaded im6319.jpg (375, 500, 3)\n",
      "> loaded im1317.jpg (372, 500, 3)\n",
      "> loaded im5392.jpg (500, 330, 3)\n",
      "> loaded im3846.jpg (390, 500, 3)\n",
      "> loaded im6804.jpg (375, 500, 3)\n",
      "> loaded im16866.jpg (333, 500, 3)\n",
      "> loaded im21905.jpg (375, 500, 3)\n",
      "> loaded im12985.jpg (375, 500, 3)\n",
      "> loaded im24205.jpg (494, 500, 3)\n",
      "> loaded im17299.jpg (333, 500, 3)\n",
      "> loaded im4144.jpg (500, 333, 3)\n",
      "> loaded im16015.jpg (317, 500, 3)\n",
      "> loaded im23337.jpg (333, 500, 3)\n",
      "> loaded im10780.jpg (375, 500, 3)\n",
      "> loaded im23512.jpg (500, 333, 3)\n",
      "> loaded im12657.jpg (500, 379, 3)\n",
      "> loaded im11649.jpg (500, 333, 3)\n",
      "> loaded im17771.jpg (500, 375, 3)\n",
      "> loaded im15970.jpg (333, 500, 3)\n",
      "> loaded im10528.jpg (469, 500, 3)\n",
      "> loaded im11338.jpg (333, 500, 3)\n",
      "> loaded im1929.jpg (500, 345, 3)\n",
      "> loaded im21461.jpg (500, 375, 3)\n",
      "> loaded im23986.jpg (375, 500, 3)\n",
      "> loaded im11251.jpg (333, 500, 3)\n",
      "> loaded im5765.jpg (375, 500, 3)\n",
      "> loaded im12701.jpg (500, 333, 3)\n",
      "> loaded im4076.jpg (476, 500, 3)\n",
      "> loaded im545.jpg (333, 500, 3)\n",
      "> loaded im1077.jpg (333, 500, 3)\n",
      "> loaded im11704.jpg (375, 500, 3)\n",
      "> loaded im24412.jpg (375, 500, 3)\n",
      "> loaded im10113.jpg (375, 500, 3)\n",
      "> loaded im24004.jpg (333, 500, 3)\n",
      "> loaded im22721.jpg (500, 375, 3)\n",
      "> loaded im10264.jpg (332, 500, 3)\n",
      "> loaded im19668.jpg (500, 334, 3)\n",
      "> loaded im3111.jpg (333, 500, 3)\n",
      "> loaded im18100.jpg (500, 375, 3)\n",
      "> loaded im5348.jpg (375, 500, 3)\n",
      "> loaded im23817.jpg (436, 500, 3)\n",
      "> loaded im22387.jpg (500, 500, 3)\n",
      "> loaded im14475.jpg (500, 375, 3)\n",
      "> loaded im19773.jpg (351, 500, 3)\n",
      "> loaded im23939.jpg (371, 500, 3)\n",
      "> loaded im22108.jpg (375, 500, 3)\n",
      "> loaded im14499.jpg (361, 500, 3)\n",
      "> loaded im8562.jpg (375, 500, 3)\n",
      "> loaded im11223.jpg (500, 333, 3)\n",
      "> loaded im5904.jpg (375, 500, 3)\n",
      "> loaded im18524.jpg (500, 375, 3)\n",
      "> loaded im24781.jpg (333, 500, 3)\n",
      "> loaded im3110.jpg (412, 500, 3)\n",
      "> loaded im8681.jpg (500, 357, 3)\n",
      "> loaded im17799.jpg (375, 500, 3)\n",
      "> loaded im9362.jpg (333, 500, 3)\n",
      "> loaded im3038.jpg (332, 500, 3)\n",
      "> loaded im11448.jpg (333, 500, 3)\n",
      "> loaded im5810.jpg (500, 373, 3)\n",
      "> loaded im10500.jpg (333, 500, 3)\n",
      "> loaded im10878.jpg (330, 500, 3)\n",
      "> loaded im5290.jpg (431, 500, 3)\n",
      "> loaded im21987.jpg (346, 500, 3)\n",
      "> loaded im13404.jpg (500, 500, 3)\n",
      "> loaded im21077.jpg (385, 500, 3)\n",
      "> loaded im22777.jpg (375, 500, 3)\n",
      "> loaded im4045.jpg (500, 333, 3)\n",
      "> loaded im17871.jpg (374, 500, 3)\n",
      "> loaded im12133.jpg (500, 333, 3)\n",
      "> loaded im7784.jpg (375, 500, 3)\n",
      "> loaded im15139.jpg (333, 500, 3)\n",
      "> loaded im10605.jpg (194, 500, 3)\n",
      "> loaded im3417.jpg (500, 500, 3)\n",
      "> loaded im13643.jpg (500, 345, 3)\n",
      "> loaded im5637.jpg (298, 500, 3)\n",
      "> loaded im15040.jpg (335, 500, 3)\n",
      "> loaded im3224.jpg (375, 500, 3)\n",
      "> loaded im13814.jpg (333, 500, 3)\n",
      "> loaded im20698.jpg (333, 500, 3)\n",
      "> loaded im19850.jpg (500, 332, 3)\n",
      "> loaded im20175.jpg (500, 336, 3)\n",
      "> loaded im5169.jpg (333, 500, 3)\n",
      "> loaded im21451.jpg (333, 500, 3)\n",
      "> loaded im8208.jpg (375, 500, 3)\n",
      "> loaded im15770.jpg (335, 500, 3)\n",
      "> loaded im24286.jpg (500, 500, 3)\n",
      "> loaded im16371.jpg (335, 500, 3)\n",
      "> loaded im8145.jpg (500, 500, 3)\n",
      "> loaded im2016.jpg (500, 375, 3)\n",
      "> loaded im21853.jpg (365, 500, 3)\n",
      "> loaded im5802.jpg (333, 500, 3)\n",
      "> loaded im7858.jpg (500, 332, 3)\n",
      "> loaded im1649.jpg (351, 500, 3)\n",
      "> loaded im3002.jpg (500, 375, 3)\n",
      "> loaded im4248.jpg (500, 334, 3)\n",
      "> loaded im21856.jpg (333, 500, 3)\n",
      "> loaded im16940.jpg (375, 500, 3)\n",
      "> loaded im17908.jpg (500, 338, 3)\n",
      "> loaded im5782.jpg (304, 500, 3)\n"
     ]
    }
   ],
   "source": [
    "from os import listdir\n",
    "from matplotlib import image\n",
    "import random\n",
    "# load all images in a directory\n",
    "np.random.RandomState(10)\n",
    "random_indexes = np.random.choice(range(25000), 250)\n",
    "loaded_images = list()\n",
    "image_names = list()\n",
    "for i in range(250):\n",
    "\t# load image\n",
    "\trandName = random_indexes[i]\n",
    "\timage_names.append(randName)\n",
    "\tfilename = 'im' + str(randName) + '.jpg'\n",
    "\timg_data = image.imread('C:/Users/Parzival/Desktop/mirflickr/' + filename)\n",
    "\t# store loaded image\n",
    "\tloaded_images.append(img_data)\n",
    "\tprint('> loaded %s %s' % (filename, img_data.shape))"
   ]
  },
  {
   "cell_type": "code",
   "execution_count": 5,
   "metadata": {},
   "outputs": [
    {
     "name": "stdout",
     "output_type": "stream",
     "text": [
      "> processed 10 images\n",
      "> processed 20 images\n",
      "> processed 30 images\n",
      "> processed 40 images\n",
      "> processed 50 images\n",
      "> processed 60 images\n",
      "> processed 70 images\n",
      "> processed 80 images\n",
      "> processed 90 images\n",
      "> processed 100 images\n",
      "> processed 110 images\n",
      "> processed 120 images\n",
      "> processed 130 images\n",
      "> processed 140 images\n",
      "> processed 150 images\n",
      "> processed 160 images\n",
      "> processed 170 images\n",
      "> processed 180 images\n",
      "> processed 190 images\n",
      "> processed 200 images\n",
      "> processed 210 images\n",
      "> processed 220 images\n",
      "> processed 230 images\n",
      "> processed 240 images\n",
      "> processed 250 images\n"
     ]
    }
   ],
   "source": [
    "values = np.zeros((3, 256))\n",
    "index = 0\n",
    "for image in loaded_images:\n",
    "\tfor i in range(image.shape[0]):\n",
    "\t\tfor j in range(image.shape[1]):\n",
    "\t\t\tvalues[0][image[i][j][0]] += 1\n",
    "\t\t\tvalues[1][image[i][j][1]] += 1\n",
    "\t\t\tvalues[2][image[i][j][2]] += 1\n",
    "\tindex += 1\n",
    "\tif (index % 10) == 0:\n",
    "\t\tprint('> processed %i images' % (index))"
   ]
  },
  {
   "cell_type": "code",
   "execution_count": 6,
   "metadata": {},
   "outputs": [
    {
     "name": "stdout",
     "output_type": "stream",
     "text": [
      "Red:\tmat ochikuvannya - 112.67,\tdispersiya - 6167.43\n",
      "Green:\tmat ochikuvannya - 105.86,\tdispersiya - 5542.97\n",
      "Blue:\tmat ochikuvannya - 93.80,\tdispersiya - 5802.57\n"
     ]
    }
   ],
   "source": [
    "RED = 0\n",
    "GREEN = 1\n",
    "BLUE = 2\n",
    "#2.a Mat ochikuvannya i dispersiya \n",
    "#RED\n",
    "sum_val = sum(values[RED])\n",
    "M_red = 0\n",
    "for index in range(len(values[RED])):\n",
    "    p = (values[RED][index] / sum_val)\n",
    "    M_red += p * index\n",
    "D_red = 0\n",
    "for index in range(len(values[RED])):\n",
    "    p = (values[RED][index] / sum_val)\n",
    "    D_red += p * ((index - M_red) ** 2)\n",
    "print(\"Red:\\tmat ochikuvannya - {0:.2f},\\tdispersiya - {1:.2f}\"\\\n",
    ".format(M_red, D_red))\n",
    "\n",
    "#GREEN\n",
    "sum_val = sum(values[GREEN])\n",
    "M_green = 0\n",
    "for index in range(len(values[GREEN])):\n",
    "    p = (values[GREEN][index] / sum_val)\n",
    "    M_green += p * index\n",
    "D_green = 0\n",
    "for index in range(len(values[GREEN])):\n",
    "    p = (values[GREEN][index] / sum_val)\n",
    "    D_green += p * ((index - M_green) ** 2)\n",
    "print(\"Green:\\tmat ochikuvannya - {0:.2f},\\tdispersiya - {1:.2f}\"\\\n",
    ".format(M_green, D_green))\n",
    "    \n",
    "#BLUE\n",
    "sum_val = sum(values[BLUE])\n",
    "M_blue = 0\n",
    "for index in range(len(values[BLUE])):\n",
    "    p = (values[BLUE][index] / sum_val)\n",
    "    M_blue += p * index\n",
    "D_blue = 0\n",
    "for index in range(len(values[BLUE])):\n",
    "    p = (values[BLUE][index] / sum_val)\n",
    "    D_blue += p * ((index - M_blue) ** 2)\n",
    "print(\"Blue:\\tmat ochikuvannya - {0:.2f},\\tdispersiya - {1:.2f}\"\\\n",
    ".format(M_blue, D_blue))"
   ]
  },
  {
   "cell_type": "code",
   "execution_count": 7,
   "metadata": {},
   "outputs": [
    {
     "name": "stdout",
     "output_type": "stream",
     "text": [
      "Red:\tAsimmetriya - 0.206,\tEkscess - -1.182\n",
      "Green:\tAsimmetriya - 0.288,\tEkscess - -1.038\n",
      "Blue:\tAsimmetriya - 0.520,\tEkscess - -0.915\n"
     ]
    }
   ],
   "source": [
    "def E_operator(arr_values, M, power):\n",
    "    sum_val = sum(arr_values)\n",
    "    ans = 0\n",
    "    for index in range(len(arr_values)):\n",
    "        p = (arr_values[index] / sum_val)\n",
    "        ans += p * ((index - M) ** power)\n",
    "    return ans\n",
    "        \n",
    "#2.d Asimmetriya, ekscess\n",
    "Asym_red = E_operator(values[RED], M_red, 3) / (D_red ** (3 / 2))\n",
    "Asym_green = E_operator(values[GREEN], M_green, 3) / (D_green ** (3 / 2))\n",
    "Asym_blue = E_operator(values[BLUE], M_blue, 3) / (D_blue ** (3 / 2))\n",
    "\n",
    "Ekscess_red = E_operator(values[RED], M_red, 4) / (D_red ** 2) - 3\n",
    "Ekscess_green = E_operator(values[GREEN], M_green, 4) / (D_green ** 2) - 3\n",
    "Ekscess_blue = E_operator(values[BLUE], M_blue, 4) / (D_blue ** 2) - 3\n",
    "print('Red:\\tAsimmetriya - {0:.3f},\\tEkscess - {1:.3f}'\\\n",
    ".format(Asym_red, Ekscess_red))\n",
    "print('Green:\\tAsimmetriya - {0:.3f},\\tEkscess - {1:.3f}'\\\n",
    ".format(Asym_green, Ekscess_green))\n",
    "print('Blue:\\tAsimmetriya - {0:.3f},\\tEkscess - {1:.3f}'\\\n",
    ".format(Asym_blue, Ekscess_blue))"
   ]
  },
  {
   "cell_type": "code",
   "execution_count": 8,
   "metadata": {},
   "outputs": [
    {
     "data": {
      "text/plain": [
       "250"
      ]
     },
     "execution_count": 8,
     "metadata": {},
     "output_type": "execute_result"
    }
   ],
   "source": [
    "len(image_names)"
   ]
  },
  {
   "cell_type": "code",
   "execution_count": 9,
   "metadata": {},
   "outputs": [],
   "source": [
    "import codecs\n",
    "\n",
    "Y = pd.Series()\n",
    "for name in image_names:\n",
    "    with codecs.open(os.path.join(DIRNAME_TAGS, 'tags%d.txt' % (name,)), \"r\", \"utf_8_sig\") as file:\n",
    "        set_tags = set(tag.strip() for tag in file.readlines())\n",
    "        #print('tags%d.txt' % (name,), '  ',set_tags)\n",
    "        Y.at[name] = int(MAIN_TAG in set_tags)\n",
    "Y = pd.DataFrame(Y, columns=['target'])"
   ]
  },
  {
   "cell_type": "code",
   "execution_count": 10,
   "metadata": {},
   "outputs": [
    {
     "data": {
      "text/plain": [
       "0    244\n",
       "1      4\n",
       "Name: target, dtype: int64"
      ]
     },
     "execution_count": 10,
     "metadata": {},
     "output_type": "execute_result"
    }
   ],
   "source": [
    "Y['target'].value_counts()"
   ]
  },
  {
   "cell_type": "code",
   "execution_count": 11,
   "metadata": {},
   "outputs": [
    {
     "data": {
      "text/html": [
       "<div>\n",
       "<style scoped>\n",
       "    .dataframe tbody tr th:only-of-type {\n",
       "        vertical-align: middle;\n",
       "    }\n",
       "\n",
       "    .dataframe tbody tr th {\n",
       "        vertical-align: top;\n",
       "    }\n",
       "\n",
       "    .dataframe thead th {\n",
       "        text-align: right;\n",
       "    }\n",
       "</style>\n",
       "<table border=\"1\" class=\"dataframe\">\n",
       "  <thead>\n",
       "    <tr style=\"text-align: right;\">\n",
       "      <th></th>\n",
       "      <th>target</th>\n",
       "    </tr>\n",
       "  </thead>\n",
       "  <tbody>\n",
       "    <tr>\n",
       "      <th>7837</th>\n",
       "      <td>0</td>\n",
       "    </tr>\n",
       "    <tr>\n",
       "      <th>14828</th>\n",
       "      <td>0</td>\n",
       "    </tr>\n",
       "    <tr>\n",
       "      <th>20540</th>\n",
       "      <td>0</td>\n",
       "    </tr>\n",
       "    <tr>\n",
       "      <th>3576</th>\n",
       "      <td>0</td>\n",
       "    </tr>\n",
       "    <tr>\n",
       "      <th>9679</th>\n",
       "      <td>0</td>\n",
       "    </tr>\n",
       "  </tbody>\n",
       "</table>\n",
       "</div>"
      ],
      "text/plain": [
       "       target\n",
       "7837        0\n",
       "14828       0\n",
       "20540       0\n",
       "3576        0\n",
       "9679        0"
      ]
     },
     "execution_count": 11,
     "metadata": {},
     "output_type": "execute_result"
    }
   ],
   "source": [
    "Y.head()"
   ]
  },
  {
   "cell_type": "code",
   "execution_count": null,
   "metadata": {},
   "outputs": [],
   "source": [
    "#Static data"
   ]
  },
  {
   "cell_type": "code",
   "execution_count": 12,
   "metadata": {},
   "outputs": [],
   "source": [
    "data_static = DataFrame()\n",
    "num = 0\n",
    "d = []\n",
    "for image_name in image_names:\n",
    "    image = np.array(Image.open(os.path.join(DIRNAME_IMAGES, 'im%d.jpg' % (image_name))))\n",
    "    data = []\n",
    "    for name, num in COLOR.items():\n",
    "        a = image[:, :, num].ravel()\n",
    "        data.extend([np.mean(a), np.var(a), sp.stats.skew(a), sp.stats.kurtosis(a)])\n",
    "    d.append([image_name, *data])\n",
    "    \n",
    "\n",
    "data_static = pd.DataFrame.from_records(d)\n",
    "data_static = data_static.rename(columns={0: 'name'}).set_index('name')"
   ]
  },
  {
   "cell_type": "code",
   "execution_count": 13,
   "metadata": {},
   "outputs": [
    {
     "data": {
      "text/html": [
       "<div>\n",
       "<style scoped>\n",
       "    .dataframe tbody tr th:only-of-type {\n",
       "        vertical-align: middle;\n",
       "    }\n",
       "\n",
       "    .dataframe tbody tr th {\n",
       "        vertical-align: top;\n",
       "    }\n",
       "\n",
       "    .dataframe thead th {\n",
       "        text-align: right;\n",
       "    }\n",
       "</style>\n",
       "<table border=\"1\" class=\"dataframe\">\n",
       "  <thead>\n",
       "    <tr style=\"text-align: right;\">\n",
       "      <th></th>\n",
       "      <th>1</th>\n",
       "      <th>2</th>\n",
       "      <th>3</th>\n",
       "      <th>4</th>\n",
       "      <th>5</th>\n",
       "      <th>6</th>\n",
       "      <th>7</th>\n",
       "      <th>8</th>\n",
       "      <th>9</th>\n",
       "      <th>10</th>\n",
       "      <th>11</th>\n",
       "      <th>12</th>\n",
       "    </tr>\n",
       "    <tr>\n",
       "      <th>name</th>\n",
       "      <th></th>\n",
       "      <th></th>\n",
       "      <th></th>\n",
       "      <th></th>\n",
       "      <th></th>\n",
       "      <th></th>\n",
       "      <th></th>\n",
       "      <th></th>\n",
       "      <th></th>\n",
       "      <th></th>\n",
       "      <th></th>\n",
       "      <th></th>\n",
       "    </tr>\n",
       "  </thead>\n",
       "  <tbody>\n",
       "    <tr>\n",
       "      <th>7837</th>\n",
       "      <td>58.099733</td>\n",
       "      <td>2978.917786</td>\n",
       "      <td>1.077291</td>\n",
       "      <td>0.929849</td>\n",
       "      <td>54.623983</td>\n",
       "      <td>2091.000442</td>\n",
       "      <td>0.682790</td>\n",
       "      <td>0.098402</td>\n",
       "      <td>53.898453</td>\n",
       "      <td>1744.863944</td>\n",
       "      <td>0.285048</td>\n",
       "      <td>-0.834889</td>\n",
       "    </tr>\n",
       "    <tr>\n",
       "      <th>14828</th>\n",
       "      <td>4.991552</td>\n",
       "      <td>35.819646</td>\n",
       "      <td>5.939250</td>\n",
       "      <td>60.464214</td>\n",
       "      <td>86.836386</td>\n",
       "      <td>2260.064113</td>\n",
       "      <td>-0.461738</td>\n",
       "      <td>-1.272364</td>\n",
       "      <td>137.516834</td>\n",
       "      <td>5939.362048</td>\n",
       "      <td>-0.447586</td>\n",
       "      <td>-1.455834</td>\n",
       "    </tr>\n",
       "    <tr>\n",
       "      <th>20540</th>\n",
       "      <td>154.285509</td>\n",
       "      <td>2360.877658</td>\n",
       "      <td>-0.119462</td>\n",
       "      <td>-0.337374</td>\n",
       "      <td>110.030485</td>\n",
       "      <td>2248.678228</td>\n",
       "      <td>0.412224</td>\n",
       "      <td>-0.210128</td>\n",
       "      <td>76.748779</td>\n",
       "      <td>2347.219608</td>\n",
       "      <td>0.659254</td>\n",
       "      <td>-0.120129</td>\n",
       "    </tr>\n",
       "    <tr>\n",
       "      <th>3576</th>\n",
       "      <td>78.474414</td>\n",
       "      <td>3451.400778</td>\n",
       "      <td>0.842010</td>\n",
       "      <td>-0.020992</td>\n",
       "      <td>83.785482</td>\n",
       "      <td>2864.258578</td>\n",
       "      <td>1.125672</td>\n",
       "      <td>1.174299</td>\n",
       "      <td>87.647617</td>\n",
       "      <td>3509.481152</td>\n",
       "      <td>0.971395</td>\n",
       "      <td>0.211063</td>\n",
       "    </tr>\n",
       "    <tr>\n",
       "      <th>9679</th>\n",
       "      <td>136.692064</td>\n",
       "      <td>3276.123863</td>\n",
       "      <td>0.047847</td>\n",
       "      <td>0.031463</td>\n",
       "      <td>80.443877</td>\n",
       "      <td>1972.172536</td>\n",
       "      <td>1.060083</td>\n",
       "      <td>1.998368</td>\n",
       "      <td>56.135227</td>\n",
       "      <td>1994.997986</td>\n",
       "      <td>1.978414</td>\n",
       "      <td>4.553075</td>\n",
       "    </tr>\n",
       "  </tbody>\n",
       "</table>\n",
       "</div>"
      ],
      "text/plain": [
       "               1            2         3          4           5            6   \\\n",
       "name                                                                           \n",
       "7837    58.099733  2978.917786  1.077291   0.929849   54.623983  2091.000442   \n",
       "14828    4.991552    35.819646  5.939250  60.464214   86.836386  2260.064113   \n",
       "20540  154.285509  2360.877658 -0.119462  -0.337374  110.030485  2248.678228   \n",
       "3576    78.474414  3451.400778  0.842010  -0.020992   83.785482  2864.258578   \n",
       "9679   136.692064  3276.123863  0.047847   0.031463   80.443877  1972.172536   \n",
       "\n",
       "             7         8           9            10        11        12  \n",
       "name                                                                    \n",
       "7837   0.682790  0.098402   53.898453  1744.863944  0.285048 -0.834889  \n",
       "14828 -0.461738 -1.272364  137.516834  5939.362048 -0.447586 -1.455834  \n",
       "20540  0.412224 -0.210128   76.748779  2347.219608  0.659254 -0.120129  \n",
       "3576   1.125672  1.174299   87.647617  3509.481152  0.971395  0.211063  \n",
       "9679   1.060083  1.998368   56.135227  1994.997986  1.978414  4.553075  "
      ]
     },
     "execution_count": 13,
     "metadata": {},
     "output_type": "execute_result"
    }
   ],
   "source": [
    "data_static.head()"
   ]
  },
  {
   "cell_type": "code",
   "execution_count": 14,
   "metadata": {},
   "outputs": [
    {
     "data": {
      "text/plain": [
       "(250, 12)"
      ]
     },
     "execution_count": 14,
     "metadata": {},
     "output_type": "execute_result"
    }
   ],
   "source": [
    "data_static.shape"
   ]
  },
  {
   "cell_type": "code",
   "execution_count": null,
   "metadata": {},
   "outputs": [],
   "source": [
    "#Learning"
   ]
  },
  {
   "cell_type": "code",
   "execution_count": 15,
   "metadata": {},
   "outputs": [],
   "source": [
    "import itertools\n",
    "from sklearn.linear_model import LinearRegression, LogisticRegression\n",
    "from sklearn.svm import SVC\n",
    "from sklearn.model_selection import KFold, cross_val_score, train_test_split\n",
    "from sklearn.metrics import accuracy_score, recall_score, confusion_matrix"
   ]
  },
  {
   "cell_type": "code",
   "execution_count": 16,
   "metadata": {},
   "outputs": [],
   "source": [
    "N = 12"
   ]
  },
  {
   "cell_type": "code",
   "execution_count": 17,
   "metadata": {},
   "outputs": [],
   "source": [
    "def plot_confusion_matrix(cm, classes,\n",
    "                          normalize=True,\n",
    "                          title='Confusion matrix',\n",
    "                          cmap=plt.cm.Blues):\n",
    "    \"\"\"\n",
    "    This function prints and plots the confusion matrix.\n",
    "    Normalization can be applied by setting `normalize=True`.\n",
    "    \"\"\"\n",
    "    plt.imshow(cm, interpolation='nearest', cmap=cmap)\n",
    "    plt.title(title)\n",
    "    plt.colorbar()\n",
    "    tick_marks = np.arange(len(classes))\n",
    "    plt.xticks(tick_marks, classes)\n",
    "    plt.yticks(tick_marks, classes)\n",
    "\n",
    "    if normalize:\n",
    "        cm = cm.astype('float') / cm.sum(axis=1)[:, np.newaxis]\n",
    "        print(\"Normalized confusion matrix\")\n",
    "    else:\n",
    "        print('Confusion matrix, without normalization')\n",
    "\n",
    "    print(cm)\n",
    "\n",
    "    thresh = cm.max() / 2.\n",
    "    for i, j in itertools.product(range(cm.shape[0]), range(cm.shape[1])):\n",
    "        plt.text(j, i, round(cm[i, j], 3),\n",
    "                 horizontalalignment=\"center\",\n",
    "                 color=\"white\" if cm[i, j] > thresh else \"black\")\n",
    "\n",
    "    plt.tight_layout()\n",
    "    plt.ylabel('True label')\n",
    "    plt.xlabel('Predicted label')\n",
    "\n",
    "font = {'size' : 15}\n",
    "\n",
    "plt.rc('font', **font)"
   ]
  },
  {
   "cell_type": "code",
   "execution_count": null,
   "metadata": {},
   "outputs": [],
   "source": [
    "# Static"
   ]
  },
  {
   "cell_type": "code",
   "execution_count": 18,
   "metadata": {},
   "outputs": [],
   "source": [
    "X = data_static.copy()\n",
    "\n",
    "df = Y.join(X, how='inner')\n",
    "df = df.drop_duplicates()\n",
    "\n",
    "y = df['target']\n",
    "X = df.drop('target', axis=1)"
   ]
  },
  {
   "cell_type": "code",
   "execution_count": 25,
   "metadata": {},
   "outputs": [
    {
     "name": "stdout",
     "output_type": "stream",
     "text": [
      "Normalized confusion matrix\n",
      "[[0.92366412 0.07633588]\n",
      " [0.54545455 0.45454545]]\n"
     ]
    },
    {
     "data": {
      "image/png": "[encoded data removed]",
      "text/plain": [
       "<Figure size 288x216 with 2 Axes>"
      ]
     },
     "metadata": {
      "needs_background": "light"
     },
     "output_type": "display_data"
    },
    {
     "name": "stdout",
     "output_type": "stream",
     "text": [
      "Normalized confusion matrix\n",
      "[[0.08202324 0.91797676]\n",
      " [0.16       0.84      ]]\n"
     ]
    },
    {
     "data": {
      "image/png": "[encoded data removed]",
      "text/plain": [
       "<Figure size 288x216 with 2 Axes>"
      ]
     },
     "metadata": {
      "needs_background": "light"
     },
     "output_type": "display_data"
    },
    {
     "name": "stdout",
     "output_type": "stream",
     "text": [
      "Normalized confusion matrix\n",
      "[[0.92366412 0.07633588]\n",
      " [0.54545455 0.45454545]]\n"
     ]
    },
    {
     "data": {
      "image/png": "[encoded data removed]",
      "text/plain": [
       "<Figure size 288x216 with 2 Axes>"
      ]
     },
     "metadata": {
      "needs_background": "light"
     },
     "output_type": "display_data"
    }
   ],
   "source": [
    "for c in (LogisticRegression, LinearRegression, SVC):\n",
    "    cls = c()\n",
    "    cnf_matrix = []\n",
    "    for i in range(N):\n",
    "        X_train, X_test, y_train, y_test = train_test_split(X, y, test_size=0.5)\n",
    "        cls.fit(X_train, y_train)\n",
    "        y_predict = cls.predict(X_test)\n",
    "        cnf_matrix.append(confusion_matrix(y_test, y_predict.astype(bool).astype(int)))\n",
    "    cnf_matrix = np.mean(np.array(cnf_matrix), axis=0)\n",
    "    plt.figure(figsize=(4, 3))\n",
    "    plot_confusion_matrix(cnf_matrix, classes=['0', '1'],\n",
    "                          title=c.__name__)\n",
    "    plt.savefig(\"static_\" + c.__name__ + \".png\")\n",
    "    plt.show()\n",
    "    #print(cnf_matrix)"
   ]
  },
  {
   "cell_type": "code",
   "execution_count": null,
   "metadata": {},
   "outputs": [],
   "source": [
    "#spam"
   ]
  },
  {
   "cell_type": "code",
   "execution_count": 20,
   "metadata": {},
   "outputs": [
    {
     "name": "stdout",
     "output_type": "stream",
     "text": [
      "Normalized confusion matrix\n",
      "[[1. 0.]\n",
      " [1. 0.]]\n"
     ]
    },
    {
     "data": {
      "image/png": "[encoded data removed]",
      "text/plain": [
       "<Figure size 288x216 with 2 Axes>"
      ]
     },
     "metadata": {
      "needs_background": "light"
     },
     "output_type": "display_data"
    },
    {
     "name": "stdout",
     "output_type": "stream",
     "text": [
      "[[121.75   0.  ]\n",
      " [  2.25   0.  ]]\n",
      "Normalized confusion matrix\n",
      "[[0.92366412 0.07633588]\n",
      " [0.54545455 0.45454545]]\n"
     ]
    },
    {
     "data": {
      "image/png": "[encoded data removed]",
      "text/plain": [
       "<Figure size 288x216 with 2 Axes>"
      ]
     },
     "metadata": {
      "needs_background": "light"
     },
     "output_type": "display_data"
    },
    {
     "name": "stdout",
     "output_type": "stream",
     "text": [
      "[[121  10]\n",
      " [ 12  10]]\n",
      "Normalized confusion matrix\n",
      "[[0.92424242 0.07575758]\n",
      " [0.54545455 0.45454545]]\n"
     ]
    },
    {
     "data": {
      "image/png": "[encoded data removed]",
      "text/plain": [
       "<Figure size 288x216 with 2 Axes>"
      ]
     },
     "metadata": {
      "needs_background": "light"
     },
     "output_type": "display_data"
    },
    {
     "name": "stdout",
     "output_type": "stream",
     "text": [
      "[[122  10]\n",
      " [ 12  10]]\n"
     ]
    }
   ],
   "source": [
    "for c in (LogisticRegression, LinearRegression, SVC):\n",
    "    cls = LinearRegression(n_jobs=-1)\n",
    "    cnf_matrix = []\n",
    "    for i in range(N):\n",
    "        X_train, X_test, y_train, y_test = train_test_split(X, y, test_size=0.5)\n",
    "        cls.fit(X_train, y_train)\n",
    "        y_predict = cls.predict(X_test).astype(int)\n",
    "        #print(y_predict)\n",
    "   \n",
    "        cnf_matrix.append(confusion_matrix(y_test, y_predict.astype(bool).astype(int))) # .astype(int)\n",
    "    #print(confusion_matrix(y_test, y_predict.astype(int)))\n",
    "    cnf_matrix = np.mean(np.array(cnf_matrix), axis=0)\n",
    "    plt.figure(figsize=(4, 3))\n",
    "    plot_confusion_matrix(cnf_matrix, classes=['0', '1'],\n",
    "                              title=c.__name__)\n",
    "    plt.savefig(\"spam\" + c.__name__ + \".png\")\n",
    "    plt.show()\n",
    "    print(cnf_matrix)"
   ]
  },
  {
   "cell_type": "code",
   "execution_count": null,
   "metadata": {},
   "outputs": [],
   "source": [
    "#ccpev"
   ]
  },
  {
   "cell_type": "code",
   "execution_count": 26,
   "metadata": {},
   "outputs": [
    {
     "name": "stdout",
     "output_type": "stream",
     "text": [
      "Normalized confusion matrix\n",
      "[[0.91666667 0.08333333]\n",
      " [0.54545455 0.45454545]]\n"
     ]
    },
    {
     "data": {
      "image/png": "[encoded data removed]",
      "text/plain": [
       "<Figure size 288x216 with 2 Axes>"
      ]
     },
     "metadata": {
      "needs_background": "light"
     },
     "output_type": "display_data"
    },
    {
     "name": "stdout",
     "output_type": "stream",
     "text": [
      "Normalized confusion matrix\n",
      "[[0. 1.]\n",
      " [0. 1.]]\n"
     ]
    },
    {
     "data": {
      "image/png": "[encoded data removed]",
      "text/plain": [
       "<Figure size 288x216 with 2 Axes>"
      ]
     },
     "metadata": {
      "needs_background": "light"
     },
     "output_type": "display_data"
    },
    {
     "name": "stdout",
     "output_type": "stream",
     "text": [
      "Normalized confusion matrix\n",
      "[[1. 0.]\n",
      " [1. 0.]]\n"
     ]
    },
    {
     "data": {
      "image/png": "[encoded data removed]",
      "text/plain": [
       "<Figure size 288x216 with 2 Axes>"
      ]
     },
     "metadata": {
      "needs_background": "light"
     },
     "output_type": "display_data"
    }
   ],
   "source": [
    "for c in (LogisticRegression, LinearRegression, SVC):\n",
    "    cnf_matrix = []\n",
    "    for i in range(N):\n",
    "        X_train, X_test, y_train, y_test = train_test_split(X, y, test_size=0.5)\n",
    "        cls = c()\n",
    "        cls.fit(X_train, y_train)\n",
    "        y_predict = cls.predict(X_test)\n",
    "        cnf_matrix.append(confusion_matrix(y_test, y_predict.astype(bool).astype(int)))\n",
    "    #print(confusion_matrix(y_test, y_predict.astype(int)))\n",
    "    cnf_matrix = np.mean(np.array(cnf_matrix), axis=0)\n",
    "    plt.figure(figsize=(4, 3))\n",
    "    plot_confusion_matrix(cnf_matrix, classes=['0', '1'],\n",
    "                              title=c.__name__)\n",
    "    plt.savefig(\"ccpev_\" + c.__name__ + \".png\")\n",
    "    plt.show()\n",
    "    #print(cnf_matrix)"
   ]
  },
  {
   "cell_type": "code",
   "execution_count": null,
   "metadata": {},
   "outputs": [],
   "source": []
  }
 ],
 "metadata": {
  "kernelspec": {
   "display_name": "Python 3",
   "language": "python",
   "name": "python3"
  },
  "language_info": {
   "codemirror_mode": {
    "name": "ipython",
    "version": 3
   },
   "file_extension": ".py",
   "mimetype": "text/x-python",
   "name": "python",
   "nbconvert_exporter": "python",
   "pygments_lexer": "ipython3",
   "version": "3.7.6"
  }
 },
 "nbformat": 4,
 "nbformat_minor": 4
}
