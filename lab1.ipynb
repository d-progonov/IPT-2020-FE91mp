{
 "cells": [
  {
   "cell_type": "code",
   "execution_count": 1,
   "metadata": {},
   "outputs": [
    {
     "name": "stdout",
     "output_type": "stream",
     "text": [
      "> loaded im10807.jpg (375, 500, 3)\n",
      "> loaded im22913.jpg (375, 500, 3)\n",
      "> loaded im8932.jpg (400, 500, 3)\n",
      "> loaded im1946.jpg (338, 500, 3)\n",
      "> loaded im15401.jpg (500, 333, 3)\n",
      "> loaded im19664.jpg (333, 500, 3)\n",
      "> loaded im17718.jpg (333, 500, 3)\n",
      "> loaded im4505.jpg (375, 500, 3)\n",
      "> loaded im1459.jpg (500, 500, 3)\n",
      "> loaded im14978.jpg (375, 500, 3)\n",
      "> loaded im10986.jpg (334, 500, 3)\n",
      "> loaded im23330.jpg (500, 375, 3)\n",
      "> loaded im19325.jpg (375, 500, 3)\n",
      "> loaded im9876.jpg (500, 368, 3)\n",
      "> loaded im15007.jpg (332, 500, 3)\n",
      "> loaded im22651.jpg (333, 500, 3)\n",
      "> loaded im19276.jpg (500, 375, 3)\n",
      "> loaded im19116.jpg (500, 500, 3)\n",
      "> loaded im8288.jpg (325, 500, 3)\n",
      "> loaded im13239.jpg (357, 500, 3)\n",
      "> loaded im11316.jpg (500, 479, 3)\n",
      "> loaded im11939.jpg (299, 500, 3)\n",
      "> loaded im11769.jpg (480, 359, 3)\n",
      "> loaded im18827.jpg (375, 500, 3)\n",
      "> loaded im2727.jpg (500, 454, 3)\n",
      "> loaded im24949.jpg (500, 333, 3)\n",
      "> loaded im3487.jpg (500, 333, 3)\n",
      "> loaded im11028.jpg (333, 500, 3)\n",
      "> loaded im21896.jpg (375, 500, 3)\n",
      "> loaded im8256.jpg (500, 363, 3)\n",
      "> loaded im10571.jpg (83, 500, 3)\n",
      "> loaded im2129.jpg (500, 333, 3)\n",
      "> loaded im24940.jpg (375, 500, 3)\n",
      "> loaded im11296.jpg (375, 500, 3)\n",
      "> loaded im2291.jpg (312, 500, 3)\n",
      "> loaded im22022.jpg (375, 500, 3)\n",
      "> loaded im11352.jpg (375, 500, 3)\n",
      "> loaded im10892.jpg (333, 500, 3)\n",
      "> loaded im22501.jpg (375, 500, 3)\n",
      "> loaded im18721.jpg (362, 500, 3)\n",
      "> loaded im21381.jpg (375, 500, 3)\n",
      "> loaded im12163.jpg (312, 500, 3)\n",
      "> loaded im19643.jpg (500, 375, 3)\n",
      "> loaded im21672.jpg (500, 374, 3)\n",
      "> loaded im10452.jpg (375, 500, 3)\n",
      "> loaded im23000.jpg (375, 500, 3)\n",
      "> loaded im14365.jpg (351, 500, 3)\n",
      "> loaded im23586.jpg (334, 500, 3)\n",
      "> loaded im1532.jpg (500, 343, 3)\n",
      "> loaded im24325.jpg (365, 500, 3)\n",
      "> loaded im864.jpg (390, 500, 3)\n",
      "> loaded im23143.jpg (500, 377, 3)\n",
      "> loaded im10494.jpg (500, 335, 3)\n",
      "> loaded im2242.jpg (500, 333, 3)\n",
      "> loaded im5913.jpg (382, 500, 3)\n",
      "> loaded im3902.jpg (500, 375, 3)\n",
      "> loaded im19415.jpg (376, 500, 3)\n",
      "> loaded im12788.jpg (333, 500, 3)\n",
      "> loaded im14171.jpg (331, 500, 3)\n",
      "> loaded im21970.jpg (375, 500, 3)\n",
      "> loaded im23274.jpg (333, 500, 3)\n",
      "> loaded im22069.jpg (271, 500, 3)\n",
      "> loaded im1548.jpg (304, 500, 3)\n",
      "> loaded im24759.jpg (333, 500, 3)\n",
      "> loaded im12933.jpg (500, 438, 3)\n",
      "> loaded im11866.jpg (375, 500, 3)\n",
      "> loaded im19726.jpg (500, 375, 3)\n",
      "> loaded im9923.jpg (375, 500, 3)\n",
      "> loaded im16731.jpg (375, 500, 3)\n",
      "> loaded im5947.jpg (400, 500, 3)\n",
      "> loaded im9079.jpg (375, 500, 3)\n",
      "> loaded im15214.jpg (500, 375, 3)\n",
      "> loaded im21110.jpg (500, 334, 3)\n",
      "> loaded im14016.jpg (333, 500, 3)\n",
      "> loaded im12009.jpg (368, 500, 3)\n",
      "> loaded im4614.jpg (500, 499, 3)\n",
      "> loaded im12095.jpg (500, 375, 3)\n",
      "> loaded im9961.jpg (394, 500, 3)\n",
      "> loaded im15125.jpg (333, 500, 3)\n",
      "> loaded im23908.jpg (500, 392, 3)\n",
      "> loaded im8135.jpg (333, 500, 3)\n",
      "> loaded im10884.jpg (319, 500, 3)\n",
      "> loaded im11905.jpg (500, 452, 3)\n",
      "> loaded im19863.jpg (500, 339, 3)\n",
      "> loaded im4781.jpg (500, 281, 3)\n",
      "> loaded im10883.jpg (277, 500, 3)\n",
      "> loaded im18908.jpg (375, 500, 3)\n",
      "> loaded im18087.jpg (500, 400, 3)\n",
      "> loaded im15049.jpg (334, 500, 3)\n",
      "> loaded im1142.jpg (333, 500, 3)\n",
      "> loaded im23504.jpg (335, 500, 3)\n",
      "> loaded im21522.jpg (333, 500, 3)\n",
      "> loaded im1939.jpg (500, 400, 3)\n",
      "> loaded im10605.jpg (194, 500, 3)\n",
      "> loaded im18142.jpg (375, 500, 3)\n",
      "> loaded im9616.jpg (339, 500, 3)\n",
      "> loaded im9689.jpg (338, 500, 3)\n",
      "> loaded im7312.jpg (333, 500, 3)\n",
      "> loaded im6196.jpg (353, 500, 3)\n",
      "> loaded im7176.jpg (500, 333, 3)\n",
      "> loaded im9514.jpg (500, 356, 3)\n",
      "> loaded im17976.jpg (375, 500, 3)\n",
      "> loaded im5153.jpg (424, 500, 3)\n",
      "> loaded im17855.jpg (365, 500, 3)\n",
      "> loaded im8552.jpg (334, 500, 3)\n",
      "> loaded im19892.jpg (467, 500, 3)\n",
      "> loaded im14816.jpg (375, 500, 3)\n",
      "> loaded im7504.jpg (500, 333, 3)\n",
      "> loaded im825.jpg (500, 375, 3)\n",
      "> loaded im13105.jpg (375, 500, 3)\n",
      "> loaded im14992.jpg (333, 500, 3)\n",
      "> loaded im10386.jpg (375, 500, 3)\n",
      "> loaded im8203.jpg (500, 333, 3)\n",
      "> loaded im10955.jpg (500, 375, 3)\n",
      "> loaded im13503.jpg (333, 500, 3)\n",
      "> loaded im815.jpg (360, 500, 3)\n",
      "> loaded im13600.jpg (375, 500, 3)\n",
      "> loaded im3820.jpg (500, 375, 3)\n",
      "> loaded im24475.jpg (500, 375, 3)\n",
      "> loaded im10173.jpg (375, 500, 3)\n",
      "> loaded im15197.jpg (375, 500, 3)\n",
      "> loaded im22725.jpg (500, 467, 3)\n",
      "> loaded im6925.jpg (500, 333, 3)\n",
      "> loaded im9730.jpg (314, 500, 3)\n",
      "> loaded im533.jpg (375, 500, 3)\n",
      "> loaded im12518.jpg (500, 333, 3)\n",
      "> loaded im10029.jpg (500, 333, 3)\n",
      "> loaded im17073.jpg (500, 375, 3)\n",
      "> loaded im13305.jpg (500, 333, 3)\n",
      "> loaded im12104.jpg (375, 500, 3)\n",
      "> loaded im23732.jpg (500, 335, 3)\n",
      "> loaded im16205.jpg (500, 375, 3)\n",
      "> loaded im8369.jpg (341, 500, 3)\n",
      "> loaded im24601.jpg (375, 500, 3)\n",
      "> loaded im24425.jpg (500, 335, 3)\n",
      "> loaded im7233.jpg (500, 500, 3)\n",
      "> loaded im1093.jpg (375, 500, 3)\n",
      "> loaded im19988.jpg (375, 500, 3)\n",
      "> loaded im12114.jpg (316, 500, 3)\n",
      "> loaded im13725.jpg (333, 500, 3)\n",
      "> loaded im859.jpg (378, 500, 3)\n",
      "> loaded im10501.jpg (375, 500, 3)\n",
      "> loaded im10156.jpg (500, 336, 3)\n",
      "> loaded im23619.jpg (375, 500, 3)\n",
      "> loaded im21976.jpg (286, 500, 3)\n",
      "> loaded im7713.jpg (375, 500, 3)\n",
      "> loaded im17647.jpg (500, 451, 3)\n",
      "> loaded im5986.jpg (500, 500, 3)\n",
      "> loaded im1898.jpg (500, 333, 3)\n",
      "> loaded im6674.jpg (499, 500, 3)\n",
      "> loaded im18105.jpg (333, 500, 3)\n",
      "> loaded im4229.jpg (375, 500, 3)\n",
      "> loaded im12173.jpg (277, 500, 3)\n",
      "> loaded im12664.jpg (306, 500, 3)\n",
      "> loaded im15043.jpg (302, 500, 3)\n",
      "> loaded im7939.jpg (500, 334, 3)\n",
      "> loaded im17098.jpg (350, 500, 3)\n",
      "> loaded im2584.jpg (375, 500, 3)\n",
      "> loaded im10789.jpg (500, 330, 3)\n",
      "> loaded im12577.jpg (273, 500, 3)\n",
      "> loaded im6332.jpg (333, 500, 3)\n",
      "> loaded im21159.jpg (500, 349, 3)\n",
      "> loaded im11818.jpg (323, 486, 3)\n",
      "> loaded im15007.jpg (332, 500, 3)\n",
      "> loaded im1930.jpg (500, 362, 3)\n",
      "> loaded im17564.jpg (333, 500, 3)\n",
      "> loaded im16020.jpg (333, 500, 3)\n",
      "> loaded im17954.jpg (381, 500, 3)\n",
      "> loaded im8427.jpg (334, 500, 3)\n",
      "> loaded im18374.jpg (336, 500, 3)\n",
      "> loaded im5982.jpg (329, 500, 3)\n",
      "> loaded im5446.jpg (500, 500, 3)\n",
      "> loaded im1050.jpg (333, 500, 3)\n",
      "> loaded im2064.jpg (496, 500, 3)\n",
      "> loaded im1377.jpg (375, 500, 3)\n",
      "> loaded im17139.jpg (375, 500, 3)\n",
      "> loaded im10864.jpg (500, 374, 3)\n",
      "> loaded im795.jpg (391, 500, 3)\n",
      "> loaded im9440.jpg (500, 332, 3)\n",
      "> loaded im21989.jpg (500, 333, 3)\n",
      "> loaded im15840.jpg (375, 500, 3)\n",
      "> loaded im8568.jpg (333, 500, 3)\n",
      "> loaded im4281.jpg (334, 500, 3)\n",
      "> loaded im4066.jpg (492, 500, 3)\n",
      "> loaded im21375.jpg (333, 500, 3)\n",
      "> loaded im4477.jpg (320, 500, 3)\n",
      "> loaded im16297.jpg (375, 500, 3)\n",
      "> loaded im2376.jpg (333, 500, 3)\n",
      "> loaded im11683.jpg (375, 500, 3)\n",
      "> loaded im448.jpg (333, 500, 3)\n",
      "> loaded im11039.jpg (500, 379, 3)\n",
      "> loaded im13310.jpg (333, 500, 3)\n",
      "> loaded im23914.jpg (333, 500, 3)\n",
      "> loaded im23727.jpg (375, 500, 3)\n",
      "> loaded im12527.jpg (375, 500, 3)\n",
      "> loaded im18687.jpg (333, 500, 3)\n",
      "> loaded im18395.jpg (500, 334, 3)\n",
      "> loaded im11758.jpg (500, 375, 3)\n",
      "> loaded im15779.jpg (400, 500, 3)\n",
      "> loaded im20875.jpg (332, 500, 3)\n",
      "> loaded im6093.jpg (500, 474, 3)\n",
      "> loaded im11566.jpg (407, 500, 3)\n",
      "> loaded im18304.jpg (500, 347, 3)\n",
      "> loaded im2314.jpg (368, 500, 3)\n",
      "> loaded im22186.jpg (414, 500, 3)\n",
      "> loaded im10055.jpg (375, 500, 3)\n",
      "> loaded im9183.jpg (379, 500, 3)\n",
      "> loaded im18852.jpg (333, 500, 3)\n",
      "> loaded im14852.jpg (500, 500, 3)\n",
      "> loaded im20344.jpg (500, 375, 3)\n",
      "> loaded im1502.jpg (307, 500, 3)\n",
      "> loaded im2945.jpg (333, 500, 3)\n",
      "> loaded im3324.jpg (375, 500, 3)\n",
      "> loaded im5003.jpg (375, 500, 3)\n",
      "> loaded im12087.jpg (333, 500, 3)\n",
      "> loaded im17560.jpg (333, 500, 3)\n",
      "> loaded im8216.jpg (333, 500, 3)\n",
      "> loaded im8759.jpg (500, 334, 3)\n",
      "> loaded im1196.jpg (333, 500, 3)\n",
      "> loaded im9672.jpg (335, 500, 3)\n",
      "> loaded im24147.jpg (500, 338, 3)\n",
      "> loaded im10831.jpg (334, 500, 3)\n",
      "> loaded im4446.jpg (500, 375, 3)\n",
      "> loaded im11936.jpg (500, 333, 3)\n",
      "> loaded im17029.jpg (500, 334, 3)\n",
      "> loaded im161.jpg (343, 500, 3)\n",
      "> loaded im13579.jpg (333, 500, 3)\n",
      "> loaded im2093.jpg (500, 335, 3)\n",
      "> loaded im9136.jpg (332, 500, 3)\n",
      "> loaded im13610.jpg (500, 333, 3)\n",
      "> loaded im18526.jpg (333, 500, 3)\n",
      "> loaded im17112.jpg (500, 375, 3)\n",
      "> loaded im17270.jpg (500, 375, 3)\n",
      "> loaded im19741.jpg (332, 500, 3)\n",
      "> loaded im17967.jpg (333, 500, 3)\n",
      "> loaded im2537.jpg (375, 500, 3)\n",
      "> loaded im18593.jpg (332, 500, 3)\n"
     ]
    },
    {
     "name": "stdout",
     "output_type": "stream",
     "text": [
      "> loaded im14782.jpg (334, 500, 3)\n",
      "> loaded im21811.jpg (375, 500, 3)\n",
      "> loaded im13954.jpg (500, 375, 3)\n",
      "> loaded im11644.jpg (500, 375, 3)\n",
      "> loaded im17763.jpg (375, 500, 3)\n",
      "> loaded im18685.jpg (256, 500, 3)\n",
      "> loaded im19155.jpg (395, 500, 3)\n",
      "> loaded im19377.jpg (333, 500, 3)\n",
      "> loaded im4973.jpg (500, 334, 3)\n",
      "> loaded im3561.jpg (333, 500, 3)\n",
      "> loaded im11374.jpg (500, 375, 3)\n",
      "> loaded im7231.jpg (334, 500, 3)\n",
      "> loaded im23447.jpg (500, 368, 3)\n"
     ]
    }
   ],
   "source": [
    "from os import listdir\n",
    "from matplotlib import image\n",
    "import random\n",
    "import numpy as np\n",
    "\n",
    "# load all images in a directory\n",
    "np.random.RandomState(10)\n",
    "random_indexes = np.random.choice(range(25000), 250)\n",
    "loaded_images = list()\n",
    "for i in range(250):\n",
    "\t# load image\n",
    "\tfilename = 'im' + str(random_indexes[i]) + '.jpg'\n",
    "\timg_data = image.imread('C:/Users/Parzival/Desktop/mirflickr/' + filename)\n",
    "\t# store loaded image\n",
    "\tloaded_images.append(img_data)\n",
    "\tprint('> loaded %s %s' % (filename, img_data.shape))"
   ]
  },
  {
   "cell_type": "code",
   "execution_count": 3,
   "metadata": {},
   "outputs": [
    {
     "name": "stdout",
     "output_type": "stream",
     "text": [
      "> processed 10 images\n",
      "> processed 20 images\n",
      "> processed 30 images\n",
      "> processed 40 images\n",
      "> processed 50 images\n",
      "> processed 60 images\n",
      "> processed 70 images\n",
      "> processed 80 images\n",
      "> processed 90 images\n",
      "> processed 100 images\n",
      "> processed 110 images\n",
      "> processed 120 images\n",
      "> processed 130 images\n",
      "> processed 140 images\n",
      "> processed 150 images\n",
      "> processed 160 images\n",
      "> processed 170 images\n",
      "> processed 180 images\n",
      "> processed 190 images\n",
      "> processed 200 images\n",
      "> processed 210 images\n",
      "> processed 220 images\n",
      "> processed 230 images\n",
      "> processed 240 images\n",
      "> processed 250 images\n"
     ]
    }
   ],
   "source": [
    "#1.\n",
    "values = np.zeros((3, 256))\n",
    "index = 0\n",
    "for image in loaded_images:\n",
    "\tfor i in range(image.shape[0]):\n",
    "\t\tfor j in range(image.shape[1]):\n",
    "\t\t\tvalues[0][image[i][j][0]] += 1\n",
    "\t\t\tvalues[1][image[i][j][1]] += 1\n",
    "\t\t\tvalues[2][image[i][j][2]] += 1\n",
    "\tindex += 1\n",
    "\tif (index % 10) == 0:\n",
    "\t\tprint('> processed %i images' % (index))"
   ]
  },
  {
   "cell_type": "code",
   "execution_count": 10,
   "metadata": {},
   "outputs": [
    {
     "name": "stdout",
     "output_type": "stream",
     "text": [
      "Red:\tMax - 255, Min - 0\n",
      "Green:\tMax - 255, Min - 0\n",
      "Blue:\tMax - 255, Min - 0\n"
     ]
    }
   ],
   "source": [
    "RED = 0\n",
    "GREEN = 1\n",
    "BLUE = 2\n",
    "#2.a. max and min finding\n",
    "print('Red:\\t', end='')\n",
    "for i in range(255, 0, -1):\n",
    "    if (values[RED][i] != 0):\n",
    "        print('Max - {}, '.format(i), end='')\n",
    "        break\n",
    "for i in range(0, 255):\n",
    "    if (values[RED][i] != 0):\n",
    "        print('Min - {}'.format(i))\n",
    "        break\n",
    "\n",
    "print('Green:\\t', end='')\n",
    "for i in range(255, 0, -1):\n",
    "    if (values[GREEN][i] != 0):\n",
    "        print('Max - {}, '.format(i), end='')\n",
    "        break\n",
    "for i in range(0, 255):\n",
    "    if (values[GREEN][i] != 0):\n",
    "        print('Min - {}'.format(i))\n",
    "        break\n",
    "\n",
    "print('Blue:\\t', end='')\n",
    "for i in range(255, 0, -1):\n",
    "    if (values[BLUE][i] != 0):\n",
    "        print('Max - {}, '.format(i), end='')\n",
    "        break\n",
    "for i in range(0, 255):\n",
    "    if (values[BLUE][i] != 0):\n",
    "        print('Min - {}'.format(i))\n",
    "        break"
   ]
  },
  {
   "cell_type": "code",
   "execution_count": 11,
   "metadata": {},
   "outputs": [
    {
     "name": "stdout",
     "output_type": "stream",
     "text": [
      "Red: mat ochikuvannya - 114.31, dispersiya - 5889.79\n",
      "Green: mat ochikuvannya - 104.24, dispersiya - 5549.14\n",
      "Blue: mat ochikuvannya - 93.26, dispersiya - 5960.26\n"
     ]
    }
   ],
   "source": [
    "# Mat ochikuvannya i dispersiya\n",
    "#RED\n",
    "sum_val = sum(values[RED])\n",
    "M_red = 0\n",
    "for index in range(len(values[RED])):\n",
    "    p = (values[RED][index] / sum_val)\n",
    "    M_red += p * index\n",
    "D_red = 0\n",
    "for index in range(len(values[RED])):\n",
    "    p = (values[RED][index] / sum_val)\n",
    "    D_red += p * ((index - M_red) ** 2)\n",
    "print(\"Red: mat ochikuvannya - {0:.2f}, dispersiya - {1:.2f}\"\\\n",
    ".format(M_red, D_red))\n",
    "\n",
    "#GREEN\n",
    "sum_val = sum(values[GREEN])\n",
    "M_green = 0\n",
    "for index in range(len(values[GREEN])):\n",
    "    p = (values[GREEN][index] / sum_val)\n",
    "    M_green += p * index\n",
    "D_green = 0\n",
    "for index in range(len(values[GREEN])):\n",
    "    p = (values[GREEN][index] / sum_val)\n",
    "    D_green += p * ((index - M_green) ** 2)\n",
    "print(\"Green: mat ochikuvannya - {0:.2f}, dispersiya - {1:.2f}\"\\\n",
    ".format(M_green, D_green))\n",
    "    \n",
    "#BLUE\n",
    "sum_val = sum(values[BLUE])\n",
    "M_blue = 0\n",
    "for index in range(len(values[BLUE])):\n",
    "    p = (values[BLUE][index] / sum_val)\n",
    "    M_blue += p * index\n",
    "D_blue = 0\n",
    "for index in range(len(values[BLUE])):\n",
    "    p = (values[BLUE][index] / sum_val)\n",
    "    D_blue += p * ((index - M_blue) ** 2)\n",
    "print(\"Blue: mat ochikuvannya - {0:.2f}, dispersiya - {1:.2f}\"\\\n",
    ".format(M_blue, D_blue))"
   ]
  },
  {
   "cell_type": "code",
   "execution_count": 12,
   "metadata": {
    "scrolled": true
   },
   "outputs": [
    {
     "name": "stdout",
     "output_type": "stream",
     "text": [
      "Red: median - 111, IQR - 132\n",
      "Green: median - 96, IQR - 127\n",
      "Blue: median - 74, IQR - 135\n"
     ]
    }
   ],
   "source": [
    "#Median and interquartal rozmah\n",
    "\n",
    "def medianFinder(array_values):\n",
    "    sum_val = sum(array_values)\n",
    "    summa = 0\n",
    "    for index in range(len(array_values)):\n",
    "        summa += array_values[index]\n",
    "        if (summa > (sum_val / 2)):\n",
    "            return index - 1\n",
    "        if (summa == (sum_val / 2)):\n",
    "            return (2 * index + 1) / 2\n",
    "\n",
    "def quartFinder(array_values, quart):\n",
    "    sum_val = sum(array_values)\n",
    "    summa = 0\n",
    "    for index in range(len(array_values)):\n",
    "        prev_sum = summa\n",
    "        p = array_values[index] /  sum_val\n",
    "        summa += p\n",
    "        if (summa > quart):\n",
    "            if (quart - prev_sum < summa - quart):\n",
    "                return index - 1\n",
    "            elif (quart - prev_sum > summa - quart):\n",
    "                return index\n",
    "            else:\n",
    "                return (2 * index - 1) / 2\n",
    "\n",
    "#RED\n",
    "print('Red: median - {0}, IQR - {1}'.format(medianFinder(values[RED]),\\\n",
    "quartFinder(values[RED], 0.75) - quartFinder(values[RED], 0.25)))\n",
    "print('Green: median - {0}, IQR - {1}'.format(medianFinder(values[GREEN]),\\\n",
    "quartFinder(values[GREEN], 0.75) - quartFinder(values[GREEN], 0.25)))\n",
    "print('Blue: median - {0}, IQR - {1}'.format(medianFinder(values[BLUE]),\\\n",
    "quartFinder(values[BLUE], 0.75) - quartFinder(values[BLUE], 0.25)))"
   ]
  },
  {
   "cell_type": "code",
   "execution_count": 13,
   "metadata": {},
   "outputs": [
    {
     "name": "stdout",
     "output_type": "stream",
     "text": [
      "Red: Asimmetriya - 0.128, Ekscess - 1.836\n",
      "Green: Asimmetriya - 0.292, Ekscess - 1.932\n",
      "Blue: Asimmetriya - 0.495, Ekscess - 1.978\n"
     ]
    }
   ],
   "source": [
    "def E_operator(arr_values, M, power):\n",
    "    sum_val = sum(arr_values)\n",
    "    ans = 0\n",
    "    for index in range(len(arr_values)):\n",
    "        p = (arr_values[index] / sum_val)\n",
    "        ans += p * ((index - M) ** power)\n",
    "    return ans\n",
    "        \n",
    "#Asimmetriya, ekscess\n",
    "Asym_red = E_operator(values[RED], M_red, 3) / (D_red ** (3 / 2))\n",
    "Asym_green = E_operator(values[GREEN], M_green, 3) / (D_green ** (3 / 2))\n",
    "Asym_blue = E_operator(values[BLUE], M_blue, 3) / (D_blue ** (3 / 2))\n",
    "\n",
    "Ekscess_red = E_operator(values[RED], M_red, 4) / (D_red ** 2)\n",
    "Ekscess_green = E_operator(values[GREEN], M_green, 4) / (D_green ** 2)\n",
    "Ekscess_blue = E_operator(values[BLUE], M_blue, 4) / (D_blue ** 2)\n",
    "print('Red: Asimmetriya - {0:.3f}, Ekscess - {1:.3f}'\\\n",
    ".format(Asym_red, Ekscess_red))\n",
    "print('Green: Asimmetriya - {0:.3f}, Ekscess - {1:.3f}'\\\n",
    ".format(Asym_green, Ekscess_green))\n",
    "print('Blue: Asimmetriya - {0:.3f}, Ekscess - {1:.3f}'\\\n",
    ".format(Asym_blue, Ekscess_blue))"
   ]
  },
  {
   "cell_type": "code",
   "execution_count": 14,
   "metadata": {},
   "outputs": [
    {
     "data": {
      "image/png": "[encoded data removed]",
      "text/plain": [
       "<Figure size 432x288 with 1 Axes>"
      ]
     },
     "metadata": {
      "needs_background": "light"
     },
     "output_type": "display_data"
    },
    {
     "data": {
      "image/png": "[encoded data removed]",
      "text/plain": [
       "<Figure size 432x288 with 1 Axes>"
      ]
     },
     "metadata": {
      "needs_background": "light"
     },
     "output_type": "display_data"
    },
    {
     "data": {
      "image/png": "[encoded data removed]",
      "text/plain": [
       "<Figure size 432x288 with 1 Axes>"
      ]
     },
     "metadata": {
      "needs_background": "light"
     },
     "output_type": "display_data"
    }
   ],
   "source": [
    "import matplotlib.pyplot as plt\n",
    "#3. Histograms\n",
    "x = range(256)\n",
    "\n",
    "#RED\n",
    "plt.bar(x,values[RED],color='red')\n",
    "plt.xlabel('Brightness')\n",
    "plt.ylabel('Frequency')\n",
    "plt.ylim(top=1500000)\n",
    "plt.show()\n",
    "#GREEN\n",
    "plt.bar(x,values[GREEN],color='green')\n",
    "plt.xlabel('Brightness')\n",
    "plt.ylabel('Frequency')\n",
    "plt.ylim(top=1500000)\n",
    "plt.show()\n",
    "#BLUE\n",
    "plt.bar(x,values[BLUE],color='blue')\n",
    "plt.xlabel('Brightness')\n",
    "plt.ylabel('Frequency')\n",
    "plt.ylim(top=1500000)\n",
    "plt.show()"
   ]
  },
  {
   "cell_type": "code",
   "execution_count": 15,
   "metadata": {},
   "outputs": [
    {
     "data": {
      "image/png": "[encoded data removed]",
      "text/plain": [
       "<Figure size 432x288 with 1 Axes>"
      ]
     },
     "metadata": {
      "needs_background": "light"
     },
     "output_type": "display_data"
    }
   ],
   "source": [
    "import seaborn as sns\n",
    "test = values[RED]\n",
    "plt.hist(test,bins = 1000)\n",
    "plt.show()"
   ]
  },
  {
   "cell_type": "code",
   "execution_count": 16,
   "metadata": {},
   "outputs": [
    {
     "data": {
      "image/png": "[encoded data removed]",
      "text/plain": [
       "<Figure size 432x288 with 1 Axes>"
      ]
     },
     "metadata": {
      "needs_background": "light"
     },
     "output_type": "display_data"
    }
   ],
   "source": [
    "X,Y = sns.distplot(np.ravel(test)).get_lines()[0].get_data()"
   ]
  },
  {
   "cell_type": "code",
   "execution_count": 17,
   "metadata": {},
   "outputs": [
    {
     "data": {
      "image/png": "[encoded data removed]",
      "text/plain": [
       "<Figure size 432x288 with 1 Axes>"
      ]
     },
     "metadata": {
      "needs_background": "light"
     },
     "output_type": "display_data"
    }
   ],
   "source": [
    "from scipy import stats\n",
    "test = np.ravel(test)\n",
    "xt = plt.xticks()[0]  \n",
    "xmin, xmax = min(xt), max(xt)  \n",
    "lnspc = np.linspace(0, 255, len(X))\n",
    "\n",
    "m, s = stats.norm.fit((X,Y))# get mean and standard deviation  \n",
    "pdf_g = stats.norm.pdf(lnspc, m, s) # now get theoretical values in our interval  \n",
    "plt.plot(lnspc, pdf_g, label=\"Norm\",color = 'grey') # plot it\n",
    "plt.plot(X,Y,color = 'black',linewidth = 4)\n",
    "\n",
    "plt.plot(lnspc, pdf_g, label=\"Norm\") # plot it\n",
    "ag,bg,cg = stats.gamma.fit((X,Y))  \n",
    "pdf_gamma = stats.gamma.pdf(lnspc, ag, bg,cg)  \n",
    "plt.plot(lnspc, pdf_gamma, label=\"Gamma\",color = 'blue')\n",
    "\n",
    "\n",
    "ab,bb,cb,db = stats.beta.fit((X,Y))\n",
    "pdf_beta = stats.beta.pdf(lnspc, ab, bb,cb, db)  \n",
    "plt.plot(lnspc, pdf_beta, label=\"Beta\",color = 'red')\n",
    "\n",
    "plt.show()"
   ]
  },
  {
   "cell_type": "code",
   "execution_count": null,
   "metadata": {},
   "outputs": [],
   "source": []
  }
 ],
 "metadata": {
  "kernelspec": {
   "display_name": "Python 3",
   "language": "python",
   "name": "python3"
  },
  "language_info": {
   "codemirror_mode": {
    "name": "ipython",
    "version": 3
   },
   "file_extension": ".py",
   "mimetype": "text/x-python",
   "name": "python",
   "nbconvert_exporter": "python",
   "pygments_lexer": "ipython3",
   "version": "3.7.6"
  }
 },
 "nbformat": 4,
 "nbformat_minor": 4
}
