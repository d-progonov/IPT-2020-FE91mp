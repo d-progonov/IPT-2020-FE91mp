{
 "cells": [
  {
   "cell_type": "code",
   "execution_count": 4,
   "metadata": {},
   "outputs": [],
   "source": [
    "from os import listdir\n",
    "import random\n",
    "import numpy as np\n",
    "import seaborn\n",
    "from scipy import stats\n",
    "from matplotlib import image\n",
    "import matplotlib.pyplot as plt"
   ]
  },
  {
   "cell_type": "code",
   "execution_count": 33,
   "metadata": {},
   "outputs": [],
   "source": [
    "path = '/users/user/downloads/mirflickr/'\n",
    "quantity = 250\n",
    "random = 4 \n",
    "\n",
    "RGB = {\n",
    "    'red': 0,\n",
    "    'green': 1,\n",
    "    'blue': 2\n",
    "}\n",
    "\n",
    "matspodivannia = {\n",
    "    'red': 0,\n",
    "    'green': 0,\n",
    "    'blue': 0  \n",
    "}\n",
    "\n",
    "dispersion = {\n",
    "    'red': 0,\n",
    "    'green': 0,\n",
    "    'blue': 0  \n",
    "}"
   ]
  },
  {
   "cell_type": "markdown",
   "metadata": {},
   "source": [
    "1. Сформувати тестову вибірку зображень з вихідного пакета;"
   ]
  },
  {
   "cell_type": "code",
   "execution_count": 42,
   "metadata": {},
   "outputs": [],
   "source": [
    "def get_test_sample(path, quantity, random):\n",
    "    \n",
    "    np.random.RandomState(random)\n",
    "    ind = np.random.choice(range(25000), quantity)\n",
    "    sample = list()\n",
    "    for i in range(quantity):\n",
    "        file = 'im' + str(ind[i]) + '.jpg'\n",
    "        sample.append(image.imread(path + file))\n",
    "    val = np.zeros((3, 256))\n",
    "    for img in sample:\n",
    "        for i in range(img.shape[0]):\n",
    "            for j in range(img.shape[1]):\n",
    "                val[0][img[i][j][0]] += 1\n",
    "                val[1][img[i][j][1]] += 1\n",
    "                val[2][img[i][j][2]] += 1\n",
    "    print('The sample is formed!')   \n",
    "    \n",
    "    return val, sample"
   ]
  },
  {
   "cell_type": "code",
   "execution_count": 43,
   "metadata": {},
   "outputs": [
    {
     "name": "stdout",
     "output_type": "stream",
     "text": [
      "The sample is formed!\n"
     ]
    }
   ],
   "source": [
    "val, sample = get_test_sample(path, quantity, random)"
   ]
  },
  {
   "cell_type": "markdown",
   "metadata": {},
   "source": [
    "2. Для кожного каналу кольору кожного зображення з тестового пакета обчислити наступні характеристики: \n",
    "a. Максимальна / мінімальне значення; \n",
    "b. Математичне сподівання і дисперсію; c. Медіану значень, інтерквартільний розмах; \n",
    "d. Коефіцієнти асиметрії та ексцесу (нормалізований);"
   ]
  },
  {
   "cell_type": "code",
   "execution_count": 61,
   "metadata": {},
   "outputs": [],
   "source": [
    "def get_values(val, RGB, kanal):\n",
    "    \n",
    "    print(kanal)\n",
    "    for ind in range(255, 0, -1):\n",
    "        if (val[RGB[kanal]][ind] != 0):\n",
    "            print(f'Max {ind}, ')\n",
    "            break\n",
    "    for ind in range(0, 255):\n",
    "        if (val[RGB[kanal]][ind] != 0):\n",
    "            print(f'Min {ind}\\n')\n",
    "            break\n",
    "\n",
    "def get_matspod_and_disp(val, RGB, kanal):\n",
    "    \n",
    "    print(kanal)\n",
    "    sum_val = sum(val[RGB[kanal]])\n",
    "    matspod = 0\n",
    "    for ind in range(len(val[RGB[kanal]])):\n",
    "        k = (val[RGB[kanal]][ind] / sum_val)\n",
    "        matspod += k * ind\n",
    "    disp = 0\n",
    "    for ind in range(len(val[RGB[kanal]])):\n",
    "        k = (val[RGB[kanal]][ind] / sum_val)\n",
    "        disp += k * ((ind - matspod) ** 2)        \n",
    "    matspodivannia[kanal] = matspod\n",
    "    dispersion[kanal] = disp\n",
    "    print(f'Matematuchne spodivannia {matspod}')\n",
    "    print(f'Dispersia {disp}\\n')   \n",
    "    \n",
    "def get_median(m):\n",
    "    \n",
    "    sum_val = sum(m)\n",
    "    summa = 0\n",
    "    for ind in range(len(m)):\n",
    "        summa += m[ind]\n",
    "        if (summa > (sum_val / 2)):\n",
    "            return ind - 1\n",
    "        if (summa == (sum_val / 2)):\n",
    "            return (2 * ind + 1) / 2\n",
    "\n",
    "def get_quartile(m, quartile):\n",
    "    \n",
    "    summa_values = sum(m)\n",
    "    summa = 0\n",
    "    for i in range(len(m)):\n",
    "        prev_sum = summa\n",
    "        p = m[i] /  summa_values\n",
    "        summa += p\n",
    "        if (summa > quartile):\n",
    "            if (quartile - prev_sum < summa - quartile):\n",
    "                return i - 1\n",
    "            elif (quartile - prev_sum > summa - quartile):\n",
    "                return i\n",
    "            else:\n",
    "                return (2 * i - 1) / 2   \n",
    "\n",
    "def get_median_quartile(val, RGB, kanal):\n",
    "    \n",
    "    print(kanal)\n",
    "    print(f'Mediana {get_median(val[RGB[kanal]])}')\n",
    "    print(f'Quartile {get_quartile(val[RGB[kanal]], 0.75) - get_quartile(val[RGB[kanal]], 0.25)}\\n')\n",
    "    \n",
    "def fi(m, matspod, p):\n",
    "    \n",
    "    sum_val = sum(m)\n",
    "    f = 0\n",
    "    for ind in range(len(m)):\n",
    "        k = (m[ind] / sum_val)\n",
    "        f += k * ((ind - matspod) ** p)\n",
    "    return f\n",
    "\n",
    "def get_asymm_excess(val, RGB, kanal):\n",
    "    \n",
    "    print(kanal)\n",
    "    asymm = fi(val[RGB[kanal]], matspodivannia[kanal], 3) / (dispersion[kanal] ** (3 / 2))\n",
    "    excess = fi(val[RGB[kanal]], matspodivannia[kanal], 4) / (dispersion[kanal] ** 2) - 3\n",
    "    print(f'Asymmetry {asymm}')\n",
    "    print(f'Excess {excess}\\n')"
   ]
  },
  {
   "cell_type": "code",
   "execution_count": 62,
   "metadata": {},
   "outputs": [
    {
     "name": "stdout",
     "output_type": "stream",
     "text": [
      "red\n",
      "Max 255, \n",
      "Min 0\n",
      "\n",
      "green\n",
      "Max 255, \n",
      "Min 0\n",
      "\n",
      "blue\n",
      "Max 255, \n",
      "Min 0\n",
      "\n"
     ]
    }
   ],
   "source": [
    "red_val = get_values(val, RGB, 'red')\n",
    "green_val = get_values(val, RGB, 'green')\n",
    "blue_val = get_values(val, RGB, 'blue')"
   ]
  },
  {
   "cell_type": "code",
   "execution_count": 63,
   "metadata": {},
   "outputs": [
    {
     "name": "stdout",
     "output_type": "stream",
     "text": [
      "red\n",
      "Matematuchne spodivannia 118.37678442744522\n",
      "Dispersia 6141.082144840509\n",
      "\n",
      "green\n",
      "Matematuchne spodivannia 110.31837030597202\n",
      "Dispersia 5755.174281531292\n",
      "\n",
      "blue\n",
      "Matematuchne spodivannia 99.78313890820282\n",
      "Dispersia 6011.309896281168\n",
      "\n"
     ]
    }
   ],
   "source": [
    "red_matspod_disp = get_matspod_and_disp(val, RGB, 'red')\n",
    "green_matspod_disp = get_matspod_and_disp(val, RGB, 'green')\n",
    "blue_matspod_disp = get_matspod_and_disp(val, RGB, 'blue')"
   ]
  },
  {
   "cell_type": "code",
   "execution_count": 64,
   "metadata": {},
   "outputs": [
    {
     "name": "stdout",
     "output_type": "stream",
     "text": [
      "red\n",
      "Mediana 115\n",
      "Quartile 137\n",
      "\n",
      "green\n",
      "Mediana 106\n",
      "Quartile 131\n",
      "\n",
      "blue\n",
      "Mediana 86\n",
      "Quartile 134\n",
      "\n"
     ]
    }
   ],
   "source": [
    "red_median_quartile = get_median_quartile(val, RGB, 'red')\n",
    "green_median_quartile = get_median_quartile(val, RGB, 'green')\n",
    "blue_median_quartile = get_median_quartile(val, RGB, 'blue')"
   ]
  },
  {
   "cell_type": "code",
   "execution_count": 60,
   "metadata": {},
   "outputs": [
    {
     "name": "stdout",
     "output_type": "stream",
     "text": [
      "red\n",
      "Asymmetry 0.08929185045460528\n",
      "Excess -1.2254031382987443\n",
      "\n",
      "green\n",
      "Asymmetry 0.2098846887141036\n",
      "Excess -1.1277698056973646\n",
      "\n",
      "blue\n",
      "Asymmetry 0.411238169724522\n",
      "Excess -1.059775556723196\n",
      "\n"
     ]
    }
   ],
   "source": [
    "red_asymm_excess = get_asymm_excess(val, RGB, 'red')\n",
    "green_asymm_excess = get_asymm_excess(val, RGB, 'green')\n",
    "blue_asymm_excess = get_asymm_excess(val, RGB, 'blue')"
   ]
  },
  {
   "cell_type": "markdown",
   "metadata": {},
   "source": [
    "3. Для кожного каналу кольору кожного зображення з тестового пакета побудувати гістограму значень яскравості пікселів;"
   ]
  },
  {
   "cell_type": "code",
   "execution_count": 67,
   "metadata": {},
   "outputs": [],
   "source": [
    "def get_histogram(val, RGB, kanal):\n",
    "    \n",
    "    plt.bar(range(256), val[RGB[kanal]])\n",
    "    plt.title(kanal)\n",
    "    plt.xlabel('bright')\n",
    "    plt.ylabel('frequency')\n",
    "    plt.show()"
   ]
  },
  {
   "cell_type": "code",
   "execution_count": 68,
   "metadata": {},
   "outputs": [
    {
     "data": {
      "image/png": "[encoded data removed]",
      "text/plain": [
       "<Figure size 432x288 with 1 Axes>"
      ]
     },
     "metadata": {
      "needs_background": "light"
     },
     "output_type": "display_data"
    },
    {
     "data": {
      "image/png": "[encoded data removed]",
      "text/plain": [
       "<Figure size 432x288 with 1 Axes>"
      ]
     },
     "metadata": {
      "needs_background": "light"
     },
     "output_type": "display_data"
    },
    {
     "data": {
      "image/png": "[encoded data removed]",
      "text/plain": [
       "<Figure size 432x288 with 1 Axes>"
      ]
     },
     "metadata": {
      "needs_background": "light"
     },
     "output_type": "display_data"
    }
   ],
   "source": [
    "red_histogram = get_histogram(val, RGB, 'red')\n",
    "green_histogram = get_histogram(val, RGB, 'green')\n",
    "blue_histogram = get_histogram(val, RGB, 'blue')"
   ]
  },
  {
   "cell_type": "markdown",
   "metadata": {},
   "source": [
    "4. Провести апроксимацію отриманих гістограм з використанням відомих імовірнісних розподілів, визначити найкращу апроксимацію;\n",
    "5. Побудувати розподіл типів використаних імовірнісних розподілів для яких досягається мінімальне значення помилки апроксимації з п.4."
   ]
  },
  {
   "cell_type": "code",
   "execution_count": 89,
   "metadata": {},
   "outputs": [],
   "source": [
    "def get_apr(val, RGB, kanal):\n",
    "    plt.hist(val[RGB[kanal]], bins=1000)\n",
    "    plt.title(kanal)\n",
    "    plt.show()\n",
    "    X, Y = seaborn.distplot(np.ravel(val[RGB[kanal]])).get_lines()[0].get_data()\n",
    "    \n",
    "    np.ravel(val[RGB[kanal]])\n",
    "    return X, Y"
   ]
  },
  {
   "cell_type": "code",
   "execution_count": 91,
   "metadata": {},
   "outputs": [
    {
     "data": {
      "image/png": "[encoded data removed]",
      "text/plain": [
       "<Figure size 432x288 with 1 Axes>"
      ]
     },
     "metadata": {
      "needs_background": "light"
     },
     "output_type": "display_data"
    },
    {
     "data": {
      "image/png": "[encoded data removed]",
      "text/plain": [
       "<Figure size 432x288 with 1 Axes>"
      ]
     },
     "metadata": {
      "needs_background": "light"
     },
     "output_type": "display_data"
    },
    {
     "data": {
      "image/png": "[encoded data removed]",
      "text/plain": [
       "<Figure size 432x288 with 1 Axes>"
      ]
     },
     "metadata": {
      "needs_background": "light"
     },
     "output_type": "display_data"
    },
    {
     "data": {
      "image/png": "[encoded data removed]",
      "text/plain": [
       "<Figure size 432x288 with 1 Axes>"
      ]
     },
     "metadata": {
      "needs_background": "light"
     },
     "output_type": "display_data"
    }
   ],
   "source": [
    "X, Y = get_apr(val, RGB, 'red')\n",
    "green_apr = get_apr(val, RGB, 'green')\n",
    "blue_apr = get_apr(val, RGB, 'blue')\n",
    "\n",
    "x_min, x_max = min(plt.xticks()[0]), max(plt.xticks()[0])\n",
    "m, s = stats.norm.fit((X, Y))\n",
    "pg = stats.norm.pdf(np.linspace(0, 255, len(X)), m, s)\n",
    "plt.plot(np.linspace(0, 255, len(X)), pg, label='norm', color='black')\n",
    "plt.plot(X, Y, color='black', linewidth=4)\n",
    "plt.plot(np.linspace(0, 255, len(X)), pg, label='norm')\n",
    "ag, bg, cg = stats.gamma.fit((X, Y))\n",
    "kgamma = stats.gamma.pdf(np.linspace(0, 255, len(X)), ag, bg, cg)\n",
    "plt.plot(np.linspace(0, 255, len(X)), kgamma, label='gamma', color='blue')\n",
    "ab, bb, cb, db = stats.beta.fit((X, Y))\n",
    "kbeta = stats.beta.pdf(np.linspace(0, 255, len(X)), ab, bb, cb, db)\n",
    "plt.plot(np.linspace(0, 255, len(X)), kbeta, label='beta', color='red')\n",
    "plt.show()"
   ]
  },
  {
   "cell_type": "code",
   "execution_count": null,
   "metadata": {},
   "outputs": [],
   "source": []
  }
 ],
 "metadata": {
  "kernelspec": {
   "display_name": "Python 3",
   "language": "python",
   "name": "python3"
  },
  "language_info": {
   "codemirror_mode": {
    "name": "ipython",
    "version": 3
   },
   "file_extension": ".py",
   "mimetype": "text/x-python",
   "name": "python",
   "nbconvert_exporter": "python",
   "pygments_lexer": "ipython3",
   "version": "3.8.3"
  }
 },
 "nbformat": 4,
 "nbformat_minor": 4
}
