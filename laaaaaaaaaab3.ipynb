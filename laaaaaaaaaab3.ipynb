{
 "cells": [
  {
   "cell_type": "code",
   "execution_count": 2,
   "metadata": {
    "scrolled": true
   },
   "outputs": [],
   "source": [
    "import os\n",
    "\n",
    "import numpy as np\n",
    "import scipy as sp\n",
    "from scipy import misc, stats\n",
    "import pandas as pd\n",
    "from PIL import Image\n",
    "import matplotlib.pyplot as plt\n",
    "#import plotly.plotly as py\n",
    "import seaborn as sns\n",
    "from pandas import DataFrame, Series\n",
    "import warnings\n",
    "warnings.filterwarnings('ignore')\n",
    "\n",
    "\n",
    "%matplotlib inline"
   ]
  },
  {
   "cell_type": "code",
   "execution_count": 3,
   "metadata": {},
   "outputs": [],
   "source": [
    "MAIN_TAG = 'explore'\n",
    "DIRNAME_TAGS = 'Q:/mirflickr25k/mirflickr/meta/tags'\n",
    "DIRNAME_IMAGES = 'Q:/mirflickr25k/mirflickr/'\n",
    "\n",
    "COLOR = {'red': 0,\n",
    "         'green': 1,\n",
    "         'blue': 2}"
   ]
  },
  {
   "cell_type": "code",
   "execution_count": 4,
   "metadata": {
    "scrolled": false
   },
   "outputs": [
    {
     "name": "stdout",
     "output_type": "stream",
     "text": [
      "> loaded im7478.jpg (333, 500, 3)\n",
      "> loaded im11006.jpg (375, 500, 3)\n",
      "> loaded im20309.jpg (500, 443, 3)\n",
      "> loaded im19560.jpg (500, 333, 3)\n",
      "> loaded im6066.jpg (500, 400, 3)\n",
      "> loaded im24927.jpg (371, 500, 3)\n",
      "> loaded im22829.jpg (500, 333, 3)\n",
      "> loaded im24348.jpg (333, 500, 3)\n",
      "> loaded im8541.jpg (348, 500, 3)\n",
      "> loaded im18373.jpg (375, 500, 3)\n",
      "> loaded im8191.jpg (439, 500, 3)\n",
      "> loaded im1438.jpg (375, 500, 3)\n",
      "> loaded im15997.jpg (125, 500, 3)\n",
      "> loaded im14684.jpg (500, 346, 3)\n",
      "> loaded im9842.jpg (375, 500, 3)\n",
      "> loaded im22678.jpg (392, 500, 3)\n",
      "> loaded im11170.jpg (375, 500, 3)\n",
      "> loaded im10621.jpg (315, 500, 3)\n",
      "> loaded im7168.jpg (333, 500, 3)\n",
      "> loaded im20254.jpg (500, 500, 3)\n",
      "> loaded im13848.jpg (333, 500, 3)\n",
      "> loaded im14729.jpg (500, 333, 3)\n",
      "> loaded im19807.jpg (500, 378, 3)\n",
      "> loaded im9342.jpg (500, 499, 3)\n",
      "> loaded im15409.jpg (335, 500, 3)\n",
      "> loaded im653.jpg (339, 500, 3)\n",
      "> loaded im15850.jpg (375, 500, 3)\n",
      "> loaded im18621.jpg (375, 500, 3)\n",
      "> loaded im1462.jpg (337, 500, 3)\n",
      "> loaded im403.jpg (334, 500, 3)\n",
      "> loaded im13340.jpg (334, 500, 3)\n",
      "> loaded im21716.jpg (333, 500, 3)\n",
      "> loaded im23174.jpg (217, 500, 3)\n",
      "> loaded im1358.jpg (421, 500, 3)\n",
      "> loaded im9881.jpg (333, 500, 3)\n",
      "> loaded im15409.jpg (335, 500, 3)\n",
      "> loaded im20054.jpg (500, 500, 3)\n",
      "> loaded im6361.jpg (500, 333, 3)\n",
      "> loaded im3725.jpg (333, 500, 3)\n",
      "> loaded im23223.jpg (500, 500, 3)\n",
      "> loaded im5057.jpg (375, 500, 3)\n",
      "> loaded im24042.jpg (500, 333, 3)\n",
      "> loaded im2606.jpg (500, 499, 3)\n",
      "> loaded im17287.jpg (333, 500, 3)\n",
      "> loaded im296.jpg (333, 500, 3)\n",
      "> loaded im15636.jpg (500, 499, 3)\n",
      "> loaded im21168.jpg (333, 500, 3)\n",
      "> loaded im16986.jpg (375, 500, 3)\n",
      "> loaded im1368.jpg (500, 500, 3)\n",
      "> loaded im15868.jpg (375, 500, 3)\n",
      "> loaded im541.jpg (375, 500, 3)\n",
      "> loaded im4778.jpg (375, 500, 3)\n",
      "> loaded im8589.jpg (500, 333, 3)\n",
      "> loaded im13032.jpg (272, 500, 3)\n",
      "> loaded im2511.jpg (375, 500, 3)\n",
      "> loaded im19509.jpg (335, 500, 3)\n",
      "> loaded im2175.jpg (500, 356, 3)\n",
      "> loaded im22476.jpg (500, 500, 3)\n",
      "> loaded im22555.jpg (375, 500, 3)\n",
      "> loaded im21548.jpg (375, 500, 3)\n",
      "> loaded im23641.jpg (333, 500, 3)\n",
      "> loaded im9898.jpg (354, 500, 3)\n",
      "> loaded im22565.jpg (500, 454, 3)\n",
      "> loaded im24046.jpg (375, 500, 3)\n",
      "> loaded im2808.jpg (500, 374, 3)\n",
      "> loaded im14410.jpg (500, 333, 3)\n",
      "> loaded im13856.jpg (500, 334, 3)\n",
      "> loaded im18336.jpg (500, 333, 3)\n",
      "> loaded im23174.jpg (217, 500, 3)\n",
      "> loaded im14826.jpg (375, 500, 3)\n",
      "> loaded im15345.jpg (375, 500, 3)\n",
      "> loaded im16682.jpg (500, 333, 3)\n",
      "> loaded im18127.jpg (396, 500, 3)\n",
      "> loaded im16407.jpg (332, 500, 3)\n",
      "> loaded im17947.jpg (500, 333, 3)\n",
      "> loaded im17688.jpg (500, 357, 3)\n",
      "> loaded im458.jpg (375, 500, 3)\n",
      "> loaded im15237.jpg (500, 417, 3)\n",
      "> loaded im16355.jpg (333, 500, 3)\n",
      "> loaded im11757.jpg (333, 500, 3)\n",
      "> loaded im14366.jpg (375, 500, 3)\n",
      "> loaded im4784.jpg (375, 500, 3)\n",
      "> loaded im8672.jpg (323, 500, 3)\n",
      "> loaded im14739.jpg (333, 500, 3)\n",
      "> loaded im24797.jpg (500, 480, 3)\n",
      "> loaded im22444.jpg (333, 500, 3)\n",
      "> loaded im12902.jpg (375, 500, 3)\n",
      "> loaded im22434.jpg (333, 500, 3)\n",
      "> loaded im14034.jpg (375, 500, 3)\n",
      "> loaded im15220.jpg (334, 500, 3)\n",
      "> loaded im16187.jpg (375, 500, 3)\n",
      "> loaded im11952.jpg (500, 357, 3)\n",
      "> loaded im15886.jpg (500, 335, 3)\n",
      "> loaded im23011.jpg (375, 500, 3)\n",
      "> loaded im3848.jpg (333, 500, 3)\n",
      "> loaded im24536.jpg (361, 500, 3)\n",
      "> loaded im16316.jpg (375, 500, 3)\n",
      "> loaded im23776.jpg (333, 500, 3)\n",
      "> loaded im10176.jpg (500, 324, 3)\n",
      "> loaded im10445.jpg (500, 333, 3)\n",
      "> loaded im17114.jpg (333, 500, 3)\n",
      "> loaded im17834.jpg (394, 500, 3)\n",
      "> loaded im21311.jpg (333, 500, 3)\n",
      "> loaded im8965.jpg (500, 375, 3)\n",
      "> loaded im1656.jpg (375, 500, 3)\n",
      "> loaded im24358.jpg (335, 500, 3)\n",
      "> loaded im6894.jpg (333, 500, 3)\n",
      "> loaded im19001.jpg (333, 500, 3)\n",
      "> loaded im22738.jpg (375, 500, 3)\n",
      "> loaded im15288.jpg (342, 500, 3)\n",
      "> loaded im12495.jpg (333, 500, 3)\n",
      "> loaded im184.jpg (334, 500, 3)\n",
      "> loaded im3045.jpg (334, 500, 3)\n",
      "> loaded im3037.jpg (375, 500, 3)\n",
      "> loaded im5620.jpg (342, 500, 3)\n",
      "> loaded im18620.jpg (480, 350, 3)\n",
      "> loaded im21009.jpg (333, 500, 3)\n",
      "> loaded im5541.jpg (334, 500, 3)\n",
      "> loaded im12736.jpg (500, 357, 3)\n",
      "> loaded im24805.jpg (477, 500, 3)\n",
      "> loaded im6827.jpg (493, 500, 3)\n",
      "> loaded im15817.jpg (500, 333, 3)\n",
      "> loaded im16108.jpg (500, 375, 3)\n",
      "> loaded im15727.jpg (375, 500, 3)\n",
      "> loaded im19549.jpg (333, 500, 3)\n",
      "> loaded im13765.jpg (375, 500, 3)\n",
      "> loaded im2218.jpg (375, 500, 3)\n",
      "> loaded im23542.jpg (500, 333, 3)\n",
      "> loaded im23833.jpg (375, 500, 3)\n",
      "> loaded im12669.jpg (500, 375, 3)\n",
      "> loaded im2825.jpg (464, 500, 3)\n",
      "> loaded im24708.jpg (500, 375, 3)\n",
      "> loaded im12541.jpg (498, 500, 3)\n",
      "> loaded im4107.jpg (500, 327, 3)\n",
      "> loaded im11738.jpg (500, 500, 3)\n",
      "> loaded im20351.jpg (500, 500, 3)\n",
      "> loaded im12990.jpg (375, 500, 3)\n",
      "> loaded im4979.jpg (500, 333, 3)\n",
      "> loaded im15247.jpg (500, 318, 3)\n",
      "> loaded im5847.jpg (400, 500, 3)\n",
      "> loaded im22585.jpg (500, 375, 3)\n",
      "> loaded im22862.jpg (333, 500, 3)\n",
      "> loaded im10885.jpg (375, 500, 3)\n",
      "> loaded im10766.jpg (335, 500, 3)\n",
      "> loaded im13806.jpg (375, 500, 3)\n",
      "> loaded im3140.jpg (334, 500, 3)\n",
      "> loaded im23849.jpg (333, 500, 3)\n",
      "> loaded im19210.jpg (335, 500, 3)\n",
      "> loaded im10571.jpg (83, 500, 3)\n",
      "> loaded im14235.jpg (375, 500, 3)\n",
      "> loaded im12523.jpg (354, 500, 3)\n",
      "> loaded im7165.jpg (317, 500, 3)\n",
      "> loaded im20377.jpg (500, 332, 3)\n",
      "> loaded im17184.jpg (331, 500, 3)\n",
      "> loaded im17020.jpg (333, 500, 3)\n",
      "> loaded im20888.jpg (500, 375, 3)\n",
      "> loaded im18561.jpg (333, 500, 3)\n",
      "> loaded im5050.jpg (333, 500, 3)\n",
      "> loaded im7997.jpg (375, 500, 3)\n",
      "> loaded im8310.jpg (334, 500, 3)\n",
      "> loaded im15338.jpg (333, 500, 3)\n",
      "> loaded im9129.jpg (333, 500, 3)\n",
      "> loaded im11200.jpg (334, 500, 3)\n",
      "> loaded im14500.jpg (375, 500, 3)\n",
      "> loaded im7040.jpg (500, 333, 3)\n",
      "> loaded im21226.jpg (500, 334, 3)\n",
      "> loaded im10695.jpg (500, 326, 3)\n",
      "> loaded im19449.jpg (334, 500, 3)\n",
      "> loaded im3618.jpg (500, 375, 3)\n",
      "> loaded im8369.jpg (341, 500, 3)\n",
      "> loaded im11235.jpg (407, 500, 3)\n",
      "> loaded im24844.jpg (334, 500, 3)\n",
      "> loaded im167.jpg (350, 500, 3)\n",
      "> loaded im5855.jpg (500, 352, 3)\n",
      "> loaded im19123.jpg (500, 334, 3)\n",
      "> loaded im3177.jpg (328, 500, 3)\n",
      "> loaded im15228.jpg (375, 500, 3)\n",
      "> loaded im2319.jpg (375, 500, 3)\n",
      "> loaded im1029.jpg (369, 500, 3)\n",
      "> loaded im20189.jpg (500, 374, 3)\n",
      "> loaded im19160.jpg (385, 500, 3)\n",
      "> loaded im1692.jpg (499, 500, 3)\n",
      "> loaded im16464.jpg (500, 500, 3)\n",
      "> loaded im19033.jpg (344, 500, 3)\n",
      "> loaded im24343.jpg (333, 500, 3)\n",
      "> loaded im23988.jpg (334, 500, 3)\n",
      "> loaded im15294.jpg (333, 500, 3)\n",
      "> loaded im8513.jpg (247, 500, 3)\n",
      "> loaded im13496.jpg (332, 500, 3)\n",
      "> loaded im24727.jpg (375, 500, 3)\n",
      "> loaded im13696.jpg (333, 500, 3)\n",
      "> loaded im13383.jpg (500, 381, 3)\n",
      "> loaded im21591.jpg (500, 353, 3)\n",
      "> loaded im1067.jpg (266, 400, 3)\n",
      "> loaded im15432.jpg (500, 333, 3)\n",
      "> loaded im7721.jpg (375, 500, 3)\n",
      "> loaded im20858.jpg (281, 500, 3)\n",
      "> loaded im13960.jpg (375, 500, 3)\n",
      "> loaded im11516.jpg (333, 500, 3)\n",
      "> loaded im20201.jpg (333, 500, 3)\n",
      "> loaded im15398.jpg (374, 500, 3)\n",
      "> loaded im20460.jpg (500, 341, 3)\n",
      "> loaded im10856.jpg (500, 375, 3)\n",
      "> loaded im23836.jpg (375, 500, 3)\n",
      "> loaded im290.jpg (500, 500, 3)\n",
      "> loaded im24995.jpg (500, 460, 3)\n",
      "> loaded im765.jpg (500, 326, 3)\n",
      "> loaded im19953.jpg (353, 500, 3)\n",
      "> loaded im11034.jpg (411, 500, 3)\n",
      "> loaded im10151.jpg (375, 500, 3)\n",
      "> loaded im10855.jpg (289, 500, 3)\n",
      "> loaded im3898.jpg (333, 500, 3)\n",
      "> loaded im20671.jpg (500, 333, 3)\n",
      "> loaded im1664.jpg (500, 342, 3)\n",
      "> loaded im14685.jpg (500, 469, 3)\n",
      "> loaded im24155.jpg (343, 500, 3)\n",
      "> loaded im857.jpg (500, 331, 3)\n",
      "> loaded im21849.jpg (370, 500, 3)\n",
      "> loaded im12343.jpg (500, 375, 3)\n",
      "> loaded im16106.jpg (334, 500, 3)\n",
      "> loaded im14186.jpg (400, 500, 3)\n",
      "> loaded im18176.jpg (414, 500, 3)\n",
      "> loaded im2668.jpg (333, 500, 3)\n",
      "> loaded im9801.jpg (500, 333, 3)\n",
      "> loaded im13683.jpg (500, 487, 3)\n",
      "> loaded im21791.jpg (333, 500, 3)\n",
      "> loaded im6719.jpg (333, 500, 3)\n",
      "> loaded im23028.jpg (375, 500, 3)\n",
      "> loaded im17037.jpg (500, 320, 3)\n",
      "> loaded im24964.jpg (498, 500, 3)\n",
      "> loaded im4965.jpg (375, 500, 3)\n",
      "> loaded im5171.jpg (375, 500, 3)\n",
      "> loaded im19956.jpg (375, 500, 3)\n",
      "> loaded im15850.jpg (375, 500, 3)\n",
      "> loaded im8427.jpg (334, 500, 3)\n",
      "> loaded im16559.jpg (500, 357, 3)\n",
      "> loaded im4587.jpg (467, 500, 3)\n",
      "> loaded im16668.jpg (247, 500, 3)\n",
      "> loaded im4294.jpg (376, 500, 3)\n",
      "> loaded im15860.jpg (333, 500, 3)\n",
      "> loaded im12886.jpg (500, 469, 3)\n",
      "> loaded im904.jpg (375, 500, 3)\n"
     ]
    },
    {
     "name": "stdout",
     "output_type": "stream",
     "text": [
      "> loaded im4588.jpg (375, 500, 3)\n",
      "> loaded im890.jpg (279, 500, 3)\n",
      "> loaded im19880.jpg (500, 500, 3)\n",
      "> loaded im21936.jpg (333, 500, 3)\n",
      "> loaded im12688.jpg (375, 500, 3)\n",
      "> loaded im10732.jpg (333, 500, 3)\n",
      "> loaded im1095.jpg (500, 333, 3)\n",
      "> loaded im10185.jpg (250, 500, 3)\n"
     ]
    }
   ],
   "source": [
    "from os import listdir\n",
    "from matplotlib import image\n",
    "import random\n",
    "# load all images in a directory\n",
    "np.random.RandomState(1)\n",
    "random_indexes = np.random.choice(range(25000), 250)\n",
    "loaded_images = list()\n",
    "image_names = list()\n",
    "for i in range(250):\n",
    "\t# load image\n",
    "\trandName = random_indexes[i]\n",
    "\timage_names.append(randName)\n",
    "\tfilename = 'im' + str(randName) + '.jpg'\n",
    "\timg_data = image.imread('Q:/mirflickr25k/mirflickr/' + filename)\n",
    "\t# store loaded image\n",
    "\tloaded_images.append(img_data)\n",
    "\tprint('> loaded %s %s' % (filename, img_data.shape))"
   ]
  },
  {
   "cell_type": "code",
   "execution_count": 5,
   "metadata": {
    "scrolled": false
   },
   "outputs": [
    {
     "data": {
      "text/plain": [
       "250"
      ]
     },
     "execution_count": 5,
     "metadata": {},
     "output_type": "execute_result"
    }
   ],
   "source": [
    "len(image_names)"
   ]
  },
  {
   "cell_type": "code",
   "execution_count": 6,
   "metadata": {},
   "outputs": [],
   "source": [
    "import codecs\n",
    "\n",
    "Y = pd.Series()\n",
    "for name in image_names:\n",
    "    with codecs.open(os.path.join(DIRNAME_TAGS, 'tags%d.txt' % (name,)), \"r\", \"utf_8_sig\") as file:\n",
    "        set_tags = set(tag.strip() for tag in file.readlines())\n",
    "        #print('tags%d.txt' % (name,), '  ',set_tags)\n",
    "        Y.at[name] = int(MAIN_TAG in set_tags)\n",
    "Y = pd.DataFrame(Y, columns=['target'])"
   ]
  },
  {
   "cell_type": "code",
   "execution_count": 7,
   "metadata": {},
   "outputs": [
    {
     "data": {
      "text/plain": [
       "0    239\n",
       "1      8\n",
       "Name: target, dtype: int64"
      ]
     },
     "execution_count": 7,
     "metadata": {},
     "output_type": "execute_result"
    }
   ],
   "source": [
    "Y['target'].value_counts()"
   ]
  },
  {
   "cell_type": "code",
   "execution_count": 8,
   "metadata": {},
   "outputs": [
    {
     "data": {
      "text/html": [
       "<div>\n",
       "<style scoped>\n",
       "    .dataframe tbody tr th:only-of-type {\n",
       "        vertical-align: middle;\n",
       "    }\n",
       "\n",
       "    .dataframe tbody tr th {\n",
       "        vertical-align: top;\n",
       "    }\n",
       "\n",
       "    .dataframe thead th {\n",
       "        text-align: right;\n",
       "    }\n",
       "</style>\n",
       "<table border=\"1\" class=\"dataframe\">\n",
       "  <thead>\n",
       "    <tr style=\"text-align: right;\">\n",
       "      <th></th>\n",
       "      <th>target</th>\n",
       "    </tr>\n",
       "  </thead>\n",
       "  <tbody>\n",
       "    <tr>\n",
       "      <th>7478</th>\n",
       "      <td>0</td>\n",
       "    </tr>\n",
       "    <tr>\n",
       "      <th>11006</th>\n",
       "      <td>0</td>\n",
       "    </tr>\n",
       "    <tr>\n",
       "      <th>20309</th>\n",
       "      <td>0</td>\n",
       "    </tr>\n",
       "    <tr>\n",
       "      <th>19560</th>\n",
       "      <td>0</td>\n",
       "    </tr>\n",
       "    <tr>\n",
       "      <th>6066</th>\n",
       "      <td>0</td>\n",
       "    </tr>\n",
       "  </tbody>\n",
       "</table>\n",
       "</div>"
      ],
      "text/plain": [
       "       target\n",
       "7478        0\n",
       "11006       0\n",
       "20309       0\n",
       "19560       0\n",
       "6066        0"
      ]
     },
     "execution_count": 8,
     "metadata": {},
     "output_type": "execute_result"
    }
   ],
   "source": [
    "Y.head()"
   ]
  },
  {
   "cell_type": "markdown",
   "metadata": {},
   "source": [
    "## Static data"
   ]
  },
  {
   "cell_type": "code",
   "execution_count": 9,
   "metadata": {},
   "outputs": [],
   "source": [
    "data_static = DataFrame()\n",
    "num = 0\n",
    "d = []\n",
    "for image_name in image_names:\n",
    "    image = np.array(Image.open(os.path.join(DIRNAME_IMAGES, 'im%d.jpg' % (image_name))))\n",
    "    data = []\n",
    "    for name, num in COLOR.items():\n",
    "        a = image[:, :, num].ravel()\n",
    "        data.extend([np.mean(a), np.var(a), sp.stats.skew(a), sp.stats.kurtosis(a)])\n",
    "    d.append([image_name, *data])\n",
    "    \n",
    "\n",
    "data_static = pd.DataFrame.from_records(d)\n",
    "data_static = data_static.rename(columns={0: 'name'}).set_index('name')"
   ]
  },
  {
   "cell_type": "code",
   "execution_count": 10,
   "metadata": {},
   "outputs": [
    {
     "data": {
      "text/html": [
       "<div>\n",
       "<style scoped>\n",
       "    .dataframe tbody tr th:only-of-type {\n",
       "        vertical-align: middle;\n",
       "    }\n",
       "\n",
       "    .dataframe tbody tr th {\n",
       "        vertical-align: top;\n",
       "    }\n",
       "\n",
       "    .dataframe thead th {\n",
       "        text-align: right;\n",
       "    }\n",
       "</style>\n",
       "<table border=\"1\" class=\"dataframe\">\n",
       "  <thead>\n",
       "    <tr style=\"text-align: right;\">\n",
       "      <th></th>\n",
       "      <th>1</th>\n",
       "      <th>2</th>\n",
       "      <th>3</th>\n",
       "      <th>4</th>\n",
       "      <th>5</th>\n",
       "      <th>6</th>\n",
       "      <th>7</th>\n",
       "      <th>8</th>\n",
       "      <th>9</th>\n",
       "      <th>10</th>\n",
       "      <th>11</th>\n",
       "      <th>12</th>\n",
       "    </tr>\n",
       "    <tr>\n",
       "      <th>name</th>\n",
       "      <th></th>\n",
       "      <th></th>\n",
       "      <th></th>\n",
       "      <th></th>\n",
       "      <th></th>\n",
       "      <th></th>\n",
       "      <th></th>\n",
       "      <th></th>\n",
       "      <th></th>\n",
       "      <th></th>\n",
       "      <th></th>\n",
       "      <th></th>\n",
       "    </tr>\n",
       "  </thead>\n",
       "  <tbody>\n",
       "    <tr>\n",
       "      <th>7478</th>\n",
       "      <td>89.576613</td>\n",
       "      <td>4675.503482</td>\n",
       "      <td>0.615343</td>\n",
       "      <td>-0.582947</td>\n",
       "      <td>86.831141</td>\n",
       "      <td>4267.924466</td>\n",
       "      <td>0.900903</td>\n",
       "      <td>-0.127490</td>\n",
       "      <td>68.999141</td>\n",
       "      <td>4722.331249</td>\n",
       "      <td>1.156540</td>\n",
       "      <td>0.493431</td>\n",
       "    </tr>\n",
       "    <tr>\n",
       "      <th>11006</th>\n",
       "      <td>112.868336</td>\n",
       "      <td>1026.288985</td>\n",
       "      <td>-0.777766</td>\n",
       "      <td>1.372925</td>\n",
       "      <td>131.197728</td>\n",
       "      <td>921.423186</td>\n",
       "      <td>-0.648102</td>\n",
       "      <td>2.730897</td>\n",
       "      <td>115.564848</td>\n",
       "      <td>1438.315128</td>\n",
       "      <td>-0.581081</td>\n",
       "      <td>1.466601</td>\n",
       "    </tr>\n",
       "    <tr>\n",
       "      <th>20309</th>\n",
       "      <td>176.971088</td>\n",
       "      <td>3816.737331</td>\n",
       "      <td>-1.097455</td>\n",
       "      <td>-0.075130</td>\n",
       "      <td>170.425359</td>\n",
       "      <td>3963.634821</td>\n",
       "      <td>-0.975969</td>\n",
       "      <td>-0.195976</td>\n",
       "      <td>165.393603</td>\n",
       "      <td>3644.093452</td>\n",
       "      <td>-0.733318</td>\n",
       "      <td>-0.462390</td>\n",
       "    </tr>\n",
       "    <tr>\n",
       "      <th>19560</th>\n",
       "      <td>133.059682</td>\n",
       "      <td>3088.026450</td>\n",
       "      <td>0.028407</td>\n",
       "      <td>-0.484005</td>\n",
       "      <td>133.512775</td>\n",
       "      <td>3041.392972</td>\n",
       "      <td>-0.049931</td>\n",
       "      <td>-0.461843</td>\n",
       "      <td>121.570607</td>\n",
       "      <td>3396.521856</td>\n",
       "      <td>0.263090</td>\n",
       "      <td>-0.581437</td>\n",
       "    </tr>\n",
       "    <tr>\n",
       "      <th>6066</th>\n",
       "      <td>97.218415</td>\n",
       "      <td>5553.446210</td>\n",
       "      <td>0.666253</td>\n",
       "      <td>-0.819847</td>\n",
       "      <td>83.859260</td>\n",
       "      <td>3262.297402</td>\n",
       "      <td>0.436944</td>\n",
       "      <td>-0.875699</td>\n",
       "      <td>84.935945</td>\n",
       "      <td>2393.547242</td>\n",
       "      <td>0.194050</td>\n",
       "      <td>-0.894005</td>\n",
       "    </tr>\n",
       "  </tbody>\n",
       "</table>\n",
       "</div>"
      ],
      "text/plain": [
       "               1            2         3         4           5            6   \\\n",
       "name                                                                          \n",
       "7478    89.576613  4675.503482  0.615343 -0.582947   86.831141  4267.924466   \n",
       "11006  112.868336  1026.288985 -0.777766  1.372925  131.197728   921.423186   \n",
       "20309  176.971088  3816.737331 -1.097455 -0.075130  170.425359  3963.634821   \n",
       "19560  133.059682  3088.026450  0.028407 -0.484005  133.512775  3041.392972   \n",
       "6066    97.218415  5553.446210  0.666253 -0.819847   83.859260  3262.297402   \n",
       "\n",
       "             7         8           9            10        11        12  \n",
       "name                                                                    \n",
       "7478   0.900903 -0.127490   68.999141  4722.331249  1.156540  0.493431  \n",
       "11006 -0.648102  2.730897  115.564848  1438.315128 -0.581081  1.466601  \n",
       "20309 -0.975969 -0.195976  165.393603  3644.093452 -0.733318 -0.462390  \n",
       "19560 -0.049931 -0.461843  121.570607  3396.521856  0.263090 -0.581437  \n",
       "6066   0.436944 -0.875699   84.935945  2393.547242  0.194050 -0.894005  "
      ]
     },
     "execution_count": 10,
     "metadata": {},
     "output_type": "execute_result"
    }
   ],
   "source": [
    "data_static.head()"
   ]
  },
  {
   "cell_type": "code",
   "execution_count": 11,
   "metadata": {
    "scrolled": true
   },
   "outputs": [
    {
     "data": {
      "text/plain": [
       "(250, 12)"
      ]
     },
     "execution_count": 11,
     "metadata": {},
     "output_type": "execute_result"
    }
   ],
   "source": [
    "data_static.shape"
   ]
  },
  {
   "cell_type": "markdown",
   "metadata": {},
   "source": [
    "## Learning"
   ]
  },
  {
   "cell_type": "code",
   "execution_count": 12,
   "metadata": {},
   "outputs": [],
   "source": [
    "import itertools\n",
    "\n",
    "from sklearn.linear_model import LinearRegression, LogisticRegression\n",
    "from sklearn.svm import SVC\n",
    "from sklearn.model_selection import KFold, cross_val_score, train_test_split\n",
    "from sklearn.metrics import accuracy_score, recall_score, confusion_matrix"
   ]
  },
  {
   "cell_type": "code",
   "execution_count": 13,
   "metadata": {},
   "outputs": [],
   "source": [
    "N = 12"
   ]
  },
  {
   "cell_type": "code",
   "execution_count": 14,
   "metadata": {},
   "outputs": [],
   "source": [
    "def plot_confusion_matrix(cm, classes,\n",
    "                          normalize=True,\n",
    "                          title='Confusion matrix',\n",
    "                          cmap=plt.cm.Blues):\n",
    "    \"\"\"\n",
    "    This function prints and plots the confusion matrix.\n",
    "    Normalization can be applied by setting `normalize=True`.\n",
    "    \"\"\"\n",
    "    plt.imshow(cm, interpolation='nearest', cmap=cmap)\n",
    "    plt.title(title)\n",
    "    plt.colorbar()\n",
    "    tick_marks = np.arange(len(classes))\n",
    "    plt.xticks(tick_marks, classes)\n",
    "    plt.yticks(tick_marks, classes)\n",
    "\n",
    "    if normalize:\n",
    "        cm = cm.astype('float') / cm.sum(axis=1)[:, np.newaxis]\n",
    "        print(\"Normalized confusion matrix\")\n",
    "    else:\n",
    "        print('Confusion matrix, without normalization')\n",
    "\n",
    "    print(cm)\n",
    "\n",
    "    thresh = cm.max() / 2.\n",
    "    for i, j in itertools.product(range(cm.shape[0]), range(cm.shape[1])):\n",
    "        plt.text(j, i, round(cm[i, j], 3),\n",
    "                 horizontalalignment=\"center\",\n",
    "                 color=\"white\" if cm[i, j] > thresh else \"black\")\n",
    "\n",
    "    plt.tight_layout()\n",
    "    plt.ylabel('True label')\n",
    "    plt.xlabel('Predicted label')\n",
    "\n",
    "font = {'size' : 15}\n",
    "\n",
    "plt.rc('font', **font)"
   ]
  },
  {
   "cell_type": "markdown",
   "metadata": {},
   "source": [
    "## Static "
   ]
  },
  {
   "cell_type": "code",
   "execution_count": 15,
   "metadata": {},
   "outputs": [],
   "source": [
    "X = data_static.copy()\n",
    "\n",
    "df = Y.join(X, how='inner')\n",
    "df = df.drop_duplicates()\n",
    "\n",
    "y = df['target']\n",
    "X = df.drop('target', axis=1)"
   ]
  },
  {
   "cell_type": "code",
   "execution_count": 16,
   "metadata": {},
   "outputs": [
    {
     "name": "stdout",
     "output_type": "stream",
     "text": [
      "Normalized confusion matrix\n",
      "[[0.97774687 0.02225313]\n",
      " [0.96       0.04      ]]\n"
     ]
    },
    {
     "data": {
      "image/png": "[encoded data removed]",
      "text/plain": [
       "<Figure size 288x216 with 2 Axes>"
      ]
     },
     "metadata": {
      "needs_background": "light"
     },
     "output_type": "display_data"
    },
    {
     "name": "stdout",
     "output_type": "stream",
     "text": [
      "Normalized confusion matrix\n",
      "[[0. 1.]\n",
      " [0. 1.]]\n"
     ]
    },
    {
     "data": {
      "image/png": "[encoded data removed]",
      "text/plain": [
       "<Figure size 288x216 with 2 Axes>"
      ]
     },
     "metadata": {
      "needs_background": "light"
     },
     "output_type": "display_data"
    },
    {
     "name": "stdout",
     "output_type": "stream",
     "text": [
      "Normalized confusion matrix\n",
      "[[1. 0.]\n",
      " [1. 0.]]\n"
     ]
    },
    {
     "data": {
      "image/png": "[encoded data removed]",
      "text/plain": [
       "<Figure size 288x216 with 2 Axes>"
      ]
     },
     "metadata": {
      "needs_background": "light"
     },
     "output_type": "display_data"
    }
   ],
   "source": [
    "for c in (LogisticRegression, LinearRegression, SVC):\n",
    "    cls = c()\n",
    "    cnf_matrix = []\n",
    "    for i in range(N):\n",
    "        X_train, X_test, y_train, y_test = train_test_split(X, y, test_size=0.5)\n",
    "        cls.fit(X_train, y_train)\n",
    "        y_predict = cls.predict(X_test)\n",
    "        cnf_matrix.append(confusion_matrix(y_test, y_predict.astype(bool).astype(int)))\n",
    "    cnf_matrix = np.mean(np.array(cnf_matrix), axis=0)\n",
    "    plt.figure(figsize=(4, 3))\n",
    "    plot_confusion_matrix(cnf_matrix, classes=['0', '1'],\n",
    "                          title=c.__name__)\n",
    "    plt.savefig(\"static_\" + c.__name__ + \".png\")\n",
    "    plt.show()\n",
    "    #print(cnf_matrix)"
   ]
  },
  {
   "cell_type": "markdown",
   "metadata": {},
   "source": [
    "## CCPEV"
   ]
  },
  {
   "cell_type": "code",
   "execution_count": 17,
   "metadata": {},
   "outputs": [
    {
     "name": "stdout",
     "output_type": "stream",
     "text": [
      "Normalized confusion matrix\n",
      "[[0.98615917 0.01384083]\n",
      " [1.         0.        ]]\n"
     ]
    },
    {
     "data": {
      "image/png": "[encoded data removed]",
      "text/plain": [
       "<Figure size 288x216 with 2 Axes>"
      ]
     },
     "metadata": {
      "needs_background": "light"
     },
     "output_type": "display_data"
    },
    {
     "name": "stdout",
     "output_type": "stream",
     "text": [
      "Normalized confusion matrix\n",
      "[[0. 1.]\n",
      " [0. 1.]]\n"
     ]
    },
    {
     "data": {
      "image/png": "[encoded data removed]",
      "text/plain": [
       "<Figure size 288x216 with 2 Axes>"
      ]
     },
     "metadata": {
      "needs_background": "light"
     },
     "output_type": "display_data"
    },
    {
     "name": "stdout",
     "output_type": "stream",
     "text": [
      "Normalized confusion matrix\n",
      "[[1. 0.]\n",
      " [1. 0.]]\n"
     ]
    },
    {
     "data": {
      "image/png": "[encoded data removed]",
      "text/plain": [
       "<Figure size 288x216 with 2 Axes>"
      ]
     },
     "metadata": {
      "needs_background": "light"
     },
     "output_type": "display_data"
    }
   ],
   "source": [
    "for c in (LogisticRegression, LinearRegression, SVC):\n",
    "    cnf_matrix = []\n",
    "    for i in range(N):\n",
    "        X_train, X_test, y_train, y_test = train_test_split(X, y, test_size=0.5)\n",
    "        cls = c()\n",
    "        cls.fit(X_train, y_train)\n",
    "        y_predict = cls.predict(X_test)\n",
    "        cnf_matrix.append(confusion_matrix(y_test, y_predict.astype(bool).astype(int)))\n",
    "    #print(confusion_matrix(y_test, y_predict.astype(int)))\n",
    "    cnf_matrix = np.mean(np.array(cnf_matrix), axis=0)\n",
    "    plt.figure(figsize=(4, 3))\n",
    "    plot_confusion_matrix(cnf_matrix, classes=['0', '1'],\n",
    "                              title=c.__name__)\n",
    "    plt.savefig(\"ccpev_\" + c.__name__ + \".png\")\n",
    "    plt.show()\n",
    "    #print(cnf_matrix)"
   ]
  },
  {
   "cell_type": "markdown",
   "metadata": {},
   "source": [
    "# SPAM"
   ]
  },
  {
   "cell_type": "code",
   "execution_count": 18,
   "metadata": {},
   "outputs": [
    {
     "name": "stdout",
     "output_type": "stream",
     "text": [
      "Normalized confusion matrix\n",
      "[[0.99861304 0.00138696]\n",
      " [1.         0.        ]]\n"
     ]
    },
    {
     "data": {
      "image/png": "[encoded data removed]",
      "text/plain": [
       "<Figure size 288x216 with 2 Axes>"
      ]
     },
     "metadata": {
      "needs_background": "light"
     },
     "output_type": "display_data"
    },
    {
     "name": "stdout",
     "output_type": "stream",
     "text": [
      "[[120.           0.16666667]\n",
      " [  3.83333333   0.        ]]\n",
      "Normalized confusion matrix\n",
      "[[0.99791377 0.00208623]\n",
      " [1.         0.        ]]\n"
     ]
    },
    {
     "data": {
      "image/png": "[encoded data removed]",
      "text/plain": [
       "<Figure size 288x216 with 2 Axes>"
      ]
     },
     "metadata": {
      "needs_background": "light"
     },
     "output_type": "display_data"
    },
    {
     "name": "stdout",
     "output_type": "stream",
     "text": [
      "[[119.58333333   0.25      ]\n",
      " [  4.16666667   0.        ]]\n",
      "Normalized confusion matrix\n",
      "[[0.99790649 0.00209351]\n",
      " [1.         0.        ]]\n"
     ]
    },
    {
     "data": {
      "image/png": "[encoded data removed]",
      "text/plain": [
       "<Figure size 288x216 with 2 Axes>"
      ]
     },
     "metadata": {
      "needs_background": "light"
     },
     "output_type": "display_data"
    },
    {
     "name": "stdout",
     "output_type": "stream",
     "text": [
      "[[119.16666667   0.25      ]\n",
      " [  4.58333333   0.        ]]\n"
     ]
    }
   ],
   "source": [
    "for c in (LogisticRegression, LinearRegression, SVC):\n",
    "    cls = LinearRegression(n_jobs=-1)\n",
    "    cnf_matrix = []\n",
    "    for i in range(N):\n",
    "        X_train, X_test, y_train, y_test = train_test_split(X, y, test_size=0.5)\n",
    "        cls.fit(X_train, y_train)\n",
    "        y_predict = cls.predict(X_test).astype(int)\n",
    "        #print(y_predict)\n",
    "   \n",
    "        cnf_matrix.append(confusion_matrix(y_test, y_predict.astype(bool).astype(int))) # .astype(int)\n",
    "    #print(confusion_matrix(y_test, y_predict.astype(int)))\n",
    "    cnf_matrix = np.mean(np.array(cnf_matrix), axis=0)\n",
    "    plt.figure(figsize=(4, 3))\n",
    "    plot_confusion_matrix(cnf_matrix, classes=['0', '1'],\n",
    "                              title=c.__name__)\n",
    "    plt.savefig(\"spam\" + c.__name__ + \".png\")\n",
    "    plt.show()\n",
    "    print(cnf_matrix)"
   ]
  },
  {
   "cell_type": "code",
   "execution_count": null,
   "metadata": {},
   "outputs": [],
   "source": []
  }
 ],
 "metadata": {
  "kernelspec": {
   "display_name": "Python 3",
   "language": "python",
   "name": "python3"
  },
  "language_info": {
   "codemirror_mode": {
    "name": "ipython",
    "version": 3
   },
   "file_extension": ".py",
   "mimetype": "text/x-python",
   "name": "python",
   "nbconvert_exporter": "python",
   "pygments_lexer": "ipython3",
   "version": "3.7.6"
  }
 },
 "nbformat": 4,
 "nbformat_minor": 1
}
