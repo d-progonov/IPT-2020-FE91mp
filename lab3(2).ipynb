{
 "cells": [
  {
   "cell_type": "code",
   "execution_count": 7,
   "metadata": {},
   "outputs": [],
   "source": [
    "import os\n",
    "\n",
    "import numpy as np\n",
    "import scipy as sp\n",
    "from scipy import misc, stats\n",
    "import pandas as pd\n",
    "from PIL import Image\n",
    "import matplotlib.pyplot as plt\n",
    "#import plotly.plotly as py\n",
    "import seaborn as sns\n",
    "from pandas import DataFrame, Series\n",
    "import warnings\n",
    "warnings.filterwarnings('ignore')\n",
    "\n",
    "\n",
    "%matplotlib inline"
   ]
  },
  {
   "cell_type": "code",
   "execution_count": 18,
   "metadata": {},
   "outputs": [],
   "source": [
    "MAIN_TAG = 'portrait'\n",
    "DIRNAME_TAGS = 'D:/Docs/MIRFlickr25k_tags/tags'\n",
    "DIRNAME_IMAGES = 'D:/Docs/mirflickr/'\n",
    "\n",
    "COLOR = {'red': 0,\n",
    "         'green': 1,\n",
    "         'blue': 2}"
   ]
  },
  {
   "cell_type": "code",
   "execution_count": 9,
   "metadata": {},
   "outputs": [
    {
     "name": "stdout",
     "output_type": "stream",
     "text": [
      "> loaded im13475.jpg (333, 500, 3)\n",
      "> loaded im13839.jpg (333, 500, 3)\n",
      "> loaded im5719.jpg (500, 334, 3)\n",
      "> loaded im18956.jpg (333, 500, 3)\n",
      "> loaded im12662.jpg (333, 500, 3)\n",
      "> loaded im23681.jpg (332, 500, 3)\n",
      "> loaded im12456.jpg (333, 500, 3)\n",
      "> loaded im4558.jpg (333, 500, 3)\n",
      "> loaded im129.jpg (281, 500, 3)\n",
      "> loaded im19227.jpg (490, 368, 3)\n",
      "> loaded im17640.jpg (359, 500, 3)\n",
      "> loaded im17948.jpg (338, 500, 3)\n",
      "> loaded im9184.jpg (333, 500, 3)\n",
      "> loaded im12262.jpg (348, 500, 3)\n",
      "> loaded im15317.jpg (375, 500, 3)\n",
      "> loaded im20215.jpg (500, 438, 3)\n",
      "> loaded im16969.jpg (375, 500, 3)\n",
      "> loaded im288.jpg (298, 500, 3)\n",
      "> loaded im6624.jpg (332, 500, 3)\n",
      "> loaded im12607.jpg (318, 500, 3)\n",
      "> loaded im6078.jpg (375, 500, 3)\n",
      "> loaded im11862.jpg (500, 337, 3)\n",
      "> loaded im6377.jpg (375, 500, 3)\n",
      "> loaded im4615.jpg (375, 500, 3)\n",
      "> loaded im222.jpg (200, 500, 3)\n",
      "> loaded im17664.jpg (333, 500, 3)\n",
      "> loaded im10140.jpg (500, 333, 3)\n",
      "> loaded im23728.jpg (500, 333, 3)\n",
      "> loaded im14684.jpg (500, 346, 3)\n",
      "> loaded im16123.jpg (500, 368, 3)\n",
      "> loaded im9671.jpg (359, 500, 3)\n",
      "> loaded im21646.jpg (375, 500, 3)\n",
      "> loaded im8046.jpg (333, 500, 3)\n",
      "> loaded im14331.jpg (500, 413, 3)\n",
      "> loaded im13076.jpg (333, 500, 3)\n",
      "> loaded im13553.jpg (333, 500, 3)\n",
      "> loaded im8797.jpg (500, 333, 3)\n",
      "> loaded im8209.jpg (375, 500, 3)\n",
      "> loaded im13372.jpg (500, 362, 3)\n",
      "> loaded im416.jpg (500, 409, 3)\n",
      "> loaded im17281.jpg (302, 500, 3)\n",
      "> loaded im7858.jpg (500, 332, 3)\n",
      "> loaded im10380.jpg (334, 500, 3)\n",
      "> loaded im15860.jpg (333, 500, 3)\n",
      "> loaded im13956.jpg (333, 500, 3)\n",
      "> loaded im5746.jpg (375, 500, 3)\n",
      "> loaded im2498.jpg (500, 334, 3)\n",
      "> loaded im20074.jpg (500, 500, 3)\n",
      "> loaded im852.jpg (375, 500, 3)\n",
      "> loaded im10713.jpg (400, 500, 3)\n",
      "> loaded im11772.jpg (500, 375, 3)\n",
      "> loaded im20015.jpg (375, 500, 3)\n",
      "> loaded im18301.jpg (500, 500, 3)\n",
      "> loaded im20335.jpg (500, 334, 3)\n",
      "> loaded im13154.jpg (500, 333, 3)\n",
      "> loaded im3952.jpg (334, 500, 3)\n",
      "> loaded im23399.jpg (375, 500, 3)\n",
      "> loaded im14604.jpg (500, 482, 3)\n",
      "> loaded im21739.jpg (500, 500, 3)\n",
      "> loaded im22755.jpg (500, 386, 3)\n",
      "> loaded im4994.jpg (438, 500, 3)\n",
      "> loaded im12724.jpg (333, 500, 3)\n",
      "> loaded im24789.jpg (500, 375, 3)\n",
      "> loaded im21527.jpg (500, 500, 3)\n",
      "> loaded im9347.jpg (500, 375, 3)\n",
      "> loaded im22879.jpg (333, 500, 3)\n",
      "> loaded im18426.jpg (351, 500, 3)\n",
      "> loaded im528.jpg (359, 500, 3)\n",
      "> loaded im8230.jpg (333, 500, 3)\n",
      "> loaded im23728.jpg (500, 333, 3)\n",
      "> loaded im23160.jpg (375, 500, 3)\n",
      "> loaded im15511.jpg (321, 500, 3)\n",
      "> loaded im22447.jpg (354, 500, 3)\n",
      "> loaded im1929.jpg (500, 345, 3)\n",
      "> loaded im7010.jpg (375, 500, 3)\n",
      "> loaded im8683.jpg (179, 500, 3)\n",
      "> loaded im16676.jpg (333, 500, 3)\n",
      "> loaded im21719.jpg (358, 500, 3)\n",
      "> loaded im6399.jpg (375, 500, 3)\n",
      "> loaded im16773.jpg (463, 500, 3)\n",
      "> loaded im2383.jpg (375, 500, 3)\n",
      "> loaded im10323.jpg (500, 333, 3)\n",
      "> loaded im4298.jpg (395, 500, 3)\n",
      "> loaded im2543.jpg (333, 500, 3)\n",
      "> loaded im21793.jpg (500, 334, 3)\n",
      "> loaded im1481.jpg (356, 500, 3)\n",
      "> loaded im21955.jpg (333, 500, 3)\n",
      "> loaded im11941.jpg (375, 500, 3)\n",
      "> loaded im23450.jpg (500, 375, 3)\n",
      "> loaded im20961.jpg (375, 500, 3)\n",
      "> loaded im19503.jpg (500, 375, 3)\n",
      "> loaded im1248.jpg (500, 332, 3)\n",
      "> loaded im637.jpg (500, 500, 3)\n",
      "> loaded im6586.jpg (375, 500, 3)\n",
      "> loaded im4349.jpg (439, 500, 3)\n",
      "> loaded im20490.jpg (500, 374, 3)\n",
      "> loaded im2165.jpg (333, 500, 3)\n",
      "> loaded im18058.jpg (333, 500, 3)\n",
      "> loaded im13650.jpg (500, 332, 3)\n",
      "> loaded im10493.jpg (500, 375, 3)\n",
      "> loaded im9148.jpg (254, 500, 3)\n",
      "> loaded im7777.jpg (333, 500, 3)\n",
      "> loaded im12619.jpg (500, 500, 3)\n",
      "> loaded im13695.jpg (375, 500, 3)\n",
      "> loaded im21340.jpg (375, 500, 3)\n",
      "> loaded im9585.jpg (333, 500, 3)\n",
      "> loaded im22905.jpg (333, 500, 3)\n",
      "> loaded im4377.jpg (333, 500, 3)\n",
      "> loaded im18421.jpg (347, 500, 3)\n",
      "> loaded im20606.jpg (375, 500, 3)\n",
      "> loaded im10433.jpg (500, 500, 3)\n",
      "> loaded im20077.jpg (375, 500, 3)\n",
      "> loaded im4581.jpg (500, 333, 3)\n",
      "> loaded im10425.jpg (500, 375, 3)\n",
      "> loaded im15040.jpg (335, 500, 3)\n",
      "> loaded im6597.jpg (333, 500, 3)\n",
      "> loaded im16916.jpg (375, 500, 3)\n",
      "> loaded im24229.jpg (375, 500, 3)\n",
      "> loaded im23966.jpg (333, 500, 3)\n",
      "> loaded im16890.jpg (333, 500, 3)\n",
      "> loaded im21856.jpg (333, 500, 3)\n",
      "> loaded im21399.jpg (375, 500, 3)\n",
      "> loaded im7784.jpg (375, 500, 3)\n",
      "> loaded im12839.jpg (375, 500, 3)\n",
      "> loaded im24497.jpg (341, 500, 3)\n",
      "> loaded im21979.jpg (353, 500, 3)\n",
      "> loaded im24453.jpg (500, 375, 3)\n",
      "> loaded im21813.jpg (500, 375, 3)\n",
      "> loaded im126.jpg (500, 339, 3)\n",
      "> loaded im8405.jpg (275, 480, 3)\n",
      "> loaded im12700.jpg (375, 500, 3)\n",
      "> loaded im6961.jpg (500, 375, 3)\n",
      "> loaded im2538.jpg (478, 500, 3)\n",
      "> loaded im24238.jpg (405, 500, 3)\n",
      "> loaded im20941.jpg (375, 500, 3)\n",
      "> loaded im19017.jpg (333, 500, 3)\n",
      "> loaded im16789.jpg (500, 376, 3)\n",
      "> loaded im4739.jpg (500, 332, 3)\n",
      "> loaded im5424.jpg (500, 335, 3)\n",
      "> loaded im22266.jpg (375, 500, 3)\n",
      "> loaded im21366.jpg (500, 333, 3)\n",
      "> loaded im7125.jpg (333, 500, 3)\n",
      "> loaded im23294.jpg (333, 500, 3)\n",
      "> loaded im470.jpg (333, 500, 3)\n",
      "> loaded im4995.jpg (333, 500, 3)\n",
      "> loaded im22352.jpg (375, 500, 3)\n",
      "> loaded im23273.jpg (375, 500, 3)\n",
      "> loaded im18177.jpg (335, 500, 3)\n",
      "> loaded im314.jpg (333, 500, 3)\n",
      "> loaded im15569.jpg (375, 500, 3)\n",
      "> loaded im16035.jpg (333, 500, 3)\n",
      "> loaded im19035.jpg (333, 500, 3)\n",
      "> loaded im14653.jpg (335, 500, 3)\n",
      "> loaded im14554.jpg (334, 500, 3)\n",
      "> loaded im6860.jpg (500, 375, 3)\n",
      "> loaded im23532.jpg (387, 500, 3)\n",
      "> loaded im11949.jpg (375, 500, 3)\n",
      "> loaded im12233.jpg (333, 500, 3)\n",
      "> loaded im390.jpg (299, 500, 3)\n",
      "> loaded im4875.jpg (500, 500, 3)\n",
      "> loaded im747.jpg (334, 500, 3)\n",
      "> loaded im24188.jpg (393, 500, 3)\n",
      "> loaded im23574.jpg (500, 333, 3)\n",
      "> loaded im7687.jpg (352, 500, 3)\n",
      "> loaded im13529.jpg (333, 500, 3)\n",
      "> loaded im12636.jpg (333, 500, 3)\n",
      "> loaded im13994.jpg (333, 500, 3)\n",
      "> loaded im10140.jpg (500, 333, 3)\n",
      "> loaded im20663.jpg (375, 500, 3)\n",
      "> loaded im12260.jpg (339, 500, 3)\n",
      "> loaded im21061.jpg (500, 375, 3)\n",
      "> loaded im22171.jpg (375, 500, 3)\n",
      "> loaded im7670.jpg (333, 500, 3)\n",
      "> loaded im23607.jpg (500, 407, 3)\n",
      "> loaded im16336.jpg (375, 500, 3)\n",
      "> loaded im21738.jpg (500, 376, 3)\n",
      "> loaded im15985.jpg (400, 300, 3)\n",
      "> loaded im10917.jpg (334, 500, 3)\n",
      "> loaded im22334.jpg (403, 500, 3)\n",
      "> loaded im6523.jpg (500, 332, 3)\n",
      "> loaded im23519.jpg (333, 500, 3)\n",
      "> loaded im18370.jpg (328, 500, 3)\n",
      "> loaded im12554.jpg (259, 500, 3)\n",
      "> loaded im14187.jpg (280, 500, 3)\n",
      "> loaded im22274.jpg (333, 500, 3)\n",
      "> loaded im11688.jpg (345, 500, 3)\n",
      "> loaded im6565.jpg (435, 500, 3)\n",
      "> loaded im22027.jpg (335, 500, 3)\n",
      "> loaded im18532.jpg (500, 333, 3)\n",
      "> loaded im1303.jpg (362, 500, 3)\n",
      "> loaded im14217.jpg (335, 500, 3)\n",
      "> loaded im9029.jpg (335, 500, 3)\n",
      "> loaded im14652.jpg (333, 500, 3)\n",
      "> loaded im24915.jpg (341, 500, 3)\n",
      "> loaded im9119.jpg (375, 500, 3)\n",
      "> loaded im13212.jpg (375, 500, 3)\n",
      "> loaded im21110.jpg (500, 334, 3)\n",
      "> loaded im13460.jpg (431, 500, 3)\n",
      "> loaded im644.jpg (333, 500, 3)\n",
      "> loaded im24137.jpg (360, 500, 3)\n",
      "> loaded im16287.jpg (248, 500, 3)\n",
      "> loaded im8847.jpg (334, 500, 3)\n",
      "> loaded im15237.jpg (500, 417, 3)\n",
      "> loaded im7563.jpg (500, 500, 3)\n",
      "> loaded im10101.jpg (376, 500, 3)\n",
      "> loaded im19584.jpg (375, 500, 3)\n",
      "> loaded im1300.jpg (335, 500, 3)\n",
      "> loaded im13164.jpg (375, 500, 3)\n",
      "> loaded im15129.jpg (334, 500, 3)\n",
      "> loaded im13222.jpg (333, 500, 3)\n",
      "> loaded im1419.jpg (333, 500, 3)\n",
      "> loaded im3549.jpg (375, 500, 3)\n",
      "> loaded im14527.jpg (500, 375, 3)\n",
      "> loaded im5264.jpg (398, 500, 3)\n",
      "> loaded im17097.jpg (450, 500, 3)\n",
      "> loaded im1669.jpg (381, 500, 3)\n",
      "> loaded im9686.jpg (500, 337, 3)\n",
      "> loaded im19716.jpg (500, 375, 3)\n",
      "> loaded im1517.jpg (333, 500, 3)\n",
      "> loaded im13181.jpg (352, 500, 3)\n",
      "> loaded im4534.jpg (335, 500, 3)\n",
      "> loaded im24781.jpg (333, 500, 3)\n",
      "> loaded im1500.jpg (500, 333, 3)\n",
      "> loaded im16769.jpg (500, 333, 3)\n",
      "> loaded im6379.jpg (139, 500, 3)\n",
      "> loaded im18883.jpg (500, 500, 3)\n",
      "> loaded im24859.jpg (333, 500, 3)\n",
      "> loaded im2296.jpg (500, 331, 3)\n",
      "> loaded im8016.jpg (401, 500, 3)\n",
      "> loaded im1019.jpg (500, 333, 3)\n",
      "> loaded im11561.jpg (375, 500, 3)\n",
      "> loaded im5700.jpg (500, 375, 3)\n",
      "> loaded im18448.jpg (375, 500, 3)\n",
      "> loaded im7620.jpg (500, 376, 3)\n",
      "> loaded im9389.jpg (375, 500, 3)\n",
      "> loaded im3939.jpg (338, 500, 3)\n"
     ]
    },
    {
     "name": "stdout",
     "output_type": "stream",
     "text": [
      "> loaded im24248.jpg (500, 333, 3)\n",
      "> loaded im9153.jpg (333, 500, 3)\n",
      "> loaded im16662.jpg (500, 500, 3)\n",
      "> loaded im15777.jpg (500, 333, 3)\n",
      "> loaded im22164.jpg (375, 500, 3)\n",
      "> loaded im262.jpg (375, 500, 3)\n",
      "> loaded im3872.jpg (333, 500, 3)\n",
      "> loaded im11709.jpg (333, 500, 3)\n",
      "> loaded im24495.jpg (500, 375, 3)\n",
      "> loaded im19815.jpg (333, 500, 3)\n",
      "> loaded im24300.jpg (379, 500, 3)\n",
      "> loaded im21424.jpg (375, 500, 3)\n",
      "> loaded im6187.jpg (331, 500, 3)\n",
      "> loaded im21833.jpg (333, 500, 3)\n"
     ]
    }
   ],
   "source": [
    "from os import listdir\n",
    "from matplotlib import image\n",
    "import random\n",
    "# load all images in a directory\n",
    "np.random.RandomState(2)\n",
    "random_indexes = np.random.choice(range(25000), 250)\n",
    "loaded_images = list()\n",
    "image_names = list()\n",
    "for i in range(250):\n",
    "\t# load image\n",
    "\trandName = random_indexes[i]\n",
    "\timage_names.append(randName)\n",
    "\tfilename = 'im' + str(randName) + '.jpg'\n",
    "\timg_data = image.imread('D:/Docs/mirflickr/' + filename)\n",
    "\t# store loaded image\n",
    "\tloaded_images.append(img_data)\n",
    "\tprint('> loaded %s %s' % (filename, img_data.shape))"
   ]
  },
  {
   "cell_type": "code",
   "execution_count": 10,
   "metadata": {},
   "outputs": [],
   "source": [
    "values = np.zeros((3, 256))\n",
    "index = 0"
   ]
  },
  {
   "cell_type": "code",
   "execution_count": 11,
   "metadata": {},
   "outputs": [
    {
     "name": "stdout",
     "output_type": "stream",
     "text": [
      "> processed 10 images\n",
      "> processed 20 images\n",
      "> processed 30 images\n",
      "> processed 40 images\n",
      "> processed 50 images\n",
      "> processed 60 images\n",
      "> processed 70 images\n",
      "> processed 80 images\n",
      "> processed 90 images\n",
      "> processed 100 images\n",
      "> processed 110 images\n",
      "> processed 120 images\n",
      "> processed 130 images\n",
      "> processed 140 images\n",
      "> processed 150 images\n",
      "> processed 160 images\n",
      "> processed 170 images\n",
      "> processed 180 images\n",
      "> processed 190 images\n",
      "> processed 200 images\n",
      "> processed 210 images\n",
      "> processed 220 images\n",
      "> processed 230 images\n",
      "> processed 240 images\n",
      "> processed 250 images\n"
     ]
    }
   ],
   "source": [
    "for image in loaded_images:\n",
    "\tfor i in range(image.shape[0]):\n",
    "\t\tfor j in range(image.shape[1]):\n",
    "\t\t\tvalues[0][image[i][j][0]] += 1\n",
    "\t\t\tvalues[1][image[i][j][1]] += 1\n",
    "\t\t\tvalues[2][image[i][j][2]] += 1\n",
    "\tindex += 1\n",
    "\tif (index % 10) == 0:\n",
    "\t\tprint('> processed %i images' % (index))"
   ]
  },
  {
   "cell_type": "code",
   "execution_count": 13,
   "metadata": {},
   "outputs": [
    {
     "name": "stdout",
     "output_type": "stream",
     "text": [
      "Red: expected value (math. ochikuvanya) : 113.22, dispersion : 6224.45\n",
      "Green: expected value (math. ochikuvanya) : 104.32, dispersion : 5679.20\n",
      "Blue: expected value (math. ochikuvanya) : 91.91, dispersion : 5970.32\n"
     ]
    }
   ],
   "source": [
    "RED = 0\n",
    "GREEN = 1\n",
    "BLUE = 2\n",
    "\n",
    "sum_val = sum(values[RED])\n",
    "M_red = 0\n",
    "for index in range(len(values[RED])):\n",
    "    p = (values[RED][index] / sum_val)\n",
    "    M_red += p * index\n",
    "D_red = 0\n",
    "for index in range(len(values[RED])):\n",
    "    p = (values[RED][index] / sum_val)\n",
    "    D_red += p * ((index - M_red) ** 2)\n",
    "print(\"Red: expected value (math. ochikuvanya) : {0:.2f}, dispersion : {1:.2f}\"\\\n",
    ".format(M_red, D_red))\n",
    "\n",
    "sum_val = sum(values[GREEN])\n",
    "M_green = 0\n",
    "for index in range(len(values[GREEN])):\n",
    "    p = (values[GREEN][index] / sum_val)\n",
    "    M_green += p * index\n",
    "D_green = 0\n",
    "for index in range(len(values[GREEN])):\n",
    "    p = (values[GREEN][index] / sum_val)\n",
    "    D_green += p * ((index - M_green) ** 2)\n",
    "print(\"Green: expected value (math. ochikuvanya) : {0:.2f}, dispersion : {1:.2f}\"\\\n",
    ".format(M_green, D_green))\n",
    "sum_val = sum(values[BLUE])\n",
    "M_blue = 0\n",
    "for index in range(len(values[BLUE])):\n",
    "    p = (values[BLUE][index] / sum_val)\n",
    "    M_blue += p * index\n",
    "D_blue = 0\n",
    "for index in range(len(values[BLUE])):\n",
    "    p = (values[BLUE][index] / sum_val)\n",
    "    D_blue += p * ((index - M_blue) ** 2)\n",
    "print(\"Blue: expected value (math. ochikuvanya) : {0:.2f}, dispersion : {1:.2f}\"\\\n",
    ".format(M_blue, D_blue)) "
   ]
  },
  {
   "cell_type": "code",
   "execution_count": 14,
   "metadata": {},
   "outputs": [],
   "source": [
    "def E_operator(arr_values, M, power):\n",
    "    sum_val = sum(arr_values)\n",
    "    ans = 0\n",
    "    for index in range(len(arr_values)):\n",
    "        p = (arr_values[index] / sum_val)\n",
    "        ans += p * ((index - M) ** power)\n",
    "    return ans"
   ]
  },
  {
   "cell_type": "code",
   "execution_count": 15,
   "metadata": {},
   "outputs": [
    {
     "name": "stdout",
     "output_type": "stream",
     "text": [
      "Red: asymmetry - 0.167, ekscess - -1.206\n",
      "Green: asymmetry - 0.301, ekscess - -1.037\n",
      "Blue: asymmetry - 0.553, ekscess - -0.888\n"
     ]
    }
   ],
   "source": [
    "Asym_red = E_operator(values[RED], M_red, 3) / (D_red ** (3 / 2))\n",
    "Asym_green = E_operator(values[GREEN], M_green, 3) / (D_green ** (3 / 2))\n",
    "Asym_blue = E_operator(values[BLUE], M_blue, 3) / (D_blue ** (3 / 2))\n",
    "\n",
    "Ekscess_red = E_operator(values[RED], M_red, 4) / (D_red ** 2) - 3\n",
    "Ekscess_green = E_operator(values[GREEN], M_green, 4) / (D_green ** 2) - 3\n",
    "Ekscess_blue = E_operator(values[BLUE], M_blue, 4) / (D_blue ** 2) - 3\n",
    "print('Red: asymmetry - {0:.3f}, ekscess - {1:.3f}'\\\n",
    ".format(Asym_red, Ekscess_red))\n",
    "print('Green: asymmetry - {0:.3f}, ekscess - {1:.3f}'\\\n",
    ".format(Asym_green, Ekscess_green))\n",
    "print('Blue: asymmetry - {0:.3f}, ekscess - {1:.3f}'\\\n",
    ".format(Asym_blue, Ekscess_blue))"
   ]
  },
  {
   "cell_type": "code",
   "execution_count": 16,
   "metadata": {},
   "outputs": [
    {
     "data": {
      "text/plain": [
       "250"
      ]
     },
     "execution_count": 16,
     "metadata": {},
     "output_type": "execute_result"
    }
   ],
   "source": [
    "len(image_names)"
   ]
  },
  {
   "cell_type": "code",
   "execution_count": 19,
   "metadata": {},
   "outputs": [],
   "source": [
    "import codecs\n",
    "\n",
    "Y = pd.Series()\n",
    "for name in image_names:\n",
    "    with codecs.open(os.path.join(DIRNAME_TAGS, 'tags%d.txt' % (name,)), \"r\", \"utf_8_sig\") as file:\n",
    "        set_tags = set(tag.strip() for tag in file.readlines())\n",
    "        #print('tags%d.txt' % (name,), '  ',set_tags)\n",
    "        Y.at[name] = int(MAIN_TAG in set_tags)\n",
    "Y = pd.DataFrame(Y, columns=['target'])"
   ]
  },
  {
   "cell_type": "code",
   "execution_count": 20,
   "metadata": {},
   "outputs": [
    {
     "data": {
      "text/plain": [
       "0    242\n",
       "1      6\n",
       "Name: target, dtype: int64"
      ]
     },
     "execution_count": 20,
     "metadata": {},
     "output_type": "execute_result"
    }
   ],
   "source": [
    "Y['target'].value_counts()"
   ]
  },
  {
   "cell_type": "code",
   "execution_count": 21,
   "metadata": {},
   "outputs": [
    {
     "data": {
      "text/html": [
       "<div>\n",
       "<style scoped>\n",
       "    .dataframe tbody tr th:only-of-type {\n",
       "        vertical-align: middle;\n",
       "    }\n",
       "\n",
       "    .dataframe tbody tr th {\n",
       "        vertical-align: top;\n",
       "    }\n",
       "\n",
       "    .dataframe thead th {\n",
       "        text-align: right;\n",
       "    }\n",
       "</style>\n",
       "<table border=\"1\" class=\"dataframe\">\n",
       "  <thead>\n",
       "    <tr style=\"text-align: right;\">\n",
       "      <th></th>\n",
       "      <th>target</th>\n",
       "    </tr>\n",
       "  </thead>\n",
       "  <tbody>\n",
       "    <tr>\n",
       "      <th>13475</th>\n",
       "      <td>1</td>\n",
       "    </tr>\n",
       "    <tr>\n",
       "      <th>13839</th>\n",
       "      <td>0</td>\n",
       "    </tr>\n",
       "    <tr>\n",
       "      <th>5719</th>\n",
       "      <td>0</td>\n",
       "    </tr>\n",
       "    <tr>\n",
       "      <th>18956</th>\n",
       "      <td>0</td>\n",
       "    </tr>\n",
       "    <tr>\n",
       "      <th>12662</th>\n",
       "      <td>0</td>\n",
       "    </tr>\n",
       "  </tbody>\n",
       "</table>\n",
       "</div>"
      ],
      "text/plain": [
       "       target\n",
       "13475       1\n",
       "13839       0\n",
       "5719        0\n",
       "18956       0\n",
       "12662       0"
      ]
     },
     "execution_count": 21,
     "metadata": {},
     "output_type": "execute_result"
    }
   ],
   "source": [
    "Y.head()"
   ]
  },
  {
   "cell_type": "code",
   "execution_count": 22,
   "metadata": {},
   "outputs": [],
   "source": [
    "data_static = DataFrame()\n",
    "num = 0\n",
    "d = []\n",
    "for image_name in image_names:\n",
    "    image = np.array(Image.open(os.path.join(DIRNAME_IMAGES, 'im%d.jpg' % (image_name))))\n",
    "    data = []\n",
    "    for name, num in COLOR.items():\n",
    "        a = image[:, :, num].ravel()\n",
    "        data.extend([np.mean(a), np.var(a), sp.stats.skew(a), sp.stats.kurtosis(a)])\n",
    "    d.append([image_name, *data])\n",
    "    \n",
    "\n",
    "data_static = pd.DataFrame.from_records(d)\n",
    "data_static = data_static.rename(columns={0: 'name'}).set_index('name')"
   ]
  },
  {
   "cell_type": "code",
   "execution_count": 23,
   "metadata": {},
   "outputs": [
    {
     "data": {
      "text/html": [
       "<div>\n",
       "<style scoped>\n",
       "    .dataframe tbody tr th:only-of-type {\n",
       "        vertical-align: middle;\n",
       "    }\n",
       "\n",
       "    .dataframe tbody tr th {\n",
       "        vertical-align: top;\n",
       "    }\n",
       "\n",
       "    .dataframe thead th {\n",
       "        text-align: right;\n",
       "    }\n",
       "</style>\n",
       "<table border=\"1\" class=\"dataframe\">\n",
       "  <thead>\n",
       "    <tr style=\"text-align: right;\">\n",
       "      <th></th>\n",
       "      <th>1</th>\n",
       "      <th>2</th>\n",
       "      <th>3</th>\n",
       "      <th>4</th>\n",
       "      <th>5</th>\n",
       "      <th>6</th>\n",
       "      <th>7</th>\n",
       "      <th>8</th>\n",
       "      <th>9</th>\n",
       "      <th>10</th>\n",
       "      <th>11</th>\n",
       "      <th>12</th>\n",
       "    </tr>\n",
       "    <tr>\n",
       "      <th>name</th>\n",
       "      <th></th>\n",
       "      <th></th>\n",
       "      <th></th>\n",
       "      <th></th>\n",
       "      <th></th>\n",
       "      <th></th>\n",
       "      <th></th>\n",
       "      <th></th>\n",
       "      <th></th>\n",
       "      <th></th>\n",
       "      <th></th>\n",
       "      <th></th>\n",
       "    </tr>\n",
       "  </thead>\n",
       "  <tbody>\n",
       "    <tr>\n",
       "      <th>13475</th>\n",
       "      <td>63.685381</td>\n",
       "      <td>6589.074745</td>\n",
       "      <td>1.116152</td>\n",
       "      <td>-0.090210</td>\n",
       "      <td>75.309940</td>\n",
       "      <td>6794.698238</td>\n",
       "      <td>0.843058</td>\n",
       "      <td>-0.624699</td>\n",
       "      <td>50.284925</td>\n",
       "      <td>4791.425076</td>\n",
       "      <td>1.695302</td>\n",
       "      <td>2.079547</td>\n",
       "    </tr>\n",
       "    <tr>\n",
       "      <th>13839</th>\n",
       "      <td>117.006607</td>\n",
       "      <td>2499.067752</td>\n",
       "      <td>0.438894</td>\n",
       "      <td>-0.613230</td>\n",
       "      <td>112.151748</td>\n",
       "      <td>2657.945201</td>\n",
       "      <td>0.474138</td>\n",
       "      <td>-0.607519</td>\n",
       "      <td>107.248715</td>\n",
       "      <td>2780.434976</td>\n",
       "      <td>0.581609</td>\n",
       "      <td>-0.458183</td>\n",
       "    </tr>\n",
       "    <tr>\n",
       "      <th>5719</th>\n",
       "      <td>157.287234</td>\n",
       "      <td>6036.416084</td>\n",
       "      <td>-0.577687</td>\n",
       "      <td>-1.087543</td>\n",
       "      <td>148.432449</td>\n",
       "      <td>5964.418383</td>\n",
       "      <td>-0.382964</td>\n",
       "      <td>-1.201155</td>\n",
       "      <td>144.322192</td>\n",
       "      <td>5445.728276</td>\n",
       "      <td>-0.275789</td>\n",
       "      <td>-1.151270</td>\n",
       "    </tr>\n",
       "    <tr>\n",
       "      <th>18956</th>\n",
       "      <td>158.541069</td>\n",
       "      <td>4018.761863</td>\n",
       "      <td>-0.843609</td>\n",
       "      <td>-0.272878</td>\n",
       "      <td>99.329838</td>\n",
       "      <td>3874.509970</td>\n",
       "      <td>0.238434</td>\n",
       "      <td>-1.155655</td>\n",
       "      <td>68.137441</td>\n",
       "      <td>2797.745807</td>\n",
       "      <td>0.819131</td>\n",
       "      <td>-0.366557</td>\n",
       "    </tr>\n",
       "    <tr>\n",
       "      <th>12662</th>\n",
       "      <td>79.363387</td>\n",
       "      <td>5726.956250</td>\n",
       "      <td>0.742645</td>\n",
       "      <td>-0.855855</td>\n",
       "      <td>76.902444</td>\n",
       "      <td>5481.149324</td>\n",
       "      <td>0.755571</td>\n",
       "      <td>-0.840318</td>\n",
       "      <td>69.486697</td>\n",
       "      <td>4772.650748</td>\n",
       "      <td>0.926135</td>\n",
       "      <td>-0.397773</td>\n",
       "    </tr>\n",
       "  </tbody>\n",
       "</table>\n",
       "</div>"
      ],
      "text/plain": [
       "               1            2         3         4           5            6   \\\n",
       "name                                                                          \n",
       "13475   63.685381  6589.074745  1.116152 -0.090210   75.309940  6794.698238   \n",
       "13839  117.006607  2499.067752  0.438894 -0.613230  112.151748  2657.945201   \n",
       "5719   157.287234  6036.416084 -0.577687 -1.087543  148.432449  5964.418383   \n",
       "18956  158.541069  4018.761863 -0.843609 -0.272878   99.329838  3874.509970   \n",
       "12662   79.363387  5726.956250  0.742645 -0.855855   76.902444  5481.149324   \n",
       "\n",
       "             7         8           9            10        11        12  \n",
       "name                                                                    \n",
       "13475  0.843058 -0.624699   50.284925  4791.425076  1.695302  2.079547  \n",
       "13839  0.474138 -0.607519  107.248715  2780.434976  0.581609 -0.458183  \n",
       "5719  -0.382964 -1.201155  144.322192  5445.728276 -0.275789 -1.151270  \n",
       "18956  0.238434 -1.155655   68.137441  2797.745807  0.819131 -0.366557  \n",
       "12662  0.755571 -0.840318   69.486697  4772.650748  0.926135 -0.397773  "
      ]
     },
     "execution_count": 23,
     "metadata": {},
     "output_type": "execute_result"
    }
   ],
   "source": [
    "data_static.head()"
   ]
  },
  {
   "cell_type": "code",
   "execution_count": 24,
   "metadata": {},
   "outputs": [
    {
     "data": {
      "text/plain": [
       "(250, 12)"
      ]
     },
     "execution_count": 24,
     "metadata": {},
     "output_type": "execute_result"
    }
   ],
   "source": [
    "data_static.shape"
   ]
  },
  {
   "cell_type": "code",
   "execution_count": 29,
   "metadata": {},
   "outputs": [],
   "source": [
    "import itertools\n",
    "\n",
    "from sklearn.linear_model import LinearRegression, LogisticRegression\n",
    "from sklearn.svm import SVC\n",
    "from sklearn.model_selection import KFold, cross_val_score, train_test_split\n",
    "from sklearn.metrics import accuracy_score, recall_score, confusion_matrix"
   ]
  },
  {
   "cell_type": "code",
   "execution_count": 30,
   "metadata": {},
   "outputs": [],
   "source": [
    "N = 12\n",
    "def plot_confusion_matrix(cm, classes,\n",
    "                          normalize=True,\n",
    "                          title='Confusion matrix',\n",
    "                          cmap=plt.cm.Blues):\n",
    "    \"\"\"\n",
    "    This function prints and plots the confusion matrix.\n",
    "    Normalization can be applied by setting `normalize=True`.\n",
    "    \"\"\"\n",
    "    plt.imshow(cm, interpolation='nearest', cmap=cmap)\n",
    "    plt.title(title)\n",
    "    plt.colorbar()\n",
    "    tick_marks = np.arange(len(classes))\n",
    "    plt.xticks(tick_marks, classes)\n",
    "    plt.yticks(tick_marks, classes)\n",
    "\n",
    "    if normalize:\n",
    "        cm = cm.astype('float') / cm.sum(axis=1)[:, np.newaxis]\n",
    "        print(\"Normalized confusion matrix\")\n",
    "    else:\n",
    "        print('Confusion matrix, without normalization')\n",
    "\n",
    "    print(cm)\n",
    "\n",
    "    thresh = cm.max() / 2.\n",
    "    for i, j in itertools.product(range(cm.shape[0]), range(cm.shape[1])):\n",
    "        plt.text(j, i, round(cm[i, j], 3),\n",
    "                 horizontalalignment=\"center\",\n",
    "                 color=\"white\" if cm[i, j] > thresh else \"black\")\n",
    "\n",
    "    plt.tight_layout()\n",
    "    plt.ylabel('True label')\n",
    "    plt.xlabel('Predicted label')\n",
    "\n",
    "font = {'size' : 15}\n",
    "\n",
    "plt.rc('font', **font)"
   ]
  },
  {
   "cell_type": "code",
   "execution_count": 31,
   "metadata": {},
   "outputs": [],
   "source": [
    "X = data_static.copy()\n",
    "\n",
    "df = Y.join(X, how='inner')\n",
    "df = df.drop_duplicates()\n",
    "\n",
    "y = df['target']\n",
    "X = df.drop('target', axis=1)"
   ]
  },
  {
   "cell_type": "code",
   "execution_count": 32,
   "metadata": {},
   "outputs": [
    {
     "name": "stdout",
     "output_type": "stream",
     "text": [
      "Normalized confusion matrix\n",
      "[[0.9951624 0.0048376]\n",
      " [1.        0.       ]]\n"
     ]
    },
    {
     "data": {
      "image/png": "[encoded data removed]",
      "text/plain": [
       "<Figure size 288x216 with 2 Axes>"
      ]
     },
     "metadata": {
      "needs_background": "light"
     },
     "output_type": "display_data"
    },
    {
     "name": "stdout",
     "output_type": "stream",
     "text": [
      "Normalized confusion matrix\n",
      "[[0.08121129 0.91878871]\n",
      " [0.17142857 0.82857143]]\n"
     ]
    },
    {
     "data": {
      "image/png": "[encoded data removed]",
      "text/plain": [
       "<Figure size 288x216 with 2 Axes>"
      ]
     },
     "metadata": {
      "needs_background": "light"
     },
     "output_type": "display_data"
    },
    {
     "name": "stdout",
     "output_type": "stream",
     "text": [
      "Normalized confusion matrix\n",
      "[[1. 0.]\n",
      " [1. 0.]]\n"
     ]
    },
    {
     "data": {
      "image/png": "[encoded data removed]",
      "text/plain": [
       "<Figure size 288x216 with 2 Axes>"
      ]
     },
     "metadata": {
      "needs_background": "light"
     },
     "output_type": "display_data"
    }
   ],
   "source": [
    "for c in (LogisticRegression, LinearRegression, SVC):\n",
    "    cls = c()\n",
    "    cnf_matrix = []\n",
    "    for i in range(N):\n",
    "        X_train, X_test, y_train, y_test = train_test_split(X, y, test_size=0.5)\n",
    "        cls.fit(X_train, y_train)\n",
    "        y_predict = cls.predict(X_test)\n",
    "        cnf_matrix.append(confusion_matrix(y_test, y_predict.astype(bool).astype(int)))\n",
    "    cnf_matrix = np.mean(np.array(cnf_matrix), axis=0)\n",
    "    plt.figure(figsize=(4, 3))\n",
    "    plot_confusion_matrix(cnf_matrix, classes=['0', '1'],\n",
    "                          title=c.__name__)\n",
    "    plt.savefig(\"static_\" + c.__name__ + \".png\")\n",
    "    plt.show()\n",
    "    #print(cnf_matrix)"
   ]
  },
  {
   "cell_type": "code",
   "execution_count": 33,
   "metadata": {},
   "outputs": [
    {
     "name": "stdout",
     "output_type": "stream",
     "text": [
      "Normalized confusion matrix\n",
      "[[0.92366412 0.07633588]\n",
      " [0.56521739 0.43478261]]\n"
     ]
    },
    {
     "data": {
      "image/png": "[encoded data removed]",
      "text/plain": [
       "<Figure size 288x216 with 2 Axes>"
      ]
     },
     "metadata": {
      "needs_background": "light"
     },
     "output_type": "display_data"
    },
    {
     "name": "stdout",
     "output_type": "stream",
     "text": [
      "[[121  10]\n",
      " [ 13  10]]\n",
      "Normalized confusion matrix\n",
      "[[1. 0.]\n",
      " [1. 0.]]\n"
     ]
    },
    {
     "data": {
      "image/png": "[encoded data removed]",
      "text/plain": [
       "<Figure size 288x216 with 2 Axes>"
      ]
     },
     "metadata": {
      "needs_background": "light"
     },
     "output_type": "display_data"
    },
    {
     "name": "stdout",
     "output_type": "stream",
     "text": [
      "[[120.91666667   0.        ]\n",
      " [  3.08333333   0.        ]]\n",
      "Normalized confusion matrix\n",
      "[[1. 0.]\n",
      " [1. 0.]]\n"
     ]
    },
    {
     "data": {
      "image/png": "[encoded data removed]",
      "text/plain": [
       "<Figure size 288x216 with 2 Axes>"
      ]
     },
     "metadata": {
      "needs_background": "light"
     },
     "output_type": "display_data"
    },
    {
     "name": "stdout",
     "output_type": "stream",
     "text": [
      "[[121.25   0.  ]\n",
      " [  2.75   0.  ]]\n"
     ]
    }
   ],
   "source": [
    "for c in (LogisticRegression, LinearRegression, SVC):\n",
    "    cls = LinearRegression(n_jobs=-1)\n",
    "    cnf_matrix = []\n",
    "    for i in range(N):\n",
    "        X_train, X_test, y_train, y_test = train_test_split(X, y, test_size=0.5)\n",
    "        cls.fit(X_train, y_train)\n",
    "        y_predict = cls.predict(X_test).astype(int)\n",
    "        #print(y_predict)\n",
    "   \n",
    "        cnf_matrix.append(confusion_matrix(y_test, y_predict.astype(bool).astype(int))) # .astype(int)\n",
    "    #print(confusion_matrix(y_test, y_predict.astype(int)))\n",
    "    cnf_matrix = np.mean(np.array(cnf_matrix), axis=0)\n",
    "    plt.figure(figsize=(4, 3))\n",
    "    plot_confusion_matrix(cnf_matrix, classes=['0', '1'],\n",
    "                              title=c.__name__)\n",
    "    plt.savefig(\"spam\" + c.__name__ + \".png\")\n",
    "    plt.show()\n",
    "    print(cnf_matrix)"
   ]
  },
  {
   "cell_type": "code",
   "execution_count": 34,
   "metadata": {},
   "outputs": [
    {
     "name": "stdout",
     "output_type": "stream",
     "text": [
      "Normalized confusion matrix\n",
      "[[0.99173554 0.00826446]\n",
      " [1.         0.        ]]\n"
     ]
    },
    {
     "data": {
      "image/png": "[encoded data removed]",
      "text/plain": [
       "<Figure size 288x216 with 2 Axes>"
      ]
     },
     "metadata": {
      "needs_background": "light"
     },
     "output_type": "display_data"
    },
    {
     "name": "stdout",
     "output_type": "stream",
     "text": [
      "Normalized confusion matrix\n",
      "[[0. 1.]\n",
      " [0. 1.]]\n"
     ]
    },
    {
     "data": {
      "image/png": "[encoded data removed]",
      "text/plain": [
       "<Figure size 288x216 with 2 Axes>"
      ]
     },
     "metadata": {
      "needs_background": "light"
     },
     "output_type": "display_data"
    },
    {
     "ename": "ValueError",
     "evalue": "The number of classes has to be greater than one; got 1 class",
     "output_type": "error",
     "traceback": [
      "\u001b[1;31m---------------------------------------------------------------------------\u001b[0m",
      "\u001b[1;31mValueError\u001b[0m                                Traceback (most recent call last)",
      "\u001b[1;32m<ipython-input-34-baec65a880cc>\u001b[0m in \u001b[0;36m<module>\u001b[1;34m\u001b[0m\n\u001b[0;32m      4\u001b[0m         \u001b[0mX_train\u001b[0m\u001b[1;33m,\u001b[0m \u001b[0mX_test\u001b[0m\u001b[1;33m,\u001b[0m \u001b[0my_train\u001b[0m\u001b[1;33m,\u001b[0m \u001b[0my_test\u001b[0m \u001b[1;33m=\u001b[0m \u001b[0mtrain_test_split\u001b[0m\u001b[1;33m(\u001b[0m\u001b[0mX\u001b[0m\u001b[1;33m,\u001b[0m \u001b[0my\u001b[0m\u001b[1;33m,\u001b[0m \u001b[0mtest_size\u001b[0m\u001b[1;33m=\u001b[0m\u001b[1;36m0.5\u001b[0m\u001b[1;33m)\u001b[0m\u001b[1;33m\u001b[0m\u001b[1;33m\u001b[0m\u001b[0m\n\u001b[0;32m      5\u001b[0m         \u001b[0mcls\u001b[0m \u001b[1;33m=\u001b[0m \u001b[0mc\u001b[0m\u001b[1;33m(\u001b[0m\u001b[1;33m)\u001b[0m\u001b[1;33m\u001b[0m\u001b[1;33m\u001b[0m\u001b[0m\n\u001b[1;32m----> 6\u001b[1;33m         \u001b[0mcls\u001b[0m\u001b[1;33m.\u001b[0m\u001b[0mfit\u001b[0m\u001b[1;33m(\u001b[0m\u001b[0mX_train\u001b[0m\u001b[1;33m,\u001b[0m \u001b[0my_train\u001b[0m\u001b[1;33m)\u001b[0m\u001b[1;33m\u001b[0m\u001b[1;33m\u001b[0m\u001b[0m\n\u001b[0m\u001b[0;32m      7\u001b[0m         \u001b[0my_predict\u001b[0m \u001b[1;33m=\u001b[0m \u001b[0mcls\u001b[0m\u001b[1;33m.\u001b[0m\u001b[0mpredict\u001b[0m\u001b[1;33m(\u001b[0m\u001b[0mX_test\u001b[0m\u001b[1;33m)\u001b[0m\u001b[1;33m\u001b[0m\u001b[1;33m\u001b[0m\u001b[0m\n\u001b[0;32m      8\u001b[0m         \u001b[0mcnf_matrix\u001b[0m\u001b[1;33m.\u001b[0m\u001b[0mappend\u001b[0m\u001b[1;33m(\u001b[0m\u001b[0mconfusion_matrix\u001b[0m\u001b[1;33m(\u001b[0m\u001b[0my_test\u001b[0m\u001b[1;33m,\u001b[0m \u001b[0my_predict\u001b[0m\u001b[1;33m.\u001b[0m\u001b[0mastype\u001b[0m\u001b[1;33m(\u001b[0m\u001b[0mbool\u001b[0m\u001b[1;33m)\u001b[0m\u001b[1;33m.\u001b[0m\u001b[0mastype\u001b[0m\u001b[1;33m(\u001b[0m\u001b[0mint\u001b[0m\u001b[1;33m)\u001b[0m\u001b[1;33m)\u001b[0m\u001b[1;33m)\u001b[0m\u001b[1;33m\u001b[0m\u001b[1;33m\u001b[0m\u001b[0m\n",
      "\u001b[1;32m~\\anaconda3\\lib\\site-packages\\sklearn\\svm\\_base.py\u001b[0m in \u001b[0;36mfit\u001b[1;34m(self, X, y, sample_weight)\u001b[0m\n\u001b[0;32m    147\u001b[0m                          \u001b[0morder\u001b[0m\u001b[1;33m=\u001b[0m\u001b[1;34m'C'\u001b[0m\u001b[1;33m,\u001b[0m \u001b[0maccept_sparse\u001b[0m\u001b[1;33m=\u001b[0m\u001b[1;34m'csr'\u001b[0m\u001b[1;33m,\u001b[0m\u001b[1;33m\u001b[0m\u001b[1;33m\u001b[0m\u001b[0m\n\u001b[0;32m    148\u001b[0m                          accept_large_sparse=False)\n\u001b[1;32m--> 149\u001b[1;33m         \u001b[0my\u001b[0m \u001b[1;33m=\u001b[0m \u001b[0mself\u001b[0m\u001b[1;33m.\u001b[0m\u001b[0m_validate_targets\u001b[0m\u001b[1;33m(\u001b[0m\u001b[0my\u001b[0m\u001b[1;33m)\u001b[0m\u001b[1;33m\u001b[0m\u001b[1;33m\u001b[0m\u001b[0m\n\u001b[0m\u001b[0;32m    150\u001b[0m \u001b[1;33m\u001b[0m\u001b[0m\n\u001b[0;32m    151\u001b[0m         sample_weight = np.asarray([]\n",
      "\u001b[1;32m~\\anaconda3\\lib\\site-packages\\sklearn\\svm\\_base.py\u001b[0m in \u001b[0;36m_validate_targets\u001b[1;34m(self, y)\u001b[0m\n\u001b[0;32m    529\u001b[0m             raise ValueError(\n\u001b[0;32m    530\u001b[0m                 \u001b[1;34m\"The number of classes has to be greater than one; got %d\"\u001b[0m\u001b[1;33m\u001b[0m\u001b[1;33m\u001b[0m\u001b[0m\n\u001b[1;32m--> 531\u001b[1;33m                 \" class\" % len(cls))\n\u001b[0m\u001b[0;32m    532\u001b[0m \u001b[1;33m\u001b[0m\u001b[0m\n\u001b[0;32m    533\u001b[0m         \u001b[0mself\u001b[0m\u001b[1;33m.\u001b[0m\u001b[0mclasses_\u001b[0m \u001b[1;33m=\u001b[0m \u001b[0mcls\u001b[0m\u001b[1;33m\u001b[0m\u001b[1;33m\u001b[0m\u001b[0m\n",
      "\u001b[1;31mValueError\u001b[0m: The number of classes has to be greater than one; got 1 class"
     ]
    }
   ],
   "source": [
    "for c in (LogisticRegression, LinearRegression, SVC):\n",
    "    cnf_matrix = []\n",
    "    for i in range(N):\n",
    "        X_train, X_test, y_train, y_test = train_test_split(X, y, test_size=0.5)\n",
    "        cls = c()\n",
    "        cls.fit(X_train, y_train)\n",
    "        y_predict = cls.predict(X_test)\n",
    "        cnf_matrix.append(confusion_matrix(y_test, y_predict.astype(bool).astype(int)))\n",
    "    #print(confusion_matrix(y_test, y_predict.astype(int)))\n",
    "    cnf_matrix = np.mean(np.array(cnf_matrix), axis=0)\n",
    "    plt.figure(figsize=(4, 3))\n",
    "    plot_confusion_matrix(cnf_matrix, classes=['0', '1'],\n",
    "                              title=c.__name__)\n",
    "    plt.savefig(\"ccpev_\" + c.__name__ + \".png\")\n",
    "    plt.show()\n",
    "    #print(cnf_matrix)"
   ]
  },
  {
   "cell_type": "code",
   "execution_count": null,
   "metadata": {},
   "outputs": [],
   "source": []
  }
 ],
 "metadata": {
  "kernelspec": {
   "display_name": "Python 3",
   "language": "python",
   "name": "python3"
  },
  "language_info": {
   "codemirror_mode": {
    "name": "ipython",
    "version": 3
   },
   "file_extension": ".py",
   "mimetype": "text/x-python",
   "name": "python",
   "nbconvert_exporter": "python",
   "pygments_lexer": "ipython3",
   "version": "3.7.6"
  }
 },
 "nbformat": 4,
 "nbformat_minor": 4
}
