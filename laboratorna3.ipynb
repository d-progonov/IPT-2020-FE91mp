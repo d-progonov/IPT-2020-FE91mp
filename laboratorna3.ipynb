{
 "cells": [
  {
   "cell_type": "code",
   "execution_count": null,
   "metadata": {},
   "outputs": [],
   "source": [
    "Лабораторна робота 3. Варіант 3. Євдокимов Олексій"
   ]
  },
  {
   "cell_type": "code",
   "execution_count": 31,
   "metadata": {},
   "outputs": [],
   "source": [
    "import os\n",
    "\n",
    "import numpy as np\n",
    "import scipy as sp\n",
    "from scipy import misc, stats\n",
    "import pandas as pd\n",
    "from PIL import Image\n",
    "import matplotlib.pyplot as plt\n",
    "#import plotly.plotly as py\n",
    "import seaborn as sns\n",
    "from pandas import DataFrame, Series\n",
    "import warnings\n",
    "from matplotlib import image as img\n",
    "\n",
    "warnings.filterwarnings('ignore')\n",
    "\n",
    "\n",
    "%matplotlib inline"
   ]
  },
  {
   "cell_type": "code",
   "execution_count": 32,
   "metadata": {},
   "outputs": [],
   "source": [
    "MAIN_TAG = 'nikon'\n",
    "DIRNAME_TAGS = 'E:/Labs/tags'\n",
    "DIRNAME_IMAGES = 'E:/Labs/mirflickr'\n",
    "\n",
    "COLOR = {'red': 0,\n",
    "         'green': 1,\n",
    "         'blue': 2}"
   ]
  },
  {
   "cell_type": "code",
   "execution_count": 33,
   "metadata": {
    "scrolled": false
   },
   "outputs": [
    {
     "name": "stdout",
     "output_type": "stream",
     "text": [
      "250 images uploaded, processing begins...\n",
      "all images processed\n"
     ]
    }
   ],
   "source": [
    "# 1.generate a test sample of images from the source package\n",
    "\n",
    "np.random.RandomState(3)\n",
    "sample_size = 250\n",
    "indexes = np.random.choice(range(25000), sample_size)\n",
    "images = list()\n",
    "for i in range(sample_size):\n",
    "    filename = 'im' + str(indexes[i]) + '.jpg'\n",
    "    img_data = img.imread('E:/Labs/mirflickr/' + filename)\n",
    "    images.append(img_data)\n",
    "\n",
    "print(f'{sample_size} images uploaded, processing begins...')\n",
    "\n",
    "values = np.zeros((3, 256))\n",
    "for image in images:\n",
    "    for i in range(image.shape[0]):\n",
    "        for j in range(image.shape[1]):\n",
    "            values[0][image[i][j][0]] += 1\n",
    "            values[1][image[i][j][1]] += 1\n",
    "            values[2][image[i][j][2]] += 1\n",
    "            \n",
    "print('all images processed')"
   ]
  },
  {
   "cell_type": "code",
   "execution_count": 34,
   "metadata": {},
   "outputs": [],
   "source": [
    "import codecs\n",
    "\n",
    "Y = pd.Series()\n",
    "for name in image_names:\n",
    "    with codecs.open(os.path.join(DIRNAME_TAGS, 'tags%d.txt' % (name,)), \"r\", \"utf_8_sig\") as file:\n",
    "        set_tags = set(tag.strip() for tag in file.readlines())\n",
    "        #print('tags%d.txt' % (name,), '  ',set_tags)\n",
    "        Y.at[name] = int(MAIN_TAG in set_tags)\n",
    "Y = pd.DataFrame(Y, columns=['target'])"
   ]
  },
  {
   "cell_type": "code",
   "execution_count": 35,
   "metadata": {},
   "outputs": [
    {
     "data": {
      "text/plain": [
       "0    242\n",
       "1      8\n",
       "Name: target, dtype: int64"
      ]
     },
     "execution_count": 35,
     "metadata": {},
     "output_type": "execute_result"
    }
   ],
   "source": [
    "Y['target'].value_counts()"
   ]
  },
  {
   "cell_type": "code",
   "execution_count": 36,
   "metadata": {},
   "outputs": [
    {
     "data": {
      "text/html": [
       "<div>\n",
       "<style scoped>\n",
       "    .dataframe tbody tr th:only-of-type {\n",
       "        vertical-align: middle;\n",
       "    }\n",
       "\n",
       "    .dataframe tbody tr th {\n",
       "        vertical-align: top;\n",
       "    }\n",
       "\n",
       "    .dataframe thead th {\n",
       "        text-align: right;\n",
       "    }\n",
       "</style>\n",
       "<table border=\"1\" class=\"dataframe\">\n",
       "  <thead>\n",
       "    <tr style=\"text-align: right;\">\n",
       "      <th></th>\n",
       "      <th>target</th>\n",
       "    </tr>\n",
       "  </thead>\n",
       "  <tbody>\n",
       "    <tr>\n",
       "      <th>1115</th>\n",
       "      <td>0</td>\n",
       "    </tr>\n",
       "    <tr>\n",
       "      <th>2005</th>\n",
       "      <td>0</td>\n",
       "    </tr>\n",
       "    <tr>\n",
       "      <th>15402</th>\n",
       "      <td>0</td>\n",
       "    </tr>\n",
       "    <tr>\n",
       "      <th>17794</th>\n",
       "      <td>0</td>\n",
       "    </tr>\n",
       "    <tr>\n",
       "      <th>8490</th>\n",
       "      <td>0</td>\n",
       "    </tr>\n",
       "  </tbody>\n",
       "</table>\n",
       "</div>"
      ],
      "text/plain": [
       "       target\n",
       "1115        0\n",
       "2005        0\n",
       "15402       0\n",
       "17794       0\n",
       "8490        0"
      ]
     },
     "execution_count": 36,
     "metadata": {},
     "output_type": "execute_result"
    }
   ],
   "source": [
    "Y.head()"
   ]
  },
  {
   "cell_type": "code",
   "execution_count": 37,
   "metadata": {},
   "outputs": [],
   "source": [
    "data_static = DataFrame()\n",
    "num = 0\n",
    "d = []\n",
    "for image_name in image_names:\n",
    "    image = np.array(Image.open(os.path.join(DIRNAME_IMAGES, 'im%d.jpg' % (image_name))))\n",
    "    data = []\n",
    "    for name, num in COLOR.items():\n",
    "        a = image[:, :, num].ravel()\n",
    "        data.extend([np.mean(a), np.var(a), sp.stats.skew(a), sp.stats.kurtosis(a)])\n",
    "    d.append([image_name, *data])\n",
    "    \n",
    "\n",
    "data_static = pd.DataFrame.from_records(d)\n",
    "data_static = data_static.rename(columns={0: 'name'}).set_index('name')"
   ]
  },
  {
   "cell_type": "code",
   "execution_count": 38,
   "metadata": {},
   "outputs": [
    {
     "data": {
      "text/html": [
       "<div>\n",
       "<style scoped>\n",
       "    .dataframe tbody tr th:only-of-type {\n",
       "        vertical-align: middle;\n",
       "    }\n",
       "\n",
       "    .dataframe tbody tr th {\n",
       "        vertical-align: top;\n",
       "    }\n",
       "\n",
       "    .dataframe thead th {\n",
       "        text-align: right;\n",
       "    }\n",
       "</style>\n",
       "<table border=\"1\" class=\"dataframe\">\n",
       "  <thead>\n",
       "    <tr style=\"text-align: right;\">\n",
       "      <th></th>\n",
       "      <th>1</th>\n",
       "      <th>2</th>\n",
       "      <th>3</th>\n",
       "      <th>4</th>\n",
       "      <th>5</th>\n",
       "      <th>6</th>\n",
       "      <th>7</th>\n",
       "      <th>8</th>\n",
       "      <th>9</th>\n",
       "      <th>10</th>\n",
       "      <th>11</th>\n",
       "      <th>12</th>\n",
       "    </tr>\n",
       "    <tr>\n",
       "      <th>name</th>\n",
       "      <th></th>\n",
       "      <th></th>\n",
       "      <th></th>\n",
       "      <th></th>\n",
       "      <th></th>\n",
       "      <th></th>\n",
       "      <th></th>\n",
       "      <th></th>\n",
       "      <th></th>\n",
       "      <th></th>\n",
       "      <th></th>\n",
       "      <th></th>\n",
       "    </tr>\n",
       "  </thead>\n",
       "  <tbody>\n",
       "    <tr>\n",
       "      <th>1115</th>\n",
       "      <td>145.716258</td>\n",
       "      <td>5245.566175</td>\n",
       "      <td>-0.516526</td>\n",
       "      <td>-0.598343</td>\n",
       "      <td>122.413580</td>\n",
       "      <td>5198.605859</td>\n",
       "      <td>-0.109227</td>\n",
       "      <td>-0.818177</td>\n",
       "      <td>102.539399</td>\n",
       "      <td>4879.242045</td>\n",
       "      <td>0.437974</td>\n",
       "      <td>-0.557680</td>\n",
       "    </tr>\n",
       "    <tr>\n",
       "      <th>2005</th>\n",
       "      <td>49.025163</td>\n",
       "      <td>3071.202036</td>\n",
       "      <td>1.433315</td>\n",
       "      <td>1.567194</td>\n",
       "      <td>43.373753</td>\n",
       "      <td>2720.277315</td>\n",
       "      <td>1.585288</td>\n",
       "      <td>2.149267</td>\n",
       "      <td>35.824277</td>\n",
       "      <td>2045.468627</td>\n",
       "      <td>1.941546</td>\n",
       "      <td>4.173040</td>\n",
       "    </tr>\n",
       "    <tr>\n",
       "      <th>15402</th>\n",
       "      <td>161.894584</td>\n",
       "      <td>2733.691978</td>\n",
       "      <td>0.049956</td>\n",
       "      <td>-0.769068</td>\n",
       "      <td>138.170807</td>\n",
       "      <td>3320.861982</td>\n",
       "      <td>0.279099</td>\n",
       "      <td>-0.437544</td>\n",
       "      <td>118.606235</td>\n",
       "      <td>3976.688798</td>\n",
       "      <td>0.382372</td>\n",
       "      <td>-0.442355</td>\n",
       "    </tr>\n",
       "    <tr>\n",
       "      <th>17794</th>\n",
       "      <td>62.899973</td>\n",
       "      <td>4178.389221</td>\n",
       "      <td>1.516380</td>\n",
       "      <td>1.607255</td>\n",
       "      <td>68.541387</td>\n",
       "      <td>4258.000554</td>\n",
       "      <td>1.316090</td>\n",
       "      <td>1.127021</td>\n",
       "      <td>73.435744</td>\n",
       "      <td>3601.294522</td>\n",
       "      <td>1.202903</td>\n",
       "      <td>1.087438</td>\n",
       "    </tr>\n",
       "    <tr>\n",
       "      <th>8490</th>\n",
       "      <td>109.274708</td>\n",
       "      <td>3426.381020</td>\n",
       "      <td>-0.679336</td>\n",
       "      <td>-0.993543</td>\n",
       "      <td>82.706564</td>\n",
       "      <td>2206.571259</td>\n",
       "      <td>-0.425561</td>\n",
       "      <td>-1.222114</td>\n",
       "      <td>49.943424</td>\n",
       "      <td>1288.853975</td>\n",
       "      <td>-0.133092</td>\n",
       "      <td>-1.359322</td>\n",
       "    </tr>\n",
       "  </tbody>\n",
       "</table>\n",
       "</div>"
      ],
      "text/plain": [
       "               1            2         3         4           5            6   \\\n",
       "name                                                                          \n",
       "1115   145.716258  5245.566175 -0.516526 -0.598343  122.413580  5198.605859   \n",
       "2005    49.025163  3071.202036  1.433315  1.567194   43.373753  2720.277315   \n",
       "15402  161.894584  2733.691978  0.049956 -0.769068  138.170807  3320.861982   \n",
       "17794   62.899973  4178.389221  1.516380  1.607255   68.541387  4258.000554   \n",
       "8490   109.274708  3426.381020 -0.679336 -0.993543   82.706564  2206.571259   \n",
       "\n",
       "             7         8           9            10        11        12  \n",
       "name                                                                    \n",
       "1115  -0.109227 -0.818177  102.539399  4879.242045  0.437974 -0.557680  \n",
       "2005   1.585288  2.149267   35.824277  2045.468627  1.941546  4.173040  \n",
       "15402  0.279099 -0.437544  118.606235  3976.688798  0.382372 -0.442355  \n",
       "17794  1.316090  1.127021   73.435744  3601.294522  1.202903  1.087438  \n",
       "8490  -0.425561 -1.222114   49.943424  1288.853975 -0.133092 -1.359322  "
      ]
     },
     "execution_count": 38,
     "metadata": {},
     "output_type": "execute_result"
    }
   ],
   "source": [
    "data_static.head()"
   ]
  },
  {
   "cell_type": "code",
   "execution_count": 39,
   "metadata": {},
   "outputs": [
    {
     "data": {
      "text/plain": [
       "(250, 12)"
      ]
     },
     "execution_count": 39,
     "metadata": {},
     "output_type": "execute_result"
    }
   ],
   "source": [
    "data_static.shape"
   ]
  },
  {
   "cell_type": "code",
   "execution_count": 40,
   "metadata": {},
   "outputs": [],
   "source": [
    "import itertools\n",
    "\n",
    "from sklearn.linear_model import LinearRegression, LogisticRegression\n",
    "from sklearn.svm import SVC\n",
    "from sklearn.model_selection import KFold, cross_val_score, train_test_split\n",
    "from sklearn.metrics import accuracy_score, recall_score, confusion_matrix"
   ]
  },
  {
   "cell_type": "code",
   "execution_count": 41,
   "metadata": {},
   "outputs": [],
   "source": [
    "N = 12"
   ]
  },
  {
   "cell_type": "code",
   "execution_count": 42,
   "metadata": {},
   "outputs": [],
   "source": [
    "def plot_confusion_matrix(cm, classes,\n",
    "                          normalize=True,\n",
    "                          title='Confusion matrix',\n",
    "                          cmap=plt.cm.Blues):\n",
    "    plt.imshow(cm, interpolation='nearest', cmap=cmap)\n",
    "    plt.title(title)\n",
    "    plt.colorbar()\n",
    "    tick_marks = np.arange(len(classes))\n",
    "    plt.xticks(tick_marks, classes)\n",
    "    plt.yticks(tick_marks, classes)\n",
    "\n",
    "    if normalize:\n",
    "        cm = cm.astype('float') / cm.sum(axis=1)[:, np.newaxis]\n",
    "        print(\"Normalized confusion matrix\")\n",
    "    else:\n",
    "        print('Confusion matrix, without normalization')\n",
    "\n",
    "    print(cm)\n",
    "\n",
    "    thresh = cm.max() / 2.\n",
    "    for i, j in itertools.product(range(cm.shape[0]), range(cm.shape[1])):\n",
    "        plt.text(j, i, round(cm[i, j], 3),\n",
    "                 horizontalalignment=\"center\",\n",
    "                 color=\"white\" if cm[i, j] > thresh else \"black\")\n",
    "\n",
    "    plt.tight_layout()\n",
    "    plt.ylabel('True label')\n",
    "    plt.xlabel('Predicted label')\n",
    "\n",
    "font = {'size' : 15}\n",
    "\n",
    "plt.rc('font', **font)"
   ]
  },
  {
   "cell_type": "code",
   "execution_count": null,
   "metadata": {},
   "outputs": [],
   "source": [
    "STATIC"
   ]
  },
  {
   "cell_type": "code",
   "execution_count": 43,
   "metadata": {},
   "outputs": [],
   "source": [
    "X = data_static.copy()\n",
    "\n",
    "df = Y.join(X, how='inner')\n",
    "df = df.drop_duplicates()\n",
    "\n",
    "y = df['target']\n",
    "X = df.drop('target', axis=1)"
   ]
  },
  {
   "cell_type": "code",
   "execution_count": 44,
   "metadata": {},
   "outputs": [
    {
     "name": "stdout",
     "output_type": "stream",
     "text": [
      "Normalized confusion matrix\n",
      "[[0.98350515 0.01649485]\n",
      " [1.         0.        ]]\n"
     ]
    },
    {
     "data": {
      "image/png": "[encoded data removed]",
      "text/plain": [
       "<Figure size 288x216 with 2 Axes>"
      ]
     },
     "metadata": {
      "needs_background": "light"
     },
     "output_type": "display_data"
    },
    {
     "name": "stdout",
     "output_type": "stream",
     "text": [
      "Normalized confusion matrix\n",
      "[[0. 1.]\n",
      " [0. 1.]]\n"
     ]
    },
    {
     "data": {
      "image/png": "[encoded data removed]",
      "text/plain": [
       "<Figure size 288x216 with 2 Axes>"
      ]
     },
     "metadata": {
      "needs_background": "light"
     },
     "output_type": "display_data"
    },
    {
     "name": "stdout",
     "output_type": "stream",
     "text": [
      "Normalized confusion matrix\n",
      "[[1. 0.]\n",
      " [1. 0.]]\n"
     ]
    },
    {
     "data": {
      "image/png": "[encoded data removed]",
      "text/plain": [
       "<Figure size 288x216 with 2 Axes>"
      ]
     },
     "metadata": {
      "needs_background": "light"
     },
     "output_type": "display_data"
    }
   ],
   "source": [
    "for c in (LogisticRegression, LinearRegression, SVC):\n",
    "    cls = c()\n",
    "    cnf_matrix = []\n",
    "    for i in range(N):\n",
    "        X_train, X_test, y_train, y_test = train_test_split(X, y, test_size=0.5)\n",
    "        cls.fit(X_train, y_train)\n",
    "        y_predict = cls.predict(X_test)\n",
    "        cnf_matrix.append(confusion_matrix(y_test, y_predict.astype(bool).astype(int)))\n",
    "    cnf_matrix = np.mean(np.array(cnf_matrix), axis=0)\n",
    "    plt.figure(figsize=(4, 3))\n",
    "    plot_confusion_matrix(cnf_matrix, classes=['0', '1'],\n",
    "                          title=c.__name__)\n",
    "    plt.savefig(\"static_\" + c.__name__ + \".png\")\n",
    "    plt.show()"
   ]
  },
  {
   "cell_type": "code",
   "execution_count": null,
   "metadata": {},
   "outputs": [],
   "source": [
    "SPAM"
   ]
  },
  {
   "cell_type": "code",
   "execution_count": 45,
   "metadata": {},
   "outputs": [
    {
     "name": "stdout",
     "output_type": "stream",
     "text": [
      "Normalized confusion matrix\n",
      "[[0.99861496 0.00138504]\n",
      " [1.         0.        ]]\n"
     ]
    },
    {
     "data": {
      "image/png": "[encoded data removed]",
      "text/plain": [
       "<Figure size 288x216 with 2 Axes>"
      ]
     },
     "metadata": {
      "needs_background": "light"
     },
     "output_type": "display_data"
    },
    {
     "name": "stdout",
     "output_type": "stream",
     "text": [
      "[[120.16666667   0.16666667]\n",
      " [  4.66666667   0.        ]]\n",
      "Normalized confusion matrix\n",
      "[[0.99656829 0.00343171]\n",
      " [1.         0.        ]]\n"
     ]
    },
    {
     "data": {
      "image/png": "[encoded data removed]",
      "text/plain": [
       "<Figure size 288x216 with 2 Axes>"
      ]
     },
     "metadata": {
      "needs_background": "light"
     },
     "output_type": "display_data"
    },
    {
     "name": "stdout",
     "output_type": "stream",
     "text": [
      "[[121.           0.41666667]\n",
      " [  3.58333333   0.        ]]\n",
      "Normalized confusion matrix\n",
      "[[0.99793103 0.00206897]\n",
      " [1.         0.        ]]\n"
     ]
    },
    {
     "data": {
      "image/png": "[encoded data removed]",
      "text/plain": [
       "<Figure size 288x216 with 2 Axes>"
      ]
     },
     "metadata": {
      "needs_background": "light"
     },
     "output_type": "display_data"
    },
    {
     "name": "stdout",
     "output_type": "stream",
     "text": [
      "[[120.58333333   0.25      ]\n",
      " [  4.16666667   0.        ]]\n"
     ]
    }
   ],
   "source": [
    "for c in (LogisticRegression, LinearRegression, SVC):\n",
    "    cls = LinearRegression(n_jobs=-1)\n",
    "    cnf_matrix = []\n",
    "    for i in range(N):\n",
    "        X_train, X_test, y_train, y_test = train_test_split(X, y, test_size=0.5)\n",
    "        cls.fit(X_train, y_train)\n",
    "        y_predict = cls.predict(X_test).astype(int)\n",
    "        #print(y_predict)\n",
    "   \n",
    "        cnf_matrix.append(confusion_matrix(y_test, y_predict.astype(bool).astype(int))) # .astype(int)\n",
    "    #print(confusion_matrix(y_test, y_predict.astype(int)))\n",
    "    cnf_matrix = np.mean(np.array(cnf_matrix), axis=0)\n",
    "    plt.figure(figsize=(4, 3))\n",
    "    plot_confusion_matrix(cnf_matrix, classes=['0', '1'],\n",
    "                              title=c.__name__)\n",
    "    plt.savefig(\"spam\" + c.__name__ + \".png\")\n",
    "    plt.show()\n",
    "    print(cnf_matrix)"
   ]
  },
  {
   "cell_type": "code",
   "execution_count": null,
   "metadata": {},
   "outputs": [],
   "source": [
    "CCPEV"
   ]
  },
  {
   "cell_type": "code",
   "execution_count": 46,
   "metadata": {},
   "outputs": [
    {
     "name": "stdout",
     "output_type": "stream",
     "text": [
      "Normalized confusion matrix\n",
      "[[0.98551724 0.01448276]\n",
      " [1.         0.        ]]\n"
     ]
    },
    {
     "data": {
      "image/png": "[encoded data removed]",
      "text/plain": [
       "<Figure size 288x216 with 2 Axes>"
      ]
     },
     "metadata": {
      "needs_background": "light"
     },
     "output_type": "display_data"
    },
    {
     "name": "stdout",
     "output_type": "stream",
     "text": [
      "Normalized confusion matrix\n",
      "[[0. 1.]\n",
      " [0. 1.]]\n"
     ]
    },
    {
     "data": {
      "image/png": "[encoded data removed]",
      "text/plain": [
       "<Figure size 288x216 with 2 Axes>"
      ]
     },
     "metadata": {
      "needs_background": "light"
     },
     "output_type": "display_data"
    },
    {
     "name": "stdout",
     "output_type": "stream",
     "text": [
      "Normalized confusion matrix\n",
      "[[1. 0.]\n",
      " [1. 0.]]\n"
     ]
    },
    {
     "data": {
      "image/png": "[encoded data removed]",
      "text/plain": [
       "<Figure size 288x216 with 2 Axes>"
      ]
     },
     "metadata": {
      "needs_background": "light"
     },
     "output_type": "display_data"
    }
   ],
   "source": [
    "for c in (LogisticRegression, LinearRegression, SVC):\n",
    "    cnf_matrix = []\n",
    "    for i in range(N):\n",
    "        X_train, X_test, y_train, y_test = train_test_split(X, y, test_size=0.5)\n",
    "        cls = c()\n",
    "        cls.fit(X_train, y_train)\n",
    "        y_predict = cls.predict(X_test)\n",
    "        cnf_matrix.append(confusion_matrix(y_test, y_predict.astype(bool).astype(int)))\n",
    "    #print(confusion_matrix(y_test, y_predict.astype(int)))\n",
    "    cnf_matrix = np.mean(np.array(cnf_matrix), axis=0)\n",
    "    plt.figure(figsize=(4, 3))\n",
    "    plot_confusion_matrix(cnf_matrix, classes=['0', '1'],\n",
    "                              title=c.__name__)\n",
    "    plt.savefig(\"ccpev_\" + c.__name__ + \".png\")\n",
    "    plt.show()\n",
    "    #print(cnf_matrix)"
   ]
  },
  {
   "cell_type": "code",
   "execution_count": null,
   "metadata": {},
   "outputs": [],
   "source": []
  }
 ],
 "metadata": {
  "kernelspec": {
   "display_name": "Python 3",
   "language": "python",
   "name": "python3"
  },
  "language_info": {
   "codemirror_mode": {
    "name": "ipython",
    "version": 3
   },
   "file_extension": ".py",
   "mimetype": "text/x-python",
   "name": "python",
   "nbconvert_exporter": "python",
   "pygments_lexer": "ipython3",
   "version": "3.7.6"
  }
 },
 "nbformat": 4,
 "nbformat_minor": 4
}
