{
 "cells": [
  {
   "cell_type": "markdown",
   "metadata": {},
   "source": [
    "Лабораторна робота №1 (Варіант 3)\n",
    "1.\tСформувати тестову вибірку зображень з вихідного пакета;\n",
    "2.\tДля кожного каналу кольору кожного зображення з тестового пакета обчислити наступні характеристики:\n",
    "a.\tМаксимальна / мінімальне значення;\n",
    "b.\t Математичне сподівання і дисперсію;\n",
    "c.\t Медіану значень, інтерквартільний розмах;\n",
    "d.\t Коефіцієнти асиметрії та ексцесу (нормалізований);\n",
    "3.\tДля кожного каналу кольору кожного зображення з тестового пакета побудувати гістограму значень яскравості пікселів;\n",
    "4.\t Провести апроксимацію отриманих гістограм з використанням відомих імовірнісних розподілів, визначити найкращу апроксимацію;\n",
    "5.\t Побудувати розподіл типів використаних імовірнісних розподілів для яких досягається мінімальне значення помилки апроксимації з п.4.\n"
   ]
  },
  {
   "cell_type": "code",
   "execution_count": 2,
   "metadata": {},
   "outputs": [],
   "source": [
    "from os import listdir\n",
    "\n",
    "from matplotlib import image as img\n",
    "import matplotlib.pyplot as plt\n",
    "\n",
    "import random\n",
    "import numpy as np\n",
    "import seaborn as sns\n",
    "from scipy import stats"
   ]
  },
  {
   "cell_type": "code",
   "execution_count": 11,
   "metadata": {},
   "outputs": [
    {
     "name": "stdout",
     "output_type": "stream",
     "text": [
      "250 images uploaded, processing begins...\n",
      "all images processed\n"
     ]
    }
   ],
   "source": [
    "# 1.generate a test sample of images from the source package\n",
    "\n",
    "np.random.RandomState(3)\n",
    "sample_size = 250\n",
    "indexes = np.random.choice(range(25000), sample_size)\n",
    "images = list()\n",
    "for i in range(sample_size):\n",
    "    filename = 'im' + str(indexes[i]) + '.jpg'\n",
    "    img_data = img.imread('.../downloads/mirflickr/' + filename)\n",
    "    images.append(img_data)\n",
    "\n",
    "print(f'{sample_size} images uploaded, processing begins...')\n",
    "\n",
    "values = np.zeros((3, 256))\n",
    "for image in images:\n",
    "    for i in range(image.shape[0]):\n",
    "        for j in range(image.shape[1]):\n",
    "            values[0][image[i][j][0]] += 1\n",
    "            values[1][image[i][j][1]] += 1\n",
    "            values[2][image[i][j][2]] += 1\n",
    "            \n",
    "print('all images processed')"
   ]
  },
  {
   "cell_type": "code",
   "execution_count": 12,
   "metadata": {},
   "outputs": [
    {
     "name": "stdout",
     "output_type": "stream",
     "text": [
      "RED:\n",
      "maximum value - 255, \n",
      "minimum value - 0\n",
      "GREEN:\n",
      "maximum value - 255, \n",
      "minimum value - 0\n",
      "BLUE:\n",
      "maximum value - 255, \n",
      "minimum value - 0\n"
     ]
    }
   ],
   "source": [
    "# 2.for each color channel of each image in the test package, calculate the following characteristics: \n",
    "# a.maximum / minimum value\n",
    "\n",
    "colors = {\n",
    "    'RED': 0,\n",
    "    'GREEN': 1,\n",
    "    'BLUE': 2\n",
    "}\n",
    "\n",
    "for color in colors:\n",
    "    print(color + ':')\n",
    "    for i in range(255, 0, -1):\n",
    "        if (values[colors[str(color)]][i] != 0):\n",
    "            print(f'maximum value - {i}, ')\n",
    "            break\n",
    "    for i in range(0, 255):\n",
    "        if (values[colors[str(color)]][i] != 0):\n",
    "            print(f'minimum value - {i}')\n",
    "            break"
   ]
  },
  {
   "cell_type": "code",
   "execution_count": 38,
   "metadata": {},
   "outputs": [
    {
     "name": "stdout",
     "output_type": "stream",
     "text": [
      "RED:\n",
      "expectation - 113.60443421273365\n",
      "variance - 6248.877506995998\n",
      "GREEN:\n",
      "expectation - 107.30682031381062\n",
      "variance - 5613.174370057347\n",
      "BLUE:\n",
      "expectation - 98.59806754867645\n",
      "variance - 5781.50450273308\n"
     ]
    }
   ],
   "source": [
    "# b.expectation and variance\n",
    "\n",
    "expectations = {\n",
    "    'RED': 0,\n",
    "    'GREEN': 0,\n",
    "    'BLUE': 0  \n",
    "}\n",
    "\n",
    "variances = {\n",
    "    'RED': 0,\n",
    "    'GREEN': 0,\n",
    "    'BLUE': 0  \n",
    "}\n",
    "\n",
    "for color in colors:\n",
    "    print(color + ':')\n",
    "    sum_values = sum(values[colors[str(color)]])\n",
    "    expectation = 0\n",
    "    for i in range(len(values[colors[str(color)]])):\n",
    "        p = (values[colors[str(color)]][i] / sum_values)\n",
    "        expectation += p * i\n",
    "    variance = 0\n",
    "    for i in range(len(values[colors[str(color)]])):\n",
    "        p = (values[colors[str(color)]][i] / sum_values)\n",
    "        variance += p * ((i - expectation) ** 2)\n",
    "        \n",
    "    expectations[str(color)] = expectation\n",
    "    variances[str(color)] = variance\n",
    "    print(f'expectation - {expectation}')\n",
    "    print(f'variance - {variance}')\n",
    "    "
   ]
  },
  {
   "cell_type": "code",
   "execution_count": 35,
   "metadata": {},
   "outputs": [
    {
     "name": "stdout",
     "output_type": "stream",
     "text": [
      "RED:\n",
      "median values - 110\n",
      "interquartile range - 137\n",
      "GREEN:\n",
      "median values - 102\n",
      "interquartile range - 125\n",
      "BLUE:\n",
      "median values - 89\n",
      "interquartile range - 130\n"
     ]
    }
   ],
   "source": [
    "# c.median values, interquartile range\n",
    "\n",
    "\n",
    "def median_values(array):\n",
    "    summa_values = sum(array)\n",
    "    summa = 0\n",
    "    for index in range(len(array)):\n",
    "        summa += array[index]\n",
    "        if (summa > (summa_values / 2)):\n",
    "            return index - 1\n",
    "        if (summa == (summa_values / 2)):\n",
    "            return (2 * index + 1) / 2\n",
    "\n",
    "def interquartile_range(array, interquartile):\n",
    "    summa_values = sum(array)\n",
    "    summa = 0\n",
    "    for i in range(len(array)):\n",
    "        prev_summa = summa\n",
    "        p = array[i] /  summa_values\n",
    "        summa += p\n",
    "        if (summa > interquartile):\n",
    "            if (interquartile - prev_summa < summa - interquartile):\n",
    "                return i - 1\n",
    "            elif (interquartile - prev_summa > summa - interquartile):\n",
    "                return i\n",
    "            else:\n",
    "                return (2 * i - 1) / 2\n",
    "\n",
    "for color in colors:\n",
    "    print(color + ':')\n",
    "    print(f'median values - {median_values(values[colors[str(color)]])}')\n",
    "    print(f'interquartile range - {interquartile_range(values[colors[str(color)]], 0.75) - interquartile_range(values[colors[str(color)]], 0.25)}')\n"
   ]
  },
  {
   "cell_type": "code",
   "execution_count": 49,
   "metadata": {},
   "outputs": [
    {
     "name": "stdout",
     "output_type": "stream",
     "text": [
      "RED:\n",
      "asymmetry - 0.1608408344525885\n",
      "excess - -1.202426131141161\n",
      "GREEN:\n",
      "asymmetry - 0.2596345757144237\n",
      "excess - -1.046134480329933\n",
      "BLUE:\n",
      "asymmetry - 0.3781474508728697\n",
      "excess - -1.0105627217737896\n"
     ]
    }
   ],
   "source": [
    "# d. сoefficients of asymmetry and excess\n",
    "\n",
    "def finder(array, expectation, power):\n",
    "    summa_values = sum(array)\n",
    "    final = 0\n",
    "    for i in range(len(array)):\n",
    "        p = (array[i] / summa_values)\n",
    "        final += p * ((i - expectation) ** power)\n",
    "    return final\n",
    "\n",
    "\n",
    "for color in colors:\n",
    "    print(color + ':')\n",
    "    asymmetry = finder(values[colors[color]], expectations[color], 3) / (variances[color] ** (3 / 2))\n",
    "    excess = finder(values[colors[color]], expectations[color], 4) / (variances[color] ** 2) - 3\n",
    "    print(f'asymmetry - {asymmetry}')\n",
    "    print(f'excess - {excess}')"
   ]
  },
  {
   "cell_type": "code",
   "execution_count": 45,
   "metadata": {},
   "outputs": [
    {
     "data": {
      "image/png": "[encoded data removed]",
      "text/plain": [
       "<Figure size 432x288 with 1 Axes>"
      ]
     },
     "metadata": {
      "needs_background": "light"
     },
     "output_type": "display_data"
    },
    {
     "data": {
      "image/png": "[encoded data removed]",
      "text/plain": [
       "<Figure size 432x288 with 1 Axes>"
      ]
     },
     "metadata": {
      "needs_background": "light"
     },
     "output_type": "display_data"
    },
    {
     "data": {
      "image/png": "[encoded data removed]",
      "text/plain": [
       "<Figure size 432x288 with 1 Axes>"
      ]
     },
     "metadata": {
      "needs_background": "light"
     },
     "output_type": "display_data"
    }
   ],
   "source": [
    "# 3.for each color channel of each image from the test package, construct a histogram of pixel brightness values\n",
    "\n",
    "x = range(256)\n",
    "\n",
    "for color in colors:\n",
    "    plt.bar(x, values[colors[color]], color=color.lower())\n",
    "    plt.xlabel('brightness')\n",
    "    plt.ylabel('frequency')\n",
    "    plt.ylim(top=1500000)\n",
    "    plt.show()"
   ]
  },
  {
   "cell_type": "code",
   "execution_count": 47,
   "metadata": {},
   "outputs": [
    {
     "data": {
      "image/png": "[encoded data removed]",
      "text/plain": [
       "<Figure size 432x288 with 1 Axes>"
      ]
     },
     "metadata": {
      "needs_background": "light"
     },
     "output_type": "display_data"
    },
    {
     "data": {
      "image/png": "[encoded data removed]",
      "text/plain": [
       "<Figure size 432x288 with 1 Axes>"
      ]
     },
     "metadata": {
      "needs_background": "light"
     },
     "output_type": "display_data"
    }
   ],
   "source": [
    "test = values[colors['RED']]\n",
    "plt.hist(test, bins=1000)\n",
    "plt.show()\n",
    "\n",
    "X, Y = sns.distplot(np.ravel(test)).get_lines()[0].get_data()"
   ]
  },
  {
   "cell_type": "code",
   "execution_count": 54,
   "metadata": {},
   "outputs": [
    {
     "data": {
      "image/png": "[encoded data removed]",
      "text/plain": [
       "<Figure size 432x288 with 1 Axes>"
      ]
     },
     "metadata": {
      "needs_background": "light"
     },
     "output_type": "display_data"
    }
   ],
   "source": [
    "test = np.ravel(test)\n",
    "xt = plt.xticks()[0]\n",
    "x_min, x_max = min(xt), max(xt)\n",
    "l = np.linspace(0, 255, len(X))\n",
    "\n",
    "m, s = stats.norm.fit((X, Y))\n",
    "pg = stats.norm.pdf(l, m, s)\n",
    "plt.plot(l, pg, label=\"norm\", color='black')\n",
    "plt.plot(X, Y, color='black', linewidth=4)\n",
    "\n",
    "plt.plot(l, pg, label=\"norm\")\n",
    "ag, bg, cg = stats.gamma.fit((X, Y))\n",
    "pgamma = stats.gamma.pdf(lnspc, ag, bg, cg)\n",
    "plt.plot(lnspc, pgamma, label=\"gamma\", color='blue')\n",
    "\n",
    "ab, bb, cb, db = stats.beta.fit((X, Y))\n",
    "pbeta = stats.beta.pdf(l, ab, bb, cb, db)\n",
    "plt.plot(l, pbeta, label=\"beta\", color='red')\n",
    "\n",
    "plt.show()"
   ]
  }
 ],
 "metadata": {
  "kernelspec": {
   "display_name": "Python 3",
   "language": "python",
   "name": "python3"
  },
  "language_info": {
   "codemirror_mode": {
    "name": "ipython",
    "version": 3
   },
   "file_extension": ".py",
   "mimetype": "text/x-python",
   "name": "python",
   "nbconvert_exporter": "python",
   "pygments_lexer": "ipython3",
   "version": "3.7.6"
  }
 },
 "nbformat": 4,
 "nbformat_minor": 4
}
