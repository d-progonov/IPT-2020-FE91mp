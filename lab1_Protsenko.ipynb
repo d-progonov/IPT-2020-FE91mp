{
 "cells": [
  {
   "cell_type": "code",
   "execution_count": 11,
   "metadata": {},
   "outputs": [
    {
     "name": "stdout",
     "output_type": "stream",
     "text": [
      "> loaded im24126.jpg (344, 500, 3)\n",
      "> loaded im1163.jpg (439, 500, 3)\n",
      "> loaded im8871.jpg (500, 366, 3)\n",
      "> loaded im154.jpg (375, 500, 3)\n",
      "> loaded im17980.jpg (375, 500, 3)\n",
      "> loaded im18583.jpg (500, 422, 3)\n",
      "> loaded im8499.jpg (500, 333, 3)\n",
      "> loaded im17800.jpg (375, 500, 3)\n",
      "> loaded im3726.jpg (333, 500, 3)\n",
      "> loaded im20979.jpg (375, 500, 3)\n",
      "> loaded im6194.jpg (375, 500, 3)\n",
      "> loaded im23236.jpg (333, 500, 3)\n",
      "> loaded im294.jpg (334, 500, 3)\n",
      "> loaded im22160.jpg (292, 500, 3)\n",
      "> loaded im9638.jpg (410, 500, 3)\n",
      "> loaded im8301.jpg (500, 337, 3)\n",
      "> loaded im13699.jpg (500, 340, 3)\n",
      "> loaded im9816.jpg (500, 500, 3)\n",
      "> loaded im15433.jpg (375, 500, 3)\n",
      "> loaded im17260.jpg (327, 500, 3)\n",
      "> loaded im5528.jpg (375, 500, 3)\n",
      "> loaded im9525.jpg (500, 500, 3)\n",
      "> loaded im22784.jpg (359, 500, 3)\n",
      "> loaded im21700.jpg (375, 500, 3)\n",
      "> loaded im10292.jpg (335, 500, 3)\n",
      "> loaded im22287.jpg (376, 500, 3)\n",
      "> loaded im6427.jpg (333, 500, 3)\n",
      "> loaded im18081.jpg (373, 500, 3)\n",
      "> loaded im10553.jpg (333, 500, 3)\n",
      "> loaded im24072.jpg (250, 500, 3)\n",
      "> loaded im14606.jpg (332, 500, 3)\n",
      "> loaded im7871.jpg (500, 375, 3)\n",
      "> loaded im18680.jpg (366, 500, 3)\n",
      "> loaded im7943.jpg (305, 500, 3)\n",
      "> loaded im14593.jpg (333, 500, 3)\n",
      "> loaded im12667.jpg (375, 500, 3)\n",
      "> loaded im17506.jpg (500, 332, 3)\n",
      "> loaded im14854.jpg (375, 500, 3)\n",
      "> loaded im10921.jpg (375, 500, 3)\n",
      "> loaded im23312.jpg (500, 303, 3)\n",
      "> loaded im19941.jpg (478, 500, 3)\n",
      "> loaded im10832.jpg (500, 375, 3)\n",
      "> loaded im15230.jpg (375, 500, 3)\n",
      "> loaded im2103.jpg (497, 500, 3)\n",
      "> loaded im17873.jpg (375, 500, 3)\n",
      "> loaded im23836.jpg (375, 500, 3)\n",
      "> loaded im17246.jpg (397, 500, 3)\n",
      "> loaded im6280.jpg (332, 500, 3)\n",
      "> loaded im15338.jpg (333, 500, 3)\n",
      "> loaded im10740.jpg (334, 500, 3)\n",
      "> loaded im6239.jpg (375, 500, 3)\n",
      "> loaded im12703.jpg (333, 500, 3)\n",
      "> loaded im10894.jpg (500, 398, 3)\n",
      "> loaded im15000.jpg (500, 375, 3)\n",
      "> loaded im13298.jpg (319, 500, 3)\n",
      "> loaded im2270.jpg (340, 500, 3)\n",
      "> loaded im12495.jpg (333, 500, 3)\n",
      "> loaded im5223.jpg (427, 448, 3)\n",
      "> loaded im9795.jpg (332, 500, 3)\n",
      "> loaded im23740.jpg (500, 315, 3)\n",
      "> loaded im4354.jpg (333, 500, 3)\n",
      "> loaded im13206.jpg (333, 500, 3)\n",
      "> loaded im2169.jpg (375, 500, 3)\n",
      "> loaded im20397.jpg (179, 500, 3)\n",
      "> loaded im16554.jpg (375, 500, 3)\n",
      "> loaded im12435.jpg (500, 354, 3)\n",
      "> loaded im9215.jpg (375, 500, 3)\n",
      "> loaded im14786.jpg (376, 500, 3)\n",
      "> loaded im8741.jpg (357, 500, 3)\n",
      "> loaded im2216.jpg (500, 335, 3)\n",
      "> loaded im10262.jpg (500, 339, 3)\n",
      "> loaded im11766.jpg (375, 500, 3)\n",
      "> loaded im7880.jpg (375, 500, 3)\n",
      "> loaded im23292.jpg (381, 500, 3)\n",
      "> loaded im11161.jpg (500, 375, 3)\n",
      "> loaded im13925.jpg (483, 500, 3)\n",
      "> loaded im1538.jpg (500, 500, 3)\n",
      "> loaded im5672.jpg (333, 500, 3)\n",
      "> loaded im24831.jpg (375, 500, 3)\n",
      "> loaded im5546.jpg (375, 500, 3)\n",
      "> loaded im19619.jpg (374, 500, 3)\n",
      "> loaded im2233.jpg (390, 500, 3)\n",
      "> loaded im12234.jpg (389, 215, 3)\n",
      "> loaded im17610.jpg (500, 461, 3)\n",
      "> loaded im3658.jpg (500, 375, 3)\n",
      "> loaded im18473.jpg (375, 500, 3)\n",
      "> loaded im17049.jpg (500, 375, 3)\n",
      "> loaded im20902.jpg (375, 500, 3)\n",
      "> loaded im17033.jpg (375, 500, 3)\n",
      "> loaded im10235.jpg (338, 500, 3)\n",
      "> loaded im5742.jpg (500, 500, 3)\n",
      "> loaded im8154.jpg (500, 334, 3)\n",
      "> loaded im2896.jpg (500, 369, 3)\n",
      "> loaded im21036.jpg (500, 333, 3)\n",
      "> loaded im13265.jpg (375, 500, 3)\n",
      "> loaded im24718.jpg (375, 500, 3)\n",
      "> loaded im10205.jpg (375, 500, 3)\n",
      "> loaded im1251.jpg (500, 375, 3)\n",
      "> loaded im14935.jpg (415, 500, 3)\n",
      "> loaded im9598.jpg (333, 500, 3)\n",
      "> loaded im5556.jpg (334, 500, 3)\n",
      "> loaded im8336.jpg (500, 333, 3)\n",
      "> loaded im12719.jpg (287, 500, 3)\n",
      "> loaded im16871.jpg (342, 500, 3)\n",
      "> loaded im730.jpg (333, 500, 3)\n",
      "> loaded im13928.jpg (395, 500, 3)\n",
      "> loaded im22772.jpg (375, 500, 3)\n",
      "> loaded im877.jpg (333, 500, 3)\n",
      "> loaded im26.jpg (328, 500, 3)\n",
      "> loaded im4534.jpg (335, 500, 3)\n",
      "> loaded im11194.jpg (500, 393, 3)\n",
      "> loaded im13766.jpg (333, 500, 3)\n",
      "> loaded im15864.jpg (500, 333, 3)\n",
      "> loaded im23746.jpg (375, 500, 3)\n",
      "> loaded im2408.jpg (329, 500, 3)\n",
      "> loaded im22084.jpg (367, 500, 3)\n",
      "> loaded im20778.jpg (500, 277, 3)\n",
      "> loaded im14447.jpg (375, 500, 3)\n",
      "> loaded im313.jpg (375, 500, 3)\n",
      "> loaded im13770.jpg (500, 375, 3)\n",
      "> loaded im18255.jpg (335, 500, 3)\n",
      "> loaded im14612.jpg (439, 500, 3)\n",
      "> loaded im9763.jpg (281, 500, 3)\n",
      "> loaded im10769.jpg (500, 425, 3)\n",
      "> loaded im4524.jpg (375, 500, 3)\n",
      "> loaded im6789.jpg (347, 500, 3)\n",
      "> loaded im23240.jpg (361, 500, 3)\n",
      "> loaded im21820.jpg (358, 500, 3)\n",
      "> loaded im18701.jpg (500, 333, 3)\n",
      "> loaded im935.jpg (469, 484, 3)\n",
      "> loaded im9054.jpg (338, 500, 3)\n",
      "> loaded im4326.jpg (500, 375, 3)\n",
      "> loaded im16945.jpg (341, 500, 3)\n",
      "> loaded im15825.jpg (500, 375, 3)\n",
      "> loaded im19258.jpg (334, 500, 3)\n",
      "> loaded im22440.jpg (357, 500, 3)\n",
      "> loaded im16005.jpg (281, 500, 3)\n",
      "> loaded im22101.jpg (339, 500, 3)\n",
      "> loaded im18126.jpg (442, 500, 3)\n",
      "> loaded im16623.jpg (375, 500, 3)\n",
      "> loaded im11090.jpg (334, 500, 3)\n",
      "> loaded im2444.jpg (500, 338, 3)\n",
      "> loaded im774.jpg (500, 332, 3)\n",
      "> loaded im13223.jpg (500, 335, 3)\n",
      "> loaded im10134.jpg (500, 333, 3)\n",
      "> loaded im20689.jpg (333, 500, 3)\n",
      "> loaded im3211.jpg (500, 331, 3)\n",
      "> loaded im23543.jpg (375, 500, 3)\n",
      "> loaded im21244.jpg (333, 500, 3)\n",
      "> loaded im3843.jpg (500, 408, 3)\n",
      "> loaded im1829.jpg (333, 500, 3)\n",
      "> loaded im4578.jpg (375, 500, 3)\n",
      "> loaded im2791.jpg (375, 500, 3)\n",
      "> loaded im8254.jpg (500, 352, 3)\n",
      "> loaded im21580.jpg (375, 500, 3)\n",
      "> loaded im21498.jpg (375, 500, 3)\n",
      "> loaded im17515.jpg (500, 375, 3)\n",
      "> loaded im3628.jpg (375, 500, 3)\n",
      "> loaded im19386.jpg (391, 500, 3)\n",
      "> loaded im20526.jpg (333, 500, 3)\n",
      "> loaded im2133.jpg (500, 375, 3)\n",
      "> loaded im6242.jpg (333, 500, 3)\n",
      "> loaded im14100.jpg (333, 500, 3)\n",
      "> loaded im17841.jpg (333, 500, 3)\n",
      "> loaded im1897.jpg (375, 500, 3)\n",
      "> loaded im7968.jpg (375, 500, 3)\n",
      "> loaded im17398.jpg (334, 500, 3)\n",
      "> loaded im9665.jpg (500, 375, 3)\n",
      "> loaded im14085.jpg (500, 375, 3)\n",
      "> loaded im20555.jpg (375, 500, 3)\n",
      "> loaded im15624.jpg (367, 500, 3)\n",
      "> loaded im15762.jpg (480, 329, 3)\n",
      "> loaded im76.jpg (334, 500, 3)\n",
      "> loaded im20509.jpg (500, 375, 3)\n",
      "> loaded im16698.jpg (500, 372, 3)\n",
      "> loaded im15007.jpg (332, 500, 3)\n",
      "> loaded im14394.jpg (500, 375, 3)\n",
      "> loaded im21126.jpg (373, 500, 3)\n",
      "> loaded im3193.jpg (500, 347, 3)\n",
      "> loaded im22572.jpg (482, 500, 3)\n",
      "> loaded im24686.jpg (500, 399, 3)\n",
      "> loaded im8079.jpg (333, 500, 3)\n",
      "> loaded im14145.jpg (500, 375, 3)\n",
      "> loaded im14345.jpg (333, 500, 3)\n",
      "> loaded im24062.jpg (342, 500, 3)\n",
      "> loaded im8273.jpg (500, 375, 3)\n",
      "> loaded im15071.jpg (500, 333, 3)\n",
      "> loaded im3299.jpg (500, 375, 3)\n",
      "> loaded im13.jpg (333, 500, 3)\n",
      "> loaded im9786.jpg (500, 375, 3)\n",
      "> loaded im18149.jpg (500, 334, 3)\n",
      "> loaded im8295.jpg (334, 500, 3)\n",
      "> loaded im1518.jpg (333, 500, 3)\n",
      "> loaded im1010.jpg (152, 500, 3)\n",
      "> loaded im3865.jpg (410, 500, 3)\n",
      "> loaded im6585.jpg (332, 500, 3)\n",
      "> loaded im9648.jpg (333, 500, 3)\n",
      "> loaded im6415.jpg (500, 335, 3)\n",
      "> loaded im20143.jpg (500, 351, 3)\n",
      "> loaded im29.jpg (332, 500, 3)\n",
      "> loaded im9155.jpg (333, 500, 3)\n",
      "> loaded im3126.jpg (500, 333, 3)\n",
      "> loaded im2362.jpg (500, 334, 3)\n",
      "> loaded im13873.jpg (479, 500, 3)\n",
      "> loaded im10878.jpg (330, 500, 3)\n",
      "> loaded im11973.jpg (500, 118, 3)\n",
      "> loaded im21826.jpg (375, 500, 3)\n",
      "> loaded im23152.jpg (354, 500, 3)\n",
      "> loaded im4970.jpg (500, 333, 3)\n",
      "> loaded im24533.jpg (333, 500, 3)\n",
      "> loaded im3817.jpg (500, 333, 3)\n",
      "> loaded im16748.jpg (375, 500, 3)\n",
      "> loaded im9665.jpg (500, 375, 3)\n",
      "> loaded im18896.jpg (500, 500, 3)\n",
      "> loaded im6497.jpg (335, 500, 3)\n",
      "> loaded im2268.jpg (333, 500, 3)\n",
      "> loaded im3318.jpg (500, 375, 3)\n",
      "> loaded im18818.jpg (375, 500, 3)\n",
      "> loaded im23369.jpg (500, 500, 3)\n",
      "> loaded im297.jpg (375, 500, 3)\n",
      "> loaded im23361.jpg (500, 500, 3)\n",
      "> loaded im19084.jpg (354, 500, 3)\n",
      "> loaded im17079.jpg (375, 500, 3)\n",
      "> loaded im24286.jpg (500, 500, 3)\n",
      "> loaded im10417.jpg (375, 500, 3)\n",
      "> loaded im23837.jpg (375, 500, 3)\n",
      "> loaded im22847.jpg (356, 500, 3)\n",
      "> loaded im5694.jpg (333, 500, 3)\n",
      "> loaded im17271.jpg (400, 500, 3)\n",
      "> loaded im6860.jpg (500, 375, 3)\n",
      "> loaded im17695.jpg (359, 500, 3)\n",
      "> loaded im10933.jpg (336, 500, 3)\n",
      "> loaded im7950.jpg (330, 500, 3)\n",
      "> loaded im15495.jpg (375, 500, 3)\n",
      "> loaded im876.jpg (333, 500, 3)\n",
      "> loaded im17327.jpg (329, 500, 3)\n",
      "> loaded im15523.jpg (375, 500, 3)\n",
      "> loaded im8536.jpg (500, 347, 3)\n",
      "> loaded im10202.jpg (333, 500, 3)\n",
      "> loaded im14266.jpg (335, 500, 3)\n"
     ]
    },
    {
     "name": "stdout",
     "output_type": "stream",
     "text": [
      "> loaded im19648.jpg (500, 375, 3)\n",
      "> loaded im19122.jpg (500, 375, 3)\n",
      "> loaded im16290.jpg (500, 372, 3)\n",
      "> loaded im4866.jpg (333, 500, 3)\n",
      "> loaded im23220.jpg (419, 500, 3)\n",
      "> loaded im23178.jpg (333, 500, 3)\n",
      "> loaded im5843.jpg (500, 325, 3)\n",
      "> loaded im20301.jpg (500, 334, 3)\n",
      "> loaded im1695.jpg (333, 500, 3)\n",
      "> loaded im24249.jpg (500, 375, 3)\n"
     ]
    }
   ],
   "source": [
    "from os import listdir\n",
    "from matplotlib import image\n",
    "import random\n",
    "import numpy as np\n",
    "from dataclasses import dataclass\n",
    "\n",
    "# load all images in a directory\n",
    "np.random.RandomState(9)\n",
    "random_indexes = np.random.choice(range(25000), 250)\n",
    "loaded_images = list()\n",
    "for i in range(250):\n",
    "\t# load image\n",
    "\tfilename = 'im' + str(random_indexes[i]) + '.jpg'\n",
    "\timg_data = image.imread('mirflickr25k/mirflickr/' + filename)\n",
    "\t# store loaded image\n",
    "\tloaded_images.append(img_data)\n",
    "\tprint('> loaded %s %s' % (filename, img_data.shape))"
   ]
  },
  {
   "cell_type": "code",
   "execution_count": 12,
   "metadata": {},
   "outputs": [
    {
     "name": "stdout",
     "output_type": "stream",
     "text": [
      "> processed 10 images\n",
      "> processed 20 images\n",
      "> processed 30 images\n",
      "> processed 40 images\n",
      "> processed 50 images\n",
      "> processed 60 images\n",
      "> processed 70 images\n",
      "> processed 80 images\n",
      "> processed 90 images\n",
      "> processed 100 images\n",
      "> processed 110 images\n",
      "> processed 120 images\n",
      "> processed 130 images\n",
      "> processed 140 images\n",
      "> processed 150 images\n",
      "> processed 160 images\n",
      "> processed 170 images\n",
      "> processed 180 images\n",
      "> processed 190 images\n",
      "> processed 200 images\n",
      "> processed 210 images\n",
      "> processed 220 images\n",
      "> processed 230 images\n",
      "> processed 240 images\n",
      "> processed 250 images\n"
     ]
    }
   ],
   "source": [
    "#1.\n",
    "values = np.zeros((3, 256))\n",
    "index = 0\n",
    "for image in loaded_images:\n",
    "\tfor i in range(image.shape[0]):\n",
    "\t\tfor j in range(image.shape[1]):\n",
    "\t\t\tvalues[0][image[i][j][0]] += 1\n",
    "\t\t\tvalues[1][image[i][j][1]] += 1\n",
    "\t\t\tvalues[2][image[i][j][2]] += 1\n",
    "\tindex += 1\n",
    "\tif (index % 10) == 0:\n",
    "\t\tprint('> processed %i images' % (index))"
   ]
  },
  {
   "cell_type": "code",
   "execution_count": 13,
   "metadata": {},
   "outputs": [
    {
     "name": "stdout",
     "output_type": "stream",
     "text": [
      "Red:\tMax - 255, Min - 0\n",
      "Green:\tMax - 255, Min - 0\n",
      "Blue:\tMax - 255, Min - 0\n"
     ]
    }
   ],
   "source": [
    "RED = 0\n",
    "GREEN = 1\n",
    "BLUE = 2\n",
    "#2.a. max and min finding\n",
    "print('Red:\\t', end='')\n",
    "for i in range(255, 0, -1):\n",
    "    if (values[RED][i] != 0):\n",
    "        print('Max - {}, '.format(i), end='')\n",
    "        break\n",
    "for i in range(0, 255):\n",
    "    if (values[RED][i] != 0):\n",
    "        print('Min - {}'.format(i))\n",
    "        break\n",
    "\n",
    "print('Green:\\t', end='')\n",
    "for i in range(255, 0, -1):\n",
    "    if (values[GREEN][i] != 0):\n",
    "        print('Max - {}, '.format(i), end='')\n",
    "        break\n",
    "for i in range(0, 255):\n",
    "    if (values[GREEN][i] != 0):\n",
    "        print('Min - {}'.format(i))\n",
    "        break\n",
    "\n",
    "print('Blue:\\t', end='')\n",
    "for i in range(255, 0, -1):\n",
    "    if (values[BLUE][i] != 0):\n",
    "        print('Max - {}, '.format(i), end='')\n",
    "        break\n",
    "for i in range(0, 255):\n",
    "    if (values[BLUE][i] != 0):\n",
    "        print('Min - {}'.format(i))\n",
    "        break"
   ]
  },
  {
   "cell_type": "code",
   "execution_count": 14,
   "metadata": {},
   "outputs": [
    {
     "name": "stdout",
     "output_type": "stream",
     "text": [
      "Red:\tmat ochikuvannya - 118.28,\tdispersiya - 6296.13\n",
      "Green:\tmat ochikuvannya - 110.07,\tdispersiya - 5808.93\n",
      "Blue:\tmat ochikuvannya - 101.26,\tdispersiya - 6283.31\n"
     ]
    }
   ],
   "source": [
    "#2.b Mat ochikuvannya i dispersiya \n",
    "#RED\n",
    "sum_val = sum(values[RED])\n",
    "M_red = 0\n",
    "for index in range(len(values[RED])):\n",
    "    p = (values[RED][index] / sum_val)\n",
    "    M_red += p * index\n",
    "D_red = 0\n",
    "for index in range(len(values[RED])):\n",
    "    p = (values[RED][index] / sum_val)\n",
    "    D_red += p * ((index - M_red) ** 2)\n",
    "print(\"Red:\\tmat ochikuvannya - {0:.2f},\\tdispersiya - {1:.2f}\"\\\n",
    ".format(M_red, D_red))\n",
    "\n",
    "#GREEN\n",
    "sum_val = sum(values[GREEN])\n",
    "M_green = 0\n",
    "for index in range(len(values[GREEN])):\n",
    "    p = (values[GREEN][index] / sum_val)\n",
    "    M_green += p * index\n",
    "D_green = 0\n",
    "for index in range(len(values[GREEN])):\n",
    "    p = (values[GREEN][index] / sum_val)\n",
    "    D_green += p * ((index - M_green) ** 2)\n",
    "print(\"Green:\\tmat ochikuvannya - {0:.2f},\\tdispersiya - {1:.2f}\"\\\n",
    ".format(M_green, D_green))\n",
    "    \n",
    "#BLUE\n",
    "sum_val = sum(values[BLUE])\n",
    "M_blue = 0\n",
    "for index in range(len(values[BLUE])):\n",
    "    p = (values[BLUE][index] / sum_val)\n",
    "    M_blue += p * index\n",
    "D_blue = 0\n",
    "for index in range(len(values[BLUE])):\n",
    "    p = (values[BLUE][index] / sum_val)\n",
    "    D_blue += p * ((index - M_blue) ** 2)\n",
    "print(\"Blue:\\tmat ochikuvannya - {0:.2f},\\tdispersiya - {1:.2f}\"\\\n",
    ".format(M_blue, D_blue))"
   ]
  },
  {
   "cell_type": "code",
   "execution_count": 15,
   "metadata": {
    "scrolled": true
   },
   "outputs": [
    {
     "name": "stdout",
     "output_type": "stream",
     "text": [
      "Red:\tmedian - 115,\tIQR - 139\n",
      "Green:\tmedian - 103,\tIQR - 130\n",
      "Blue:\tmedian - 87,\tIQR - 138\n"
     ]
    }
   ],
   "source": [
    "#2.c Median and interquartal rozmah\n",
    "\n",
    "def medianFinder(array_values):\n",
    "    sum_val = sum(array_values)\n",
    "    summa = 0\n",
    "    for index in range(len(array_values)):\n",
    "        summa += array_values[index]\n",
    "        if (summa > (sum_val / 2)):\n",
    "            return index - 1\n",
    "        if (summa == (sum_val / 2)):\n",
    "            return (2 * index + 1) / 2\n",
    "\n",
    "def quartFinder(array_values, quart):\n",
    "    sum_val = sum(array_values)\n",
    "    summa = 0\n",
    "    for index in range(len(array_values)):\n",
    "        prev_sum = summa\n",
    "        p = array_values[index] /  sum_val\n",
    "        summa += p\n",
    "        if (summa > quart):\n",
    "            if (quart - prev_sum < summa - quart):\n",
    "                return index - 1\n",
    "            elif (quart - prev_sum > summa - quart):\n",
    "                return index\n",
    "            else:\n",
    "                return (2 * index - 1) / 2\n",
    "\n",
    "#RED\n",
    "print('Red:\\tmedian - {0},\\tIQR - {1}'.format(medianFinder(values[RED]),\\\n",
    "quartFinder(values[RED], 0.75) - quartFinder(values[RED], 0.25)))\n",
    "print('Green:\\tmedian - {0},\\tIQR - {1}'.format(medianFinder(values[GREEN]),\\\n",
    "quartFinder(values[GREEN], 0.75) - quartFinder(values[GREEN], 0.25)))\n",
    "print('Blue:\\tmedian - {0},\\tIQR - {1}'.format(medianFinder(values[BLUE]),\\\n",
    "quartFinder(values[BLUE], 0.75) - quartFinder(values[BLUE], 0.25)))"
   ]
  },
  {
   "cell_type": "code",
   "execution_count": 16,
   "metadata": {},
   "outputs": [
    {
     "name": "stdout",
     "output_type": "stream",
     "text": [
      "Red:\tAsimmetriya - 0.091,\tEkscess - -1.238\n",
      "Green:\tAsimmetriya - 0.212,\tEkscess - -1.137\n",
      "Blue:\tAsimmetriya - 0.404,\tEkscess - -1.101\n"
     ]
    }
   ],
   "source": [
    "def E_operator(arr_values, M, power):\n",
    "    sum_val = sum(arr_values)\n",
    "    ans = 0\n",
    "    for index in range(len(arr_values)):\n",
    "        p = (arr_values[index] / sum_val)\n",
    "        ans += p * ((index - M) ** power)\n",
    "    return ans\n",
    "        \n",
    "#2.d Asimmetriya, ekscess\n",
    "Asym_red = E_operator(values[RED], M_red, 3) / (D_red ** (3 / 2))\n",
    "Asym_green = E_operator(values[GREEN], M_green, 3) / (D_green ** (3 / 2))\n",
    "Asym_blue = E_operator(values[BLUE], M_blue, 3) / (D_blue ** (3 / 2))\n",
    "\n",
    "Ekscess_red = E_operator(values[RED], M_red, 4) / (D_red ** 2) - 3\n",
    "Ekscess_green = E_operator(values[GREEN], M_green, 4) / (D_green ** 2) - 3\n",
    "Ekscess_blue = E_operator(values[BLUE], M_blue, 4) / (D_blue ** 2) - 3\n",
    "print('Red:\\tAsimmetriya - {0:.3f},\\tEkscess - {1:.3f}'\\\n",
    ".format(Asym_red, Ekscess_red))\n",
    "print('Green:\\tAsimmetriya - {0:.3f},\\tEkscess - {1:.3f}'\\\n",
    ".format(Asym_green, Ekscess_green))\n",
    "print('Blue:\\tAsimmetriya - {0:.3f},\\tEkscess - {1:.3f}'\\\n",
    ".format(Asym_blue, Ekscess_blue))"
   ]
  },
  {
   "cell_type": "code",
   "execution_count": 17,
   "metadata": {},
   "outputs": [
    {
     "data": {
      "image/png": "[encoded data removed]",
      "text/plain": [
       "<Figure size 432x288 with 1 Axes>"
      ]
     },
     "metadata": {
      "needs_background": "light"
     },
     "output_type": "display_data"
    },
    {
     "data": {
      "image/png": "[encoded data removed]",
      "text/plain": [
       "<Figure size 432x288 with 1 Axes>"
      ]
     },
     "metadata": {
      "needs_background": "light"
     },
     "output_type": "display_data"
    },
    {
     "data": {
      "image/png": "[encoded data removed]",
      "text/plain": [
       "<Figure size 432x288 with 1 Axes>"
      ]
     },
     "metadata": {
      "needs_background": "light"
     },
     "output_type": "display_data"
    }
   ],
   "source": [
    "import matplotlib.pyplot as plt\n",
    "#3. Histograms\n",
    "x = range(256)\n",
    "\n",
    "#RED\n",
    "plt.bar(x,values[RED],color='red')\n",
    "plt.xlabel('Brightness')\n",
    "plt.ylabel('Frequency')\n",
    "plt.ylim(top=1500000)\n",
    "plt.show()\n",
    "#GREEN\n",
    "plt.bar(x,values[GREEN],color='green')\n",
    "plt.xlabel('Brightness')\n",
    "plt.ylabel('Frequency')\n",
    "plt.ylim(top=1500000)\n",
    "plt.show()\n",
    "#BLUE\n",
    "plt.bar(x,values[BLUE],color='blue')\n",
    "plt.xlabel('Brightness')\n",
    "plt.ylabel('Frequency')\n",
    "plt.ylim(top=1500000)\n",
    "plt.show()"
   ]
  },
  {
   "cell_type": "code",
   "execution_count": 18,
   "metadata": {},
   "outputs": [
    {
     "data": {
      "image/png": "[encoded data removed]",
      "text/plain": [
       "<Figure size 432x288 with 1 Axes>"
      ]
     },
     "metadata": {
      "needs_background": "light"
     },
     "output_type": "display_data"
    }
   ],
   "source": [
    "import seaborn as sns\n",
    "test = values[RED]\n",
    "plt.hist(test,bins = 1000)\n",
    "plt.show()"
   ]
  },
  {
   "cell_type": "code",
   "execution_count": 19,
   "metadata": {},
   "outputs": [
    {
     "data": {
      "image/png": "[encoded data removed]",
      "text/plain": [
       "<Figure size 432x288 with 1 Axes>"
      ]
     },
     "metadata": {
      "needs_background": "light"
     },
     "output_type": "display_data"
    }
   ],
   "source": [
    "X,Y = sns.distplot(np.ravel(test)).get_lines()[0].get_data()"
   ]
  },
  {
   "cell_type": "code",
   "execution_count": 20,
   "metadata": {
    "scrolled": true
   },
   "outputs": [
    {
     "data": {
      "image/png": "[encoded data removed]",
      "text/plain": [
       "<Figure size 432x288 with 1 Axes>"
      ]
     },
     "metadata": {
      "needs_background": "light"
     },
     "output_type": "display_data"
    }
   ],
   "source": [
    "from scipy import stats\n",
    "test = np.ravel(test)\n",
    "xt = plt.xticks()[0]  \n",
    "xmin, xmax = min(xt), max(xt)  \n",
    "lnspc = np.linspace(0, 255, len(X))\n",
    "\n",
    "m, s = stats.norm.fit((X,Y))# get mean and standard deviation  \n",
    "pdf_g = stats.norm.pdf(lnspc, m, s) # now get theoretical values in our interval  \n",
    "plt.plot(lnspc, pdf_g, label=\"Norm\",color = 'grey') # plot it\n",
    "plt.plot(X,Y,color = 'black',linewidth = 4)\n",
    "\n",
    "plt.plot(lnspc, pdf_g, label=\"Norm\") # plot it\n",
    "ag,bg,cg = stats.gamma.fit((X,Y))  \n",
    "pdf_gamma = stats.gamma.pdf(lnspc, ag, bg,cg)  \n",
    "plt.plot(lnspc, pdf_gamma, label=\"Gamma\",color = 'blue')\n",
    "\n",
    "\n",
    "ab,bb,cb,db = stats.beta.fit((X,Y))\n",
    "pdf_beta = stats.beta.pdf(lnspc, ab, bb,cb, db)  \n",
    "plt.plot(lnspc, pdf_beta, label=\"Beta\",color = 'red')\n",
    "\n",
    "plt.show()"
   ]
  },
  {
   "cell_type": "code",
   "execution_count": null,
   "metadata": {},
   "outputs": [],
   "source": []
  }
 ],
 "metadata": {
  "kernelspec": {
   "display_name": "Python 3",
   "language": "python",
   "name": "python3"
  },
  "language_info": {
   "codemirror_mode": {
    "name": "ipython",
    "version": 3
   },
   "file_extension": ".py",
   "mimetype": "text/x-python",
   "name": "python",
   "nbconvert_exporter": "python",
   "pygments_lexer": "ipython3",
   "version": "3.7.6"
  }
 },
 "nbformat": 4,
 "nbformat_minor": 4
}
