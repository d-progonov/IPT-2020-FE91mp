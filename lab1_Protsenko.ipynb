{
 "cells": [
  {
   "cell_type": "code",
   "execution_count": 1,
   "metadata": {},
   "outputs": [
    {
     "ename": "FileNotFoundError",
     "evalue": "[Errno 2] No such file or directory: '../mirflickr25k/mirflickr/im1834.jpg'",
     "output_type": "error",
     "traceback": [
      "\u001b[1;31m---------------------------------------------------------------------------\u001b[0m",
      "\u001b[1;31mFileNotFoundError\u001b[0m                         Traceback (most recent call last)",
      "\u001b[1;32m<ipython-input-1-10fb5f8db805>\u001b[0m in \u001b[0;36m<module>\u001b[1;34m\u001b[0m\n\u001b[0;32m     12\u001b[0m         \u001b[1;31m# load image\u001b[0m\u001b[1;33m\u001b[0m\u001b[1;33m\u001b[0m\u001b[1;33m\u001b[0m\u001b[0m\n\u001b[0;32m     13\u001b[0m         \u001b[0mfilename\u001b[0m \u001b[1;33m=\u001b[0m \u001b[1;34m'im'\u001b[0m \u001b[1;33m+\u001b[0m \u001b[0mstr\u001b[0m\u001b[1;33m(\u001b[0m\u001b[0mrandom_indexes\u001b[0m\u001b[1;33m[\u001b[0m\u001b[0mi\u001b[0m\u001b[1;33m]\u001b[0m\u001b[1;33m)\u001b[0m \u001b[1;33m+\u001b[0m \u001b[1;34m'.jpg'\u001b[0m\u001b[1;33m\u001b[0m\u001b[1;33m\u001b[0m\u001b[0m\n\u001b[1;32m---> 14\u001b[1;33m         \u001b[0mimg_data\u001b[0m \u001b[1;33m=\u001b[0m \u001b[0mimage\u001b[0m\u001b[1;33m.\u001b[0m\u001b[0mimread\u001b[0m\u001b[1;33m(\u001b[0m\u001b[1;34m'../mirflickr25k/mirflickr/'\u001b[0m \u001b[1;33m+\u001b[0m \u001b[0mfilename\u001b[0m\u001b[1;33m)\u001b[0m\u001b[1;33m\u001b[0m\u001b[1;33m\u001b[0m\u001b[0m\n\u001b[0m\u001b[0;32m     15\u001b[0m         \u001b[1;31m# store loaded image\u001b[0m\u001b[1;33m\u001b[0m\u001b[1;33m\u001b[0m\u001b[1;33m\u001b[0m\u001b[0m\n\u001b[0;32m     16\u001b[0m         \u001b[0mloaded_images\u001b[0m\u001b[1;33m.\u001b[0m\u001b[0mappend\u001b[0m\u001b[1;33m(\u001b[0m\u001b[0mimg_data\u001b[0m\u001b[1;33m)\u001b[0m\u001b[1;33m\u001b[0m\u001b[1;33m\u001b[0m\u001b[0m\n",
      "\u001b[1;32m~\\anaconda3\\lib\\site-packages\\matplotlib\\image.py\u001b[0m in \u001b[0;36mimread\u001b[1;34m(fname, format)\u001b[0m\n\u001b[0;32m   1415\u001b[0m                              \u001b[1;34m'with Pillow installed matplotlib can handle '\u001b[0m\u001b[1;33m\u001b[0m\u001b[1;33m\u001b[0m\u001b[0m\n\u001b[0;32m   1416\u001b[0m                              'more images' % list(handlers))\n\u001b[1;32m-> 1417\u001b[1;33m         \u001b[1;32mwith\u001b[0m \u001b[0mImage\u001b[0m\u001b[1;33m.\u001b[0m\u001b[0mopen\u001b[0m\u001b[1;33m(\u001b[0m\u001b[0mfname\u001b[0m\u001b[1;33m)\u001b[0m \u001b[1;32mas\u001b[0m \u001b[0mimage\u001b[0m\u001b[1;33m:\u001b[0m\u001b[1;33m\u001b[0m\u001b[1;33m\u001b[0m\u001b[0m\n\u001b[0m\u001b[0;32m   1418\u001b[0m             \u001b[1;32mreturn\u001b[0m \u001b[0mpil_to_array\u001b[0m\u001b[1;33m(\u001b[0m\u001b[0mimage\u001b[0m\u001b[1;33m)\u001b[0m\u001b[1;33m\u001b[0m\u001b[1;33m\u001b[0m\u001b[0m\n\u001b[0;32m   1419\u001b[0m \u001b[1;33m\u001b[0m\u001b[0m\n",
      "\u001b[1;32m~\\anaconda3\\lib\\site-packages\\PIL\\Image.py\u001b[0m in \u001b[0;36mopen\u001b[1;34m(fp, mode)\u001b[0m\n\u001b[0;32m   2807\u001b[0m \u001b[1;33m\u001b[0m\u001b[0m\n\u001b[0;32m   2808\u001b[0m     \u001b[1;32mif\u001b[0m \u001b[0mfilename\u001b[0m\u001b[1;33m:\u001b[0m\u001b[1;33m\u001b[0m\u001b[1;33m\u001b[0m\u001b[0m\n\u001b[1;32m-> 2809\u001b[1;33m         \u001b[0mfp\u001b[0m \u001b[1;33m=\u001b[0m \u001b[0mbuiltins\u001b[0m\u001b[1;33m.\u001b[0m\u001b[0mopen\u001b[0m\u001b[1;33m(\u001b[0m\u001b[0mfilename\u001b[0m\u001b[1;33m,\u001b[0m \u001b[1;34m\"rb\"\u001b[0m\u001b[1;33m)\u001b[0m\u001b[1;33m\u001b[0m\u001b[1;33m\u001b[0m\u001b[0m\n\u001b[0m\u001b[0;32m   2810\u001b[0m         \u001b[0mexclusive_fp\u001b[0m \u001b[1;33m=\u001b[0m \u001b[1;32mTrue\u001b[0m\u001b[1;33m\u001b[0m\u001b[1;33m\u001b[0m\u001b[0m\n\u001b[0;32m   2811\u001b[0m \u001b[1;33m\u001b[0m\u001b[0m\n",
      "\u001b[1;31mFileNotFoundError\u001b[0m: [Errno 2] No such file or directory: '../mirflickr25k/mirflickr/im1834.jpg'"
     ]
    }
   ],
   "source": [
    "from os import listdir\n",
    "from matplotlib import image\n",
    "import random\n",
    "import numpy as np\n",
    "from dataclasses import dataclass\n",
    "\n",
    "# load all images in a directory\n",
    "np.random.RandomState(9)\n",
    "random_indexes = np.random.choice(range(25000), 250)\n",
    "loaded_images = list()\n",
    "for i in range(250):\n",
    "\t# load image\n",
    "\tfilename = 'im' + str(random_indexes[i]) + '.jpg'\n",
    "\timg_data = image.imread('../mirflickr25k/mirflickr/' + filename)\n",
    "\t# store loaded image\n",
    "\tloaded_images.append(img_data)\n",
    "\tprint('> loaded %s %s' % (filename, img_data.shape))"
   ]
  },
  {
   "cell_type": "code",
   "execution_count": 3,
   "metadata": {},
   "outputs": [
    {
     "name": "stdout",
     "output_type": "stream",
     "text": [
      "> processed 10 images\n",
      "> processed 20 images\n",
      "> processed 30 images\n",
      "> processed 40 images\n",
      "> processed 50 images\n",
      "> processed 60 images\n",
      "> processed 70 images\n",
      "> processed 80 images\n",
      "> processed 90 images\n",
      "> processed 100 images\n",
      "> processed 110 images\n",
      "> processed 120 images\n",
      "> processed 130 images\n",
      "> processed 140 images\n",
      "> processed 150 images\n",
      "> processed 160 images\n",
      "> processed 170 images\n",
      "> processed 180 images\n",
      "> processed 190 images\n",
      "> processed 200 images\n",
      "> processed 210 images\n",
      "> processed 220 images\n",
      "> processed 230 images\n",
      "> processed 240 images\n",
      "> processed 250 images\n"
     ]
    }
   ],
   "source": [
    "#1.\n",
    "values = np.zeros((3, 256))\n",
    "index = 0\n",
    "for image in loaded_images:\n",
    "\tfor i in range(image.shape[0]):\n",
    "\t\tfor j in range(image.shape[1]):\n",
    "\t\t\tvalues[0][image[i][j][0]] += 1\n",
    "\t\t\tvalues[1][image[i][j][1]] += 1\n",
    "\t\t\tvalues[2][image[i][j][2]] += 1\n",
    "\tindex += 1\n",
    "\tif (index % 10) == 0:\n",
    "\t\tprint('> processed %i images' % (index))"
   ]
  },
  {
   "cell_type": "code",
   "execution_count": 4,
   "metadata": {},
   "outputs": [
    {
     "name": "stdout",
     "output_type": "stream",
     "text": [
      "Red:\tMax - 255, Min - 0\n",
      "Green:\tMax - 255, Min - 0\n",
      "Blue:\tMax - 255, Min - 0\n"
     ]
    }
   ],
   "source": [
    "RED = 0\n",
    "GREEN = 1\n",
    "BLUE = 2\n",
    "#2.a. max and min finding\n",
    "print('Red:\\t', end='')\n",
    "for i in range(255, 0, -1):\n",
    "    if (values[RED][i] != 0):\n",
    "        print('Max - {}, '.format(i), end='')\n",
    "        break\n",
    "for i in range(0, 255):\n",
    "    if (values[RED][i] != 0):\n",
    "        print('Min - {}'.format(i))\n",
    "        break\n",
    "\n",
    "print('Green:\\t', end='')\n",
    "for i in range(255, 0, -1):\n",
    "    if (values[GREEN][i] != 0):\n",
    "        print('Max - {}, '.format(i), end='')\n",
    "        break\n",
    "for i in range(0, 255):\n",
    "    if (values[GREEN][i] != 0):\n",
    "        print('Min - {}'.format(i))\n",
    "        break\n",
    "\n",
    "print('Blue:\\t', end='')\n",
    "for i in range(255, 0, -1):\n",
    "    if (values[BLUE][i] != 0):\n",
    "        print('Max - {}, '.format(i), end='')\n",
    "        break\n",
    "for i in range(0, 255):\n",
    "    if (values[BLUE][i] != 0):\n",
    "        print('Min - {}'.format(i))\n",
    "        break"
   ]
  },
  {
   "cell_type": "code",
   "execution_count": 5,
   "metadata": {},
   "outputs": [
    {
     "name": "stdout",
     "output_type": "stream",
     "text": [
      "Red:\tmat ochikuvannya - 113.69,\tdispersiya - 6291.00\n",
      "Green:\tmat ochikuvannya - 106.29,\tdispersiya - 5718.24\n",
      "Blue:\tmat ochikuvannya - 98.44,\tdispersiya - 6238.81\n"
     ]
    }
   ],
   "source": [
    "#2.b Mat ochikuvannya i dispersiya \n",
    "#RED\n",
    "sum_val = sum(values[RED])\n",
    "M_red = 0\n",
    "for index in range(len(values[RED])):\n",
    "    p = (values[RED][index] / sum_val)\n",
    "    M_red += p * index\n",
    "D_red = 0\n",
    "for index in range(len(values[RED])):\n",
    "    p = (values[RED][index] / sum_val)\n",
    "    D_red += p * ((index - M_red) ** 2)\n",
    "print(\"Red:\\tmat ochikuvannya - {0:.2f},\\tdispersiya - {1:.2f}\"\\\n",
    ".format(M_red, D_red))\n",
    "\n",
    "#GREEN\n",
    "sum_val = sum(values[GREEN])\n",
    "M_green = 0\n",
    "for index in range(len(values[GREEN])):\n",
    "    p = (values[GREEN][index] / sum_val)\n",
    "    M_green += p * index\n",
    "D_green = 0\n",
    "for index in range(len(values[GREEN])):\n",
    "    p = (values[GREEN][index] / sum_val)\n",
    "    D_green += p * ((index - M_green) ** 2)\n",
    "print(\"Green:\\tmat ochikuvannya - {0:.2f},\\tdispersiya - {1:.2f}\"\\\n",
    ".format(M_green, D_green))\n",
    "    \n",
    "#BLUE\n",
    "sum_val = sum(values[BLUE])\n",
    "M_blue = 0\n",
    "for index in range(len(values[BLUE])):\n",
    "    p = (values[BLUE][index] / sum_val)\n",
    "    M_blue += p * index\n",
    "D_blue = 0\n",
    "for index in range(len(values[BLUE])):\n",
    "    p = (values[BLUE][index] / sum_val)\n",
    "    D_blue += p * ((index - M_blue) ** 2)\n",
    "print(\"Blue:\\tmat ochikuvannya - {0:.2f},\\tdispersiya - {1:.2f}\"\\\n",
    ".format(M_blue, D_blue))"
   ]
  },
  {
   "cell_type": "code",
   "execution_count": 6,
   "metadata": {
    "scrolled": true
   },
   "outputs": [
    {
     "name": "stdout",
     "output_type": "stream",
     "text": [
      "Red:\tmedian - 106,\tIQR - 139\n",
      "Green:\tmedian - 97,\tIQR - 127\n",
      "Blue:\tmedian - 83,\tIQR - 136\n"
     ]
    }
   ],
   "source": [
    "#2.c Median and interquartal rozmah\n",
    "\n",
    "def medianFinder(array_values):\n",
    "    sum_val = sum(array_values)\n",
    "    summa = 0\n",
    "    for index in range(len(array_values)):\n",
    "        summa += array_values[index]\n",
    "        if (summa > (sum_val / 2)):\n",
    "            return index - 1\n",
    "        if (summa == (sum_val / 2)):\n",
    "            return (2 * index + 1) / 2\n",
    "\n",
    "def quartFinder(array_values, quart):\n",
    "    sum_val = sum(array_values)\n",
    "    summa = 0\n",
    "    for index in range(len(array_values)):\n",
    "        prev_sum = summa\n",
    "        p = array_values[index] /  sum_val\n",
    "        summa += p\n",
    "        if (summa > quart):\n",
    "            if (quart - prev_sum < summa - quart):\n",
    "                return index - 1\n",
    "            elif (quart - prev_sum > summa - quart):\n",
    "                return index\n",
    "            else:\n",
    "                return (2 * index - 1) / 2\n",
    "\n",
    "#RED\n",
    "print('Red:\\tmedian - {0},\\tIQR - {1}'.format(medianFinder(values[RED]),\\\n",
    "quartFinder(values[RED], 0.75) - quartFinder(values[RED], 0.25)))\n",
    "print('Green:\\tmedian - {0},\\tIQR - {1}'.format(medianFinder(values[GREEN]),\\\n",
    "quartFinder(values[GREEN], 0.75) - quartFinder(values[GREEN], 0.25)))\n",
    "print('Blue:\\tmedian - {0},\\tIQR - {1}'.format(medianFinder(values[BLUE]),\\\n",
    "quartFinder(values[BLUE], 0.75) - quartFinder(values[BLUE], 0.25)))"
   ]
  },
  {
   "cell_type": "code",
   "execution_count": 7,
   "metadata": {},
   "outputs": [
    {
     "name": "stdout",
     "output_type": "stream",
     "text": [
      "Red:\tAsimmetriya - 0.189,\tEkscess - -1.224\n",
      "Green:\tAsimmetriya - 0.314,\tEkscess - -1.064\n",
      "Blue:\tAsimmetriya - 0.442,\tEkscess - -1.073\n"
     ]
    }
   ],
   "source": [
    "def E_operator(arr_values, M, power):\n",
    "    sum_val = sum(arr_values)\n",
    "    ans = 0\n",
    "    for index in range(len(arr_values)):\n",
    "        p = (arr_values[index] / sum_val)\n",
    "        ans += p * ((index - M) ** power)\n",
    "    return ans\n",
    "        \n",
    "#2.d Asimmetriya, ekscess\n",
    "Asym_red = E_operator(values[RED], M_red, 3) / (D_red ** (3 / 2))\n",
    "Asym_green = E_operator(values[GREEN], M_green, 3) / (D_green ** (3 / 2))\n",
    "Asym_blue = E_operator(values[BLUE], M_blue, 3) / (D_blue ** (3 / 2))\n",
    "\n",
    "Ekscess_red = E_operator(values[RED], M_red, 4) / (D_red ** 2) - 3\n",
    "Ekscess_green = E_operator(values[GREEN], M_green, 4) / (D_green ** 2) - 3\n",
    "Ekscess_blue = E_operator(values[BLUE], M_blue, 4) / (D_blue ** 2) - 3\n",
    "print('Red:\\tAsimmetriya - {0:.3f},\\tEkscess - {1:.3f}'\\\n",
    ".format(Asym_red, Ekscess_red))\n",
    "print('Green:\\tAsimmetriya - {0:.3f},\\tEkscess - {1:.3f}'\\\n",
    ".format(Asym_green, Ekscess_green))\n",
    "print('Blue:\\tAsimmetriya - {0:.3f},\\tEkscess - {1:.3f}'\\\n",
    ".format(Asym_blue, Ekscess_blue))"
   ]
  },
  {
   "cell_type": "code",
   "execution_count": 8,
   "metadata": {},
   "outputs": [
    {
     "data": {
      "image/png": "[encoded data removed]",
      "text/plain": [
       "<Figure size 432x288 with 1 Axes>"
      ]
     },
     "metadata": {
      "needs_background": "light"
     },
     "output_type": "display_data"
    },
    {
     "data": {
      "image/png": "[encoded data removed]",
      "text/plain": [
       "<Figure size 432x288 with 1 Axes>"
      ]
     },
     "metadata": {
      "needs_background": "light"
     },
     "output_type": "display_data"
    },
    {
     "data": {
      "image/png": "[encoded data removed]",
      "text/plain": [
       "<Figure size 432x288 with 1 Axes>"
      ]
     },
     "metadata": {
      "needs_background": "light"
     },
     "output_type": "display_data"
    }
   ],
   "source": [
    "import matplotlib.pyplot as plt\n",
    "#3. Histograms\n",
    "x = range(256)\n",
    "\n",
    "#RED\n",
    "plt.bar(x,values[RED],color='red')\n",
    "plt.xlabel('Brightness')\n",
    "plt.ylabel('Frequency')\n",
    "plt.ylim(top=1500000)\n",
    "plt.show()\n",
    "#GREEN\n",
    "plt.bar(x,values[GREEN],color='green')\n",
    "plt.xlabel('Brightness')\n",
    "plt.ylabel('Frequency')\n",
    "plt.ylim(top=1500000)\n",
    "plt.show()\n",
    "#BLUE\n",
    "plt.bar(x,values[BLUE],color='blue')\n",
    "plt.xlabel('Brightness')\n",
    "plt.ylabel('Frequency')\n",
    "plt.ylim(top=1500000)\n",
    "plt.show()"
   ]
  },
  {
   "cell_type": "code",
   "execution_count": 18,
   "metadata": {},
   "outputs": [
    {
     "data": {
      "image/png": "[encoded data removed]",
      "text/plain": [
       "<Figure size 432x288 with 1 Axes>"
      ]
     },
     "metadata": {
      "needs_background": "light"
     },
     "output_type": "display_data"
    }
   ],
   "source": [
    "import seaborn as sns\n",
    "test = values[RED]\n",
    "plt.hist(test,bins = 1000)\n",
    "plt.show()"
   ]
  },
  {
   "cell_type": "code",
   "execution_count": 19,
   "metadata": {},
   "outputs": [
    {
     "data": {
      "image/png": "[encoded data removed]",
      "text/plain": [
       "<Figure size 432x288 with 1 Axes>"
      ]
     },
     "metadata": {
      "needs_background": "light"
     },
     "output_type": "display_data"
    }
   ],
   "source": [
    "X,Y = sns.distplot(np.ravel(test)).get_lines()[0].get_data()"
   ]
  },
  {
   "cell_type": "code",
   "execution_count": 20,
   "metadata": {
    "scrolled": true
   },
   "outputs": [
    {
     "data": {
      "image/png": "[encoded data removed]",
      "text/plain": [
       "<Figure size 432x288 with 1 Axes>"
      ]
     },
     "metadata": {
      "needs_background": "light"
     },
     "output_type": "display_data"
    }
   ],
   "source": [
    "from scipy import stats\n",
    "test = np.ravel(test)\n",
    "xt = plt.xticks()[0]  \n",
    "xmin, xmax = min(xt), max(xt)  \n",
    "lnspc = np.linspace(0, 255, len(X))\n",
    "\n",
    "m, s = stats.norm.fit((X,Y))# get mean and standard deviation  \n",
    "pdf_g = stats.norm.pdf(lnspc, m, s) # now get theoretical values in our interval  \n",
    "plt.plot(lnspc, pdf_g, label=\"Norm\",color = 'grey') # plot it\n",
    "plt.plot(X,Y,color = 'black',linewidth = 4)\n",
    "\n",
    "plt.plot(lnspc, pdf_g, label=\"Norm\") # plot it\n",
    "ag,bg,cg = stats.gamma.fit((X,Y))  \n",
    "pdf_gamma = stats.gamma.pdf(lnspc, ag, bg,cg)  \n",
    "plt.plot(lnspc, pdf_gamma, label=\"Gamma\",color = 'blue')\n",
    "\n",
    "\n",
    "ab,bb,cb,db = stats.beta.fit((X,Y))\n",
    "pdf_beta = stats.beta.pdf(lnspc, ab, bb,cb, db)  \n",
    "plt.plot(lnspc, pdf_beta, label=\"Beta\",color = 'red')\n",
    "\n",
    "plt.show()"
   ]
  }
 ],
 "metadata": {
  "kernelspec": {
   "display_name": "Python 3",
   "language": "python",
   "name": "python3"
  },
  "language_info": {
   "codemirror_mode": {
    "name": "ipython",
    "version": 3
   },
   "file_extension": ".py",
   "mimetype": "text/x-python",
   "name": "python",
   "nbconvert_exporter": "python",
   "pygments_lexer": "ipython3",
   "version": "3.7.6"
  }
 },
 "nbformat": 4,
 "nbformat_minor": 4
}
