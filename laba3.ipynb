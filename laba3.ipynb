{
 "cells": [
  {
   "cell_type": "code",
   "execution_count": 1,
   "metadata": {},
   "outputs": [],
   "source": [
    "import os\n",
    "\n",
    "import numpy as np\n",
    "import scipy as sp\n",
    "from scipy import misc, stats\n",
    "import pandas as pd\n",
    "from PIL import Image\n",
    "import matplotlib.pyplot as plt\n",
    "#import plotly.plotly as py\n",
    "import seaborn as sns\n",
    "from pandas import DataFrame, Series\n",
    "import warnings\n",
    "warnings.filterwarnings('ignore')\n",
    "\n",
    "\n",
    "%matplotlib inline"
   ]
  },
  {
   "cell_type": "code",
   "execution_count": 3,
   "metadata": {},
   "outputs": [],
   "source": [
    "\n",
    "MAIN_TAG = 'bw'\n",
    "DIRNAME_TAGS = 'D:/tags'\n",
    "DIRNAME_IMAGES = 'D:/mirflickr'\n",
    "\n",
    "COLOR = {'red': 0,\n",
    "         'green': 1,\n",
    "         'blue': 2}"
   ]
  },
  {
   "cell_type": "code",
   "execution_count": 4,
   "metadata": {},
   "outputs": [
    {
     "name": "stdout",
     "output_type": "stream",
     "text": [
      "> loaded im12794.jpg (500, 500, 3)\n",
      "> loaded im16293.jpg (434, 500, 3)\n",
      "> loaded im16660.jpg (405, 500, 3)\n",
      "> loaded im1508.jpg (400, 500, 3)\n",
      "> loaded im20292.jpg (279, 500, 3)\n",
      "> loaded im23203.jpg (375, 500, 3)\n",
      "> loaded im20084.jpg (333, 500, 3)\n",
      "> loaded im15708.jpg (375, 500, 3)\n",
      "> loaded im22815.jpg (500, 290, 3)\n",
      "> loaded im23574.jpg (500, 333, 3)\n",
      "> loaded im7.jpg (500, 333, 3)\n",
      "> loaded im8268.jpg (375, 500, 3)\n",
      "> loaded im14228.jpg (375, 500, 3)\n",
      "> loaded im15739.jpg (500, 399, 3)\n",
      "> loaded im17956.jpg (188, 500, 3)\n",
      "> loaded im5894.jpg (500, 481, 3)\n",
      "> loaded im12569.jpg (333, 500, 3)\n",
      "> loaded im9155.jpg (333, 500, 3)\n",
      "> loaded im20508.jpg (500, 375, 3)\n",
      "> loaded im12805.jpg (500, 333, 3)\n",
      "> loaded im20196.jpg (500, 332, 3)\n",
      "> loaded im8600.jpg (376, 500, 3)\n",
      "> loaded im23842.jpg (375, 500, 3)\n",
      "> loaded im12891.jpg (500, 466, 3)\n",
      "> loaded im5565.jpg (333, 500, 3)\n",
      "> loaded im20351.jpg (500, 500, 3)\n",
      "> loaded im6762.jpg (375, 500, 3)\n",
      "> loaded im932.jpg (333, 500, 3)\n",
      "> loaded im5950.jpg (500, 333, 3)\n",
      "> loaded im15312.jpg (500, 333, 3)\n",
      "> loaded im15876.jpg (500, 326, 3)\n",
      "> loaded im15540.jpg (375, 500, 3)\n",
      "> loaded im370.jpg (334, 500, 3)\n",
      "> loaded im19995.jpg (333, 500, 3)\n",
      "> loaded im11976.jpg (375, 500, 3)\n",
      "> loaded im22571.jpg (333, 500, 3)\n",
      "> loaded im18908.jpg (375, 500, 3)\n",
      "> loaded im8951.jpg (334, 500, 3)\n",
      "> loaded im9652.jpg (264, 500, 3)\n",
      "> loaded im1090.jpg (500, 333, 3)\n",
      "> loaded im7997.jpg (375, 500, 3)\n",
      "> loaded im24125.jpg (500, 375, 3)\n",
      "> loaded im577.jpg (334, 500, 3)\n",
      "> loaded im2579.jpg (335, 500, 3)\n",
      "> loaded im11231.jpg (375, 500, 3)\n",
      "> loaded im8804.jpg (333, 500, 3)\n",
      "> loaded im14166.jpg (500, 500, 3)\n",
      "> loaded im1024.jpg (329, 500, 3)\n",
      "> loaded im20627.jpg (500, 333, 3)\n",
      "> loaded im2661.jpg (331, 500, 3)\n",
      "> loaded im24624.jpg (333, 500, 3)\n",
      "> loaded im12937.jpg (500, 334, 3)\n",
      "> loaded im10171.jpg (333, 500, 3)\n",
      "> loaded im11562.jpg (375, 500, 3)\n",
      "> loaded im16794.jpg (402, 500, 3)\n",
      "> loaded im15118.jpg (375, 500, 3)\n",
      "> loaded im12435.jpg (500, 354, 3)\n",
      "> loaded im9191.jpg (375, 500, 3)\n",
      "> loaded im24149.jpg (375, 500, 3)\n",
      "> loaded im8722.jpg (357, 500, 3)\n",
      "> loaded im7635.jpg (455, 500, 3)\n",
      "> loaded im10681.jpg (500, 375, 3)\n",
      "> loaded im2689.jpg (500, 375, 3)\n",
      "> loaded im9822.jpg (333, 500, 3)\n",
      "> loaded im13192.jpg (375, 500, 3)\n",
      "> loaded im17567.jpg (334, 500, 3)\n",
      "> loaded im3494.jpg (375, 500, 3)\n",
      "> loaded im17820.jpg (500, 356, 3)\n",
      "> loaded im21986.jpg (500, 466, 3)\n",
      "> loaded im8059.jpg (374, 500, 3)\n",
      "> loaded im10812.jpg (257, 500, 3)\n",
      "> loaded im23684.jpg (500, 375, 3)\n",
      "> loaded im13202.jpg (375, 500, 3)\n",
      "> loaded im2793.jpg (333, 500, 3)\n",
      "> loaded im5051.jpg (500, 500, 3)\n",
      "> loaded im8346.jpg (329, 500, 3)\n",
      "> loaded im12826.jpg (375, 500, 3)\n",
      "> loaded im16446.jpg (342, 500, 3)\n",
      "> loaded im23685.jpg (375, 500, 3)\n",
      "> loaded im18463.jpg (332, 500, 3)\n",
      "> loaded im10631.jpg (349, 500, 3)\n",
      "> loaded im23156.jpg (332, 500, 3)\n",
      "> loaded im11387.jpg (375, 500, 3)\n",
      "> loaded im15339.jpg (500, 334, 3)\n",
      "> loaded im5889.jpg (335, 500, 3)\n",
      "> loaded im22686.jpg (333, 500, 3)\n",
      "> loaded im5784.jpg (375, 500, 3)\n",
      "> loaded im22826.jpg (489, 500, 3)\n",
      "> loaded im8287.jpg (375, 500, 3)\n",
      "> loaded im2701.jpg (375, 500, 3)\n",
      "> loaded im6102.jpg (500, 375, 3)\n",
      "> loaded im3297.jpg (314, 500, 3)\n",
      "> loaded im18817.jpg (500, 375, 3)\n",
      "> loaded im19124.jpg (369, 500, 3)\n",
      "> loaded im22760.jpg (383, 500, 3)\n",
      "> loaded im20670.jpg (363, 500, 3)\n",
      "> loaded im24507.jpg (500, 333, 3)\n",
      "> loaded im10221.jpg (357, 500, 3)\n",
      "> loaded im21776.jpg (333, 500, 3)\n",
      "> loaded im23618.jpg (500, 400, 3)\n",
      "> loaded im24079.jpg (375, 500, 3)\n",
      "> loaded im10671.jpg (453, 500, 3)\n",
      "> loaded im23979.jpg (425, 500, 3)\n",
      "> loaded im19826.jpg (354, 500, 3)\n",
      "> loaded im18294.jpg (375, 500, 3)\n",
      "> loaded im516.jpg (333, 500, 3)\n",
      "> loaded im15762.jpg (480, 329, 3)\n",
      "> loaded im2622.jpg (331, 500, 3)\n",
      "> loaded im24791.jpg (359, 500, 3)\n",
      "> loaded im12342.jpg (335, 500, 3)\n",
      "> loaded im22936.jpg (281, 500, 3)\n",
      "> loaded im17846.jpg (500, 375, 3)\n",
      "> loaded im10832.jpg (500, 375, 3)\n",
      "> loaded im13741.jpg (375, 500, 3)\n",
      "> loaded im14236.jpg (375, 500, 3)\n",
      "> loaded im8599.jpg (500, 333, 3)\n",
      "> loaded im15198.jpg (500, 331, 3)\n",
      "> loaded im21262.jpg (323, 500, 3)\n",
      "> loaded im17073.jpg (500, 375, 3)\n",
      "> loaded im13085.jpg (334, 500, 3)\n",
      "> loaded im9836.jpg (368, 500, 3)\n",
      "> loaded im7705.jpg (375, 500, 3)\n",
      "> loaded im21595.jpg (500, 336, 3)\n",
      "> loaded im4916.jpg (333, 500, 3)\n",
      "> loaded im19546.jpg (500, 375, 3)\n",
      "> loaded im24975.jpg (375, 500, 3)\n",
      "> loaded im7537.jpg (375, 500, 3)\n",
      "> loaded im13879.jpg (373, 500, 3)\n",
      "> loaded im12906.jpg (500, 275, 3)\n",
      "> loaded im24608.jpg (450, 500, 3)\n",
      "> loaded im12246.jpg (375, 500, 3)\n",
      "> loaded im20099.jpg (333, 500, 3)\n",
      "> loaded im13771.jpg (500, 375, 3)\n",
      "> loaded im22640.jpg (333, 500, 3)\n",
      "> loaded im18148.jpg (375, 500, 3)\n",
      "> loaded im1470.jpg (333, 500, 3)\n",
      "> loaded im9117.jpg (500, 500, 3)\n",
      "> loaded im13053.jpg (333, 500, 3)\n",
      "> loaded im2250.jpg (500, 377, 3)\n",
      "> loaded im17923.jpg (375, 500, 3)\n",
      "> loaded im4766.jpg (343, 500, 3)\n",
      "> loaded im1133.jpg (333, 500, 3)\n",
      "> loaded im4351.jpg (500, 375, 3)\n",
      "> loaded im21702.jpg (334, 500, 3)\n",
      "> loaded im20624.jpg (375, 500, 3)\n",
      "> loaded im4429.jpg (375, 500, 3)\n",
      "> loaded im14678.jpg (333, 500, 3)\n",
      "> loaded im3377.jpg (388, 500, 3)\n",
      "> loaded im22056.jpg (375, 500, 3)\n",
      "> loaded im869.jpg (333, 500, 3)\n",
      "> loaded im17345.jpg (500, 333, 3)\n",
      "> loaded im24636.jpg (333, 500, 3)\n",
      "> loaded im16358.jpg (375, 500, 3)\n",
      "> loaded im8288.jpg (325, 500, 3)\n",
      "> loaded im12055.jpg (349, 500, 3)\n",
      "> loaded im22954.jpg (500, 400, 3)\n",
      "> loaded im4533.jpg (333, 500, 3)\n",
      "> loaded im11046.jpg (381, 500, 3)\n",
      "> loaded im20315.jpg (333, 500, 3)\n",
      "> loaded im19366.jpg (333, 500, 3)\n",
      "> loaded im8040.jpg (375, 500, 3)\n",
      "> loaded im9131.jpg (365, 500, 3)\n",
      "> loaded im14573.jpg (333, 500, 3)\n",
      "> loaded im2383.jpg (375, 500, 3)\n",
      "> loaded im13951.jpg (333, 500, 3)\n",
      "> loaded im6787.jpg (500, 375, 3)\n",
      "> loaded im19038.jpg (388, 500, 3)\n",
      "> loaded im4921.jpg (375, 500, 3)\n",
      "> loaded im11259.jpg (335, 500, 3)\n",
      "> loaded im6811.jpg (500, 476, 3)\n",
      "> loaded im11204.jpg (500, 500, 3)\n",
      "> loaded im3247.jpg (375, 500, 3)\n",
      "> loaded im5451.jpg (335, 500, 3)\n",
      "> loaded im20005.jpg (375, 500, 3)\n",
      "> loaded im14605.jpg (335, 500, 3)\n",
      "> loaded im433.jpg (500, 353, 3)\n",
      "> loaded im1468.jpg (417, 500, 3)\n",
      "> loaded im3207.jpg (334, 500, 3)\n",
      "> loaded im17493.jpg (500, 375, 3)\n",
      "> loaded im7364.jpg (375, 500, 3)\n",
      "> loaded im21785.jpg (333, 500, 3)\n",
      "> loaded im7045.jpg (500, 333, 3)\n",
      "> loaded im21743.jpg (401, 500, 3)\n",
      "> loaded im11127.jpg (375, 500, 3)\n",
      "> loaded im21071.jpg (334, 500, 3)\n",
      "> loaded im15963.jpg (332, 500, 3)\n",
      "> loaded im21888.jpg (375, 500, 3)\n",
      "> loaded im17039.jpg (375, 500, 3)\n",
      "> loaded im17306.jpg (458, 500, 3)\n",
      "> loaded im2005.jpg (332, 500, 3)\n",
      "> loaded im21613.jpg (375, 500, 3)\n",
      "> loaded im739.jpg (500, 333, 3)\n",
      "> loaded im8129.jpg (375, 500, 3)\n",
      "> loaded im8899.jpg (500, 335, 3)\n",
      "> loaded im13730.jpg (350, 500, 3)\n",
      "> loaded im9075.jpg (356, 500, 3)\n",
      "> loaded im82.jpg (375, 500, 3)\n",
      "> loaded im14320.jpg (500, 375, 3)\n",
      "> loaded im4217.jpg (375, 500, 3)\n",
      "> loaded im3275.jpg (334, 500, 3)\n",
      "> loaded im11185.jpg (500, 333, 3)\n",
      "> loaded im19520.jpg (375, 500, 3)\n",
      "> loaded im6467.jpg (333, 500, 3)\n",
      "> loaded im2245.jpg (332, 500, 3)\n",
      "> loaded im10254.jpg (335, 500, 3)\n",
      "> loaded im17808.jpg (333, 500, 3)\n",
      "> loaded im17110.jpg (500, 375, 3)\n",
      "> loaded im20075.jpg (500, 333, 3)\n",
      "> loaded im22007.jpg (333, 500, 3)\n",
      "> loaded im17764.jpg (375, 500, 3)\n",
      "> loaded im4774.jpg (352, 500, 3)\n",
      "> loaded im18110.jpg (375, 500, 3)\n",
      "> loaded im1986.jpg (375, 500, 3)\n",
      "> loaded im6679.jpg (331, 500, 3)\n",
      "> loaded im5264.jpg (398, 500, 3)\n",
      "> loaded im6293.jpg (288, 500, 3)\n",
      "> loaded im1982.jpg (375, 500, 3)\n",
      "> loaded im22963.jpg (500, 491, 3)\n",
      "> loaded im17488.jpg (333, 500, 3)\n",
      "> loaded im7041.jpg (375, 500, 3)\n",
      "> loaded im18619.jpg (375, 500, 3)\n",
      "> loaded im8845.jpg (500, 375, 3)\n",
      "> loaded im11756.jpg (333, 500, 3)\n",
      "> loaded im3755.jpg (500, 335, 3)\n",
      "> loaded im21372.jpg (365, 500, 3)\n",
      "> loaded im7331.jpg (372, 500, 3)\n",
      "> loaded im22793.jpg (375, 500, 3)\n",
      "> loaded im24353.jpg (375, 500, 3)\n",
      "> loaded im16543.jpg (333, 500, 3)\n",
      "> loaded im3578.jpg (500, 400, 3)\n",
      "> loaded im22136.jpg (396, 500, 3)\n",
      "> loaded im23826.jpg (375, 500, 3)\n",
      "> loaded im11568.jpg (375, 500, 3)\n",
      "> loaded im17268.jpg (333, 500, 3)\n",
      "> loaded im18277.jpg (377, 500, 3)\n",
      "> loaded im17439.jpg (475, 500, 3)\n",
      "> loaded im805.jpg (500, 332, 3)\n",
      "> loaded im19352.jpg (375, 500, 3)\n",
      "> loaded im22316.jpg (500, 493, 3)\n",
      "> loaded im11832.jpg (333, 500, 3)\n",
      "> loaded im14000.jpg (500, 375, 3)\n",
      "> loaded im2788.jpg (500, 375, 3)\n",
      "> loaded im22378.jpg (333, 500, 3)\n",
      "> loaded im18411.jpg (333, 500, 3)\n",
      "> loaded im1915.jpg (292, 500, 3)\n",
      "> loaded im730.jpg (333, 500, 3)\n",
      "> loaded im9073.jpg (500, 375, 3)\n",
      "> loaded im7966.jpg (388, 500, 3)\n",
      "> loaded im9232.jpg (375, 500, 3)\n",
      "> loaded im13429.jpg (500, 375, 3)\n"
     ]
    }
   ],
   "source": [
    "from os import listdir\n",
    "from matplotlib import image\n",
    "import random\n",
    "# load all images in a directory\n",
    "np.random.RandomState(6)\n",
    "random_indexes = np.random.choice(range(25000), 250)\n",
    "loaded_images = list()\n",
    "image_names = list()\n",
    "for i in range(250):\n",
    "\t# load image\n",
    "\trandName = random_indexes[i]\n",
    "\timage_names.append(randName)\n",
    "\tfilename = 'im' + str(randName) + '.jpg'\n",
    "\timg_data = image.imread('D:/mirflickr/' + filename)\n",
    "\t# store loaded image\n",
    "\tloaded_images.append(img_data)\n",
    "\tprint('> loaded %s %s' % (filename, img_data.shape))"
   ]
  },
  {
   "cell_type": "code",
   "execution_count": 5,
   "metadata": {},
   "outputs": [
    {
     "data": {
      "text/plain": [
       "250"
      ]
     },
     "execution_count": 5,
     "metadata": {},
     "output_type": "execute_result"
    }
   ],
   "source": [
    "len(image_names)"
   ]
  },
  {
   "cell_type": "code",
   "execution_count": 6,
   "metadata": {},
   "outputs": [],
   "source": [
    "import codecs\n",
    "\n",
    "Y = pd.Series()\n",
    "for name in image_names:\n",
    "    with codecs.open(os.path.join(DIRNAME_TAGS, 'tags%d.txt' % (name,)), \"r\", \"utf_8_sig\") as file:\n",
    "        set_tags = set(tag.strip() for tag in file.readlines())\n",
    "        #print('tags%d.txt' % (name,), '  ',set_tags)\n",
    "        Y.at[name] = int(MAIN_TAG in set_tags)\n",
    "Y = pd.DataFrame(Y, columns=['target'])"
   ]
  },
  {
   "cell_type": "code",
   "execution_count": 7,
   "metadata": {},
   "outputs": [
    {
     "data": {
      "text/plain": [
       "0    238\n",
       "1     12\n",
       "Name: target, dtype: int64"
      ]
     },
     "execution_count": 7,
     "metadata": {},
     "output_type": "execute_result"
    }
   ],
   "source": [
    "Y['target'].value_counts()"
   ]
  },
  {
   "cell_type": "code",
   "execution_count": 8,
   "metadata": {},
   "outputs": [
    {
     "data": {
      "text/html": [
       "<div>\n",
       "<style scoped>\n",
       "    .dataframe tbody tr th:only-of-type {\n",
       "        vertical-align: middle;\n",
       "    }\n",
       "\n",
       "    .dataframe tbody tr th {\n",
       "        vertical-align: top;\n",
       "    }\n",
       "\n",
       "    .dataframe thead th {\n",
       "        text-align: right;\n",
       "    }\n",
       "</style>\n",
       "<table border=\"1\" class=\"dataframe\">\n",
       "  <thead>\n",
       "    <tr style=\"text-align: right;\">\n",
       "      <th></th>\n",
       "      <th>target</th>\n",
       "    </tr>\n",
       "  </thead>\n",
       "  <tbody>\n",
       "    <tr>\n",
       "      <th>12794</th>\n",
       "      <td>0</td>\n",
       "    </tr>\n",
       "    <tr>\n",
       "      <th>16293</th>\n",
       "      <td>0</td>\n",
       "    </tr>\n",
       "    <tr>\n",
       "      <th>16660</th>\n",
       "      <td>0</td>\n",
       "    </tr>\n",
       "    <tr>\n",
       "      <th>1508</th>\n",
       "      <td>0</td>\n",
       "    </tr>\n",
       "    <tr>\n",
       "      <th>20292</th>\n",
       "      <td>0</td>\n",
       "    </tr>\n",
       "  </tbody>\n",
       "</table>\n",
       "</div>"
      ],
      "text/plain": [
       "       target\n",
       "12794       0\n",
       "16293       0\n",
       "16660       0\n",
       "1508        0\n",
       "20292       0"
      ]
     },
     "execution_count": 8,
     "metadata": {},
     "output_type": "execute_result"
    }
   ],
   "source": [
    "Y.head()"
   ]
  },
  {
   "cell_type": "code",
   "execution_count": 9,
   "metadata": {},
   "outputs": [],
   "source": [
    "data_static = DataFrame()\n",
    "num = 0\n",
    "d = []\n",
    "for image_name in image_names:\n",
    "    image = np.array(Image.open(os.path.join(DIRNAME_IMAGES, 'im%d.jpg' % (image_name))))\n",
    "    data = []\n",
    "    for name, num in COLOR.items():\n",
    "        a = image[:, :, num].ravel()\n",
    "        data.extend([np.mean(a), np.var(a), sp.stats.skew(a), sp.stats.kurtosis(a)])\n",
    "    d.append([image_name, *data])\n",
    "    \n",
    "\n",
    "data_static = pd.DataFrame.from_records(d)\n",
    "data_static = data_static.rename(columns={0: 'name'}).set_index('name')"
   ]
  },
  {
   "cell_type": "code",
   "execution_count": 10,
   "metadata": {},
   "outputs": [
    {
     "data": {
      "text/html": [
       "<div>\n",
       "<style scoped>\n",
       "    .dataframe tbody tr th:only-of-type {\n",
       "        vertical-align: middle;\n",
       "    }\n",
       "\n",
       "    .dataframe tbody tr th {\n",
       "        vertical-align: top;\n",
       "    }\n",
       "\n",
       "    .dataframe thead th {\n",
       "        text-align: right;\n",
       "    }\n",
       "</style>\n",
       "<table border=\"1\" class=\"dataframe\">\n",
       "  <thead>\n",
       "    <tr style=\"text-align: right;\">\n",
       "      <th></th>\n",
       "      <th>1</th>\n",
       "      <th>2</th>\n",
       "      <th>3</th>\n",
       "      <th>4</th>\n",
       "      <th>5</th>\n",
       "      <th>6</th>\n",
       "      <th>7</th>\n",
       "      <th>8</th>\n",
       "      <th>9</th>\n",
       "      <th>10</th>\n",
       "      <th>11</th>\n",
       "      <th>12</th>\n",
       "    </tr>\n",
       "    <tr>\n",
       "      <th>name</th>\n",
       "      <th></th>\n",
       "      <th></th>\n",
       "      <th></th>\n",
       "      <th></th>\n",
       "      <th></th>\n",
       "      <th></th>\n",
       "      <th></th>\n",
       "      <th></th>\n",
       "      <th></th>\n",
       "      <th></th>\n",
       "      <th></th>\n",
       "      <th></th>\n",
       "    </tr>\n",
       "  </thead>\n",
       "  <tbody>\n",
       "    <tr>\n",
       "      <th>12794</th>\n",
       "      <td>72.238444</td>\n",
       "      <td>2679.877156</td>\n",
       "      <td>0.608164</td>\n",
       "      <td>0.324441</td>\n",
       "      <td>64.310748</td>\n",
       "      <td>2314.199960</td>\n",
       "      <td>0.839043</td>\n",
       "      <td>0.934329</td>\n",
       "      <td>54.413860</td>\n",
       "      <td>1802.993540</td>\n",
       "      <td>1.351030</td>\n",
       "      <td>2.934094</td>\n",
       "    </tr>\n",
       "    <tr>\n",
       "      <th>16293</th>\n",
       "      <td>133.897811</td>\n",
       "      <td>5650.957516</td>\n",
       "      <td>-0.250211</td>\n",
       "      <td>-1.092087</td>\n",
       "      <td>106.032166</td>\n",
       "      <td>3207.120938</td>\n",
       "      <td>-0.322296</td>\n",
       "      <td>-0.916808</td>\n",
       "      <td>104.843286</td>\n",
       "      <td>2851.004192</td>\n",
       "      <td>-0.397816</td>\n",
       "      <td>-0.723642</td>\n",
       "    </tr>\n",
       "    <tr>\n",
       "      <th>16660</th>\n",
       "      <td>120.236109</td>\n",
       "      <td>4409.250435</td>\n",
       "      <td>0.231712</td>\n",
       "      <td>-0.850808</td>\n",
       "      <td>126.233373</td>\n",
       "      <td>5738.013982</td>\n",
       "      <td>0.028637</td>\n",
       "      <td>-1.268823</td>\n",
       "      <td>109.022390</td>\n",
       "      <td>5307.746807</td>\n",
       "      <td>0.470193</td>\n",
       "      <td>-0.890168</td>\n",
       "    </tr>\n",
       "    <tr>\n",
       "      <th>1508</th>\n",
       "      <td>60.445375</td>\n",
       "      <td>3504.049606</td>\n",
       "      <td>0.922458</td>\n",
       "      <td>0.473668</td>\n",
       "      <td>54.523785</td>\n",
       "      <td>2841.602484</td>\n",
       "      <td>0.984354</td>\n",
       "      <td>0.913604</td>\n",
       "      <td>45.497615</td>\n",
       "      <td>2077.387904</td>\n",
       "      <td>1.080990</td>\n",
       "      <td>1.527014</td>\n",
       "    </tr>\n",
       "    <tr>\n",
       "      <th>20292</th>\n",
       "      <td>115.530509</td>\n",
       "      <td>4592.637342</td>\n",
       "      <td>0.399302</td>\n",
       "      <td>-0.874973</td>\n",
       "      <td>90.762115</td>\n",
       "      <td>3812.946472</td>\n",
       "      <td>0.848816</td>\n",
       "      <td>-0.137744</td>\n",
       "      <td>98.170258</td>\n",
       "      <td>3639.083148</td>\n",
       "      <td>0.780530</td>\n",
       "      <td>-0.240696</td>\n",
       "    </tr>\n",
       "  </tbody>\n",
       "</table>\n",
       "</div>"
      ],
      "text/plain": [
       "               1            2         3         4           5            6   \\\n",
       "name                                                                          \n",
       "12794   72.238444  2679.877156  0.608164  0.324441   64.310748  2314.199960   \n",
       "16293  133.897811  5650.957516 -0.250211 -1.092087  106.032166  3207.120938   \n",
       "16660  120.236109  4409.250435  0.231712 -0.850808  126.233373  5738.013982   \n",
       "1508    60.445375  3504.049606  0.922458  0.473668   54.523785  2841.602484   \n",
       "20292  115.530509  4592.637342  0.399302 -0.874973   90.762115  3812.946472   \n",
       "\n",
       "             7         8           9            10        11        12  \n",
       "name                                                                    \n",
       "12794  0.839043  0.934329   54.413860  1802.993540  1.351030  2.934094  \n",
       "16293 -0.322296 -0.916808  104.843286  2851.004192 -0.397816 -0.723642  \n",
       "16660  0.028637 -1.268823  109.022390  5307.746807  0.470193 -0.890168  \n",
       "1508   0.984354  0.913604   45.497615  2077.387904  1.080990  1.527014  \n",
       "20292  0.848816 -0.137744   98.170258  3639.083148  0.780530 -0.240696  "
      ]
     },
     "execution_count": 10,
     "metadata": {},
     "output_type": "execute_result"
    }
   ],
   "source": [
    "data_static.head()"
   ]
  },
  {
   "cell_type": "code",
   "execution_count": 11,
   "metadata": {},
   "outputs": [
    {
     "data": {
      "text/plain": [
       "(250, 12)"
      ]
     },
     "execution_count": 11,
     "metadata": {},
     "output_type": "execute_result"
    }
   ],
   "source": [
    "data_static.shape"
   ]
  },
  {
   "cell_type": "code",
   "execution_count": 12,
   "metadata": {},
   "outputs": [],
   "source": [
    "import itertools\n",
    "\n",
    "from sklearn.linear_model import LinearRegression, LogisticRegression\n",
    "from sklearn.svm import SVC\n",
    "from sklearn.model_selection import KFold, cross_val_score, train_test_split\n",
    "from sklearn.metrics import accuracy_score, recall_score, confusion_matrix"
   ]
  },
  {
   "cell_type": "code",
   "execution_count": 13,
   "metadata": {},
   "outputs": [],
   "source": [
    "N = 12"
   ]
  },
  {
   "cell_type": "code",
   "execution_count": 14,
   "metadata": {},
   "outputs": [],
   "source": [
    "def plot_confusion_matrix(cm, classes,\n",
    "                          normalize=True,\n",
    "                          title='Confusion matrix',\n",
    "                          cmap=plt.cm.Blues):\n",
    "    \"\"\"\n",
    "    This function prints and plots the confusion matrix.\n",
    "    Normalization can be applied by setting `normalize=True`.\n",
    "    \"\"\"\n",
    "    plt.imshow(cm, interpolation='nearest', cmap=cmap)\n",
    "    plt.title(title)\n",
    "    plt.colorbar()\n",
    "    tick_marks = np.arange(len(classes))\n",
    "    plt.xticks(tick_marks, classes)\n",
    "    plt.yticks(tick_marks, classes)\n",
    "\n",
    "    if normalize:\n",
    "        cm = cm.astype('float') / cm.sum(axis=1)[:, np.newaxis]\n",
    "        print(\"Normalized confusion matrix\")\n",
    "    else:\n",
    "        print('Confusion matrix, without normalization')\n",
    "\n",
    "    print(cm)\n",
    "\n",
    "    thresh = cm.max() / 2.\n",
    "    for i, j in itertools.product(range(cm.shape[0]), range(cm.shape[1])):\n",
    "        plt.text(j, i, round(cm[i, j], 3),\n",
    "                 horizontalalignment=\"center\",\n",
    "                 color=\"white\" if cm[i, j] > thresh else \"black\")\n",
    "\n",
    "    plt.tight_layout()\n",
    "    plt.ylabel('True label')\n",
    "    plt.xlabel('Predicted label')\n",
    "\n",
    "font = {'size' : 15}\n",
    "\n",
    "plt.rc('font', **font)"
   ]
  },
  {
   "cell_type": "code",
   "execution_count": 15,
   "metadata": {},
   "outputs": [],
   "source": [
    "X = data_static.copy()\n",
    "\n",
    "df = Y.join(X, how='inner')\n",
    "df = df.drop_duplicates()\n",
    "\n",
    "y = df['target']\n",
    "X = df.drop('target', axis=1)"
   ]
  },
  {
   "cell_type": "code",
   "execution_count": 16,
   "metadata": {},
   "outputs": [
    {
     "name": "stdout",
     "output_type": "stream",
     "text": [
      "Normalized confusion matrix\n",
      "[[0.99230231 0.00769769]\n",
      " [1.         0.        ]]\n"
     ]
    },
    {
     "data": {
      "image/png": "[encoded data removed]",
      "text/plain": [
       "<Figure size 288x216 with 2 Axes>"
      ]
     },
     "metadata": {
      "needs_background": "light"
     },
     "output_type": "display_data"
    },
    {
     "name": "stdout",
     "output_type": "stream",
     "text": [
      "Normalized confusion matrix\n",
      "[[0. 1.]\n",
      " [0. 1.]]\n"
     ]
    },
    {
     "data": {
      "image/png": "[encoded data removed]",
      "text/plain": [
       "<Figure size 288x216 with 2 Axes>"
      ]
     },
     "metadata": {
      "needs_background": "light"
     },
     "output_type": "display_data"
    },
    {
     "name": "stdout",
     "output_type": "stream",
     "text": [
      "Normalized confusion matrix\n",
      "[[1. 0.]\n",
      " [1. 0.]]\n"
     ]
    },
    {
     "data": {
      "image/png": "[encoded data removed]",
      "text/plain": [
       "<Figure size 288x216 with 2 Axes>"
      ]
     },
     "metadata": {
      "needs_background": "light"
     },
     "output_type": "display_data"
    }
   ],
   "source": [
    "for c in (LogisticRegression, LinearRegression, SVC):\n",
    "    cls = c()\n",
    "    cnf_matrix = []\n",
    "    for i in range(N):\n",
    "        X_train, X_test, y_train, y_test = train_test_split(X, y, test_size=0.5)\n",
    "        cls.fit(X_train, y_train)\n",
    "        y_predict = cls.predict(X_test)\n",
    "        cnf_matrix.append(confusion_matrix(y_test, y_predict.astype(bool).astype(int)))\n",
    "    cnf_matrix = np.mean(np.array(cnf_matrix), axis=0)\n",
    "    plt.figure(figsize=(4, 3))\n",
    "    plot_confusion_matrix(cnf_matrix, classes=['0', '1'],\n",
    "                          title=c.__name__)\n",
    "    plt.savefig(\"static_\" + c.__name__ + \".png\")\n",
    "    plt.show()"
   ]
  },
  {
   "cell_type": "code",
   "execution_count": 17,
   "metadata": {},
   "outputs": [
    {
     "name": "stdout",
     "output_type": "stream",
     "text": [
      "Normalized confusion matrix\n",
      "[[0.99790649 0.00209351]\n",
      " [1.         0.        ]]\n"
     ]
    },
    {
     "data": {
      "image/png": "[encoded data removed]",
      "text/plain": [
       "<Figure size 288x216 with 2 Axes>"
      ]
     },
     "metadata": {
      "needs_background": "light"
     },
     "output_type": "display_data"
    },
    {
     "name": "stdout",
     "output_type": "stream",
     "text": [
      "[[119.16666667   0.25      ]\n",
      " [  5.58333333   0.        ]]\n",
      "Normalized confusion matrix\n",
      "[[9.99299720e-01 7.00280112e-04]\n",
      " [1.00000000e+00 0.00000000e+00]]\n"
     ]
    },
    {
     "data": {
      "image/png": "[encoded data removed]",
      "text/plain": [
       "<Figure size 288x216 with 2 Axes>"
      ]
     },
     "metadata": {
      "needs_background": "light"
     },
     "output_type": "display_data"
    },
    {
     "name": "stdout",
     "output_type": "stream",
     "text": [
      "[[1.18916667e+02 8.33333333e-02]\n",
      " [6.00000000e+00 0.00000000e+00]]\n",
      "Normalized confusion matrix\n",
      "[[0.9979021 0.0020979]\n",
      " [1.        0.       ]]\n"
     ]
    },
    {
     "data": {
      "image/png": "[encoded data removed]",
      "text/plain": [
       "<Figure size 288x216 with 2 Axes>"
      ]
     },
     "metadata": {
      "needs_background": "light"
     },
     "output_type": "display_data"
    },
    {
     "name": "stdout",
     "output_type": "stream",
     "text": [
      "[[118.91666667   0.25      ]\n",
      " [  5.83333333   0.        ]]\n"
     ]
    }
   ],
   "source": [
    "for c in (LogisticRegression, LinearRegression, SVC):\n",
    "    cls = LinearRegression(n_jobs=-1)\n",
    "    cnf_matrix = []\n",
    "    for i in range(N):\n",
    "        X_train, X_test, y_train, y_test = train_test_split(X, y, test_size=0.5)\n",
    "        cls.fit(X_train, y_train)\n",
    "        y_predict = cls.predict(X_test).astype(int)\n",
    "        #print(y_predict)\n",
    "   \n",
    "        cnf_matrix.append(confusion_matrix(y_test, y_predict.astype(bool).astype(int))) # .astype(int)\n",
    "    #print(confusion_matrix(y_test, y_predict.astype(int)))\n",
    "    cnf_matrix = np.mean(np.array(cnf_matrix), axis=0)\n",
    "    plt.figure(figsize=(4, 3))\n",
    "    plot_confusion_matrix(cnf_matrix, classes=['0', '1'],\n",
    "                              title=c.__name__)\n",
    "    plt.savefig(\"spam\" + c.__name__ + \".png\")\n",
    "    plt.show()\n",
    "    print(cnf_matrix)"
   ]
  },
  {
   "cell_type": "code",
   "execution_count": 18,
   "metadata": {},
   "outputs": [
    {
     "name": "stdout",
     "output_type": "stream",
     "text": [
      "Normalized confusion matrix\n",
      "[[0.99154334 0.00845666]\n",
      " [0.98765432 0.01234568]]\n"
     ]
    },
    {
     "data": {
      "image/png": "[encoded data removed]",
      "text/plain": [
       "<Figure size 288x216 with 2 Axes>"
      ]
     },
     "metadata": {
      "needs_background": "light"
     },
     "output_type": "display_data"
    },
    {
     "name": "stdout",
     "output_type": "stream",
     "text": [
      "Normalized confusion matrix\n",
      "[[0. 1.]\n",
      " [0. 1.]]\n"
     ]
    },
    {
     "data": {
      "image/png": "[encoded data removed]",
      "text/plain": [
       "<Figure size 288x216 with 2 Axes>"
      ]
     },
     "metadata": {
      "needs_background": "light"
     },
     "output_type": "display_data"
    },
    {
     "name": "stdout",
     "output_type": "stream",
     "text": [
      "Normalized confusion matrix\n",
      "[[0.921875   0.078125  ]\n",
      " [0.61538462 0.38461538]]\n"
     ]
    },
    {
     "data": {
      "image/png": "[encoded data removed]",
      "text/plain": [
       "<Figure size 288x216 with 2 Axes>"
      ]
     },
     "metadata": {
      "needs_background": "light"
     },
     "output_type": "display_data"
    }
   ],
   "source": [
    "for c in (LogisticRegression, LinearRegression, SVC):\n",
    "    cnf_matrix = []\n",
    "    for i in range(N):\n",
    "        X_train, X_test, y_train, y_test = train_test_split(X, y, test_size=0.5)\n",
    "        cls = c()\n",
    "        cls.fit(X_train, y_train)\n",
    "        y_predict = cls.predict(X_test)\n",
    "        cnf_matrix.append(confusion_matrix(y_test, y_predict.astype(bool).astype(int)))\n",
    "    #print(confusion_matrix(y_test, y_predict.astype(int)))\n",
    "    cnf_matrix = np.mean(np.array(cnf_matrix), axis=0)\n",
    "    plt.figure(figsize=(4, 3))\n",
    "    plot_confusion_matrix(cnf_matrix, classes=['0', '1'],\n",
    "                              title=c.__name__)\n",
    "    plt.savefig(\"ccpev_\" + c.__name__ + \".png\")\n",
    "    plt.show()\n",
    "    #print(cnf_matrix)"
   ]
  },
  {
   "cell_type": "code",
   "execution_count": null,
   "metadata": {},
   "outputs": [],
   "source": []
  }
 ],
 "metadata": {
  "kernelspec": {
   "display_name": "Python 3",
   "language": "python",
   "name": "python3"
  },
  "language_info": {
   "codemirror_mode": {
    "name": "ipython",
    "version": 3
   },
   "file_extension": ".py",
   "mimetype": "text/x-python",
   "name": "python",
   "nbconvert_exporter": "python",
   "pygments_lexer": "ipython3",
   "version": "3.7.6"
  }
 },
 "nbformat": 4,
 "nbformat_minor": 4
}
