{
 "cells": [
  {
   "cell_type": "code",
   "execution_count": 1,
   "metadata": {},
   "outputs": [],
   "source": [
    "import numpy as np\n",
    "import scipy as sp\n",
    "from scipy import misc, stats\n",
    "import pandas as pd\n",
    "from PIL import Image\n",
    "import matplotlib.pyplot as plt\n",
    "import seaborn as sns\n",
    "from pandas import DataFrame, Series\n",
    "import warnings\n",
    "warnings.filterwarnings('ignore')\n",
    "\n"
   ]
  },
  {
   "cell_type": "code",
   "execution_count": 2,
   "metadata": {},
   "outputs": [],
   "source": [
    "MAIN_TAG = '2007'\n",
    "DIRNAME_TAGS = 'MIRFlickr25k_tags/tags/'\n",
    "DIRNAME_IMAGES = 'mirflickr/'\n",
    "\n",
    "COLOR = {'RED': 0,\n",
    "         'GREEN': 1,\n",
    "         'BLUE': 2}"
   ]
  },
  {
   "cell_type": "code",
   "execution_count": 3,
   "metadata": {},
   "outputs": [],
   "source": [
    "from os import listdir\n",
    "from matplotlib import image\n",
    "import random\n",
    "np.random.RandomState(4)\n",
    "random_indexes = np.random.choice(range(25000), 250)\n",
    "loaded_images = list()\n",
    "image_names = list()\n",
    "for i in range(250):\n",
    "\trandName = random_indexes[i]\n",
    "\timage_names.append(randName)\n",
    "\tfilename = 'im' + str(randName) + '.jpg'\n",
    "\timg_data = image.imread('mirflickr/' + filename)\n",
    "\tloaded_images.append(img_data)\n"
   ]
  },
  {
   "cell_type": "code",
   "execution_count": 4,
   "metadata": {},
   "outputs": [
    {
     "data": {
      "text/plain": [
       "250"
      ]
     },
     "execution_count": 4,
     "metadata": {},
     "output_type": "execute_result"
    }
   ],
   "source": [
    "len(image_names)\n"
   ]
  },
  {
   "cell_type": "code",
   "execution_count": 5,
   "metadata": {},
   "outputs": [],
   "source": [
    "import codecs\n",
    "import os\n",
    "\n",
    "Y = pd.Series()\n",
    "for name in image_names:\n",
    "    with codecs.open(os.path.join(DIRNAME_TAGS, 'tags%d.txt' % (name,)), \"r\", \"utf_8_sig\") as file:\n",
    "        set_tags = set(tag.strip() for tag in file.readlines())\n",
    "        Y.at[name] = int(MAIN_TAG in set_tags)\n",
    "Y = pd.DataFrame(Y, columns=['target'])"
   ]
  },
  {
   "cell_type": "code",
   "execution_count": 6,
   "metadata": {},
   "outputs": [
    {
     "data": {
      "text/plain": [
       "0    241\n",
       "1      8\n",
       "Name: target, dtype: int64"
      ]
     },
     "execution_count": 6,
     "metadata": {},
     "output_type": "execute_result"
    }
   ],
   "source": [
    "Y['target'].value_counts()"
   ]
  },
  {
   "cell_type": "code",
   "execution_count": 7,
   "metadata": {},
   "outputs": [
    {
     "data": {
      "text/html": [
       "<div>\n",
       "<style scoped>\n",
       "    .dataframe tbody tr th:only-of-type {\n",
       "        vertical-align: middle;\n",
       "    }\n",
       "\n",
       "    .dataframe tbody tr th {\n",
       "        vertical-align: top;\n",
       "    }\n",
       "\n",
       "    .dataframe thead th {\n",
       "        text-align: right;\n",
       "    }\n",
       "</style>\n",
       "<table border=\"1\" class=\"dataframe\">\n",
       "  <thead>\n",
       "    <tr style=\"text-align: right;\">\n",
       "      <th></th>\n",
       "      <th>target</th>\n",
       "    </tr>\n",
       "  </thead>\n",
       "  <tbody>\n",
       "    <tr>\n",
       "      <th>12685</th>\n",
       "      <td>0</td>\n",
       "    </tr>\n",
       "    <tr>\n",
       "      <th>10086</th>\n",
       "      <td>0</td>\n",
       "    </tr>\n",
       "    <tr>\n",
       "      <th>16782</th>\n",
       "      <td>0</td>\n",
       "    </tr>\n",
       "    <tr>\n",
       "      <th>14369</th>\n",
       "      <td>0</td>\n",
       "    </tr>\n",
       "    <tr>\n",
       "      <th>15757</th>\n",
       "      <td>0</td>\n",
       "    </tr>\n",
       "  </tbody>\n",
       "</table>\n",
       "</div>"
      ],
      "text/plain": [
       "       target\n",
       "12685       0\n",
       "10086       0\n",
       "16782       0\n",
       "14369       0\n",
       "15757       0"
      ]
     },
     "execution_count": 7,
     "metadata": {},
     "output_type": "execute_result"
    }
   ],
   "source": [
    "Y.head()"
   ]
  },
  {
   "cell_type": "code",
   "execution_count": 21,
   "metadata": {},
   "outputs": [],
   "source": [
    "#STATIC DATA\n",
    "\n",
    "data_static = DataFrame()\n",
    "num = 0\n",
    "d = []\n",
    "for image_name in image_names:\n",
    "    image = np.array(Image.open(os.path.join(DIRNAME_IMAGES, 'im%d.jpg' % (image_name))))\n",
    "    data = []\n",
    "    for name, num in COLOR.items():\n",
    "        a = image[:, :, num].ravel()\n",
    "        data.extend([np.mean(a), np.var(a), sp.stats.skew(a), sp.stats.kurtosis(a)])\n",
    "    d.append([image_name, *data])\n",
    "    \n",
    "\n",
    "data_static = pd.DataFrame.from_records(d)\n",
    "data_static = data_static.rename(columns={0: 'name'}).set_index('name')"
   ]
  },
  {
   "cell_type": "code",
   "execution_count": 22,
   "metadata": {},
   "outputs": [
    {
     "data": {
      "text/html": [
       "<div>\n",
       "<style scoped>\n",
       "    .dataframe tbody tr th:only-of-type {\n",
       "        vertical-align: middle;\n",
       "    }\n",
       "\n",
       "    .dataframe tbody tr th {\n",
       "        vertical-align: top;\n",
       "    }\n",
       "\n",
       "    .dataframe thead th {\n",
       "        text-align: right;\n",
       "    }\n",
       "</style>\n",
       "<table border=\"1\" class=\"dataframe\">\n",
       "  <thead>\n",
       "    <tr style=\"text-align: right;\">\n",
       "      <th></th>\n",
       "      <th>1</th>\n",
       "      <th>2</th>\n",
       "      <th>3</th>\n",
       "      <th>4</th>\n",
       "      <th>5</th>\n",
       "      <th>6</th>\n",
       "      <th>7</th>\n",
       "      <th>8</th>\n",
       "      <th>9</th>\n",
       "      <th>10</th>\n",
       "      <th>11</th>\n",
       "      <th>12</th>\n",
       "    </tr>\n",
       "    <tr>\n",
       "      <th>name</th>\n",
       "      <th></th>\n",
       "      <th></th>\n",
       "      <th></th>\n",
       "      <th></th>\n",
       "      <th></th>\n",
       "      <th></th>\n",
       "      <th></th>\n",
       "      <th></th>\n",
       "      <th></th>\n",
       "      <th></th>\n",
       "      <th></th>\n",
       "      <th></th>\n",
       "    </tr>\n",
       "  </thead>\n",
       "  <tbody>\n",
       "    <tr>\n",
       "      <th>12685</th>\n",
       "      <td>73.802808</td>\n",
       "      <td>9175.108586</td>\n",
       "      <td>0.705485</td>\n",
       "      <td>-1.330825</td>\n",
       "      <td>57.543174</td>\n",
       "      <td>4945.143438</td>\n",
       "      <td>0.878022</td>\n",
       "      <td>-0.812728</td>\n",
       "      <td>16.003837</td>\n",
       "      <td>911.013148</td>\n",
       "      <td>2.073557</td>\n",
       "      <td>3.705262</td>\n",
       "    </tr>\n",
       "    <tr>\n",
       "      <th>10086</th>\n",
       "      <td>130.826384</td>\n",
       "      <td>5242.890200</td>\n",
       "      <td>0.100432</td>\n",
       "      <td>-1.319348</td>\n",
       "      <td>102.532234</td>\n",
       "      <td>3629.409526</td>\n",
       "      <td>0.354705</td>\n",
       "      <td>-0.884836</td>\n",
       "      <td>63.960198</td>\n",
       "      <td>2600.628764</td>\n",
       "      <td>0.999925</td>\n",
       "      <td>0.436045</td>\n",
       "    </tr>\n",
       "    <tr>\n",
       "      <th>16782</th>\n",
       "      <td>130.230245</td>\n",
       "      <td>5075.098566</td>\n",
       "      <td>-0.006369</td>\n",
       "      <td>-1.462990</td>\n",
       "      <td>105.027525</td>\n",
       "      <td>1661.014992</td>\n",
       "      <td>0.626722</td>\n",
       "      <td>0.965418</td>\n",
       "      <td>62.872752</td>\n",
       "      <td>1180.766107</td>\n",
       "      <td>0.927394</td>\n",
       "      <td>3.520996</td>\n",
       "    </tr>\n",
       "    <tr>\n",
       "      <th>14369</th>\n",
       "      <td>113.082438</td>\n",
       "      <td>4367.585636</td>\n",
       "      <td>0.563258</td>\n",
       "      <td>-0.772476</td>\n",
       "      <td>110.789808</td>\n",
       "      <td>4068.123201</td>\n",
       "      <td>0.525437</td>\n",
       "      <td>-0.659390</td>\n",
       "      <td>112.444631</td>\n",
       "      <td>4180.284496</td>\n",
       "      <td>0.554359</td>\n",
       "      <td>-0.649634</td>\n",
       "    </tr>\n",
       "    <tr>\n",
       "      <th>15757</th>\n",
       "      <td>121.189129</td>\n",
       "      <td>7459.811654</td>\n",
       "      <td>-0.186845</td>\n",
       "      <td>-1.528438</td>\n",
       "      <td>109.473754</td>\n",
       "      <td>6394.108074</td>\n",
       "      <td>-0.036436</td>\n",
       "      <td>-1.409435</td>\n",
       "      <td>71.637970</td>\n",
       "      <td>5720.422027</td>\n",
       "      <td>0.712548</td>\n",
       "      <td>-0.754696</td>\n",
       "    </tr>\n",
       "  </tbody>\n",
       "</table>\n",
       "</div>"
      ],
      "text/plain": [
       "               1            2         3         4           5            6   \\\n",
       "name                                                                          \n",
       "12685   73.802808  9175.108586  0.705485 -1.330825   57.543174  4945.143438   \n",
       "10086  130.826384  5242.890200  0.100432 -1.319348  102.532234  3629.409526   \n",
       "16782  130.230245  5075.098566 -0.006369 -1.462990  105.027525  1661.014992   \n",
       "14369  113.082438  4367.585636  0.563258 -0.772476  110.789808  4068.123201   \n",
       "15757  121.189129  7459.811654 -0.186845 -1.528438  109.473754  6394.108074   \n",
       "\n",
       "             7         8           9            10        11        12  \n",
       "name                                                                    \n",
       "12685  0.878022 -0.812728   16.003837   911.013148  2.073557  3.705262  \n",
       "10086  0.354705 -0.884836   63.960198  2600.628764  0.999925  0.436045  \n",
       "16782  0.626722  0.965418   62.872752  1180.766107  0.927394  3.520996  \n",
       "14369  0.525437 -0.659390  112.444631  4180.284496  0.554359 -0.649634  \n",
       "15757 -0.036436 -1.409435   71.637970  5720.422027  0.712548 -0.754696  "
      ]
     },
     "execution_count": 22,
     "metadata": {},
     "output_type": "execute_result"
    }
   ],
   "source": [
    "data_static.head()"
   ]
  },
  {
   "cell_type": "code",
   "execution_count": 10,
   "metadata": {},
   "outputs": [
    {
     "data": {
      "text/plain": [
       "(250, 12)"
      ]
     },
     "execution_count": 10,
     "metadata": {},
     "output_type": "execute_result"
    }
   ],
   "source": [
    "data_static.shape"
   ]
  },
  {
   "cell_type": "code",
   "execution_count": 23,
   "metadata": {},
   "outputs": [],
   "source": [
    "#Learning\n",
    "\n",
    "import itertools\n",
    "from sklearn.linear_model import LinearRegression, LogisticRegression\n",
    "from sklearn.svm import SVC\n",
    "from sklearn.model_selection import KFold, cross_val_score, train_test_split\n",
    "from sklearn.metrics import accuracy_score, recall_score, confusion_matrix"
   ]
  },
  {
   "cell_type": "code",
   "execution_count": 24,
   "metadata": {},
   "outputs": [],
   "source": [
    "N = 12"
   ]
  },
  {
   "cell_type": "code",
   "execution_count": 25,
   "metadata": {},
   "outputs": [],
   "source": [
    "def plot_confusion_matrix(cm, classes,\n",
    "                          normalize=True,\n",
    "                          title='Confusion matrix',\n",
    "                          cmap=plt.cm.Blues):\n",
    " \n",
    "    plt.imshow(cm, interpolation='nearest', cmap=cmap)\n",
    "    plt.title(title)\n",
    "    plt.colorbar()\n",
    "    tick_marks = np.arange(len(classes))\n",
    "    plt.xticks(tick_marks, classes)\n",
    "    plt.yticks(tick_marks, classes)\n",
    "\n",
    "    if normalize:\n",
    "        cm = cm.astype('float') / cm.sum(axis=1)[:, np.newaxis]\n",
    "        print(\"Normalized confusion matrix\")\n",
    "    else:\n",
    "        print('Confusion matrix, without normalization')\n",
    "\n",
    "    print(cm)\n",
    "\n",
    "    thresh = cm.max() / 2.\n",
    "    for i, j in itertools.product(range(cm.shape[0]), range(cm.shape[1])):\n",
    "        plt.text(j, i, round(cm[i, j], 3),\n",
    "                 horizontalalignment=\"center\",\n",
    "                 color=\"white\" if cm[i, j] > thresh else \"black\")\n",
    "\n",
    "    plt.tight_layout()\n",
    "    plt.ylabel('True label')\n",
    "    plt.xlabel('Predicted label')\n",
    "\n",
    "font = {'size' : 15}\n",
    "\n",
    "plt.rc('font', **font)"
   ]
  },
  {
   "cell_type": "code",
   "execution_count": 26,
   "metadata": {},
   "outputs": [],
   "source": [
    "#STATIC\n",
    "\n",
    "X = data_static.copy()\n",
    "\n",
    "df = Y.join(X, how='inner')\n",
    "df = df.drop_duplicates()\n",
    "\n",
    "y = df['target']\n",
    "X = df.drop('target', axis=1)"
   ]
  },
  {
   "cell_type": "code",
   "execution_count": 27,
   "metadata": {},
   "outputs": [
    {
     "name": "stdout",
     "output_type": "stream",
     "text": [
      "Normalized confusion matrix\n",
      "[[0.98761184 0.01238816]\n",
      " [0.9787234  0.0212766 ]]\n"
     ]
    },
    {
     "data": {
      "image/png": "[encoded data removed]",
      "text/plain": [
       "<Figure size 288x216 with 2 Axes>"
      ]
     },
     "metadata": {
      "needs_background": "light"
     },
     "output_type": "display_data"
    },
    {
     "name": "stdout",
     "output_type": "stream",
     "text": [
      "Normalized confusion matrix\n",
      "[[0. 1.]\n",
      " [0. 1.]]\n"
     ]
    },
    {
     "data": {
      "image/png": "[encoded data removed]",
      "text/plain": [
       "<Figure size 288x216 with 2 Axes>"
      ]
     },
     "metadata": {
      "needs_background": "light"
     },
     "output_type": "display_data"
    },
    {
     "name": "stdout",
     "output_type": "stream",
     "text": [
      "Normalized confusion matrix\n",
      "[[1. 0.]\n",
      " [1. 0.]]\n"
     ]
    },
    {
     "data": {
      "image/png": "[encoded data removed]",
      "text/plain": [
       "<Figure size 288x216 with 2 Axes>"
      ]
     },
     "metadata": {
      "needs_background": "light"
     },
     "output_type": "display_data"
    }
   ],
   "source": [
    "for c in (LogisticRegression, LinearRegression, SVC):\n",
    "    cls = c()\n",
    "    cnf_matrix = []\n",
    "    for i in range(N):\n",
    "        X_train, X_test, y_train, y_test = train_test_split(X, y, test_size=0.5)\n",
    "        cls.fit(X_train, y_train)\n",
    "        y_predict = cls.predict(X_test)\n",
    "        cnf_matrix.append(confusion_matrix(y_test, y_predict.astype(bool).astype(int)))\n",
    "    cnf_matrix = np.mean(np.array(cnf_matrix), axis=0)\n",
    "    plt.figure(figsize=(4, 3))\n",
    "    plot_confusion_matrix(cnf_matrix, classes=['0', '1'],\n",
    "                          title=c.__name__)\n",
    "    plt.savefig(\"static_\" + c.__name__ + \".png\")\n",
    "    plt.show()"
   ]
  },
  {
   "cell_type": "code",
   "execution_count": 28,
   "metadata": {},
   "outputs": [
    {
     "name": "stdout",
     "output_type": "stream",
     "text": [
      "Normalized confusion matrix\n",
      "[[0.99378882 0.00621118]\n",
      " [1.         0.        ]]\n"
     ]
    },
    {
     "data": {
      "image/png": "[encoded data removed]",
      "text/plain": [
       "<Figure size 288x216 with 2 Axes>"
      ]
     },
     "metadata": {
      "needs_background": "light"
     },
     "output_type": "display_data"
    },
    {
     "name": "stdout",
     "output_type": "stream",
     "text": [
      "[[120.     0.75]\n",
      " [  4.25   0.  ]]\n",
      "Normalized confusion matrix\n",
      "[[0.99519561 0.00480439]\n",
      " [1.         0.        ]]\n"
     ]
    },
    {
     "data": {
      "image/png": "[encoded data removed]",
      "text/plain": [
       "<Figure size 288x216 with 2 Axes>"
      ]
     },
     "metadata": {
      "needs_background": "light"
     },
     "output_type": "display_data"
    },
    {
     "name": "stdout",
     "output_type": "stream",
     "text": [
      "[[120.83333333   0.58333333]\n",
      " [  3.58333333   0.        ]]\n",
      "Normalized confusion matrix\n",
      "[[0.99448656 0.00551344]\n",
      " [1.         0.        ]]\n"
     ]
    },
    {
     "data": {
      "image/png": "[encoded data removed]",
      "text/plain": [
       "<Figure size 288x216 with 2 Axes>"
      ]
     },
     "metadata": {
      "needs_background": "light"
     },
     "output_type": "display_data"
    },
    {
     "name": "stdout",
     "output_type": "stream",
     "text": [
      "[[120.25         0.66666667]\n",
      " [  4.08333333   0.        ]]\n"
     ]
    }
   ],
   "source": [
    "#SPAM\n",
    "for c in (LogisticRegression, LinearRegression, SVC):\n",
    "    cls = LinearRegression(n_jobs=-1)\n",
    "    cnf_matrix = []\n",
    "    for i in range(N):\n",
    "        X_train, X_test, y_train, y_test = train_test_split(X, y, test_size=0.5)\n",
    "        cls.fit(X_train, y_train)\n",
    "        y_predict = cls.predict(X_test).astype(int)\n",
    "   \n",
    "        cnf_matrix.append(confusion_matrix(y_test, y_predict.astype(bool).astype(int))) # .astype(int)\n",
    "    cnf_matrix = np.mean(np.array(cnf_matrix), axis=0)\n",
    "    plt.figure(figsize=(4, 3))\n",
    "    plot_confusion_matrix(cnf_matrix, classes=['0', '1'],\n",
    "                              title=c.__name__)\n",
    "    plt.savefig(\"spam\" + c.__name__ + \".png\")\n",
    "    plt.show()\n",
    "    print(cnf_matrix)"
   ]
  },
  {
   "cell_type": "code",
   "execution_count": 29,
   "metadata": {},
   "outputs": [
    {
     "name": "stdout",
     "output_type": "stream",
     "text": [
      "Normalized confusion matrix\n",
      "[[0.9869146  0.0130854 ]\n",
      " [0.91666667 0.08333333]]\n"
     ]
    },
    {
     "data": {
      "image/png": "[encoded data removed]",
      "text/plain": [
       "<Figure size 288x216 with 2 Axes>"
      ]
     },
     "metadata": {
      "needs_background": "light"
     },
     "output_type": "display_data"
    },
    {
     "name": "stdout",
     "output_type": "stream",
     "text": [
      "Normalized confusion matrix\n",
      "[[0. 1.]\n",
      " [0. 1.]]\n"
     ]
    },
    {
     "data": {
      "image/png": "[encoded data removed]",
      "text/plain": [
       "<Figure size 288x216 with 2 Axes>"
      ]
     },
     "metadata": {
      "needs_background": "light"
     },
     "output_type": "display_data"
    },
    {
     "name": "stdout",
     "output_type": "stream",
     "text": [
      "Normalized confusion matrix\n",
      "[[1. 0.]\n",
      " [1. 0.]]\n"
     ]
    },
    {
     "data": {
      "image/png": "[encoded data removed]",
      "text/plain": [
       "<Figure size 288x216 with 2 Axes>"
      ]
     },
     "metadata": {
      "needs_background": "light"
     },
     "output_type": "display_data"
    }
   ],
   "source": [
    "#CCPEV\n",
    "for c in (LogisticRegression, LinearRegression, SVC):\n",
    "    cnf_matrix = []\n",
    "    for i in range(N):\n",
    "        X_train, X_test, y_train, y_test = train_test_split(X, y, test_size=0.5)\n",
    "        cls = c()\n",
    "        cls.fit(X_train, y_train)\n",
    "        y_predict = cls.predict(X_test)\n",
    "        cnf_matrix.append(confusion_matrix(y_test, y_predict.astype(bool).astype(int)))\n",
    "    cnf_matrix = np.mean(np.array(cnf_matrix), axis=0)\n",
    "    plt.figure(figsize=(4, 3))\n",
    "    plot_confusion_matrix(cnf_matrix, classes=['0', '1'],\n",
    "                              title=c.__name__)\n",
    "    plt.savefig(\"ccpev_\" + c.__name__ + \".png\")\n",
    "    plt.show()"
   ]
  }
 ],
 "metadata": {
  "kernelspec": {
   "display_name": "Python 3",
   "language": "python",
   "name": "python3"
  },
  "language_info": {
   "codemirror_mode": {
    "name": "ipython",
    "version": 3
   },
   "file_extension": ".py",
   "mimetype": "text/x-python",
   "name": "python",
   "nbconvert_exporter": "python",
   "pygments_lexer": "ipython3",
   "version": "3.7.6"
  }
 },
 "nbformat": 4,
 "nbformat_minor": 4
}
