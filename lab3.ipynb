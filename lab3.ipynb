{
 "cells": [
  {
   "cell_type": "code",
   "execution_count": 58,
   "metadata": {},
   "outputs": [],
   "source": [
    "import os\n",
    "\n",
    "import numpy as np\n",
    "import scipy as sp\n",
    "from scipy import misc, stats\n",
    "import pandas as pd\n",
    "from PIL import Image\n",
    "import matplotlib.pyplot as plt\n",
    "#import plotly.plotly as py\n",
    "import seaborn as sns\n",
    "from pandas import DataFrame, Series\n",
    "import warnings\n",
    "warnings.filterwarnings('ignore')\n",
    "\n",
    "\n",
    "%matplotlib inline"
   ]
  },
  {
   "cell_type": "code",
   "execution_count": 59,
   "metadata": {},
   "outputs": [],
   "source": [
    "MAIN_TAG = 'portrait'\n",
    "DIRNAME_TAGS = '../MIRFlickr25k_tags/tags'\n",
    "DIRNAME_IMAGES = '../mirflickr25k/mirflickr'\n",
    "\n",
    "COLOR = {'red': 0,\n",
    "         'green': 1,\n",
    "         'blue': 2}"
   ]
  },
  {
   "cell_type": "code",
   "execution_count": 60,
   "metadata": {
    "collapsed": true
   },
   "outputs": [
    {
     "name": "stdout",
     "output_type": "stream",
     "text": [
      "> loaded im19039.jpg (309, 500, 3)\n",
      "> loaded im2470.jpg (450, 500, 3)\n",
      "> loaded im9429.jpg (500, 333, 3)\n",
      "> loaded im13261.jpg (500, 309, 3)\n",
      "> loaded im7318.jpg (500, 454, 3)\n",
      "> loaded im17209.jpg (500, 367, 3)\n",
      "> loaded im4046.jpg (500, 333, 3)\n",
      "> loaded im17401.jpg (333, 500, 3)\n",
      "> loaded im71.jpg (368, 500, 3)\n",
      "> loaded im10236.jpg (310, 500, 3)\n",
      "> loaded im1713.jpg (375, 500, 3)\n",
      "> loaded im5498.jpg (346, 500, 3)\n",
      "> loaded im22883.jpg (333, 500, 3)\n",
      "> loaded im24554.jpg (335, 500, 3)\n",
      "> loaded im10320.jpg (332, 500, 3)\n",
      "> loaded im18000.jpg (338, 500, 3)\n",
      "> loaded im14092.jpg (333, 500, 3)\n",
      "> loaded im13775.jpg (375, 500, 3)\n",
      "> loaded im15778.jpg (333, 500, 3)\n",
      "> loaded im18970.jpg (500, 222, 3)\n",
      "> loaded im3346.jpg (333, 500, 3)\n",
      "> loaded im13892.jpg (375, 500, 3)\n",
      "> loaded im3378.jpg (500, 375, 3)\n",
      "> loaded im10403.jpg (357, 500, 3)\n",
      "> loaded im8938.jpg (375, 500, 3)\n",
      "> loaded im15100.jpg (500, 333, 3)\n",
      "> loaded im19920.jpg (375, 500, 3)\n",
      "> loaded im731.jpg (332, 500, 3)\n",
      "> loaded im13813.jpg (500, 375, 3)\n",
      "> loaded im12871.jpg (350, 500, 3)\n",
      "> loaded im13950.jpg (375, 500, 3)\n",
      "> loaded im9781.jpg (500, 375, 3)\n",
      "> loaded im3075.jpg (333, 500, 3)\n",
      "> loaded im17729.jpg (375, 500, 3)\n",
      "> loaded im781.jpg (389, 500, 3)\n",
      "> loaded im9621.jpg (500, 333, 3)\n",
      "> loaded im16592.jpg (500, 375, 3)\n",
      "> loaded im19541.jpg (375, 500, 3)\n",
      "> loaded im4038.jpg (500, 334, 3)\n",
      "> loaded im1656.jpg (375, 500, 3)\n",
      "> loaded im5310.jpg (409, 500, 3)\n",
      "> loaded im16735.jpg (346, 500, 3)\n",
      "> loaded im3855.jpg (500, 332, 3)\n",
      "> loaded im5360.jpg (375, 500, 3)\n",
      "> loaded im17122.jpg (500, 353, 3)\n",
      "> loaded im24236.jpg (309, 500, 3)\n",
      "> loaded im17666.jpg (375, 500, 3)\n",
      "> loaded im7243.jpg (333, 500, 3)\n",
      "> loaded im7164.jpg (333, 500, 3)\n",
      "> loaded im9493.jpg (500, 391, 3)\n",
      "> loaded im24752.jpg (500, 333, 3)\n",
      "> loaded im14205.jpg (333, 500, 3)\n",
      "> loaded im20036.jpg (500, 374, 3)\n",
      "> loaded im18715.jpg (358, 500, 3)\n",
      "> loaded im3633.jpg (500, 333, 3)\n",
      "> loaded im11715.jpg (500, 375, 3)\n",
      "> loaded im8677.jpg (375, 500, 3)\n",
      "> loaded im407.jpg (500, 318, 3)\n",
      "> loaded im23645.jpg (375, 500, 3)\n",
      "> loaded im4830.jpg (340, 500, 3)\n",
      "> loaded im23956.jpg (500, 328, 3)\n",
      "> loaded im17306.jpg (458, 500, 3)\n",
      "> loaded im23666.jpg (500, 400, 3)\n",
      "> loaded im1561.jpg (500, 481, 3)\n",
      "> loaded im16122.jpg (375, 500, 3)\n",
      "> loaded im17447.jpg (375, 500, 3)\n",
      "> loaded im85.jpg (500, 375, 3)\n",
      "> loaded im10497.jpg (375, 500, 3)\n",
      "> loaded im12609.jpg (459, 500, 3)\n",
      "> loaded im1938.jpg (500, 375, 3)\n",
      "> loaded im10283.jpg (375, 500, 3)\n",
      "> loaded im12090.jpg (500, 335, 3)\n",
      "> loaded im15493.jpg (333, 500, 3)\n",
      "> loaded im18865.jpg (332, 500, 3)\n",
      "> loaded im13197.jpg (333, 500, 3)\n",
      "> loaded im15679.jpg (375, 500, 3)\n",
      "> loaded im9806.jpg (333, 500, 3)\n",
      "> loaded im17086.jpg (500, 375, 3)\n",
      "> loaded im6260.jpg (375, 500, 3)\n",
      "> loaded im22389.jpg (500, 375, 3)\n",
      "> loaded im4318.jpg (500, 375, 3)\n",
      "> loaded im14650.jpg (500, 335, 3)\n",
      "> loaded im10108.jpg (362, 500, 3)\n",
      "> loaded im12835.jpg (375, 500, 3)\n",
      "> loaded im16613.jpg (500, 500, 3)\n",
      "> loaded im540.jpg (410, 500, 3)\n",
      "> loaded im19587.jpg (326, 500, 3)\n",
      "> loaded im25.jpg (333, 500, 3)\n",
      "> loaded im17795.jpg (375, 500, 3)\n",
      "> loaded im8253.jpg (333, 500, 3)\n",
      "> loaded im2863.jpg (370, 500, 3)\n",
      "> loaded im9551.jpg (406, 500, 3)\n",
      "> loaded im14200.jpg (500, 333, 3)\n",
      "> loaded im5058.jpg (500, 334, 3)\n",
      "> loaded im8020.jpg (333, 500, 3)\n",
      "> loaded im5220.jpg (333, 500, 3)\n",
      "> loaded im21069.jpg (333, 500, 3)\n",
      "> loaded im1297.jpg (332, 500, 3)\n",
      "> loaded im23184.jpg (500, 375, 3)\n",
      "> loaded im12186.jpg (333, 500, 3)\n",
      "> loaded im2440.jpg (500, 470, 3)\n",
      "> loaded im23875.jpg (400, 500, 3)\n",
      "> loaded im462.jpg (358, 500, 3)\n",
      "> loaded im22492.jpg (333, 500, 3)\n",
      "> loaded im22079.jpg (500, 482, 3)\n",
      "> loaded im7678.jpg (500, 336, 3)\n",
      "> loaded im15429.jpg (328, 500, 3)\n",
      "> loaded im8658.jpg (500, 375, 3)\n",
      "> loaded im7018.jpg (335, 500, 3)\n",
      "> loaded im405.jpg (333, 500, 3)\n",
      "> loaded im23777.jpg (333, 500, 3)\n",
      "> loaded im16366.jpg (375, 500, 3)\n",
      "> loaded im1785.jpg (323, 500, 3)\n",
      "> loaded im18344.jpg (375, 500, 3)\n",
      "> loaded im16175.jpg (500, 333, 3)\n",
      "> loaded im14996.jpg (375, 500, 3)\n",
      "> loaded im14475.jpg (500, 375, 3)\n",
      "> loaded im1132.jpg (500, 332, 3)\n",
      "> loaded im15473.jpg (363, 500, 3)\n",
      "> loaded im20736.jpg (245, 500, 3)\n",
      "> loaded im6099.jpg (375, 500, 3)\n",
      "> loaded im16786.jpg (374, 500, 3)\n",
      "> loaded im13860.jpg (331, 500, 3)\n",
      "> loaded im9766.jpg (500, 333, 3)\n",
      "> loaded im16759.jpg (500, 375, 3)\n",
      "> loaded im7747.jpg (333, 500, 3)\n",
      "> loaded im23988.jpg (334, 500, 3)\n",
      "> loaded im1733.jpg (375, 500, 3)\n",
      "> loaded im11277.jpg (375, 500, 3)\n",
      "> loaded im1517.jpg (333, 500, 3)\n",
      "> loaded im10419.jpg (500, 333, 3)\n",
      "> loaded im9741.jpg (500, 333, 3)\n",
      "> loaded im19824.jpg (500, 375, 3)\n",
      "> loaded im19298.jpg (500, 333, 3)\n",
      "> loaded im18126.jpg (442, 500, 3)\n",
      "> loaded im16177.jpg (333, 500, 3)\n",
      "> loaded im24482.jpg (333, 500, 3)\n",
      "> loaded im15573.jpg (333, 500, 3)\n",
      "> loaded im10058.jpg (331, 500, 3)\n",
      "> loaded im3099.jpg (375, 500, 3)\n",
      "> loaded im4278.jpg (375, 500, 3)\n",
      "> loaded im13665.jpg (281, 500, 3)\n",
      "> loaded im24930.jpg (500, 498, 3)\n",
      "> loaded im13055.jpg (375, 500, 3)\n",
      "> loaded im6519.jpg (500, 332, 3)\n",
      "> loaded im19277.jpg (336, 500, 3)\n",
      "> loaded im14738.jpg (500, 375, 3)\n",
      "> loaded im14544.jpg (333, 500, 3)\n",
      "> loaded im5064.jpg (375, 500, 3)\n",
      "> loaded im23399.jpg (375, 500, 3)\n",
      "> loaded im1690.jpg (375, 500, 3)\n",
      "> loaded im2774.jpg (333, 500, 3)\n",
      "> loaded im12332.jpg (333, 500, 3)\n",
      "> loaded im5609.jpg (333, 500, 3)\n",
      "> loaded im14217.jpg (335, 500, 3)\n",
      "> loaded im20571.jpg (320, 500, 3)\n",
      "> loaded im5558.jpg (231, 500, 3)\n",
      "> loaded im21280.jpg (458, 500, 3)\n",
      "> loaded im16632.jpg (375, 500, 3)\n",
      "> loaded im13876.jpg (346, 500, 3)\n",
      "> loaded im17965.jpg (484, 500, 3)\n",
      "> loaded im4446.jpg (500, 375, 3)\n",
      "> loaded im16321.jpg (500, 375, 3)\n",
      "> loaded im18679.jpg (335, 500, 3)\n",
      "> loaded im9089.jpg (333, 500, 3)\n",
      "> loaded im21662.jpg (375, 500, 3)\n",
      "> loaded im18566.jpg (375, 500, 3)\n",
      "> loaded im16544.jpg (500, 375, 3)\n",
      "> loaded im17819.jpg (375, 500, 3)\n",
      "> loaded im5891.jpg (333, 500, 3)\n",
      "> loaded im19011.jpg (375, 500, 3)\n",
      "> loaded im8032.jpg (281, 500, 3)\n",
      "> loaded im6274.jpg (375, 500, 3)\n",
      "> loaded im24581.jpg (333, 500, 3)\n",
      "> loaded im8797.jpg (500, 333, 3)\n",
      "> loaded im7998.jpg (399, 500, 3)\n",
      "> loaded im10112.jpg (500, 500, 3)\n",
      "> loaded im12234.jpg (389, 215, 3)\n",
      "> loaded im16947.jpg (431, 500, 3)\n",
      "> loaded im3382.jpg (375, 500, 3)\n",
      "> loaded im22357.jpg (375, 500, 3)\n",
      "> loaded im15914.jpg (333, 500, 3)\n",
      "> loaded im15987.jpg (359, 500, 3)\n",
      "> loaded im15879.jpg (500, 338, 3)\n",
      "> loaded im14759.jpg (333, 500, 3)\n",
      "> loaded im438.jpg (375, 500, 3)\n",
      "> loaded im3626.jpg (367, 500, 3)\n",
      "> loaded im22939.jpg (281, 500, 3)\n",
      "> loaded im14898.jpg (400, 500, 3)\n",
      "> loaded im4008.jpg (333, 500, 3)\n",
      "> loaded im5489.jpg (334, 500, 3)\n",
      "> loaded im10578.jpg (375, 500, 3)\n",
      "> loaded im438.jpg (375, 500, 3)\n",
      "> loaded im20168.jpg (333, 500, 3)\n",
      "> loaded im10002.jpg (375, 500, 3)\n",
      "> loaded im9068.jpg (299, 500, 3)\n",
      "> loaded im8225.jpg (333, 500, 3)\n",
      "> loaded im8970.jpg (325, 500, 3)\n",
      "> loaded im4674.jpg (500, 375, 3)\n",
      "> loaded im17835.jpg (334, 500, 3)\n",
      "> loaded im23284.jpg (370, 500, 3)\n",
      "> loaded im1646.jpg (335, 500, 3)\n",
      "> loaded im24715.jpg (380, 500, 3)\n",
      "> loaded im1062.jpg (375, 500, 3)\n",
      "> loaded im13279.jpg (333, 500, 3)\n",
      "> loaded im5373.jpg (334, 500, 3)\n",
      "> loaded im20336.jpg (375, 500, 3)\n",
      "> loaded im11429.jpg (375, 500, 3)\n",
      "> loaded im18298.jpg (333, 500, 3)\n",
      "> loaded im12593.jpg (334, 500, 3)\n",
      "> loaded im2522.jpg (333, 500, 3)\n",
      "> loaded im7930.jpg (375, 500, 3)\n",
      "> loaded im773.jpg (500, 373, 3)\n",
      "> loaded im1533.jpg (496, 500, 3)\n",
      "> loaded im1648.jpg (500, 500, 3)\n",
      "> loaded im2997.jpg (375, 500, 3)\n",
      "> loaded im14813.jpg (375, 500, 3)\n",
      "> loaded im19128.jpg (375, 500, 3)\n",
      "> loaded im4602.jpg (333, 500, 3)\n",
      "> loaded im18576.jpg (500, 357, 3)\n",
      "> loaded im20658.jpg (333, 500, 3)\n",
      "> loaded im23051.jpg (332, 500, 3)\n",
      "> loaded im1965.jpg (500, 391, 3)\n",
      "> loaded im13743.jpg (333, 500, 3)\n",
      "> loaded im7081.jpg (500, 358, 3)\n",
      "> loaded im19938.jpg (375, 500, 3)\n",
      "> loaded im7299.jpg (332, 500, 3)\n",
      "> loaded im3179.jpg (500, 333, 3)\n",
      "> loaded im18734.jpg (292, 500, 3)\n",
      "> loaded im11762.jpg (500, 410, 3)\n",
      "> loaded im23445.jpg (500, 375, 3)\n",
      "> loaded im10016.jpg (333, 500, 3)\n",
      "> loaded im16506.jpg (359, 500, 3)\n",
      "> loaded im2359.jpg (500, 370, 3)\n",
      "> loaded im6057.jpg (375, 500, 3)\n",
      "> loaded im16376.jpg (500, 319, 3)\n",
      "> loaded im6885.jpg (500, 333, 3)\n",
      "> loaded im22419.jpg (375, 500, 3)\n",
      "> loaded im22385.jpg (500, 333, 3)\n",
      "> loaded im23080.jpg (333, 500, 3)\n",
      "> loaded im4957.jpg (375, 500, 3)\n",
      "> loaded im9073.jpg (500, 375, 3)\n",
      "> loaded im17644.jpg (334, 500, 3)\n",
      "> loaded im9563.jpg (500, 375, 3)\n"
     ]
    },
    {
     "name": "stdout",
     "output_type": "stream",
     "text": [
      "> loaded im15702.jpg (500, 333, 3)\n",
      "> loaded im18910.jpg (375, 500, 3)\n",
      "> loaded im3602.jpg (333, 500, 3)\n",
      "> loaded im23463.jpg (381, 500, 3)\n",
      "> loaded im8057.jpg (333, 500, 3)\n",
      "> loaded im11836.jpg (466, 500, 3)\n"
     ]
    }
   ],
   "source": [
    "from os import listdir\n",
    "from matplotlib import image\n",
    "import random\n",
    "# load all images in a directory\n",
    "np.random.RandomState(5)\n",
    "random_indexes = np.random.choice(range(25000), 250)\n",
    "loaded_images = list()\n",
    "image_names = list()\n",
    "for i in range(250):\n",
    "\t# load image\n",
    "\trandName = random_indexes[i]\n",
    "\timage_names.append(randName)\n",
    "\tfilename = 'im' + str(randName) + '.jpg'\n",
    "\timg_data = image.imread('../mirflickr25k/mirflickr/' + filename)\n",
    "\t# store loaded image\n",
    "\tloaded_images.append(img_data)\n",
    "\tprint('> loaded %s %s' % (filename, img_data.shape))"
   ]
  },
  {
   "cell_type": "code",
   "execution_count": 61,
   "metadata": {},
   "outputs": [
    {
     "data": {
      "text/plain": [
       "250"
      ]
     },
     "execution_count": 61,
     "metadata": {},
     "output_type": "execute_result"
    }
   ],
   "source": [
    "len(image_names)"
   ]
  },
  {
   "cell_type": "code",
   "execution_count": 62,
   "metadata": {},
   "outputs": [],
   "source": [
    "import codecs\n",
    "\n",
    "Y = pd.Series()\n",
    "for name in image_names:\n",
    "    with codecs.open(os.path.join(DIRNAME_TAGS, 'tags%d.txt' % (name,)), \"r\", \"utf_8_sig\") as file:\n",
    "        set_tags = set(tag.strip() for tag in file.readlines())\n",
    "        #print('tags%d.txt' % (name,), '  ',set_tags)\n",
    "        Y.at[name] = int(MAIN_TAG in set_tags)\n",
    "Y = pd.DataFrame(Y, columns=['target'])"
   ]
  },
  {
   "cell_type": "code",
   "execution_count": 63,
   "metadata": {},
   "outputs": [
    {
     "data": {
      "text/plain": [
       "0    241\n",
       "1      8\n",
       "Name: target, dtype: int64"
      ]
     },
     "execution_count": 63,
     "metadata": {},
     "output_type": "execute_result"
    }
   ],
   "source": [
    "Y['target'].value_counts()"
   ]
  },
  {
   "cell_type": "code",
   "execution_count": 64,
   "metadata": {},
   "outputs": [
    {
     "data": {
      "text/html": [
       "<div>\n",
       "<style scoped>\n",
       "    .dataframe tbody tr th:only-of-type {\n",
       "        vertical-align: middle;\n",
       "    }\n",
       "\n",
       "    .dataframe tbody tr th {\n",
       "        vertical-align: top;\n",
       "    }\n",
       "\n",
       "    .dataframe thead th {\n",
       "        text-align: right;\n",
       "    }\n",
       "</style>\n",
       "<table border=\"1\" class=\"dataframe\">\n",
       "  <thead>\n",
       "    <tr style=\"text-align: right;\">\n",
       "      <th></th>\n",
       "      <th>target</th>\n",
       "    </tr>\n",
       "  </thead>\n",
       "  <tbody>\n",
       "    <tr>\n",
       "      <th>19039</th>\n",
       "      <td>0</td>\n",
       "    </tr>\n",
       "    <tr>\n",
       "      <th>2470</th>\n",
       "      <td>0</td>\n",
       "    </tr>\n",
       "    <tr>\n",
       "      <th>9429</th>\n",
       "      <td>0</td>\n",
       "    </tr>\n",
       "    <tr>\n",
       "      <th>13261</th>\n",
       "      <td>0</td>\n",
       "    </tr>\n",
       "    <tr>\n",
       "      <th>7318</th>\n",
       "      <td>0</td>\n",
       "    </tr>\n",
       "  </tbody>\n",
       "</table>\n",
       "</div>"
      ],
      "text/plain": [
       "       target\n",
       "19039       0\n",
       "2470        0\n",
       "9429        0\n",
       "13261       0\n",
       "7318        0"
      ]
     },
     "execution_count": 64,
     "metadata": {},
     "output_type": "execute_result"
    }
   ],
   "source": [
    "Y.head()"
   ]
  },
  {
   "cell_type": "markdown",
   "metadata": {},
   "source": [
    "## Static data"
   ]
  },
  {
   "cell_type": "code",
   "execution_count": 65,
   "metadata": {},
   "outputs": [],
   "source": [
    "data_static = DataFrame()\n",
    "num = 0\n",
    "d = []\n",
    "for image_name in image_names:\n",
    "    image = np.array(Image.open(os.path.join(DIRNAME_IMAGES, 'im%d.jpg' % (image_name))))\n",
    "    data = []\n",
    "    for name, num in COLOR.items():\n",
    "        a = image[:, :, num].ravel()\n",
    "        data.extend([np.mean(a), np.var(a), sp.stats.skew(a), sp.stats.kurtosis(a)])\n",
    "    d.append([image_name, *data])\n",
    "    \n",
    "\n",
    "data_static = pd.DataFrame.from_records(d)\n",
    "data_static = data_static.rename(columns={0: 'name'}).set_index('name')"
   ]
  },
  {
   "cell_type": "code",
   "execution_count": 66,
   "metadata": {},
   "outputs": [
    {
     "data": {
      "text/html": [
       "<div>\n",
       "<style scoped>\n",
       "    .dataframe tbody tr th:only-of-type {\n",
       "        vertical-align: middle;\n",
       "    }\n",
       "\n",
       "    .dataframe tbody tr th {\n",
       "        vertical-align: top;\n",
       "    }\n",
       "\n",
       "    .dataframe thead th {\n",
       "        text-align: right;\n",
       "    }\n",
       "</style>\n",
       "<table border=\"1\" class=\"dataframe\">\n",
       "  <thead>\n",
       "    <tr style=\"text-align: right;\">\n",
       "      <th></th>\n",
       "      <th>1</th>\n",
       "      <th>2</th>\n",
       "      <th>3</th>\n",
       "      <th>4</th>\n",
       "      <th>5</th>\n",
       "      <th>6</th>\n",
       "      <th>7</th>\n",
       "      <th>8</th>\n",
       "      <th>9</th>\n",
       "      <th>10</th>\n",
       "      <th>11</th>\n",
       "      <th>12</th>\n",
       "    </tr>\n",
       "    <tr>\n",
       "      <th>name</th>\n",
       "      <th></th>\n",
       "      <th></th>\n",
       "      <th></th>\n",
       "      <th></th>\n",
       "      <th></th>\n",
       "      <th></th>\n",
       "      <th></th>\n",
       "      <th></th>\n",
       "      <th></th>\n",
       "      <th></th>\n",
       "      <th></th>\n",
       "      <th></th>\n",
       "    </tr>\n",
       "  </thead>\n",
       "  <tbody>\n",
       "    <tr>\n",
       "      <th>19039</th>\n",
       "      <td>163.246201</td>\n",
       "      <td>4589.612965</td>\n",
       "      <td>-0.703461</td>\n",
       "      <td>-0.593142</td>\n",
       "      <td>158.657845</td>\n",
       "      <td>4550.585914</td>\n",
       "      <td>-0.505540</td>\n",
       "      <td>-0.848750</td>\n",
       "      <td>155.834621</td>\n",
       "      <td>4608.976475</td>\n",
       "      <td>-0.347312</td>\n",
       "      <td>-1.049672</td>\n",
       "    </tr>\n",
       "    <tr>\n",
       "      <th>2470</th>\n",
       "      <td>66.021067</td>\n",
       "      <td>4396.627681</td>\n",
       "      <td>0.722492</td>\n",
       "      <td>-0.565284</td>\n",
       "      <td>97.707391</td>\n",
       "      <td>4761.618616</td>\n",
       "      <td>0.097373</td>\n",
       "      <td>-1.141928</td>\n",
       "      <td>115.355747</td>\n",
       "      <td>6351.009369</td>\n",
       "      <td>-0.100433</td>\n",
       "      <td>-1.376710</td>\n",
       "    </tr>\n",
       "    <tr>\n",
       "      <th>9429</th>\n",
       "      <td>154.332300</td>\n",
       "      <td>6280.635210</td>\n",
       "      <td>-0.312851</td>\n",
       "      <td>-1.154056</td>\n",
       "      <td>153.774204</td>\n",
       "      <td>6638.166680</td>\n",
       "      <td>-0.387445</td>\n",
       "      <td>-1.087703</td>\n",
       "      <td>151.776282</td>\n",
       "      <td>7286.703650</td>\n",
       "      <td>-0.363965</td>\n",
       "      <td>-1.181490</td>\n",
       "    </tr>\n",
       "    <tr>\n",
       "      <th>13261</th>\n",
       "      <td>95.402783</td>\n",
       "      <td>3812.601546</td>\n",
       "      <td>0.839014</td>\n",
       "      <td>-0.003026</td>\n",
       "      <td>94.211010</td>\n",
       "      <td>3681.904349</td>\n",
       "      <td>0.684562</td>\n",
       "      <td>-0.384902</td>\n",
       "      <td>92.444155</td>\n",
       "      <td>3834.973923</td>\n",
       "      <td>0.410343</td>\n",
       "      <td>-0.940886</td>\n",
       "    </tr>\n",
       "    <tr>\n",
       "      <th>7318</th>\n",
       "      <td>50.528476</td>\n",
       "      <td>3232.238608</td>\n",
       "      <td>1.312912</td>\n",
       "      <td>1.251269</td>\n",
       "      <td>26.564692</td>\n",
       "      <td>1594.071357</td>\n",
       "      <td>1.981850</td>\n",
       "      <td>3.913727</td>\n",
       "      <td>12.199436</td>\n",
       "      <td>501.922137</td>\n",
       "      <td>2.839581</td>\n",
       "      <td>9.867090</td>\n",
       "    </tr>\n",
       "  </tbody>\n",
       "</table>\n",
       "</div>"
      ],
      "text/plain": [
       "               1            2         3         4           5            6   \\\n",
       "name                                                                          \n",
       "19039  163.246201  4589.612965 -0.703461 -0.593142  158.657845  4550.585914   \n",
       "2470    66.021067  4396.627681  0.722492 -0.565284   97.707391  4761.618616   \n",
       "9429   154.332300  6280.635210 -0.312851 -1.154056  153.774204  6638.166680   \n",
       "13261   95.402783  3812.601546  0.839014 -0.003026   94.211010  3681.904349   \n",
       "7318    50.528476  3232.238608  1.312912  1.251269   26.564692  1594.071357   \n",
       "\n",
       "             7         8           9            10        11        12  \n",
       "name                                                                    \n",
       "19039 -0.505540 -0.848750  155.834621  4608.976475 -0.347312 -1.049672  \n",
       "2470   0.097373 -1.141928  115.355747  6351.009369 -0.100433 -1.376710  \n",
       "9429  -0.387445 -1.087703  151.776282  7286.703650 -0.363965 -1.181490  \n",
       "13261  0.684562 -0.384902   92.444155  3834.973923  0.410343 -0.940886  \n",
       "7318   1.981850  3.913727   12.199436   501.922137  2.839581  9.867090  "
      ]
     },
     "execution_count": 66,
     "metadata": {},
     "output_type": "execute_result"
    }
   ],
   "source": [
    "data_static.head()"
   ]
  },
  {
   "cell_type": "code",
   "execution_count": 67,
   "metadata": {
    "scrolled": true
   },
   "outputs": [
    {
     "data": {
      "text/plain": [
       "(250, 12)"
      ]
     },
     "execution_count": 67,
     "metadata": {},
     "output_type": "execute_result"
    }
   ],
   "source": [
    "data_static.shape"
   ]
  },
  {
   "cell_type": "markdown",
   "metadata": {},
   "source": [
    "# Learning"
   ]
  },
  {
   "cell_type": "code",
   "execution_count": 68,
   "metadata": {},
   "outputs": [],
   "source": [
    "import itertools\n",
    "\n",
    "from sklearn.linear_model import LinearRegression, LogisticRegression\n",
    "from sklearn.svm import SVC\n",
    "from sklearn.model_selection import KFold, cross_val_score, train_test_split\n",
    "from sklearn.metrics import accuracy_score, recall_score, confusion_matrix"
   ]
  },
  {
   "cell_type": "code",
   "execution_count": 69,
   "metadata": {},
   "outputs": [],
   "source": [
    "N = 12"
   ]
  },
  {
   "cell_type": "code",
   "execution_count": 70,
   "metadata": {},
   "outputs": [],
   "source": [
    "def plot_confusion_matrix(cm, classes,\n",
    "                          normalize=True,\n",
    "                          title='Confusion matrix',\n",
    "                          cmap=plt.cm.Blues):\n",
    "    \"\"\"\n",
    "    This function prints and plots the confusion matrix.\n",
    "    Normalization can be applied by setting `normalize=True`.\n",
    "    \"\"\"\n",
    "    plt.imshow(cm, interpolation='nearest', cmap=cmap)\n",
    "    plt.title(title)\n",
    "    plt.colorbar()\n",
    "    tick_marks = np.arange(len(classes))\n",
    "    plt.xticks(tick_marks, classes)\n",
    "    plt.yticks(tick_marks, classes)\n",
    "\n",
    "    if normalize:\n",
    "        cm = cm.astype('float') / cm.sum(axis=1)[:, np.newaxis]\n",
    "        print(\"Normalized confusion matrix\")\n",
    "    else:\n",
    "        print('Confusion matrix, without normalization')\n",
    "\n",
    "    print(cm)\n",
    "\n",
    "    thresh = cm.max() / 2.\n",
    "    for i, j in itertools.product(range(cm.shape[0]), range(cm.shape[1])):\n",
    "        plt.text(j, i, round(cm[i, j], 3),\n",
    "                 horizontalalignment=\"center\",\n",
    "                 color=\"white\" if cm[i, j] > thresh else \"black\")\n",
    "\n",
    "    plt.tight_layout()\n",
    "    plt.ylabel('True label')\n",
    "    plt.xlabel('Predicted label')\n",
    "\n",
    "font = {'size' : 15}\n",
    "\n",
    "plt.rc('font', **font)"
   ]
  },
  {
   "cell_type": "markdown",
   "metadata": {},
   "source": [
    "## Static"
   ]
  },
  {
   "cell_type": "code",
   "execution_count": 71,
   "metadata": {},
   "outputs": [],
   "source": [
    "X = data_static.copy()\n",
    "\n",
    "df = Y.join(X, how='inner')\n",
    "df = df.drop_duplicates()\n",
    "\n",
    "y = df['target']\n",
    "X = df.drop('target', axis=1)"
   ]
  },
  {
   "cell_type": "code",
   "execution_count": 73,
   "metadata": {},
   "outputs": [
    {
     "name": "stdout",
     "output_type": "stream",
     "text": [
      "Normalized confusion matrix\n",
      "[[0.99107143 0.00892857]\n",
      " [0.97727273 0.02272727]]\n"
     ]
    },
    {
     "data": {
      "image/png": "[encoded data removed]",
      "text/plain": [
       "<Figure size 288x216 with 2 Axes>"
      ]
     },
     "metadata": {
      "needs_background": "light"
     },
     "output_type": "display_data"
    },
    {
     "name": "stdout",
     "output_type": "stream",
     "text": [
      "Normalized confusion matrix\n",
      "[[0. 1.]\n",
      " [0. 1.]]\n"
     ]
    },
    {
     "data": {
      "image/png": "[encoded data removed]",
      "text/plain": [
       "<Figure size 288x216 with 2 Axes>"
      ]
     },
     "metadata": {
      "needs_background": "light"
     },
     "output_type": "display_data"
    },
    {
     "name": "stdout",
     "output_type": "stream",
     "text": [
      "Normalized confusion matrix\n",
      "[[1. 0.]\n",
      " [1. 0.]]\n"
     ]
    },
    {
     "data": {
      "image/png": "[encoded data removed]",
      "text/plain": [
       "<Figure size 288x216 with 2 Axes>"
      ]
     },
     "metadata": {
      "needs_background": "light"
     },
     "output_type": "display_data"
    }
   ],
   "source": [
    "for c in (LogisticRegression, LinearRegression, SVC):\n",
    "    cls = c()\n",
    "    cnf_matrix = []\n",
    "    for i in range(N):\n",
    "        X_train, X_test, y_train, y_test = train_test_split(X, y, test_size=0.5)\n",
    "        cls.fit(X_train, y_train)\n",
    "        y_predict = cls.predict(X_test)\n",
    "        cnf_matrix.append(confusion_matrix(y_test, y_predict.astype(bool).astype(int)))\n",
    "    cnf_matrix = np.mean(np.array(cnf_matrix), axis=0)\n",
    "    plt.figure(figsize=(4, 3))\n",
    "    plot_confusion_matrix(cnf_matrix, classes=['0', '1'],\n",
    "                          title=c.__name__)\n",
    "    plt.savefig(\"static_\" + c.__name__ + \".png\")\n",
    "    plt.show()\n",
    "    #print(cnf_matrix)"
   ]
  },
  {
   "cell_type": "markdown",
   "metadata": {},
   "source": [
    "## SPAM"
   ]
  },
  {
   "cell_type": "code",
   "execution_count": 74,
   "metadata": {},
   "outputs": [
    {
     "name": "stdout",
     "output_type": "stream",
     "text": [
      "Normalized confusion matrix\n",
      "[[1. 0.]\n",
      " [1. 0.]]\n"
     ]
    },
    {
     "data": {
      "image/png": "[encoded data removed]",
      "text/plain": [
       "<Figure size 288x216 with 2 Axes>"
      ]
     },
     "metadata": {
      "needs_background": "light"
     },
     "output_type": "display_data"
    },
    {
     "name": "stdout",
     "output_type": "stream",
     "text": [
      "[[120.33333333   0.        ]\n",
      " [  4.66666667   0.        ]]\n",
      "Normalized confusion matrix\n",
      "[[1. 0.]\n",
      " [1. 0.]]\n"
     ]
    },
    {
     "data": {
      "image/png": "[encoded data removed]",
      "text/plain": [
       "<Figure size 288x216 with 2 Axes>"
      ]
     },
     "metadata": {
      "needs_background": "light"
     },
     "output_type": "display_data"
    },
    {
     "name": "stdout",
     "output_type": "stream",
     "text": [
      "[[120.5   0. ]\n",
      " [  4.5   0. ]]\n",
      "Normalized confusion matrix\n",
      "[[1. 0.]\n",
      " [1. 0.]]\n"
     ]
    },
    {
     "data": {
      "image/png": "[encoded data removed]",
      "text/plain": [
       "<Figure size 288x216 with 2 Axes>"
      ]
     },
     "metadata": {
      "needs_background": "light"
     },
     "output_type": "display_data"
    },
    {
     "name": "stdout",
     "output_type": "stream",
     "text": [
      "[[121.   0.]\n",
      " [  4.   0.]]\n"
     ]
    }
   ],
   "source": [
    "for c in (LogisticRegression, LinearRegression, SVC):\n",
    "    cls = LinearRegression(n_jobs=-1)\n",
    "    cnf_matrix = []\n",
    "    for i in range(N):\n",
    "        X_train, X_test, y_train, y_test = train_test_split(X, y, test_size=0.5)\n",
    "        cls.fit(X_train, y_train)\n",
    "        y_predict = cls.predict(X_test).astype(int)\n",
    "        #print(y_predict)\n",
    "   \n",
    "        cnf_matrix.append(confusion_matrix(y_test, y_predict.astype(bool).astype(int))) # .astype(int)\n",
    "    #print(confusion_matrix(y_test, y_predict.astype(int)))\n",
    "    cnf_matrix = np.mean(np.array(cnf_matrix), axis=0)\n",
    "    plt.figure(figsize=(4, 3))\n",
    "    plot_confusion_matrix(cnf_matrix, classes=['0', '1'],\n",
    "                              title=c.__name__)\n",
    "    plt.savefig(\"spam\" + c.__name__ + \".png\")\n",
    "    plt.show()\n",
    "    print(cnf_matrix)"
   ]
  },
  {
   "cell_type": "markdown",
   "metadata": {},
   "source": [
    "## CCPEV"
   ]
  },
  {
   "cell_type": "code",
   "execution_count": 75,
   "metadata": {},
   "outputs": [
    {
     "name": "stdout",
     "output_type": "stream",
     "text": [
      "Normalized confusion matrix\n",
      "[[0.99312242 0.00687758]\n",
      " [1.         0.        ]]\n"
     ]
    },
    {
     "data": {
      "image/png": "[encoded data removed]",
      "text/plain": [
       "<Figure size 288x216 with 2 Axes>"
      ]
     },
     "metadata": {
      "needs_background": "light"
     },
     "output_type": "display_data"
    },
    {
     "name": "stdout",
     "output_type": "stream",
     "text": [
      "Normalized confusion matrix\n",
      "[[0. 1.]\n",
      " [0. 1.]]\n"
     ]
    },
    {
     "data": {
      "image/png": "[encoded data removed]",
      "text/plain": [
       "<Figure size 288x216 with 2 Axes>"
      ]
     },
     "metadata": {
      "needs_background": "light"
     },
     "output_type": "display_data"
    },
    {
     "name": "stdout",
     "output_type": "stream",
     "text": [
      "Normalized confusion matrix\n",
      "[[1. 0.]\n",
      " [1. 0.]]\n"
     ]
    },
    {
     "data": {
      "image/png": "[encoded data removed]",
      "text/plain": [
       "<Figure size 288x216 with 2 Axes>"
      ]
     },
     "metadata": {
      "needs_background": "light"
     },
     "output_type": "display_data"
    }
   ],
   "source": [
    "for c in (LogisticRegression, LinearRegression, SVC):\n",
    "    cnf_matrix = []\n",
    "    for i in range(N):\n",
    "        X_train, X_test, y_train, y_test = train_test_split(X, y, test_size=0.5)\n",
    "        cls = c()\n",
    "        cls.fit(X_train, y_train)\n",
    "        y_predict = cls.predict(X_test)\n",
    "        cnf_matrix.append(confusion_matrix(y_test, y_predict.astype(bool).astype(int)))\n",
    "    #print(confusion_matrix(y_test, y_predict.astype(int)))\n",
    "    cnf_matrix = np.mean(np.array(cnf_matrix), axis=0)\n",
    "    plt.figure(figsize=(4, 3))\n",
    "    plot_confusion_matrix(cnf_matrix, classes=['0', '1'],\n",
    "                              title=c.__name__)\n",
    "    plt.savefig(\"ccpev_\" + c.__name__ + \".png\")\n",
    "    plt.show()\n",
    "    #print(cnf_matrix)"
   ]
  },
  {
   "cell_type": "code",
   "execution_count": null,
   "metadata": {},
   "outputs": [],
   "source": []
  }
 ],
 "metadata": {
  "kernelspec": {
   "display_name": "Python 3",
   "language": "python",
   "name": "python3"
  }
 },
 "nbformat": 4,
 "nbformat_minor": 1
}
