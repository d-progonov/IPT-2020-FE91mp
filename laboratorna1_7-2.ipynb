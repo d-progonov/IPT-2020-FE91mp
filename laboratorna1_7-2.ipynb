{
 "cells": [
  {
   "cell_type": "markdown",
   "metadata": {},
   "source": [
    "Лабораторна робота №1\n",
    "Варіант 7"
   ]
  },
  {
   "cell_type": "code",
   "execution_count": 90,
   "metadata": {},
   "outputs": [],
   "source": [
    "import os \n",
    "import time\n",
    "import numpy  as np\n",
    "from PIL import Image\n",
    "import random \n",
    "import pandas as pd\n",
    "import seaborn as sns\n",
    "\n",
    "import matplotlib.pyplot as plt\n",
    "import matplotlib.pylab as plt\n",
    "\n",
    "import scipy\n",
    "from scipy import stats\n",
    "from scipy.stats import iqr\n",
    "from scipy.stats import skew,kurtosis"
   ]
  },
  {
   "cell_type": "code",
   "execution_count": 32,
   "metadata": {},
   "outputs": [],
   "source": [
    "path = '.../downloads/mirflickr/im'\n",
    "folder = os.path.join(os.getcwd(), 'mirflickr/')\n",
    "images_sample = []\n",
    "for i in random.sample(range(6,25001),250):\n",
    "    images_sample.append(path + str(i) + '.jpg')\n",
    "columns = ['num',\n",
    "           'channel',\n",
    "           'max',\n",
    "           'min',\n",
    "           'matspod',\n",
    "           'disp',\n",
    "           'median',\n",
    "           'quart',\n",
    "           'skew',\n",
    "           'kurt',\n",
    "           'data']"
   ]
  },
  {
   "cell_type": "markdown",
   "metadata": {},
   "source": [
    "1. Сформувати тестову вибірку зображень з вихідного пакета;\n",
    "2. Для кожного каналу кольору кожного зображення з тестового пакета обчислити наступні характеристики: a. Максимальна / мінімальне значення; b. Математичне сподівання і дисперсію; c. Медіану значень, інтерквартільний розмах; d. Коефіцієнти асиметрії та ексцесу (нормалізований);"
   ]
  },
  {
   "cell_type": "code",
   "execution_count": 55,
   "metadata": {},
   "outputs": [],
   "source": [
    "def do_open(file):  \n",
    "    im = Image.open(file)\n",
    "    return np.array(im)\n",
    "\n",
    "def get_sample():\n",
    "    t = time.time() \n",
    "    np_arrays = map(do_open, images_sample)\n",
    "    array = [i for i in np_arrays]\n",
    "    return array\n",
    "\n",
    "def get_df(image):\n",
    "    values = []\n",
    "    for i in range(len(image)):\n",
    "        for channel in range(3):\n",
    "            channel_img = image[i][:,:,channel]\n",
    "            values.append(list((random.sample(range(6,25001),250)[i], channel,\n",
    "                                channel_img.max(),channel_img.min(), np.mean(channel_img),np.var(channel_img),\n",
    "                                np.median(channel_img), iqr(channel_img), skew(channel_img, None), kurtosis(channel_img, None),\n",
    "                                channel_img)))\n",
    "    \n",
    "    return pd.DataFrame(values, columns=columns)"
   ]
  },
  {
   "cell_type": "code",
   "execution_count": 56,
   "metadata": {},
   "outputs": [
    {
     "data": {
      "text/html": [
       "<div>\n",
       "<style scoped>\n",
       "    .dataframe tbody tr th:only-of-type {\n",
       "        vertical-align: middle;\n",
       "    }\n",
       "\n",
       "    .dataframe tbody tr th {\n",
       "        vertical-align: top;\n",
       "    }\n",
       "\n",
       "    .dataframe thead th {\n",
       "        text-align: right;\n",
       "    }\n",
       "</style>\n",
       "<table border=\"1\" class=\"dataframe\">\n",
       "  <thead>\n",
       "    <tr style=\"text-align: right;\">\n",
       "      <th></th>\n",
       "      <th>num</th>\n",
       "      <th>channel</th>\n",
       "      <th>max</th>\n",
       "      <th>min</th>\n",
       "      <th>matspod</th>\n",
       "      <th>disp</th>\n",
       "      <th>median</th>\n",
       "      <th>quart</th>\n",
       "      <th>skew</th>\n",
       "      <th>kurt</th>\n",
       "      <th>data</th>\n",
       "    </tr>\n",
       "  </thead>\n",
       "  <tbody>\n",
       "    <tr>\n",
       "      <th>0</th>\n",
       "      <td>802</td>\n",
       "      <td>0</td>\n",
       "      <td>255</td>\n",
       "      <td>0</td>\n",
       "      <td>76.140370</td>\n",
       "      <td>3148.835962</td>\n",
       "      <td>65.0</td>\n",
       "      <td>74.0</td>\n",
       "      <td>0.987597</td>\n",
       "      <td>0.855673</td>\n",
       "      <td>[[4, 2, 2, 2, 1, 2, 2, 2, 1, 2, 1, 3, 3, 3, 4,...</td>\n",
       "    </tr>\n",
       "    <tr>\n",
       "      <th>1</th>\n",
       "      <td>17076</td>\n",
       "      <td>1</td>\n",
       "      <td>255</td>\n",
       "      <td>0</td>\n",
       "      <td>84.700496</td>\n",
       "      <td>2920.827855</td>\n",
       "      <td>92.0</td>\n",
       "      <td>92.0</td>\n",
       "      <td>0.131453</td>\n",
       "      <td>-0.430640</td>\n",
       "      <td>[[74, 72, 72, 72, 72, 73, 73, 73, 71, 72, 71, ...</td>\n",
       "    </tr>\n",
       "    <tr>\n",
       "      <th>2</th>\n",
       "      <td>22160</td>\n",
       "      <td>2</td>\n",
       "      <td>255</td>\n",
       "      <td>0</td>\n",
       "      <td>101.674734</td>\n",
       "      <td>5810.870035</td>\n",
       "      <td>136.0</td>\n",
       "      <td>154.0</td>\n",
       "      <td>-0.103828</td>\n",
       "      <td>-1.672457</td>\n",
       "      <td>[[143, 141, 141, 141, 138, 139, 139, 139, 141,...</td>\n",
       "    </tr>\n",
       "    <tr>\n",
       "      <th>3</th>\n",
       "      <td>22825</td>\n",
       "      <td>0</td>\n",
       "      <td>236</td>\n",
       "      <td>0</td>\n",
       "      <td>93.605123</td>\n",
       "      <td>3065.088787</td>\n",
       "      <td>74.0</td>\n",
       "      <td>91.0</td>\n",
       "      <td>0.773764</td>\n",
       "      <td>-0.756842</td>\n",
       "      <td>[[53, 53, 53, 53, 53, 53, 53, 53, 54, 54, 54, ...</td>\n",
       "    </tr>\n",
       "    <tr>\n",
       "      <th>4</th>\n",
       "      <td>7379</td>\n",
       "      <td>1</td>\n",
       "      <td>206</td>\n",
       "      <td>0</td>\n",
       "      <td>101.440751</td>\n",
       "      <td>835.441132</td>\n",
       "      <td>97.0</td>\n",
       "      <td>29.0</td>\n",
       "      <td>0.858025</td>\n",
       "      <td>0.803650</td>\n",
       "      <td>[[75, 75, 75, 75, 75, 75, 75, 75, 75, 72, 72, ...</td>\n",
       "    </tr>\n",
       "    <tr>\n",
       "      <th>...</th>\n",
       "      <td>...</td>\n",
       "      <td>...</td>\n",
       "      <td>...</td>\n",
       "      <td>...</td>\n",
       "      <td>...</td>\n",
       "      <td>...</td>\n",
       "      <td>...</td>\n",
       "      <td>...</td>\n",
       "      <td>...</td>\n",
       "      <td>...</td>\n",
       "      <td>...</td>\n",
       "    </tr>\n",
       "    <tr>\n",
       "      <th>745</th>\n",
       "      <td>5985</td>\n",
       "      <td>1</td>\n",
       "      <td>255</td>\n",
       "      <td>0</td>\n",
       "      <td>131.806571</td>\n",
       "      <td>1600.225625</td>\n",
       "      <td>129.0</td>\n",
       "      <td>57.0</td>\n",
       "      <td>0.053029</td>\n",
       "      <td>-0.317685</td>\n",
       "      <td>[[197, 192, 190, 191, 194, 192, 188, 191, 192,...</td>\n",
       "    </tr>\n",
       "    <tr>\n",
       "      <th>746</th>\n",
       "      <td>24084</td>\n",
       "      <td>2</td>\n",
       "      <td>255</td>\n",
       "      <td>0</td>\n",
       "      <td>136.949883</td>\n",
       "      <td>1756.718155</td>\n",
       "      <td>133.0</td>\n",
       "      <td>56.0</td>\n",
       "      <td>-0.215993</td>\n",
       "      <td>-0.062556</td>\n",
       "      <td>[[191, 194, 200, 197, 193, 191, 195, 202, 191,...</td>\n",
       "    </tr>\n",
       "    <tr>\n",
       "      <th>747</th>\n",
       "      <td>5550</td>\n",
       "      <td>0</td>\n",
       "      <td>255</td>\n",
       "      <td>0</td>\n",
       "      <td>108.493773</td>\n",
       "      <td>5966.878682</td>\n",
       "      <td>87.0</td>\n",
       "      <td>110.0</td>\n",
       "      <td>0.530011</td>\n",
       "      <td>-0.937659</td>\n",
       "      <td>[[3, 1, 0, 1, 0, 1, 0, 0, 1, 1, 1, 1, 1, 1, 1,...</td>\n",
       "    </tr>\n",
       "    <tr>\n",
       "      <th>748</th>\n",
       "      <td>14693</td>\n",
       "      <td>1</td>\n",
       "      <td>255</td>\n",
       "      <td>0</td>\n",
       "      <td>102.541551</td>\n",
       "      <td>5984.262199</td>\n",
       "      <td>76.0</td>\n",
       "      <td>111.0</td>\n",
       "      <td>0.623216</td>\n",
       "      <td>-0.891433</td>\n",
       "      <td>[[3, 1, 0, 1, 0, 1, 1, 1, 0, 0, 0, 0, 0, 0, 0,...</td>\n",
       "    </tr>\n",
       "    <tr>\n",
       "      <th>749</th>\n",
       "      <td>22267</td>\n",
       "      <td>2</td>\n",
       "      <td>255</td>\n",
       "      <td>0</td>\n",
       "      <td>100.915610</td>\n",
       "      <td>5456.157802</td>\n",
       "      <td>77.0</td>\n",
       "      <td>120.0</td>\n",
       "      <td>0.501089</td>\n",
       "      <td>-1.034730</td>\n",
       "      <td>[[3, 1, 0, 0, 0, 0, 0, 0, 0, 0, 0, 0, 0, 0, 0,...</td>\n",
       "    </tr>\n",
       "  </tbody>\n",
       "</table>\n",
       "<p>750 rows × 11 columns</p>\n",
       "</div>"
      ],
      "text/plain": [
       "       num  channel  max  min     matspod         disp  median  quart  \\\n",
       "0      802        0  255    0   76.140370  3148.835962    65.0   74.0   \n",
       "1    17076        1  255    0   84.700496  2920.827855    92.0   92.0   \n",
       "2    22160        2  255    0  101.674734  5810.870035   136.0  154.0   \n",
       "3    22825        0  236    0   93.605123  3065.088787    74.0   91.0   \n",
       "4     7379        1  206    0  101.440751   835.441132    97.0   29.0   \n",
       "..     ...      ...  ...  ...         ...          ...     ...    ...   \n",
       "745   5985        1  255    0  131.806571  1600.225625   129.0   57.0   \n",
       "746  24084        2  255    0  136.949883  1756.718155   133.0   56.0   \n",
       "747   5550        0  255    0  108.493773  5966.878682    87.0  110.0   \n",
       "748  14693        1  255    0  102.541551  5984.262199    76.0  111.0   \n",
       "749  22267        2  255    0  100.915610  5456.157802    77.0  120.0   \n",
       "\n",
       "         skew      kurt                                               data  \n",
       "0    0.987597  0.855673  [[4, 2, 2, 2, 1, 2, 2, 2, 1, 2, 1, 3, 3, 3, 4,...  \n",
       "1    0.131453 -0.430640  [[74, 72, 72, 72, 72, 73, 73, 73, 71, 72, 71, ...  \n",
       "2   -0.103828 -1.672457  [[143, 141, 141, 141, 138, 139, 139, 139, 141,...  \n",
       "3    0.773764 -0.756842  [[53, 53, 53, 53, 53, 53, 53, 53, 54, 54, 54, ...  \n",
       "4    0.858025  0.803650  [[75, 75, 75, 75, 75, 75, 75, 75, 75, 72, 72, ...  \n",
       "..        ...       ...                                                ...  \n",
       "745  0.053029 -0.317685  [[197, 192, 190, 191, 194, 192, 188, 191, 192,...  \n",
       "746 -0.215993 -0.062556  [[191, 194, 200, 197, 193, 191, 195, 202, 191,...  \n",
       "747  0.530011 -0.937659  [[3, 1, 0, 1, 0, 1, 0, 0, 1, 1, 1, 1, 1, 1, 1,...  \n",
       "748  0.623216 -0.891433  [[3, 1, 0, 1, 0, 1, 1, 1, 0, 0, 0, 0, 0, 0, 0,...  \n",
       "749  0.501089 -1.034730  [[3, 1, 0, 0, 0, 0, 0, 0, 0, 0, 0, 0, 0, 0, 0,...  \n",
       "\n",
       "[750 rows x 11 columns]"
      ]
     },
     "execution_count": 56,
     "metadata": {},
     "output_type": "execute_result"
    }
   ],
   "source": [
    "array = get_sample()\n",
    "df = get_df(array)\n",
    "df"
   ]
  },
  {
   "cell_type": "markdown",
   "metadata": {},
   "source": [
    "3. Для кожного каналу кольору кожного зображення з тестового пакета побудувати гістограму значень яскравості пікселів;"
   ]
  },
  {
   "cell_type": "code",
   "execution_count": 77,
   "metadata": {},
   "outputs": [],
   "source": [
    "def get_hist(m, n):\n",
    "        \n",
    "    plt.figure(figsize=(12,9))\n",
    "    if n == 0:\n",
    "        print('red')\n",
    "    elif n == 1:\n",
    "        print('green')\n",
    "    else:\n",
    "        print('blue')\n",
    "    plt.subplot(m),plt.hist(df.loc[df['channel'] == n]['data'])\n",
    "    plt.show()\n",
    "    \n",
    "    return X, Y"
   ]
  },
  {
   "cell_type": "code",
   "execution_count": 78,
   "metadata": {},
   "outputs": [
    {
     "name": "stdout",
     "output_type": "stream",
     "text": [
      "red\n"
     ]
    },
    {
     "data": {
      "image/png": "[encoded data removed]",
      "text/plain": [
       "<Figure size 864x648 with 1 Axes>"
      ]
     },
     "metadata": {
      "needs_background": "light"
     },
     "output_type": "display_data"
    },
    {
     "name": "stdout",
     "output_type": "stream",
     "text": [
      "green\n"
     ]
    },
    {
     "data": {
      "image/png": "[encoded data removed]",
      "text/plain": [
       "<Figure size 864x648 with 1 Axes>"
      ]
     },
     "metadata": {
      "needs_background": "light"
     },
     "output_type": "display_data"
    },
    {
     "name": "stdout",
     "output_type": "stream",
     "text": [
      "blue\n"
     ]
    },
    {
     "data": {
      "image/png": "[encoded data removed]",
      "text/plain": [
       "<Figure size 864x648 with 1 Axes>"
      ]
     },
     "metadata": {
      "needs_background": "light"
     },
     "output_type": "display_data"
    }
   ],
   "source": [
    "r_hist = get_hist(231, 0)\n",
    "g_hist = get_hist(232, 1)\n",
    "b_hist = get_hist(233, 2)"
   ]
  },
  {
   "cell_type": "markdown",
   "metadata": {},
   "source": [
    "4. Провести апроксимацію отриманих гістограм з використанням відомих імовірнісних розподілів, визначити найкращу апроксимацію;"
   ]
  },
  {
   "cell_type": "code",
   "execution_count": 95,
   "metadata": {},
   "outputs": [],
   "source": [
    "def get_approximate():   \n",
    "    \n",
    "    hist_data = df.loc[df['channel'] == 0]['data']\n",
    "    test = hist_data[0]\n",
    "    X,Y = sns.distplot(np.ravel(test)).get_lines()[0].get_data()\n",
    "    \n",
    "    return test, X, Y"
   ]
  },
  {
   "cell_type": "code",
   "execution_count": 96,
   "metadata": {},
   "outputs": [
    {
     "data": {
      "image/png": "[encoded data removed]",
      "text/plain": [
       "<Figure size 432x288 with 1 Axes>"
      ]
     },
     "metadata": {
      "needs_background": "light"
     },
     "output_type": "display_data"
    }
   ],
   "source": [
    "test, X, Y = get_approximate()"
   ]
  },
  {
   "cell_type": "markdown",
   "metadata": {},
   "source": [
    "5. Побудувати розподіл типів використаних імовірнісних розподілів для яких досягається мінімальне значення помилки апроксимації з п.4."
   ]
  },
  {
   "cell_type": "code",
   "execution_count": 108,
   "metadata": {},
   "outputs": [],
   "source": [
    "def get_best(test):\n",
    "    \n",
    "    test = np.ravel(test) \n",
    "    x_min, _max = min(plt.xticks()[0] ), max(plt.xticks()[0] )  \n",
    "    m, s = stats.norm.fit((X,Y)) \n",
    "    do_norm = stats.norm.pdf(np.linspace(0, 255, len(X)), m, s)\n",
    "    plt.plot(np.linspace(0, 255, len(X)), do_norm, label='Norm',color = 'grey')\n",
    "    plt.plot(X,Y,color = 'black',linewidth = 4)\n",
    "    plt.plot(np.linspace(0, 255, len(X)), do_norm, label='Norm')\n",
    "    ag,bg,cg = stats.gamma.fit((X,Y))  \n",
    "    do_gamma = stats.gamma.pdf(np.linspace(0, 255, len(X)), ag, bg,cg)  \n",
    "    plt.plot(np.linspace(0, 255, len(X)), do_gamma, label='Gamma',color = 'blue')\n",
    "    ab,bb,cb,db = stats.beta.fit((X,Y))\n",
    "    do_betta = stats.beta.pdf(np.linspace(0, 255, len(X)), ab, bb,cb, db)  \n",
    "    plt.plot(np.linspace(0, 255, len(X)), do_betta, label='Beta',color = 'red')\n",
    "    plt.show()"
   ]
  },
  {
   "cell_type": "code",
   "execution_count": 109,
   "metadata": {},
   "outputs": [
    {
     "data": {
      "image/png": "[encoded data removed]",
      "text/plain": [
       "<Figure size 432x288 with 1 Axes>"
      ]
     },
     "metadata": {
      "needs_background": "light"
     },
     "output_type": "display_data"
    }
   ],
   "source": [
    "get_best(test)"
   ]
  },
  {
   "cell_type": "code",
   "execution_count": null,
   "metadata": {},
   "outputs": [],
   "source": []
  }
 ],
 "metadata": {
  "kernelspec": {
   "display_name": "Python 3",
   "language": "python",
   "name": "python3"
  },
  "language_info": {
   "codemirror_mode": {
    "name": "ipython",
    "version": 3
   },
   "file_extension": ".py",
   "mimetype": "text/x-python",
   "name": "python",
   "nbconvert_exporter": "python",
   "pygments_lexer": "ipython3",
   "version": "3.8.3"
  }
 },
 "nbformat": 4,
 "nbformat_minor": 4
}
