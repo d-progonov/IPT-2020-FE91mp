{
 "cells": [
  {
   "cell_type": "code",
   "execution_count": 1,
   "metadata": {},
   "outputs": [],
   "source": [
    "import os\n",
    "\n",
    "import numpy as np\n",
    "import scipy as sp\n",
    "from scipy import misc, stats\n",
    "import pandas as pd\n",
    "from PIL import Image\n",
    "import matplotlib.pyplot as plt\n",
    "#import plotly.plotly as py\n",
    "import seaborn as sns\n",
    "from pandas import DataFrame, Series\n",
    "import warnings\n",
    "warnings.filterwarnings('ignore')\n",
    "\n",
    "\n",
    "%matplotlib inline"
   ]
  },
  {
   "cell_type": "code",
   "execution_count": 2,
   "metadata": {},
   "outputs": [],
   "source": [
    "MAIN_TAG = 'canon'\n",
    "DIRNAME_TAGS = 'D:/tags'\n",
    "DIRNAME_IMAGES = 'D:/mirflickr'\n",
    "\n",
    "COLOR = {'red': 0,\n",
    "         'green': 1,\n",
    "         'blue': 2}"
   ]
  },
  {
   "cell_type": "code",
   "execution_count": 3,
   "metadata": {},
   "outputs": [
    {
     "name": "stdout",
     "output_type": "stream",
     "text": [
      "> loaded im18473.jpg (375, 500, 3)\n",
      "> loaded im3180.jpg (500, 333, 3)\n",
      "> loaded im15963.jpg (332, 500, 3)\n",
      "> loaded im14413.jpg (500, 327, 3)\n",
      "> loaded im4457.jpg (375, 500, 3)\n",
      "> loaded im17350.jpg (333, 500, 3)\n",
      "> loaded im4181.jpg (333, 500, 3)\n",
      "> loaded im14958.jpg (500, 328, 3)\n",
      "> loaded im22082.jpg (375, 500, 3)\n",
      "> loaded im10035.jpg (375, 500, 3)\n",
      "> loaded im21260.jpg (500, 375, 3)\n",
      "> loaded im22257.jpg (375, 500, 3)\n",
      "> loaded im2899.jpg (375, 500, 3)\n",
      "> loaded im7835.jpg (331, 500, 3)\n",
      "> loaded im13291.jpg (352, 500, 3)\n",
      "> loaded im753.jpg (375, 500, 3)\n",
      "> loaded im6345.jpg (333, 500, 3)\n",
      "> loaded im24330.jpg (333, 500, 3)\n",
      "> loaded im22921.jpg (375, 500, 3)\n",
      "> loaded im20982.jpg (375, 500, 3)\n",
      "> loaded im12908.jpg (333, 500, 3)\n",
      "> loaded im23293.jpg (400, 500, 3)\n",
      "> loaded im22634.jpg (500, 500, 3)\n",
      "> loaded im20685.jpg (334, 500, 3)\n",
      "> loaded im14760.jpg (500, 375, 3)\n",
      "> loaded im12367.jpg (376, 500, 3)\n",
      "> loaded im9167.jpg (333, 500, 3)\n",
      "> loaded im2689.jpg (500, 375, 3)\n",
      "> loaded im4018.jpg (333, 500, 3)\n",
      "> loaded im19882.jpg (359, 500, 3)\n",
      "> loaded im15108.jpg (333, 500, 3)\n",
      "> loaded im2292.jpg (500, 500, 3)\n",
      "> loaded im17789.jpg (333, 500, 3)\n",
      "> loaded im18618.jpg (322, 480, 3)\n",
      "> loaded im9932.jpg (375, 500, 3)\n",
      "> loaded im19070.jpg (500, 375, 3)\n",
      "> loaded im17303.jpg (375, 500, 3)\n",
      "> loaded im10337.jpg (500, 333, 3)\n",
      "> loaded im3589.jpg (500, 333, 3)\n",
      "> loaded im5090.jpg (500, 393, 3)\n",
      "> loaded im18333.jpg (334, 500, 3)\n",
      "> loaded im19528.jpg (333, 500, 3)\n",
      "> loaded im15489.jpg (500, 375, 3)\n",
      "> loaded im13790.jpg (500, 500, 3)\n",
      "> loaded im9036.jpg (375, 500, 3)\n",
      "> loaded im2643.jpg (281, 500, 3)\n",
      "> loaded im9888.jpg (337, 500, 3)\n",
      "> loaded im22585.jpg (500, 375, 3)\n",
      "> loaded im19682.jpg (375, 500, 3)\n",
      "> loaded im11278.jpg (375, 500, 3)\n",
      "> loaded im21713.jpg (328, 500, 3)\n",
      "> loaded im15896.jpg (375, 500, 3)\n",
      "> loaded im19578.jpg (375, 500, 3)\n",
      "> loaded im9720.jpg (375, 500, 3)\n",
      "> loaded im9328.jpg (333, 500, 3)\n",
      "> loaded im6551.jpg (375, 500, 3)\n",
      "> loaded im17234.jpg (126, 500, 3)\n",
      "> loaded im18788.jpg (333, 500, 3)\n",
      "> loaded im10891.jpg (375, 500, 3)\n",
      "> loaded im9749.jpg (375, 500, 3)\n",
      "> loaded im8931.jpg (375, 500, 3)\n",
      "> loaded im11104.jpg (375, 500, 3)\n",
      "> loaded im23688.jpg (500, 383, 3)\n",
      "> loaded im4479.jpg (334, 500, 3)\n",
      "> loaded im13518.jpg (375, 500, 3)\n",
      "> loaded im17008.jpg (377, 500, 3)\n",
      "> loaded im2697.jpg (333, 500, 3)\n",
      "> loaded im4952.jpg (500, 332, 3)\n",
      "> loaded im22726.jpg (375, 500, 3)\n",
      "> loaded im16260.jpg (313, 500, 3)\n",
      "> loaded im23517.jpg (333, 500, 3)\n",
      "> loaded im9510.jpg (299, 500, 3)\n",
      "> loaded im13817.jpg (333, 500, 3)\n",
      "> loaded im18226.jpg (349, 500, 3)\n",
      "> loaded im11416.jpg (500, 333, 3)\n",
      "> loaded im4631.jpg (389, 500, 3)\n",
      "> loaded im7493.jpg (500, 375, 3)\n",
      "> loaded im14180.jpg (333, 500, 3)\n",
      "> loaded im871.jpg (375, 500, 3)\n",
      "> loaded im6673.jpg (500, 375, 3)\n",
      "> loaded im23445.jpg (500, 375, 3)\n",
      "> loaded im1523.jpg (500, 333, 3)\n",
      "> loaded im2348.jpg (375, 500, 3)\n",
      "> loaded im23299.jpg (332, 500, 3)\n",
      "> loaded im23737.jpg (333, 500, 3)\n",
      "> loaded im10949.jpg (375, 500, 3)\n",
      "> loaded im3389.jpg (500, 500, 3)\n",
      "> loaded im8672.jpg (323, 500, 3)\n",
      "> loaded im16069.jpg (284, 500, 3)\n",
      "> loaded im21502.jpg (333, 500, 3)\n",
      "> loaded im17078.jpg (388, 500, 3)\n",
      "> loaded im21036.jpg (500, 333, 3)\n",
      "> loaded im3389.jpg (500, 500, 3)\n",
      "> loaded im9029.jpg (335, 500, 3)\n",
      "> loaded im23622.jpg (333, 500, 3)\n",
      "> loaded im16812.jpg (333, 500, 3)\n",
      "> loaded im11054.jpg (500, 216, 3)\n",
      "> loaded im19892.jpg (467, 500, 3)\n",
      "> loaded im12415.jpg (500, 360, 3)\n",
      "> loaded im4069.jpg (196, 500, 3)\n",
      "> loaded im17813.jpg (500, 331, 3)\n",
      "> loaded im22069.jpg (271, 500, 3)\n",
      "> loaded im11238.jpg (333, 500, 3)\n",
      "> loaded im21944.jpg (500, 500, 3)\n",
      "> loaded im22545.jpg (500, 500, 3)\n",
      "> loaded im15003.jpg (400, 500, 3)\n",
      "> loaded im8738.jpg (350, 500, 3)\n",
      "> loaded im5554.jpg (315, 500, 3)\n",
      "> loaded im24389.jpg (500, 334, 3)\n",
      "> loaded im6560.jpg (500, 500, 3)\n",
      "> loaded im22485.jpg (438, 500, 3)\n",
      "> loaded im12592.jpg (273, 500, 3)\n",
      "> loaded im4691.jpg (333, 500, 3)\n",
      "> loaded im22883.jpg (333, 500, 3)\n",
      "> loaded im13363.jpg (333, 500, 3)\n",
      "> loaded im24658.jpg (333, 500, 3)\n",
      "> loaded im9696.jpg (333, 500, 3)\n",
      "> loaded im24062.jpg (342, 500, 3)\n",
      "> loaded im15912.jpg (333, 500, 3)\n",
      "> loaded im9602.jpg (333, 500, 3)\n",
      "> loaded im24182.jpg (333, 500, 3)\n",
      "> loaded im17991.jpg (333, 500, 3)\n",
      "> loaded im21421.jpg (500, 333, 3)\n",
      "> loaded im2453.jpg (500, 500, 3)\n",
      "> loaded im15461.jpg (333, 500, 3)\n",
      "> loaded im1148.jpg (332, 500, 3)\n",
      "> loaded im14218.jpg (500, 408, 3)\n",
      "> loaded im8098.jpg (333, 500, 3)\n",
      "> loaded im14009.jpg (375, 500, 3)\n",
      "> loaded im18309.jpg (281, 500, 3)\n",
      "> loaded im15033.jpg (333, 500, 3)\n",
      "> loaded im11051.jpg (500, 333, 3)\n",
      "> loaded im22575.jpg (398, 500, 3)\n",
      "> loaded im17885.jpg (500, 333, 3)\n",
      "> loaded im23210.jpg (375, 500, 3)\n",
      "> loaded im17080.jpg (500, 333, 3)\n",
      "> loaded im3020.jpg (500, 375, 3)\n",
      "> loaded im9842.jpg (375, 500, 3)\n",
      "> loaded im15502.jpg (438, 500, 3)\n",
      "> loaded im13866.jpg (333, 500, 3)\n",
      "> loaded im89.jpg (333, 500, 3)\n",
      "> loaded im22811.jpg (333, 500, 3)\n",
      "> loaded im19363.jpg (500, 375, 3)\n",
      "> loaded im18524.jpg (500, 375, 3)\n",
      "> loaded im16700.jpg (500, 375, 3)\n",
      "> loaded im8465.jpg (500, 336, 3)\n",
      "> loaded im24385.jpg (375, 500, 3)\n",
      "> loaded im6211.jpg (336, 500, 3)\n",
      "> loaded im343.jpg (480, 360, 3)\n",
      "> loaded im9315.jpg (389, 500, 3)\n",
      "> loaded im20407.jpg (375, 500, 3)\n",
      "> loaded im5758.jpg (387, 500, 3)\n",
      "> loaded im7984.jpg (500, 333, 3)\n",
      "> loaded im7163.jpg (500, 333, 3)\n",
      "> loaded im2767.jpg (500, 345, 3)\n",
      "> loaded im15081.jpg (500, 364, 3)\n",
      "> loaded im16780.jpg (333, 500, 3)\n",
      "> loaded im1622.jpg (500, 396, 3)\n",
      "> loaded im19259.jpg (375, 500, 3)\n",
      "> loaded im4288.jpg (375, 500, 3)\n",
      "> loaded im17539.jpg (333, 500, 3)\n",
      "> loaded im290.jpg (500, 500, 3)\n",
      "> loaded im23968.jpg (333, 500, 3)\n",
      "> loaded im21541.jpg (415, 500, 3)\n",
      "> loaded im16941.jpg (375, 500, 3)\n",
      "> loaded im870.jpg (500, 369, 3)\n",
      "> loaded im13769.jpg (334, 500, 3)\n",
      "> loaded im11677.jpg (497, 500, 3)\n",
      "> loaded im2864.jpg (500, 334, 3)\n",
      "> loaded im1356.jpg (493, 500, 3)\n",
      "> loaded im974.jpg (333, 500, 3)\n",
      "> loaded im22849.jpg (375, 500, 3)\n",
      "> loaded im17262.jpg (339, 500, 3)\n",
      "> loaded im14150.jpg (306, 500, 3)\n",
      "> loaded im3637.jpg (375, 500, 3)\n",
      "> loaded im10696.jpg (375, 500, 3)\n",
      "> loaded im5667.jpg (375, 500, 3)\n",
      "> loaded im6097.jpg (375, 500, 3)\n",
      "> loaded im14329.jpg (355, 500, 3)\n",
      "> loaded im7506.jpg (334, 500, 3)\n",
      "> loaded im1671.jpg (500, 375, 3)\n",
      "> loaded im21266.jpg (500, 333, 3)\n",
      "> loaded im12456.jpg (333, 500, 3)\n",
      "> loaded im9394.jpg (333, 500, 3)\n",
      "> loaded im11808.jpg (500, 333, 3)\n",
      "> loaded im8204.jpg (334, 500, 3)\n",
      "> loaded im6142.jpg (500, 333, 3)\n",
      "> loaded im24235.jpg (500, 321, 3)\n",
      "> loaded im16855.jpg (375, 500, 3)\n",
      "> loaded im12837.jpg (371, 500, 3)\n",
      "> loaded im24943.jpg (375, 500, 3)\n",
      "> loaded im11186.jpg (362, 500, 3)\n",
      "> loaded im18516.jpg (375, 500, 3)\n",
      "> loaded im24108.jpg (375, 500, 3)\n",
      "> loaded im1836.jpg (375, 500, 3)\n",
      "> loaded im5788.jpg (375, 500, 3)\n",
      "> loaded im6364.jpg (333, 500, 3)\n",
      "> loaded im23753.jpg (333, 500, 3)\n",
      "> loaded im5110.jpg (474, 500, 3)\n",
      "> loaded im15777.jpg (500, 333, 3)\n",
      "> loaded im18750.jpg (375, 500, 3)\n",
      "> loaded im19535.jpg (500, 479, 3)\n",
      "> loaded im4675.jpg (375, 500, 3)\n",
      "> loaded im18085.jpg (336, 500, 3)\n",
      "> loaded im1293.jpg (500, 500, 3)\n",
      "> loaded im24148.jpg (500, 450, 3)\n",
      "> loaded im10673.jpg (500, 330, 3)\n",
      "> loaded im17599.jpg (375, 500, 3)\n",
      "> loaded im15347.jpg (500, 333, 3)\n",
      "> loaded im10627.jpg (441, 500, 3)\n",
      "> loaded im8994.jpg (399, 500, 3)\n",
      "> loaded im13511.jpg (329, 500, 3)\n",
      "> loaded im16252.jpg (333, 500, 3)\n",
      "> loaded im22409.jpg (333, 500, 3)\n",
      "> loaded im16441.jpg (270, 500, 3)\n",
      "> loaded im18061.jpg (286, 500, 3)\n",
      "> loaded im17242.jpg (375, 500, 3)\n",
      "> loaded im23505.jpg (400, 500, 3)\n",
      "> loaded im2442.jpg (375, 500, 3)\n",
      "> loaded im8921.jpg (500, 480, 3)\n",
      "> loaded im10504.jpg (375, 500, 3)\n",
      "> loaded im13036.jpg (375, 500, 3)\n",
      "> loaded im9765.jpg (334, 500, 3)\n",
      "> loaded im8629.jpg (500, 375, 3)\n",
      "> loaded im22917.jpg (338, 500, 3)\n",
      "> loaded im5712.jpg (334, 500, 3)\n",
      "> loaded im6530.jpg (500, 375, 3)\n",
      "> loaded im22780.jpg (333, 500, 3)\n",
      "> loaded im18974.jpg (333, 500, 3)\n",
      "> loaded im7632.jpg (375, 500, 3)\n",
      "> loaded im17622.jpg (375, 500, 3)\n",
      "> loaded im680.jpg (384, 500, 3)\n",
      "> loaded im24525.jpg (500, 471, 3)\n",
      "> loaded im19112.jpg (375, 500, 3)\n",
      "> loaded im153.jpg (500, 333, 3)\n",
      "> loaded im22507.jpg (375, 500, 3)\n",
      "> loaded im2348.jpg (375, 500, 3)\n",
      "> loaded im14484.jpg (334, 500, 3)\n",
      "> loaded im4528.jpg (375, 500, 3)\n",
      "> loaded im10375.jpg (500, 375, 3)\n",
      "> loaded im18039.jpg (500, 500, 3)\n",
      "> loaded im8061.jpg (375, 500, 3)\n",
      "> loaded im3246.jpg (500, 453, 3)\n",
      "> loaded im4574.jpg (333, 500, 3)\n",
      "> loaded im20841.jpg (375, 500, 3)\n",
      "> loaded im2244.jpg (387, 500, 3)\n",
      "> loaded im4649.jpg (206, 500, 3)\n",
      "> loaded im9565.jpg (500, 333, 3)\n",
      "> loaded im6468.jpg (335, 500, 3)\n",
      "> loaded im11978.jpg (370, 500, 3)\n"
     ]
    }
   ],
   "source": [
    "from os import listdir\n",
    "from matplotlib import image\n",
    "import random\n",
    "# load all images in a directory\n",
    "np.random.RandomState(7)\n",
    "random_indexes = np.random.choice(range(25000), 250)\n",
    "loaded_images = list()\n",
    "image_names = list()\n",
    "for i in range(250):\n",
    "\t# load image\n",
    "\trandName = random_indexes[i]\n",
    "\timage_names.append(randName)\n",
    "\tfilename = 'im' + str(randName) + '.jpg'\n",
    "\timg_data = image.imread('D:/mirflickr/' + filename)\n",
    "\t# store loaded image\n",
    "\tloaded_images.append(img_data)\n",
    "\tprint('> loaded %s %s' % (filename, img_data.shape))"
   ]
  },
  {
   "cell_type": "code",
   "execution_count": 4,
   "metadata": {},
   "outputs": [
    {
     "data": {
      "text/plain": [
       "250"
      ]
     },
     "execution_count": 4,
     "metadata": {},
     "output_type": "execute_result"
    }
   ],
   "source": [
    "len(image_names)"
   ]
  },
  {
   "cell_type": "code",
   "execution_count": 5,
   "metadata": {},
   "outputs": [],
   "source": [
    "import codecs\n",
    "\n",
    "Y = pd.Series()\n",
    "for name in image_names:\n",
    "    with codecs.open(os.path.join(DIRNAME_TAGS, 'tags%d.txt' % (name,)), \"r\", \"utf_8_sig\") as file:\n",
    "        set_tags = set(tag.strip() for tag in file.readlines())\n",
    "        #print('tags%d.txt' % (name,), '  ',set_tags)\n",
    "        Y.at[name] = int(MAIN_TAG in set_tags)\n",
    "Y = pd.DataFrame(Y, columns=['target'])"
   ]
  },
  {
   "cell_type": "code",
   "execution_count": 6,
   "metadata": {},
   "outputs": [
    {
     "data": {
      "text/plain": [
       "0    242\n",
       "1      6\n",
       "Name: target, dtype: int64"
      ]
     },
     "execution_count": 6,
     "metadata": {},
     "output_type": "execute_result"
    }
   ],
   "source": [
    "Y['target'].value_counts()"
   ]
  },
  {
   "cell_type": "code",
   "execution_count": 7,
   "metadata": {},
   "outputs": [
    {
     "data": {
      "text/html": [
       "<div>\n",
       "<style scoped>\n",
       "    .dataframe tbody tr th:only-of-type {\n",
       "        vertical-align: middle;\n",
       "    }\n",
       "\n",
       "    .dataframe tbody tr th {\n",
       "        vertical-align: top;\n",
       "    }\n",
       "\n",
       "    .dataframe thead th {\n",
       "        text-align: right;\n",
       "    }\n",
       "</style>\n",
       "<table border=\"1\" class=\"dataframe\">\n",
       "  <thead>\n",
       "    <tr style=\"text-align: right;\">\n",
       "      <th></th>\n",
       "      <th>target</th>\n",
       "    </tr>\n",
       "  </thead>\n",
       "  <tbody>\n",
       "    <tr>\n",
       "      <th>18473</th>\n",
       "      <td>0</td>\n",
       "    </tr>\n",
       "    <tr>\n",
       "      <th>3180</th>\n",
       "      <td>1</td>\n",
       "    </tr>\n",
       "    <tr>\n",
       "      <th>15963</th>\n",
       "      <td>0</td>\n",
       "    </tr>\n",
       "    <tr>\n",
       "      <th>14413</th>\n",
       "      <td>0</td>\n",
       "    </tr>\n",
       "    <tr>\n",
       "      <th>4457</th>\n",
       "      <td>0</td>\n",
       "    </tr>\n",
       "  </tbody>\n",
       "</table>\n",
       "</div>"
      ],
      "text/plain": [
       "       target\n",
       "18473       0\n",
       "3180        1\n",
       "15963       0\n",
       "14413       0\n",
       "4457        0"
      ]
     },
     "execution_count": 7,
     "metadata": {},
     "output_type": "execute_result"
    }
   ],
   "source": [
    "Y.head()"
   ]
  },
  {
   "cell_type": "code",
   "execution_count": 8,
   "metadata": {},
   "outputs": [],
   "source": [
    "data_static = DataFrame()\n",
    "num = 0\n",
    "d = []\n",
    "for image_name in image_names:\n",
    "    image = np.array(Image.open(os.path.join(DIRNAME_IMAGES, 'im%d.jpg' % (image_name))))\n",
    "    data = []\n",
    "    for name, num in COLOR.items():\n",
    "        a = image[:, :, num].ravel()\n",
    "        data.extend([np.mean(a), np.var(a), sp.stats.skew(a), sp.stats.kurtosis(a)])\n",
    "    d.append([image_name, *data])\n",
    "    \n",
    "\n",
    "data_static = pd.DataFrame.from_records(d)\n",
    "data_static = data_static.rename(columns={0: 'name'}).set_index('name')"
   ]
  },
  {
   "cell_type": "code",
   "execution_count": 9,
   "metadata": {},
   "outputs": [
    {
     "data": {
      "text/html": [
       "<div>\n",
       "<style scoped>\n",
       "    .dataframe tbody tr th:only-of-type {\n",
       "        vertical-align: middle;\n",
       "    }\n",
       "\n",
       "    .dataframe tbody tr th {\n",
       "        vertical-align: top;\n",
       "    }\n",
       "\n",
       "    .dataframe thead th {\n",
       "        text-align: right;\n",
       "    }\n",
       "</style>\n",
       "<table border=\"1\" class=\"dataframe\">\n",
       "  <thead>\n",
       "    <tr style=\"text-align: right;\">\n",
       "      <th></th>\n",
       "      <th>1</th>\n",
       "      <th>2</th>\n",
       "      <th>3</th>\n",
       "      <th>4</th>\n",
       "      <th>5</th>\n",
       "      <th>6</th>\n",
       "      <th>7</th>\n",
       "      <th>8</th>\n",
       "      <th>9</th>\n",
       "      <th>10</th>\n",
       "      <th>11</th>\n",
       "      <th>12</th>\n",
       "    </tr>\n",
       "    <tr>\n",
       "      <th>name</th>\n",
       "      <th></th>\n",
       "      <th></th>\n",
       "      <th></th>\n",
       "      <th></th>\n",
       "      <th></th>\n",
       "      <th></th>\n",
       "      <th></th>\n",
       "      <th></th>\n",
       "      <th></th>\n",
       "      <th></th>\n",
       "      <th></th>\n",
       "      <th></th>\n",
       "    </tr>\n",
       "  </thead>\n",
       "  <tbody>\n",
       "    <tr>\n",
       "      <th>18473</th>\n",
       "      <td>143.887488</td>\n",
       "      <td>7225.475746</td>\n",
       "      <td>-0.543339</td>\n",
       "      <td>-1.288921</td>\n",
       "      <td>161.212949</td>\n",
       "      <td>6894.617959</td>\n",
       "      <td>-0.782956</td>\n",
       "      <td>-0.885380</td>\n",
       "      <td>118.831109</td>\n",
       "      <td>8561.794447</td>\n",
       "      <td>0.117426</td>\n",
       "      <td>-1.674742</td>\n",
       "    </tr>\n",
       "    <tr>\n",
       "      <th>3180</th>\n",
       "      <td>128.431471</td>\n",
       "      <td>7831.349364</td>\n",
       "      <td>-0.024109</td>\n",
       "      <td>-1.571663</td>\n",
       "      <td>127.812036</td>\n",
       "      <td>6965.887360</td>\n",
       "      <td>-0.116296</td>\n",
       "      <td>-1.399084</td>\n",
       "      <td>139.627303</td>\n",
       "      <td>6998.913061</td>\n",
       "      <td>-0.484183</td>\n",
       "      <td>-1.275648</td>\n",
       "    </tr>\n",
       "    <tr>\n",
       "      <th>15963</th>\n",
       "      <td>191.124771</td>\n",
       "      <td>657.331902</td>\n",
       "      <td>-2.117046</td>\n",
       "      <td>7.160391</td>\n",
       "      <td>189.389873</td>\n",
       "      <td>2066.217005</td>\n",
       "      <td>-1.319888</td>\n",
       "      <td>1.010879</td>\n",
       "      <td>146.787464</td>\n",
       "      <td>3216.331786</td>\n",
       "      <td>-0.632441</td>\n",
       "      <td>-0.949634</td>\n",
       "    </tr>\n",
       "    <tr>\n",
       "      <th>14413</th>\n",
       "      <td>199.171560</td>\n",
       "      <td>1737.092818</td>\n",
       "      <td>-1.413288</td>\n",
       "      <td>3.143345</td>\n",
       "      <td>199.171560</td>\n",
       "      <td>1737.092818</td>\n",
       "      <td>-1.413288</td>\n",
       "      <td>3.143345</td>\n",
       "      <td>199.171560</td>\n",
       "      <td>1737.092818</td>\n",
       "      <td>-1.413288</td>\n",
       "      <td>3.143345</td>\n",
       "    </tr>\n",
       "    <tr>\n",
       "      <th>4457</th>\n",
       "      <td>133.627365</td>\n",
       "      <td>3906.837223</td>\n",
       "      <td>-0.501699</td>\n",
       "      <td>-0.772552</td>\n",
       "      <td>111.516475</td>\n",
       "      <td>3377.849494</td>\n",
       "      <td>0.161898</td>\n",
       "      <td>-0.820815</td>\n",
       "      <td>108.180368</td>\n",
       "      <td>3477.942502</td>\n",
       "      <td>0.268796</td>\n",
       "      <td>-0.983693</td>\n",
       "    </tr>\n",
       "  </tbody>\n",
       "</table>\n",
       "</div>"
      ],
      "text/plain": [
       "               1            2         3         4           5            6   \\\n",
       "name                                                                          \n",
       "18473  143.887488  7225.475746 -0.543339 -1.288921  161.212949  6894.617959   \n",
       "3180   128.431471  7831.349364 -0.024109 -1.571663  127.812036  6965.887360   \n",
       "15963  191.124771   657.331902 -2.117046  7.160391  189.389873  2066.217005   \n",
       "14413  199.171560  1737.092818 -1.413288  3.143345  199.171560  1737.092818   \n",
       "4457   133.627365  3906.837223 -0.501699 -0.772552  111.516475  3377.849494   \n",
       "\n",
       "             7         8           9            10        11        12  \n",
       "name                                                                    \n",
       "18473 -0.782956 -0.885380  118.831109  8561.794447  0.117426 -1.674742  \n",
       "3180  -0.116296 -1.399084  139.627303  6998.913061 -0.484183 -1.275648  \n",
       "15963 -1.319888  1.010879  146.787464  3216.331786 -0.632441 -0.949634  \n",
       "14413 -1.413288  3.143345  199.171560  1737.092818 -1.413288  3.143345  \n",
       "4457   0.161898 -0.820815  108.180368  3477.942502  0.268796 -0.983693  "
      ]
     },
     "execution_count": 9,
     "metadata": {},
     "output_type": "execute_result"
    }
   ],
   "source": [
    "data_static.head()"
   ]
  },
  {
   "cell_type": "code",
   "execution_count": 10,
   "metadata": {},
   "outputs": [
    {
     "data": {
      "text/plain": [
       "(250, 12)"
      ]
     },
     "execution_count": 10,
     "metadata": {},
     "output_type": "execute_result"
    }
   ],
   "source": [
    "data_static.shape"
   ]
  },
  {
   "cell_type": "code",
   "execution_count": 11,
   "metadata": {},
   "outputs": [],
   "source": [
    "import itertools\n",
    "\n",
    "from sklearn.linear_model import LinearRegression, LogisticRegression\n",
    "from sklearn.svm import SVC\n",
    "from sklearn.model_selection import KFold, cross_val_score, train_test_split\n",
    "from sklearn.metrics import accuracy_score, recall_score, confusion_matrix"
   ]
  },
  {
   "cell_type": "code",
   "execution_count": 12,
   "metadata": {},
   "outputs": [],
   "source": [
    "N = 12"
   ]
  },
  {
   "cell_type": "code",
   "execution_count": 18,
   "metadata": {},
   "outputs": [],
   "source": [
    "def plot_confusion_matrix(cm, classes,\n",
    "                          normalize=True,\n",
    "                          title='Confusion matrix',\n",
    "                          cmap=plt.cm.Blues):\n",
    "    \"\"\"\n",
    "    This function prints and plots the confusion matrix.\n",
    "    Normalization can be applied by setting `normalize=True`.\n",
    "    \"\"\"\n",
    "    plt.imshow(cm, interpolation='nearest', cmap=cmap)\n",
    "    plt.title(title)\n",
    "    plt.colorbar()\n",
    "    tick_marks = np.arange(len(classes))\n",
    "    plt.xticks(tick_marks, classes)\n",
    "    plt.yticks(tick_marks, classes)\n",
    "\n",
    "    if normalize:\n",
    "        cm = cm.astype('float') / cm.sum(axis=1)[:, np.newaxis]\n",
    "        print(\"Normalized confusion matrix\")\n",
    "    else:\n",
    "        print('Confusion matrix, without normalization')\n",
    "\n",
    "    print(cm)\n",
    "\n",
    "    thresh = cm.max() / 2.\n",
    "    for i, j in itertools.product(range(cm.shape[0]), range(cm.shape[1])):\n",
    "        plt.text(j, i, round(cm[i, j], 3),\n",
    "                 horizontalalignment=\"center\",\n",
    "                 color=\"white\" if cm[i, j] > thresh else \"black\")\n",
    "\n",
    "    plt.tight_layout()\n",
    "    plt.ylabel('True label')\n",
    "    plt.xlabel('Predicted label')\n",
    "\n",
    "font = {'size' : 15}\n",
    "\n",
    "plt.rc('font', **font)"
   ]
  },
  {
   "cell_type": "code",
   "execution_count": 19,
   "metadata": {},
   "outputs": [],
   "source": [
    "X = data_static.copy()\n",
    "\n",
    "df = Y.join(X, how='inner')\n",
    "df = df.drop_duplicates()\n",
    "\n",
    "y = df['target']\n",
    "X = df.drop('target', axis=1)"
   ]
  },
  {
   "cell_type": "code",
   "execution_count": 20,
   "metadata": {},
   "outputs": [
    {
     "name": "stdout",
     "output_type": "stream",
     "text": [
      "Normalized confusion matrix\n",
      "[[0.98219178 0.01780822]\n",
      " [0.92857143 0.07142857]]\n"
     ]
    },
    {
     "data": {
      "image/png": "[encoded data removed]",
      "text/plain": [
       "<Figure size 288x216 with 2 Axes>"
      ]
     },
     "metadata": {
      "needs_background": "light"
     },
     "output_type": "display_data"
    },
    {
     "name": "stdout",
     "output_type": "stream",
     "text": [
      "Normalized confusion matrix\n",
      "[[0. 1.]\n",
      " [0. 1.]]\n"
     ]
    },
    {
     "data": {
      "image/png": "[encoded data removed]",
      "text/plain": [
       "<Figure size 288x216 with 2 Axes>"
      ]
     },
     "metadata": {
      "needs_background": "light"
     },
     "output_type": "display_data"
    },
    {
     "name": "stdout",
     "output_type": "stream",
     "text": [
      "Normalized confusion matrix\n",
      "[[1. 0.]\n",
      " [1. 0.]]\n"
     ]
    },
    {
     "data": {
      "image/png": "[encoded data removed]",
      "text/plain": [
       "<Figure size 288x216 with 2 Axes>"
      ]
     },
     "metadata": {
      "needs_background": "light"
     },
     "output_type": "display_data"
    }
   ],
   "source": [
    "for c in (LogisticRegression, LinearRegression, SVC):\n",
    "    cls = c()\n",
    "    cnf_matrix = []\n",
    "    for i in range(N):\n",
    "        X_train, X_test, y_train, y_test = train_test_split(X, y, test_size=0.5)\n",
    "        cls.fit(X_train, y_train)\n",
    "        y_predict = cls.predict(X_test)\n",
    "        cnf_matrix.append(confusion_matrix(y_test, y_predict.astype(bool).astype(int)))\n",
    "    cnf_matrix = np.mean(np.array(cnf_matrix), axis=0)\n",
    "    plt.figure(figsize=(4, 3))\n",
    "    plot_confusion_matrix(cnf_matrix, classes=['0', '1'],\n",
    "                          title=c.__name__)\n",
    "    plt.savefig(\"static_\" + c.__name__ + \".png\")\n",
    "    plt.show()"
   ]
  },
  {
   "cell_type": "code",
   "execution_count": 16,
   "metadata": {},
   "outputs": [
    {
     "name": "stdout",
     "output_type": "stream",
     "text": [
      "Normalized confusion matrix\n",
      "[[0.99450927 0.00549073]\n",
      " [1.         0.        ]]\n"
     ]
    },
    {
     "data": {
      "image/png": "[encoded data removed]",
      "text/plain": [
       "<Figure size 288x216 with 2 Axes>"
      ]
     },
     "metadata": {
      "needs_background": "light"
     },
     "output_type": "display_data"
    },
    {
     "name": "stdout",
     "output_type": "stream",
     "text": [
      "[[120.75         0.66666667]\n",
      " [  2.58333333   0.        ]]\n",
      "Normalized confusion matrix\n",
      "[[0.99448656 0.00551344]\n",
      " [1.         0.        ]]\n"
     ]
    },
    {
     "data": {
      "image/png": "[encoded data removed]",
      "text/plain": [
       "<Figure size 288x216 with 2 Axes>"
      ]
     },
     "metadata": {
      "needs_background": "light"
     },
     "output_type": "display_data"
    },
    {
     "name": "stdout",
     "output_type": "stream",
     "text": [
      "[[120.25         0.66666667]\n",
      " [  3.08333333   0.        ]]\n",
      "Normalized confusion matrix\n",
      "[[0.99309392 0.00690608]\n",
      " [1.         0.        ]]\n"
     ]
    },
    {
     "data": {
      "image/png": "[encoded data removed]",
      "text/plain": [
       "<Figure size 288x216 with 2 Axes>"
      ]
     },
     "metadata": {
      "needs_background": "light"
     },
     "output_type": "display_data"
    },
    {
     "name": "stdout",
     "output_type": "stream",
     "text": [
      "[[119.83333333   0.83333333]\n",
      " [  3.33333333   0.        ]]\n"
     ]
    }
   ],
   "source": [
    "for c in (LogisticRegression, LinearRegression, SVC):\n",
    "    cls = LinearRegression(n_jobs=-1)\n",
    "    cnf_matrix = []\n",
    "    for i in range(N):\n",
    "        X_train, X_test, y_train, y_test = train_test_split(X, y, test_size=0.5)\n",
    "        cls.fit(X_train, y_train)\n",
    "        y_predict = cls.predict(X_test).astype(int)\n",
    "        #print(y_predict)\n",
    "   \n",
    "        cnf_matrix.append(confusion_matrix(y_test, y_predict.astype(bool).astype(int))) # .astype(int)\n",
    "    #print(confusion_matrix(y_test, y_predict.astype(int)))\n",
    "    cnf_matrix = np.mean(np.array(cnf_matrix), axis=0)\n",
    "    plt.figure(figsize=(4, 3))\n",
    "    plot_confusion_matrix(cnf_matrix, classes=['0', '1'],\n",
    "                              title=c.__name__)\n",
    "    plt.savefig(\"spam\" + c.__name__ + \".png\")\n",
    "    plt.show()\n",
    "    print(cnf_matrix)"
   ]
  },
  {
   "cell_type": "code",
   "execution_count": 22,
   "metadata": {},
   "outputs": [
    {
     "name": "stdout",
     "output_type": "stream",
     "text": [
      "Normalized confusion matrix\n",
      "[[0.98832418 0.01167582]\n",
      " [0.96875    0.03125   ]]\n"
     ]
    },
    {
     "data": {
      "image/png": "[encoded data removed]",
      "text/plain": [
       "<Figure size 288x216 with 2 Axes>"
      ]
     },
     "metadata": {
      "needs_background": "light"
     },
     "output_type": "display_data"
    },
    {
     "name": "stdout",
     "output_type": "stream",
     "text": [
      "Normalized confusion matrix\n",
      "[[0.08160443 0.91839557]\n",
      " [0.14285714 0.85714286]]\n"
     ]
    },
    {
     "data": {
      "image/png": "[encoded data removed]",
      "text/plain": [
       "<Figure size 288x216 with 2 Axes>"
      ]
     },
     "metadata": {
      "needs_background": "light"
     },
     "output_type": "display_data"
    },
    {
     "name": "stdout",
     "output_type": "stream",
     "text": [
      "Normalized confusion matrix\n",
      "[[1. 0.]\n",
      " [1. 0.]]\n"
     ]
    },
    {
     "data": {
      "image/png": "[encoded data removed]",
      "text/plain": [
       "<Figure size 288x216 with 2 Axes>"
      ]
     },
     "metadata": {
      "needs_background": "light"
     },
     "output_type": "display_data"
    }
   ],
   "source": [
    "for c in (LogisticRegression, LinearRegression, SVC):\n",
    "    cnf_matrix = []\n",
    "    for i in range(N):\n",
    "        X_train, X_test, y_train, y_test = train_test_split(X, y, test_size=0.5)\n",
    "        cls = c()\n",
    "        cls.fit(X_train, y_train)\n",
    "        y_predict = cls.predict(X_test)\n",
    "        cnf_matrix.append(confusion_matrix(y_test, y_predict.astype(bool).astype(int)))\n",
    "    #print(confusion_matrix(y_test, y_predict.astype(int)))\n",
    "    cnf_matrix = np.mean(np.array(cnf_matrix), axis=0)\n",
    "    plt.figure(figsize=(4, 3))\n",
    "    plot_confusion_matrix(cnf_matrix, classes=['0', '1'],\n",
    "                              title=c.__name__)\n",
    "    plt.savefig(\"ccpev_\" + c.__name__ + \".png\")\n",
    "    plt.show()\n",
    "    #print(cnf_matrix)"
   ]
  },
  {
   "cell_type": "code",
   "execution_count": null,
   "metadata": {},
   "outputs": [],
   "source": []
  }
 ],
 "metadata": {
  "kernelspec": {
   "display_name": "Python 3",
   "language": "python",
   "name": "python3"
  },
  "language_info": {
   "codemirror_mode": {
    "name": "ipython",
    "version": 3
   },
   "file_extension": ".py",
   "mimetype": "text/x-python",
   "name": "python",
   "nbconvert_exporter": "python",
   "pygments_lexer": "ipython3",
   "version": "3.7.6"
  }
 },
 "nbformat": 4,
 "nbformat_minor": 4
}
